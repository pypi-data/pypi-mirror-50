{
 "cells": [
  {
   "cell_type": "code",
   "execution_count": 136,
   "metadata": {},
   "outputs": [],
   "source": [
    "import pandas as pd\n",
    "from anytree import Node, RenderTree\n",
    "from anytree.exporter import DotExporter"
   ]
  },
  {
   "cell_type": "code",
   "execution_count": 4,
   "metadata": {},
   "outputs": [],
   "source": [
    "from devanalyst.simulation.simulationModels import Random\n",
    "from devanalyst.simulation.generateTimecards import IdCounter"
   ]
  },
  {
   "cell_type": "markdown",
   "metadata": {},
   "source": [
    "<h1>Pilot of Java metadata</h1>"
   ]
  },
  {
   "cell_type": "code",
   "execution_count": 5,
   "metadata": {
    "code_folding": [
     0
    ]
   },
   "outputs": [],
   "source": [
    "class JClass:\n",
    "    # -qualified_name: a string providing the unique identifier for this class, in the form of a qualified name, i.e.,\n",
    "    #                  of the form <package>.<class name>\n",
    "    # -parent: a string, consisting of the qualified name for the parent class from which this class derives.\n",
    "    # -methods: an array of JMethod instances, all with different names, which comprise the methods of this type.\n",
    "    def __init__(self, package, name, parent, methods):\n",
    "        self.qualified_name = package\n",
    "        self.parent  = parent\n",
    "        self.methods = methods"
   ]
  },
  {
   "cell_type": "code",
   "execution_count": 6,
   "metadata": {
    "code_folding": [
     0
    ]
   },
   "outputs": [],
   "source": [
    "class JMethod:\n",
    "    # -name: a string, identifying uniquely this method within the JClass instance to which the method belongs\n",
    "    # -inputs: an array of JClass instances, corresponding to the input parameter types for the method. Could be an empty\n",
    "    #  array\n",
    "    # -output: an array of JClass instances, correspoding to the output type for the method. Could be an empty array.\n",
    "    def _init__(self, name, inputs, outputs):\n",
    "        self.name    = name\n",
    "        self.inputs  = inputs\n",
    "        self.outputs = outputs"
   ]
  },
  {
   "cell_type": "code",
   "execution_count": 7,
   "metadata": {
    "code_folding": [
     0
    ]
   },
   "outputs": [],
   "source": [
    "def initCodeBase():\n",
    "    Date        = JClass('util.Date', None, [])\n",
    "    Double      = JClass('util.Double', None, [])\n",
    "    Curve       = JClass('marketdata.Curve', None, [])\n",
    "    YieldCurve  = JClass('marketdata.ir.YieldCurve', 'marketdata.Curve', [JMethod('interpolate', [Date], [Double])])\n",
    "    Instrument  = JClass('instrument.Instrument', None, [])\n",
    "    IRSwap      = JClass('instrument.ir.IRSwap', 'instrument.Instrument', [JMethod('computePV', [YieldCurve], [Double])])\n",
    "    "
   ]
  },
  {
   "cell_type": "markdown",
   "metadata": {},
   "source": [
    "<h1>Model of Blocks of Fields and Flags</h1>"
   ]
  },
  {
   "cell_type": "code",
   "execution_count": 8,
   "metadata": {
    "code_folding": [
     0
    ]
   },
   "outputs": [],
   "source": [
    "class RefactoringModel:\n",
    "    def __init__(self):\n",
    "        self.random            = Random() # used for all stochastic-related calculations."
   ]
  },
  {
   "cell_type": "code",
   "execution_count": 9,
   "metadata": {
    "code_folding": [
     0
    ]
   },
   "outputs": [],
   "source": [
    "class Field:\n",
    "    # -name: a string. Uniquely identifies the field among all parameters of all CodeFragments.\n",
    "    def __init__(self, name):\n",
    "        self.name = name"
   ]
  },
  {
   "cell_type": "code",
   "execution_count": 10,
   "metadata": {
    "code_folding": [
     0
    ]
   },
   "outputs": [],
   "source": [
    "class FieldsBlock:\n",
    "    # -fields: a Python list of Field instances.\n",
    "    def __init__(self, fields):\n",
    "        self.fields = fields"
   ]
  },
  {
   "cell_type": "code",
   "execution_count": 11,
   "metadata": {
    "code_folding": [
     0
    ]
   },
   "outputs": [],
   "source": [
    "class Interface:\n",
    "    def __init__(self, parameters, output):        \n",
    "        self.interfaceId = None\n",
    "        self.parameters  = parameters\n",
    "        self.output      = output     "
   ]
  },
  {
   "cell_type": "code",
   "execution_count": 12,
   "metadata": {
    "code_folding": [
     0,
     17
    ]
   },
   "outputs": [],
   "source": [
    "class CodeFragment:\n",
    "    # -fragmentId: a string. Uniquel identifies of this CodeFragment instance among all other CodeFragments.\n",
    "    # -parameters: list of Field instances\n",
    "    # -output: list of Field instances\n",
    "    # -loc: integer, corresponding to the number of lines of code for this code fragment\n",
    "    # -calls: array of strings, corresponding to the fragmentIds of other CodeFragment instances that this CodeFragment \n",
    "    # instance directly invokes. It is empty by default\n",
    "    # -plugins: array of strings, corresponding to the interfaceIds of Interface instances that this CodeFragment invokes\n",
    "    #  (i.e., manifestations of the Dependency Inversion Principle - refer to the book \"Clear Architecture\" by \n",
    "    #  Robert C. Martin). It is empty by default\n",
    "    # -implements: array of strings, corresponding to the interfaceIds of Interface instances that this CodeFragment\n",
    "    #  implements. Adherance to the Liskov Substitution Principle is assumed. Empty by default.\n",
    "    # -superTypes: array of strings, corresponding to fragmentIds of CodeFragments that this CodeFragment intance\n",
    "    #  derives from. Adherence to the Liskov Substitution Principle is assumed so, for example, no functionality in \n",
    "    #  any parent is overwritten. Only new functionality is added (new methods, new fields). Empty by default.\n",
    "    # -storyIds: array of strings, corresponding to the UserStoryId's of user stories whose behaviour require\n",
    "    #  execution of the business logic in this CodeFragment instance.  Empty by default.\n",
    "    def __init__(self, parameters, output, loc, \n",
    "                 calls = [], plugins = [], implements = [], superTypes = [], storyIds = []):\n",
    "        self.fragmentId = None\n",
    "        self.parameters = parameters\n",
    "        self.output     = output\n",
    "        self.loc        = loc\n",
    "        self.calls      = calls\n",
    "        self.plugins    = plugins\n",
    "        self.implements = implements\n",
    "        self.superTypes = superTypes\n",
    "        self.storyIds   = storyIds\n",
    "        \n",
    "    # Returns a pandas DataFrame that describes a list of CodeFragment instances. Each instance is a dedicated\n",
    "    # column in the dataframe.\n",
    "    def describe(codeRepo, fragmentIds):\n",
    "        desc_dict = {}\n",
    "        desc_dict['Property'] = ['Parameters', 'Output', 'Loc', 'Calls', 'Plugins', 'Implements', \n",
    "                                 'Super Types', 'Story Ids']\n",
    "        for frgId in fragmentIds:\n",
    "            frg = codeRepo.findFragment(frgId)\n",
    "            if (frg == None):\n",
    "                continue\n",
    "            description = [frg.parameters, frg.output, frg.loc, frg.calls, frg.plugins, frg.implements, \n",
    "                           frg.superTypes, frg.storyIds]\n",
    "            desc_dict[frg.fragmentId] = description\n",
    "            \n",
    "        return pd.DataFrame(desc_dict)\n",
    "        "
   ]
  },
  {
   "cell_type": "code",
   "execution_count": 13,
   "metadata": {
    "code_folding": [
     0,
     6,
     18
    ]
   },
   "outputs": [],
   "source": [
    "class CodeRepo:\n",
    "    def __init__(self):\n",
    "        self.interfaces = []\n",
    "        self.fragments  = []\n",
    "        self.idCounter = IdCounter()\n",
    "        \n",
    "    def findInterface(self, interfaceId):\n",
    "        for interface in self.interfaces:\n",
    "            if interface.interfaceId == interfaceId:\n",
    "                return interface\n",
    "        return None         \n",
    "    \n",
    "    def addInterface(self, interface):\n",
    "        interface.interfaceId = \"Interface-\" + str(self.idCounter.next_id())\n",
    "        self.idCounter.increment()\n",
    "        self.interfaces.append(interface)\n",
    "        return interface.interfaceId\n",
    "                \n",
    "    def findFragment(self, fragmentId):\n",
    "        for fragment in self.fragments:\n",
    "            if fragment.fragmentId == fragmentId:\n",
    "                return fragment\n",
    "        return None\n",
    "    \n",
    "    def addFragment(self, fragment):\n",
    "        fragment.fragmentId = \"Fragment-\" + str(self.idCounter.next_id())\n",
    "        self.idCounter.increment()\n",
    "        self.fragments.append(fragment)\n",
    "        return fragment.fragmentId"
   ]
  },
  {
   "cell_type": "code",
   "execution_count": 14,
   "metadata": {
    "code_folding": [
     8
    ]
   },
   "outputs": [],
   "source": [
    "class CodeEvolutionEngine:\n",
    "    def __init__(self, refactoringModel):\n",
    "        self.refactoringModel = refactoringModel\n",
    "        self.codeRepo = CodeRepo()\n",
    "    \n",
    "    # Modifies a set of CodeFragments by moving some common code out of each fragment and putting it into a new\n",
    "    # CodeFragment, which is then returned. The original CodeFragments are mutated to call the new CodeFragment and\n",
    "    # to reduce the number of lines of code each original CodeFragment has.\n",
    "    def factorOutSubroutine(self, fragmentIds):\n",
    "        loc_min         = None\n",
    "        all_params      = []\n",
    "        all_calls       = []\n",
    "        all_storyIds    = set()\n",
    "        fragments       = [] #Used later, so build it out while we are looping \n",
    "        for frgId in fragmentIds:\n",
    "            frg = self.codeRepo.findFragment(frgId)\n",
    "            assert (frg != None) # Something is corrupted if repo has no fragment for id that only repo can generate\n",
    "            fragments.append(frg)\n",
    "            \n",
    "            if loc_min == None: # Only happens in first cycle of the loop\n",
    "                loc_min = frg.loc\n",
    "            loc_min = min(loc_min, frg.loc)\n",
    "            all_params.append(set(frg.parameters))\n",
    "            all_calls.append(set(frg.calls))\n",
    "            all_storyIds = all_storyIds.union(set(frg.storyIds))\n",
    "        common_params    = list(set.intersection(*all_params))\n",
    "        common_calls     = list(set.intersection(*all_calls))\n",
    "        \n",
    "        if loc_min < 2: # there is nothing to refactor in this case\n",
    "            return None\n",
    "        \n",
    "        # Randomly select metadata for new fragment\n",
    "        new_loc           = self.refactoringModel.random.pickHowLong(loc_min)\n",
    "        new_params_idxs   = self.refactoringModel.random.pickSubsetIndices(common_params)\n",
    "        new_calls_idxs    = self.refactoringModel.random.pickSubsetIndices(common_calls)\n",
    "        \n",
    "        # Create new fragment\n",
    "        new_params = []\n",
    "        for idx in new_params_idxs:\n",
    "            new_params.append(common_params[idx])\n",
    "        new_calls = []\n",
    "        for idx in new_calls_idxs:\n",
    "            new_calls.append(common_calls[idx])\n",
    "            \n",
    "        # @TODO - set new_output to something more interesting than 'None'\n",
    "        new_output = None\n",
    "\n",
    "        new_frg = CodeFragment(new_params, new_output, new_loc, new_calls, storyIds = list(all_storyIds))\n",
    "        self.codeRepo.addFragment(new_frg)\n",
    "        \n",
    "        # Remove refactored code from original fragments. This means fewer lines of code and fewer external calls\n",
    "        # *but* not fewer parameters (original fragments still need to be passed those parameters since\n",
    "        # they either still use them or need to pass them to the new fragment)\n",
    "        #\n",
    "        # Also add a call from the original fragments to the new fragment\n",
    "        for frg in fragments:\n",
    "            frg.loc -= new_loc\n",
    "            for idx in new_calls_idxs:\n",
    "                call = common_calls[idx]\n",
    "                if call in frg.calls:\n",
    "                    frg.calls.remove(call)\n",
    "            frg.calls.append(new_frg.fragmentId)\n",
    "            \n",
    "        return new_frg\n",
    "    \n",
    "    # Modifies a set of CodeFragments by moving some common code out of each fragment and putting it into a new\n",
    "    # CodeFragment, which is then returned. The new CodeFragment becomes the 'master control', so each of the original\n",
    "    # CodeFragments becomes a mere 'plugin', i.e.: original CodeFragments are made smaller by removing all lines of\n",
    "    # code that were moved to the common control, and each diminished CodeFragment is made to implement a new interface \n",
    "    # that the new control CodeFragment calls. Thus, the original CodeFragments become concrete classes of a new\n",
    "    # hierarchy which is invoked polymorphically by the newly created CodeFragment.\n",
    "    def factorOutPolymorphically(self, fragmentIds):\n",
    "        # TODO\n",
    "        return None\n",
    "        "
   ]
  },
  {
   "cell_type": "code",
   "execution_count": 137,
   "metadata": {
    "code_folding": [
     57,
     65
    ]
   },
   "outputs": [],
   "source": [
    "class DomainAtlas:\n",
    "    \n",
    "    # Atlas will be a tree, where nodes are identified by the partial branch that leads to them from the root.\n",
    "    # The level of the tree is nb_levels, and each non-leaf node can branch in up to nb_cases-many ways.\n",
    "    # Thus, each node can be identified as a list [c1, c2, c3, .., cn] where ci is between 0 and nb_cases-1, and \n",
    "    # n <= nb_levels. Thus, for a node N = [c1, ..., cn] there are potentially nb_cases children, each of them of\n",
    "    # the form CHILD = [c1, ..., cn, x] where x is a number between 0 and nb_cases-1. However, this is only the\n",
    "    # potential maximum because based on a random algorith not all possible values of x will be allowed. This is\n",
    "    # to simulate the fact that different sub-domains may have overlapping but different sub-categories.\n",
    "    # Notice that the data structure can be quite large - for 3 levels and 10 cases, there potentially might be \n",
    "    # 10*10*10 = 1000 leaves in the tree, where it not for the probabilistic pruning.\n",
    "    def __init__(self, model, nb_levels, nb_cases):\n",
    "        self.model     = model\n",
    "        self.nb_levels = nb_levels\n",
    "        self.nb_cases  = nb_cases\n",
    "        self.atlas     = None\n",
    "        return\n",
    "    \n",
    "    def buildAtlas(self):\n",
    "        self.atlas = Node('Root')\n",
    "        self._buildChildren(self.atlas, self.nb_levels)\n",
    "\n",
    "     \n",
    "    def _buildChildren(self, parent, levels_remaining):\n",
    "        if levels_remaining == 0:\n",
    "            return\n",
    "        cases = list(range(self.nb_cases))\n",
    "        valid_cases = self.model.random.pickSubset(cases)\n",
    "        for case in valid_cases:\n",
    "            child = Node(str(case), parent=parent)\n",
    "            self._buildChildren(child, levels_remaining -1)"
   ]
  },
  {
   "cell_type": "code",
   "execution_count": 138,
   "metadata": {},
   "outputs": [],
   "source": [
    "model = RefactoringModel()\n",
    "da = DomainAtlas(model, 4, 5)\n",
    "da.buildAtlas()\n",
    "atlas = da.atlas"
   ]
  },
  {
   "cell_type": "code",
   "execution_count": 139,
   "metadata": {},
   "outputs": [
    {
     "name": "stdout",
     "output_type": "stream",
     "text": [
      "Root\n"
     ]
    }
   ],
   "source": [
    "for pre, fill, node in RenderTree(atlas):\n",
    "    print(\"%s%s\" % (pre, node.name))"
   ]
  },
  {
   "cell_type": "code",
   "execution_count": 140,
   "metadata": {},
   "outputs": [
    {
     "ename": "FileNotFoundError",
     "evalue": "[WinError 2] The system cannot find the file specified",
     "output_type": "error",
     "traceback": [
      "\u001b[1;31m---------------------------------------------------------------------------\u001b[0m",
      "\u001b[1;31mFileNotFoundError\u001b[0m                         Traceback (most recent call last)",
      "\u001b[1;32m<ipython-input-140-d3f37801d6d1>\u001b[0m in \u001b[0;36m<module>\u001b[1;34m\u001b[0m\n\u001b[1;32m----> 1\u001b[1;33m \u001b[0mDotExporter\u001b[0m\u001b[1;33m(\u001b[0m\u001b[0matlas\u001b[0m\u001b[1;33m)\u001b[0m\u001b[1;33m.\u001b[0m\u001b[0mto_picture\u001b[0m\u001b[1;33m(\u001b[0m\u001b[1;34m\"atlas.png\"\u001b[0m\u001b[1;33m)\u001b[0m\u001b[1;33m\u001b[0m\u001b[1;33m\u001b[0m\u001b[0m\n\u001b[0m",
      "\u001b[1;32m~\\Documents\\CodeImages\\Technos\\Anaconda3\\envs\\devanalystenv\\lib\\site-packages\\anytree\\exporter\\dotexporter.py\u001b[0m in \u001b[0;36mto_picture\u001b[1;34m(self, filename)\u001b[0m\n\u001b[0;32m    230\u001b[0m             \u001b[0mdotfile\u001b[0m\u001b[1;33m.\u001b[0m\u001b[0mflush\u001b[0m\u001b[1;33m(\u001b[0m\u001b[1;33m)\u001b[0m\u001b[1;33m\u001b[0m\u001b[1;33m\u001b[0m\u001b[0m\n\u001b[0;32m    231\u001b[0m             \u001b[0mcmd\u001b[0m \u001b[1;33m=\u001b[0m \u001b[1;33m[\u001b[0m\u001b[1;34m\"dot\"\u001b[0m\u001b[1;33m,\u001b[0m \u001b[0mdotfilename\u001b[0m\u001b[1;33m,\u001b[0m \u001b[1;34m\"-T\"\u001b[0m\u001b[1;33m,\u001b[0m \u001b[0mfileformat\u001b[0m\u001b[1;33m,\u001b[0m \u001b[1;34m\"-o\"\u001b[0m\u001b[1;33m,\u001b[0m \u001b[0mfilename\u001b[0m\u001b[1;33m]\u001b[0m\u001b[1;33m\u001b[0m\u001b[1;33m\u001b[0m\u001b[0m\n\u001b[1;32m--> 232\u001b[1;33m             \u001b[0mcheck_call\u001b[0m\u001b[1;33m(\u001b[0m\u001b[0mcmd\u001b[0m\u001b[1;33m)\u001b[0m\u001b[1;33m\u001b[0m\u001b[1;33m\u001b[0m\u001b[0m\n\u001b[0m\u001b[0;32m    233\u001b[0m         \u001b[1;32mtry\u001b[0m\u001b[1;33m:\u001b[0m\u001b[1;33m\u001b[0m\u001b[1;33m\u001b[0m\u001b[0m\n\u001b[0;32m    234\u001b[0m             \u001b[0mremove\u001b[0m\u001b[1;33m(\u001b[0m\u001b[0mdotfilename\u001b[0m\u001b[1;33m)\u001b[0m\u001b[1;33m\u001b[0m\u001b[1;33m\u001b[0m\u001b[0m\n",
      "\u001b[1;32m~\\Documents\\CodeImages\\Technos\\Anaconda3\\envs\\devanalystenv\\lib\\subprocess.py\u001b[0m in \u001b[0;36mcheck_call\u001b[1;34m(*popenargs, **kwargs)\u001b[0m\n\u001b[0;32m    340\u001b[0m     \u001b[0mcheck_call\u001b[0m\u001b[1;33m(\u001b[0m\u001b[1;33m[\u001b[0m\u001b[1;34m\"ls\"\u001b[0m\u001b[1;33m,\u001b[0m \u001b[1;34m\"-l\"\u001b[0m\u001b[1;33m]\u001b[0m\u001b[1;33m)\u001b[0m\u001b[1;33m\u001b[0m\u001b[1;33m\u001b[0m\u001b[0m\n\u001b[0;32m    341\u001b[0m     \"\"\"\n\u001b[1;32m--> 342\u001b[1;33m     \u001b[0mretcode\u001b[0m \u001b[1;33m=\u001b[0m \u001b[0mcall\u001b[0m\u001b[1;33m(\u001b[0m\u001b[1;33m*\u001b[0m\u001b[0mpopenargs\u001b[0m\u001b[1;33m,\u001b[0m \u001b[1;33m**\u001b[0m\u001b[0mkwargs\u001b[0m\u001b[1;33m)\u001b[0m\u001b[1;33m\u001b[0m\u001b[1;33m\u001b[0m\u001b[0m\n\u001b[0m\u001b[0;32m    343\u001b[0m     \u001b[1;32mif\u001b[0m \u001b[0mretcode\u001b[0m\u001b[1;33m:\u001b[0m\u001b[1;33m\u001b[0m\u001b[1;33m\u001b[0m\u001b[0m\n\u001b[0;32m    344\u001b[0m         \u001b[0mcmd\u001b[0m \u001b[1;33m=\u001b[0m \u001b[0mkwargs\u001b[0m\u001b[1;33m.\u001b[0m\u001b[0mget\u001b[0m\u001b[1;33m(\u001b[0m\u001b[1;34m\"args\"\u001b[0m\u001b[1;33m)\u001b[0m\u001b[1;33m\u001b[0m\u001b[1;33m\u001b[0m\u001b[0m\n",
      "\u001b[1;32m~\\Documents\\CodeImages\\Technos\\Anaconda3\\envs\\devanalystenv\\lib\\subprocess.py\u001b[0m in \u001b[0;36mcall\u001b[1;34m(timeout, *popenargs, **kwargs)\u001b[0m\n\u001b[0;32m    321\u001b[0m     \u001b[0mretcode\u001b[0m \u001b[1;33m=\u001b[0m \u001b[0mcall\u001b[0m\u001b[1;33m(\u001b[0m\u001b[1;33m[\u001b[0m\u001b[1;34m\"ls\"\u001b[0m\u001b[1;33m,\u001b[0m \u001b[1;34m\"-l\"\u001b[0m\u001b[1;33m]\u001b[0m\u001b[1;33m)\u001b[0m\u001b[1;33m\u001b[0m\u001b[1;33m\u001b[0m\u001b[0m\n\u001b[0;32m    322\u001b[0m     \"\"\"\n\u001b[1;32m--> 323\u001b[1;33m     \u001b[1;32mwith\u001b[0m \u001b[0mPopen\u001b[0m\u001b[1;33m(\u001b[0m\u001b[1;33m*\u001b[0m\u001b[0mpopenargs\u001b[0m\u001b[1;33m,\u001b[0m \u001b[1;33m**\u001b[0m\u001b[0mkwargs\u001b[0m\u001b[1;33m)\u001b[0m \u001b[1;32mas\u001b[0m \u001b[0mp\u001b[0m\u001b[1;33m:\u001b[0m\u001b[1;33m\u001b[0m\u001b[1;33m\u001b[0m\u001b[0m\n\u001b[0m\u001b[0;32m    324\u001b[0m         \u001b[1;32mtry\u001b[0m\u001b[1;33m:\u001b[0m\u001b[1;33m\u001b[0m\u001b[1;33m\u001b[0m\u001b[0m\n\u001b[0;32m    325\u001b[0m             \u001b[1;32mreturn\u001b[0m \u001b[0mp\u001b[0m\u001b[1;33m.\u001b[0m\u001b[0mwait\u001b[0m\u001b[1;33m(\u001b[0m\u001b[0mtimeout\u001b[0m\u001b[1;33m=\u001b[0m\u001b[0mtimeout\u001b[0m\u001b[1;33m)\u001b[0m\u001b[1;33m\u001b[0m\u001b[1;33m\u001b[0m\u001b[0m\n",
      "\u001b[1;32m~\\Documents\\CodeImages\\Technos\\Anaconda3\\envs\\devanalystenv\\lib\\subprocess.py\u001b[0m in \u001b[0;36m__init__\u001b[1;34m(self, args, bufsize, executable, stdin, stdout, stderr, preexec_fn, close_fds, shell, cwd, env, universal_newlines, startupinfo, creationflags, restore_signals, start_new_session, pass_fds, encoding, errors, text)\u001b[0m\n\u001b[0;32m    773\u001b[0m                                 \u001b[0mc2pread\u001b[0m\u001b[1;33m,\u001b[0m \u001b[0mc2pwrite\u001b[0m\u001b[1;33m,\u001b[0m\u001b[1;33m\u001b[0m\u001b[1;33m\u001b[0m\u001b[0m\n\u001b[0;32m    774\u001b[0m                                 \u001b[0merrread\u001b[0m\u001b[1;33m,\u001b[0m \u001b[0merrwrite\u001b[0m\u001b[1;33m,\u001b[0m\u001b[1;33m\u001b[0m\u001b[1;33m\u001b[0m\u001b[0m\n\u001b[1;32m--> 775\u001b[1;33m                                 restore_signals, start_new_session)\n\u001b[0m\u001b[0;32m    776\u001b[0m         \u001b[1;32mexcept\u001b[0m\u001b[1;33m:\u001b[0m\u001b[1;33m\u001b[0m\u001b[1;33m\u001b[0m\u001b[0m\n\u001b[0;32m    777\u001b[0m             \u001b[1;31m# Cleanup if the child failed starting.\u001b[0m\u001b[1;33m\u001b[0m\u001b[1;33m\u001b[0m\u001b[1;33m\u001b[0m\u001b[0m\n",
      "\u001b[1;32m~\\Documents\\CodeImages\\Technos\\Anaconda3\\envs\\devanalystenv\\lib\\subprocess.py\u001b[0m in \u001b[0;36m_execute_child\u001b[1;34m(self, args, executable, preexec_fn, close_fds, pass_fds, cwd, env, startupinfo, creationflags, shell, p2cread, p2cwrite, c2pread, c2pwrite, errread, errwrite, unused_restore_signals, unused_start_new_session)\u001b[0m\n\u001b[0;32m   1176\u001b[0m                                          \u001b[0menv\u001b[0m\u001b[1;33m,\u001b[0m\u001b[1;33m\u001b[0m\u001b[1;33m\u001b[0m\u001b[0m\n\u001b[0;32m   1177\u001b[0m                                          \u001b[0mos\u001b[0m\u001b[1;33m.\u001b[0m\u001b[0mfspath\u001b[0m\u001b[1;33m(\u001b[0m\u001b[0mcwd\u001b[0m\u001b[1;33m)\u001b[0m \u001b[1;32mif\u001b[0m \u001b[0mcwd\u001b[0m \u001b[1;32mis\u001b[0m \u001b[1;32mnot\u001b[0m \u001b[1;32mNone\u001b[0m \u001b[1;32melse\u001b[0m \u001b[1;32mNone\u001b[0m\u001b[1;33m,\u001b[0m\u001b[1;33m\u001b[0m\u001b[1;33m\u001b[0m\u001b[0m\n\u001b[1;32m-> 1178\u001b[1;33m                                          startupinfo)\n\u001b[0m\u001b[0;32m   1179\u001b[0m             \u001b[1;32mfinally\u001b[0m\u001b[1;33m:\u001b[0m\u001b[1;33m\u001b[0m\u001b[1;33m\u001b[0m\u001b[0m\n\u001b[0;32m   1180\u001b[0m                 \u001b[1;31m# Child is launched. Close the parent's copy of those pipe\u001b[0m\u001b[1;33m\u001b[0m\u001b[1;33m\u001b[0m\u001b[1;33m\u001b[0m\u001b[0m\n",
      "\u001b[1;31mFileNotFoundError\u001b[0m: [WinError 2] The system cannot find the file specified"
     ]
    }
   ],
   "source": [
    "DotExporter(atlas).to_picture(\"atlas.png\")"
   ]
  },
  {
   "cell_type": "code",
   "execution_count": 122,
   "metadata": {},
   "outputs": [
    {
     "name": "stdout",
     "output_type": "stream",
     "text": [
      "<__main__.DomainAtlas object at 0x000001E2CE4A7160>\n"
     ]
    }
   ],
   "source": [
    "print(da)"
   ]
  },
  {
   "cell_type": "code",
   "execution_count": null,
   "metadata": {},
   "outputs": [],
   "source": []
  },
  {
   "cell_type": "code",
   "execution_count": null,
   "metadata": {},
   "outputs": [],
   "source": [
    "a = [3,4]\n",
    "b = a.copy()\n",
    "b.append(5)\n",
    "a, b"
   ]
  },
  {
   "cell_type": "code",
   "execution_count": null,
   "metadata": {},
   "outputs": [],
   "source": [
    "model = RefactoringModel()\n",
    "engine = CodeEvolutionEngine(model)\n",
    "frg1 = CodeFragment(['p-a', 'p-b', 'p-c', 'p-f'], None, 1300, [], storyIds = ['Story #5'])\n",
    "frg2 = CodeFragment(['p-a', 'p-d', 'p-e', 'p-f', 'p-g'], None, 1000, [], storyIds = ['Story #74'])"
   ]
  },
  {
   "cell_type": "code",
   "execution_count": null,
   "metadata": {},
   "outputs": [],
   "source": [
    "engine.codeRepo.addFragment(frg1)\n",
    "engine.codeRepo.addFragment(frg2)"
   ]
  },
  {
   "cell_type": "code",
   "execution_count": null,
   "metadata": {},
   "outputs": [],
   "source": [
    "frg3 = engine.factorOutSubroutine([frg1.fragmentId, frg2.fragmentId])"
   ]
  },
  {
   "cell_type": "code",
   "execution_count": null,
   "metadata": {},
   "outputs": [],
   "source": [
    "CodeFragment.describe(engine.codeRepo, [frg1.fragmentId, frg2.fragmentId, frg3.fragmentId])"
   ]
  },
  {
   "cell_type": "code",
   "execution_count": null,
   "metadata": {},
   "outputs": [],
   "source": []
  },
  {
   "cell_type": "code",
   "execution_count": null,
   "metadata": {},
   "outputs": [],
   "source": []
  },
  {
   "cell_type": "code",
   "execution_count": null,
   "metadata": {},
   "outputs": [],
   "source": []
  }
 ],
 "metadata": {
  "kernelspec": {
   "display_name": "Python 3",
   "language": "python",
   "name": "python3"
  },
  "language_info": {
   "codemirror_mode": {
    "name": "ipython",
    "version": 3
   },
   "file_extension": ".py",
   "mimetype": "text/x-python",
   "name": "python",
   "nbconvert_exporter": "python",
   "pygments_lexer": "ipython3",
   "version": "3.7.3"
  }
 },
 "nbformat": 4,
 "nbformat_minor": 2
}
