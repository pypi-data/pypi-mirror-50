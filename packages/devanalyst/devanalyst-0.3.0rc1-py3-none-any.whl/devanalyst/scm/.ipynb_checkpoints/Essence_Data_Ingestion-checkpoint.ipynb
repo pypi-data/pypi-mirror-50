{
 "cells": [
  {
   "cell_type": "code",
   "execution_count": 16,
   "metadata": {},
   "outputs": [],
   "source": [
    "import pandas as pd\n",
    "import subprocess"
   ]
  },
  {
   "cell_type": "code",
   "execution_count": 3,
   "metadata": {},
   "outputs": [],
   "source": [
    "import devanalyst.scm.Git_Analyzer as gitanalyzer\n",
    "from devanalyst.scm.Git_Analyzer import GitLogAggregationEngine, GitLogParser, GitRepoCataloguer, FilenameParser"
   ]
  },
  {
   "cell_type": "markdown",
   "metadata": {},
   "source": [
    "<h1>Start Main Code</h1>"
   ]
  },
  {
   "cell_type": "markdown",
   "metadata": {},
   "source": [
    "<h2>Some Essence-specific static parameters used later</h2>"
   ]
  },
  {
   "cell_type": "code",
   "execution_count": 32,
   "metadata": {},
   "outputs": [],
   "source": [
    "REPOS = ['ansible', 'apirepos', 'cbsrepos', 'fbprepos', 'ibrepos', 'ipdrepos', 'lorepos', 'mapsrepos', \n",
    "         'partyrepos', 'ssorepos', 't2trepos', 'tellerrepos', 'toolsrepos', 'ubrepos']\n",
    "ROOT_DATA_DIR = 'C:/Users/aleja/Documents/Code/consulting/Finastra/volatility_analysis/essence/data'\n",
    "ROOT_GIT_DIR = '\"//NAS-CHATEAU-CLA\\Work-Backups\\Code\\Repos-Essence\"' # Inner quotes so that space does not cause issues\n",
    "\n",
    "MODERNIZATION_REPOS = ['fb-api','fb-newux', 'ff-fusionreports', 'fb-newstack']\n",
    "#MODERNIZATION_REPOS = ['fb-api','fb-newux', 'ff-fusionreports'] # 'fb-newstack' takes ~2 hours, do it separately, when there's time\n",
    "#MODERNIZATION_REPOS = ['fb-newstack'] # This will take ~2 few hours\n",
    "ROOT_GIT_MODERNIZATION_DIR = 'c:/Alex/Code/EssenceModernization'"
   ]
  },
  {
   "cell_type": "code",
   "execution_count": 33,
   "metadata": {
    "code_folding": [
     0
    ]
   },
   "outputs": [],
   "source": [
    "PACKAGE_FOLDERS = ['src', 'js', 'conf', 'resource', 'dist', 'bin', 'lib', 'html', 'css', \n",
    "                 'sql', 'Sqls',\n",
    "                 'Crystal Reports', 'CrystalReports', 'FitTests', 'Fit Tests', 'VelocityTemplates',\n",
    "                 'Messages', 'Microflow', 'Microflows', 'microflow', 'microflows', 'Attributes', 'BusinessObjects',\n",
    "                 'ActivitySteps', 'Expressions', 'QueryArtifacts', 'Rules']"
   ]
  },
  {
   "cell_type": "code",
   "execution_count": 34,
   "metadata": {
    "code_folding": [
     0
    ]
   },
   "outputs": [],
   "source": [
    "# bfg, bfm, asd are Essence microflow stuff, I think. \n",
    "# -bfg for process flows, screen flows, services, package divider 'Microflow' or 'Microflows'\n",
    "# -bfm for messages, with package divider 'Messages'\n",
    "# -asd for activity steps\n",
    "# -xsd, amd,atd are used for Attributes in microflows, I think\n",
    "# -bod is used for CBS business objects\n",
    "# -exd for CBS Expression\n",
    "# -qry for query artifacts"
   ]
  },
  {
   "cell_type": "code",
   "execution_count": 35,
   "metadata": {
    "code_folding": []
   },
   "outputs": [],
   "source": [
    "ARTIFACT_FAMILIES ={'Java Ecosystem':     ['aj', 'java', 'groovy', 'jy', 'jsp', 'jsa', 'tagx'], \n",
    "                                            #aj=AspectJ, jy=Jython, tagx=Spring Roo tag file\n",
    "                   'JSON Ecosystem':     ['json', 'jwks', 'JSON'],\n",
    "                   'Node Ecosystem':     ['js', 'css', 'htm', 'html', 'jshintrc', 'less','npmrc', 'scss', 'npmignore',\n",
    "                                          '0-M', '0-M1', #0-M1 is for files like misysboard-node-1.0.0-M1, or 1.0.0-M\n",
    "                                          'map', 'ts', 'vue'], #map=mnimized file\n",
    "                   'Mark-up Language':   ['xml', 'yml', 'yaml', 'xsl', 'xul'],   #Skip xsd, as it is a BF Artefact \n",
    "                   'Config & Scripting': ['txt', 'TXT', 'properties', 'cfg', 'ini', 'pl', 'bat', 'rdf', 'md', 'conf',\n",
    "                                         'MANIFEST', 'manifest'],\n",
    "                   'Documentation':      ['pdf', 'doc', 'docx', 'rtf'],\n",
    "                   'Excel':              ['xltm', 'xlsm', 'xlt', 'xls', 'xlsx', 'csv'], \n",
    "                   'BF Artefact':        ['asd', 'asd', 'atd', 'bfg', 'bfm', 'bfws', 'bod', 'bpc', 'bsm', 'bxm', \n",
    "                                          'drl', 'exd', 'pfd', 'PFD', 'qry', 'table', 'task', 'tmsg', 'topt'\n",
    "                                          'vm','xsd'],\n",
    "                   'Tests & Tooling':    ['fit', 'suite', 'bfj'], \n",
    "                   'Graphics':           ['ttf', 'svg', 'gif', 'png', 'pmdsl', 'ico', 'woff2', 'woff', 'eot', 'eps', 'jpg'],\n",
    "                   'SQL Ecosystem':      ['frm', 'sql', 'SQL'], \n",
    "                   'SAP Reporting':      ['rpt', 'bpc'],\n",
    "                   'BPM Ecosystem':      ['bpel', 'bpelex', \n",
    "                                          'component', # XML description of SCA process component in WPS\n",
    "                                          'export',\n",
    "                                          'import', # SCA MQ JMS data binding in WPS\n",
    "                                          'itel', 'itelex',\n",
    "                                          #itel=for TEL files in Websphere Process Server, tasks assigned to people\n",
    "                                          'mon', #mon=monitored by WebsphereProcessServer\n",
    "                                          'wsdl', 'import'], \n",
    "                   'Monitoring & Security': ['lck', 'log', 'ldip'],\n",
    "                   'Binaries':           ['ear', 'exe', 'jar', 'war', 'class', 'dll', 'sh'],\n",
    "                   'Compressed':         ['zip', 'tar', 'pf', 'gz', 'rar'],\n",
    "                   'Dev Editors &Tools': ['editorconfig', 'gitignore', 'iml', 'index', 'keystore', 'npmignore', 'project'],\n",
    "                   'Miscellaneous':      ['MQSC',  \n",
    "                                          'access', 'amd', 'applicationlock', 'bfc', 'classpath', 'db',\n",
    "                                          'flows', 'gm', 'helplock', 'item', 'j2', 'ldif', 'libraries', 'php',\n",
    "                                          'policy', 'prefs', 'rule', \n",
    "                                          'security', 'src', 'template', 'userlibraries', 'vm', 'xsb']\n",
    "\n",
    "                  }       "
   ]
  },
  {
   "cell_type": "code",
   "execution_count": 36,
   "metadata": {},
   "outputs": [],
   "source": [
    "PACKAGE_PREFIXES = ['com/misys', 'com/trapedza', 'com/finastra']"
   ]
  },
  {
   "cell_type": "markdown",
   "metadata": {},
   "source": [
    "<h2>Load full contents of repos</h2>"
   ]
  },
  {
   "cell_type": "code",
   "execution_count": 37,
   "metadata": {},
   "outputs": [
    {
     "data": {
      "text/plain": [
       "((0, 11), 352)"
      ]
     },
     "execution_count": 37,
     "metadata": {},
     "output_type": "execute_result"
    }
   ],
   "source": [
    "cataloguer = GitRepoCataloguer(ROOT_GIT_DIR + '/ansible', layer_depth=2, \n",
    "                               package_folders   = PACKAGE_FOLDERS,\n",
    "                               artifact_families = ARTIFACT_FAMILIES, \n",
    "                               package_prefixes  = PACKAGE_PREFIXES)\n",
    "df, errors, ignored = cataloguer.catalogueRepoContents()\n",
    "df.shape, len(errors)"
   ]
  },
  {
   "cell_type": "code",
   "execution_count": 42,
   "metadata": {},
   "outputs": [
    {
     "data": {
      "text/plain": [
       "(None, None, 1)"
      ]
     },
     "execution_count": 42,
     "metadata": {},
     "output_type": "execute_result"
    }
   ],
   "source": [
    "entry = '     13 //NAS-CHATEAU-CLA\\\\Work-Backups\\\\Code\\\\Repos - Essence/ansible/.git/config'\n",
    "cataloguer._extractFilenameAndLoc(entry)"
   ]
  },
  {
   "cell_type": "code",
   "execution_count": 43,
   "metadata": {},
   "outputs": [
    {
     "data": {
      "text/plain": [
       "['13',\n",
       " '//NAS-CHATEAU-CLA\\\\Work-Backups\\\\Code\\\\Repos',\n",
       " '-',\n",
       " 'Essence/ansible/.git/config']"
      ]
     },
     "execution_count": 43,
     "metadata": {},
     "output_type": "execute_result"
    }
   ],
   "source": [
    "tokens          = entry.split()\n",
    "tokens"
   ]
  },
  {
   "cell_type": "code",
   "execution_count": 45,
   "metadata": {},
   "outputs": [
    {
     "data": {
      "text/plain": [
       "['13',\n",
       " '//NAS-CHATEAU-CLA\\\\Work-Backups\\\\Code\\\\Repos-Essence/ansible/.git/config\"']"
      ]
     },
     "execution_count": 45,
     "metadata": {},
     "output_type": "execute_result"
    }
   ],
   "source": [
    "entry2 = '     13 //NAS-CHATEAU-CLA\\\\Work-Backups\\\\Code\\\\Repos-Essence/ansible/.git/config\"'\n",
    "entry2.split()"
   ]
  },
  {
   "cell_type": "code",
   "execution_count": null,
   "metadata": {},
   "outputs": [],
   "source": []
  },
  {
   "cell_type": "code",
   "execution_count": null,
   "metadata": {},
   "outputs": [],
   "source": []
  },
  {
   "cell_type": "code",
   "execution_count": 38,
   "metadata": {},
   "outputs": [
    {
     "data": {
      "text/plain": [
       "['     13 //NAS-CHATEAU-CLA\\\\Work-Backups\\\\Code\\\\Repos - Essence/ansible/.git/config',\n",
       " '      1 //NAS-CHATEAU-CLA\\\\Work-Backups\\\\Code\\\\Repos - Essence/ansible/.git/description',\n",
       " '      1 //NAS-CHATEAU-CLA\\\\Work-Backups\\\\Code\\\\Repos - Essence/ansible/.git/HEAD',\n",
       " '     15 //NAS-CHATEAU-CLA\\\\Work-Backups\\\\Code\\\\Repos - Essence/ansible/.git/hooks/applypatch-msg.sample',\n",
       " '     24 //NAS-CHATEAU-CLA\\\\Work-Backups\\\\Code\\\\Repos - Essence/ansible/.git/hooks/commit-msg.sample',\n",
       " '    114 //NAS-CHATEAU-CLA\\\\Work-Backups\\\\Code\\\\Repos - Essence/ansible/.git/hooks/fsmonitor-watchman.sample',\n",
       " '      8 //NAS-CHATEAU-CLA\\\\Work-Backups\\\\Code\\\\Repos - Essence/ansible/.git/hooks/post-update.sample',\n",
       " '     14 //NAS-CHATEAU-CLA\\\\Work-Backups\\\\Code\\\\Repos - Essence/ansible/.git/hooks/pre-applypatch.sample',\n",
       " '     49 //NAS-CHATEAU-CLA\\\\Work-Backups\\\\Code\\\\Repos - Essence/ansible/.git/hooks/pre-commit.sample',\n",
       " '     53 //NAS-CHATEAU-CLA\\\\Work-Backups\\\\Code\\\\Repos - Essence/ansible/.git/hooks/pre-push.sample',\n",
       " '    169 //NAS-CHATEAU-CLA\\\\Work-Backups\\\\Code\\\\Repos - Essence/ansible/.git/hooks/pre-rebase.sample',\n",
       " '     24 //NAS-CHATEAU-CLA\\\\Work-Backups\\\\Code\\\\Repos - Essence/ansible/.git/hooks/pre-receive.sample',\n",
       " '     42 //NAS-CHATEAU-CLA\\\\Work-Backups\\\\Code\\\\Repos - Essence/ansible/.git/hooks/prepare-commit-msg.sample',\n",
       " '    128 //NAS-CHATEAU-CLA\\\\Work-Backups\\\\Code\\\\Repos - Essence/ansible/.git/hooks/update.sample',\n",
       " '   1002 //NAS-CHATEAU-CLA\\\\Work-Backups\\\\Code\\\\Repos - Essence/ansible/.git/index',\n",
       " '      6 //NAS-CHATEAU-CLA\\\\Work-Backups\\\\Code\\\\Repos - Essence/ansible/.git/info/exclude',\n",
       " '      1 //NAS-CHATEAU-CLA\\\\Work-Backups\\\\Code\\\\Repos - Essence/ansible/.git/logs/HEAD',\n",
       " '      1 //NAS-CHATEAU-CLA\\\\Work-Backups\\\\Code\\\\Repos - Essence/ansible/.git/logs/refs/heads/master',\n",
       " '      1 //NAS-CHATEAU-CLA\\\\Work-Backups\\\\Code\\\\Repos - Essence/ansible/.git/logs/refs/remotes/origin/HEAD',\n",
       " '    145 //NAS-CHATEAU-CLA\\\\Work-Backups\\\\Code\\\\Repos - Essence/ansible/.git/objects/pack/pack-a293d2e85bd0dae57ea67fe0a181f8e1a3730c1c.idx',\n",
       " '  20531 //NAS-CHATEAU-CLA\\\\Work-Backups\\\\Code\\\\Repos - Essence/ansible/.git/objects/pack/pack-a293d2e85bd0dae57ea67fe0a181f8e1a3730c1c.pack',\n",
       " '      9 //NAS-CHATEAU-CLA\\\\Work-Backups\\\\Code\\\\Repos - Essence/ansible/.git/packed-refs',\n",
       " '      1 //NAS-CHATEAU-CLA\\\\Work-Backups\\\\Code\\\\Repos - Essence/ansible/.git/refs/heads/master',\n",
       " '      1 //NAS-CHATEAU-CLA\\\\Work-Backups\\\\Code\\\\Repos - Essence/ansible/.git/refs/remotes/origin/HEAD',\n",
       " '      0 //NAS-CHATEAU-CLA\\\\Work-Backups\\\\Code\\\\Repos - Essence/ansible/ActiveMQ/dummy.txt',\n",
       " '      5 //NAS-CHATEAU-CLA\\\\Work-Backups\\\\Code\\\\Repos - Essence/ansible/CrystalServer_Configuration/ansible.cfg',\n",
       " '     39 //NAS-CHATEAU-CLA\\\\Work-Backups\\\\Code\\\\Repos - Essence/ansible/CrystalServer_Configuration/inventory',\n",
       " '     23 //NAS-CHATEAU-CLA\\\\Work-Backups\\\\Code\\\\Repos - Essence/ansible/CrystalServer_Configuration/main.yml',\n",
       " '     28 //NAS-CHATEAU-CLA\\\\Work-Backups\\\\Code\\\\Repos - Essence/ansible/CrystalServer_Configuration/roles/copy_crystal_jars/tasks/main.yml',\n",
       " '     31 //NAS-CHATEAU-CLA\\\\Work-Backups\\\\Code\\\\Repos - Essence/ansible/CrystalServer_Configuration/roles/crystal-db-updates/tasks/main.yml',\n",
       " '     32 //NAS-CHATEAU-CLA\\\\Work-Backups\\\\Code\\\\Repos - Essence/ansible/CrystalServer_Configuration/roles/crystal-db-updates/templates/BFTB_PROPERTY.sql.j2',\n",
       " '     26 //NAS-CHATEAU-CLA\\\\Work-Backups\\\\Code\\\\Repos - Essence/ansible/CrystalServer_Configuration/UserInput.yml',\n",
       " '      4 //NAS-CHATEAU-CLA\\\\Work-Backups\\\\Code\\\\Repos - Essence/ansible/DB2WAS/ansible.cfg',\n",
       " '     54 //NAS-CHATEAU-CLA\\\\Work-Backups\\\\Code\\\\Repos - Essence/ansible/DB2WAS/inventory',\n",
       " '     27 //NAS-CHATEAU-CLA\\\\Work-Backups\\\\Code\\\\Repos - Essence/ansible/DB2WAS/main.yml',\n",
       " '      3 //NAS-CHATEAU-CLA\\\\Work-Backups\\\\Code\\\\Repos - Essence/ansible/DB2WAS/roles/application-server/defaults/main.yml',\n",
       " '     79 //NAS-CHATEAU-CLA\\\\Work-Backups\\\\Code\\\\Repos - Essence/ansible/DB2WAS/roles/application-server/tasks/main.yml',\n",
       " '     72 //NAS-CHATEAU-CLA\\\\Work-Backups\\\\Code\\\\Repos - Essence/ansible/DB2WAS/roles/application-server/vars/ApplicationServerProperties.yml',\n",
       " '      2 //NAS-CHATEAU-CLA\\\\Work-Backups\\\\Code\\\\Repos - Essence/ansible/DB2WAS/roles/custom-properties/defaults/main.yml',\n",
       " '     72 //NAS-CHATEAU-CLA\\\\Work-Backups\\\\Code\\\\Repos - Essence/ansible/DB2WAS/roles/custom-properties/tasks/main.yml',\n",
       " '    196 //NAS-CHATEAU-CLA\\\\Work-Backups\\\\Code\\\\Repos - Essence/ansible/DB2WAS/roles/custom-properties/vars/CustomProperties.yml',\n",
       " '      2 //NAS-CHATEAU-CLA\\\\Work-Backups\\\\Code\\\\Repos - Essence/ansible/DB2WAS/roles/db2db-creation/defaults/main.yml',\n",
       " '     68 //NAS-CHATEAU-CLA\\\\Work-Backups\\\\Code\\\\Repos - Essence/ansible/DB2WAS/roles/db2db-creation/tasks/main.yml',\n",
       " '     11 //NAS-CHATEAU-CLA\\\\Work-Backups\\\\Code\\\\Repos - Essence/ansible/DB2WAS/roles/db2db-creation/templates/test.sh.j2',\n",
       " '     27 //NAS-CHATEAU-CLA\\\\Work-Backups\\\\Code\\\\Repos - Essence/ansible/DB2WAS/roles/db2db-creation/templates/UserInputForDB.in.j2',\n",
       " '      8 //NAS-CHATEAU-CLA\\\\Work-Backups\\\\Code\\\\Repos - Essence/ansible/DB2WAS/roles/IBM-Installation-manager/defaults/main.yml',\n",
       " '     27 //NAS-CHATEAU-CLA\\\\Work-Backups\\\\Code\\\\Repos - Essence/ansible/DB2WAS/roles/IBM-Installation-manager/tasks/main.yml',\n",
       " '      2 //NAS-CHATEAU-CLA\\\\Work-Backups\\\\Code\\\\Repos - Essence/ansible/DB2WAS/roles/launch-Installer/defaults/main.yml',\n",
       " '      8 //NAS-CHATEAU-CLA\\\\Work-Backups\\\\Code\\\\Repos - Essence/ansible/DB2WAS/roles/launch-Installer/tasks/main.yml',\n",
       " '      2 //NAS-CHATEAU-CLA\\\\Work-Backups\\\\Code\\\\Repos - Essence/ansible/DB2WAS/roles/platform-Installer-xml/defaults/main.yml',\n",
       " '     17 //NAS-CHATEAU-CLA\\\\Work-Backups\\\\Code\\\\Repos - Essence/ansible/DB2WAS/roles/platform-Installer-xml/tasks/main.yml',\n",
       " '     66 //NAS-CHATEAU-CLA\\\\Work-Backups\\\\Code\\\\Repos - Essence/ansible/DB2WAS/roles/platform-Installer-xml/vars/InstallerProperties.yml',\n",
       " '     10 //NAS-CHATEAU-CLA\\\\Work-Backups\\\\Code\\\\Repos - Essence/ansible/DB2WAS/roles/profileCreation/tasks/main.yml',\n",
       " '      6 //NAS-CHATEAU-CLA\\\\Work-Backups\\\\Code\\\\Repos - Essence/ansible/DB2WAS/roles/unarchive/defaults/main.yml',\n",
       " '     41 //NAS-CHATEAU-CLA\\\\Work-Backups\\\\Code\\\\Repos - Essence/ansible/DB2WAS/roles/unarchive/tasks/main.yml',\n",
       " '      8 //NAS-CHATEAU-CLA\\\\Work-Backups\\\\Code\\\\Repos - Essence/ansible/DB2WAS/roles/websphere-installation/defaults/main.yml',\n",
       " '     17 //NAS-CHATEAU-CLA\\\\Work-Backups\\\\Code\\\\Repos - Essence/ansible/DB2WAS/roles/websphere-installation/tasks/main.yml',\n",
       " '    141 //NAS-CHATEAU-CLA\\\\Work-Backups\\\\Code\\\\Repos - Essence/ansible/DB2WAS/roles/websphere-installation/tasks/was.yml',\n",
       " '     39 //NAS-CHATEAU-CLA\\\\Work-Backups\\\\Code\\\\Repos - Essence/ansible/DB2WAS/UserInput.yml',\n",
       " '      3 //NAS-CHATEAU-CLA\\\\Work-Backups\\\\Code\\\\Repos - Essence/ansible/DC_FFC/ansible.cfg',\n",
       " '     20 //NAS-CHATEAU-CLA\\\\Work-Backups\\\\Code\\\\Repos - Essence/ansible/DC_FFC/inventory',\n",
       " '     11 //NAS-CHATEAU-CLA\\\\Work-Backups\\\\Code\\\\Repos - Essence/ansible/DC_FFC/main.yml',\n",
       " '     90 //NAS-CHATEAU-CLA\\\\Work-Backups\\\\Code\\\\Repos - Essence/ansible/DC_FFC/roles/dc-configuration-properties_update/tasks/main.yml',\n",
       " '     17 //NAS-CHATEAU-CLA\\\\Work-Backups\\\\Code\\\\Repos - Essence/ansible/DC_FFC/roles/dc-configuration-properties_update/templates/productlist.properties.j2',\n",
       " '    132 //NAS-CHATEAU-CLA\\\\Work-Backups\\\\Code\\\\Repos - Essence/ansible/DC_FFC/roles/dc-configuration-properties_update/vars/DCProperties.yml',\n",
       " '    105 //NAS-CHATEAU-CLA\\\\Work-Backups\\\\Code\\\\Repos - Essence/ansible/DC_FFC/roles/dc_ffc_configuration_copy/tasks/main.yml',\n",
       " '      6 //NAS-CHATEAU-CLA\\\\Work-Backups\\\\Code\\\\Repos - Essence/ansible/DC_FFC/roles/dc_ffc_configuration_copy/templates/start_CommonParty.sh.j2',\n",
       " '      6 //NAS-CHATEAU-CLA\\\\Work-Backups\\\\Code\\\\Repos - Essence/ansible/DC_FFC/roles/dc_ffc_configuration_copy/templates/start_FFC_DC.sh.j2',\n",
       " '      6 //NAS-CHATEAU-CLA\\\\Work-Backups\\\\Code\\\\Repos - Essence/ansible/DC_FFC/roles/dc_ffc_configuration_copy/templates/stop_CommonParty.sh.j2',\n",
       " '      6 //NAS-CHATEAU-CLA\\\\Work-Backups\\\\Code\\\\Repos - Essence/ansible/DC_FFC/roles/dc_ffc_configuration_copy/templates/stop_FFC_DC.sh.j2',\n",
       " '     74 //NAS-CHATEAU-CLA\\\\Work-Backups\\\\Code\\\\Repos - Essence/ansible/DC_FFC/roles/dc_ffc_configuration_copy/vars/main.yml',\n",
       " '     82 //NAS-CHATEAU-CLA\\\\Work-Backups\\\\Code\\\\Repos - Essence/ansible/DC_FFC/UserInput.yml',\n",
       " '      5 //NAS-CHATEAU-CLA\\\\Work-Backups\\\\Code\\\\Repos - Essence/ansible/Essence/ansible.cfg',\n",
       " '      7 //NAS-CHATEAU-CLA\\\\Work-Backups\\\\Code\\\\Repos - Essence/ansible/Essence/ansible.sh',\n",
       " '      5 //NAS-CHATEAU-CLA\\\\Work-Backups\\\\Code\\\\Repos - Essence/ansible/Essence/dc.sh',\n",
       " '    118 //NAS-CHATEAU-CLA\\\\Work-Backups\\\\Code\\\\Repos - Essence/ansible/Essence/dc.vars.yml',\n",
       " '     14 //NAS-CHATEAU-CLA\\\\Work-Backups\\\\Code\\\\Repos - Essence/ansible/Essence/dc.yml',\n",
       " '     79 //NAS-CHATEAU-CLA\\\\Work-Backups\\\\Code\\\\Repos - Essence/ansible/Essence/inventory',\n",
       " '    181 //NAS-CHATEAU-CLA\\\\Work-Backups\\\\Code\\\\Repos - Essence/ansible/Essence/main.yml',\n",
       " '      5 //NAS-CHATEAU-CLA\\\\Work-Backups\\\\Code\\\\Repos - Essence/ansible/Essence/roles/application-server/defaults/main.yml',\n",
       " '     48 //NAS-CHATEAU-CLA\\\\Work-Backups\\\\Code\\\\Repos - Essence/ansible/Essence/roles/application-server/tasks/main.yml',\n",
       " '     78 //NAS-CHATEAU-CLA\\\\Work-Backups\\\\Code\\\\Repos - Essence/ansible/Essence/roles/application-server/vars/ApplicationServerProperties.yml',\n",
       " '     32 //NAS-CHATEAU-CLA\\\\Work-Backups\\\\Code\\\\Repos - Essence/ansible/Essence/roles/clamav/tasks/main.yml',\n",
       " '    674 //NAS-CHATEAU-CLA\\\\Work-Backups\\\\Code\\\\Repos - Essence/ansible/Essence/roles/clamav/templates/scan.conf.j2',\n",
       " '      4 //NAS-CHATEAU-CLA\\\\Work-Backups\\\\Code\\\\Repos - Essence/ansible/Essence/roles/clamav/vars/main.yml',\n",
       " '    106 //NAS-CHATEAU-CLA\\\\Work-Backups\\\\Code\\\\Repos - Essence/ansible/Essence/roles/common/defaults/main.yml',\n",
       " '     57 //NAS-CHATEAU-CLA\\\\Work-Backups\\\\Code\\\\Repos - Essence/ansible/Essence/roles/common/tasks/main.yml',\n",
       " '     17 //NAS-CHATEAU-CLA\\\\Work-Backups\\\\Code\\\\Repos - Essence/ansible/Essence/roles/common/templates/motd.j2',\n",
       " '      1 //NAS-CHATEAU-CLA\\\\Work-Backups\\\\Code\\\\Repos - Essence/ansible/Essence/roles/common/templates/sudoers.j2',\n",
       " '      3 //NAS-CHATEAU-CLA\\\\Work-Backups\\\\Code\\\\Repos - Essence/ansible/Essence/roles/copy-ldap/defaults/main.yml',\n",
       " '     27 //NAS-CHATEAU-CLA\\\\Work-Backups\\\\Code\\\\Repos - Essence/ansible/Essence/roles/copy-ldap/tasks/main.yml',\n",
       " '      5 //NAS-CHATEAU-CLA\\\\Work-Backups\\\\Code\\\\Repos - Essence/ansible/Essence/roles/createDirectory/defaults/main.yml',\n",
       " '     51 //NAS-CHATEAU-CLA\\\\Work-Backups\\\\Code\\\\Repos - Essence/ansible/Essence/roles/createDirectory/tasks/main.yml',\n",
       " '      4 //NAS-CHATEAU-CLA\\\\Work-Backups\\\\Code\\\\Repos - Essence/ansible/Essence/roles/CreateQueues/defaults/main.yml',\n",
       " '     49 //NAS-CHATEAU-CLA\\\\Work-Backups\\\\Code\\\\Repos - Essence/ansible/Essence/roles/CreateQueues/tasks/main.yml',\n",
       " '      2 //NAS-CHATEAU-CLA\\\\Work-Backups\\\\Code\\\\Repos - Essence/ansible/Essence/roles/CreateQueues/templates/runMQScript.sh.j2',\n",
       " '      5 //NAS-CHATEAU-CLA\\\\Work-Backups\\\\Code\\\\Repos - Essence/ansible/Essence/roles/CreateQueues/templates/script.sh.j2',\n",
       " '      6 //NAS-CHATEAU-CLA\\\\Work-Backups\\\\Code\\\\Repos - Essence/ansible/Essence/roles/custom-properties/defaults/main.yml',\n",
       " '     55 //NAS-CHATEAU-CLA\\\\Work-Backups\\\\Code\\\\Repos - Essence/ansible/Essence/roles/custom-properties/tasks/main.yml',\n",
       " '    196 //NAS-CHATEAU-CLA\\\\Work-Backups\\\\Code\\\\Repos - Essence/ansible/Essence/roles/custom-properties/vars/CustomProperties.yml',\n",
       " '      0 //NAS-CHATEAU-CLA\\\\Work-Backups\\\\Code\\\\Repos - Essence/ansible/Essence/roles/dc/defaults/main.yml',\n",
       " '      1 //NAS-CHATEAU-CLA\\\\Work-Backups\\\\Code\\\\Repos - Essence/ansible/Essence/roles/dc/meta/main.yml',\n",
       " '     30 //NAS-CHATEAU-CLA\\\\Work-Backups\\\\Code\\\\Repos - Essence/ansible/Essence/roles/dc/tasks/configuremq.yml',\n",
       " '     45 //NAS-CHATEAU-CLA\\\\Work-Backups\\\\Code\\\\Repos - Essence/ansible/Essence/roles/dc/tasks/configurewas.yml',\n",
       " '     74 //NAS-CHATEAU-CLA\\\\Work-Backups\\\\Code\\\\Repos - Essence/ansible/Essence/roles/dc/tasks/createoraschema.yml',\n",
       " '     15 //NAS-CHATEAU-CLA\\\\Work-Backups\\\\Code\\\\Repos - Essence/ansible/Essence/roles/dc/tasks/deploy.yml',\n",
       " '     15 //NAS-CHATEAU-CLA\\\\Work-Backups\\\\Code\\\\Repos - Essence/ansible/Essence/roles/dc/tasks/example.yml',\n",
       " '     15 //NAS-CHATEAU-CLA\\\\Work-Backups\\\\Code\\\\Repos - Essence/ansible/Essence/roles/dc/tasks/getrelease.yml',\n",
       " '      7 //NAS-CHATEAU-CLA\\\\Work-Backups\\\\Code\\\\Repos - Essence/ansible/Essence/roles/dc/tasks/main.yml',\n",
       " '     17 //NAS-CHATEAU-CLA\\\\Work-Backups\\\\Code\\\\Repos - Essence/ansible/Essence/roles/dc/tasks/populateora.yml',\n",
       " '     54 //NAS-CHATEAU-CLA\\\\Work-Backups\\\\Code\\\\Repos - Essence/ansible/Essence/roles/dc/templates/deploy.j2',\n",
       " '     52 //NAS-CHATEAU-CLA\\\\Work-Backups\\\\Code\\\\Repos - Essence/ansible/Essence/roles/dc/templates/logback.j2',\n",
       " '     17 //NAS-CHATEAU-CLA\\\\Work-Backups\\\\Code\\\\Repos - Essence/ansible/Essence/roles/dc/templates/mq.j2',\n",
       " '     18 //NAS-CHATEAU-CLA\\\\Work-Backups\\\\Code\\\\Repos - Essence/ansible/Essence/roles/dc/templates/mqauth.j2',\n",
       " '    309 //NAS-CHATEAU-CLA\\\\Work-Backups\\\\Code\\\\Repos - Essence/ansible/Essence/roles/dc/templates/newprofile.j2',\n",
       " '     60 //NAS-CHATEAU-CLA\\\\Work-Backups\\\\Code\\\\Repos - Essence/ansible/Essence/roles/dc/templates/newserver.j2',\n",
       " '      0 //NAS-CHATEAU-CLA\\\\Work-Backups\\\\Code\\\\Repos - Essence/ansible/Essence/roles/dc/templates/placeholder',\n",
       " '    106 //NAS-CHATEAU-CLA\\\\Work-Backups\\\\Code\\\\Repos - Essence/ansible/Essence/roles/dc/templates/tmp.createora.sql.j2',\n",
       " '     79 //NAS-CHATEAU-CLA\\\\Work-Backups\\\\Code\\\\Repos - Essence/ansible/Essence/roles/dc/templates/tmp.create_session_adm.sql.j2',\n",
       " '      5 //NAS-CHATEAU-CLA\\\\Work-Backups\\\\Code\\\\Repos - Essence/ansible/Essence/roles/dc/templates/tmp.create_tablespace.sql.j2',\n",
       " '    220 //NAS-CHATEAU-CLA\\\\Work-Backups\\\\Code\\\\Repos - Essence/ansible/Essence/roles/dc/templates/tmp.full_recreate_sysdba.sql.j2',\n",
       " '    272 //NAS-CHATEAU-CLA\\\\Work-Backups\\\\Code\\\\Repos - Essence/ansible/Essence/roles/dc/templates/tmp.kill_user_connections.sql.j2',\n",
       " '      7 //NAS-CHATEAU-CLA\\\\Work-Backups\\\\Code\\\\Repos - Essence/ansible/Essence/roles/dc/templates/tmp.set_defaults.sql.j2',\n",
       " '    213 //NAS-CHATEAU-CLA\\\\Work-Backups\\\\Code\\\\Repos - Essence/ansible/Essence/roles/dc/vars/main.yml',\n",
       " '     39 //NAS-CHATEAU-CLA\\\\Work-Backups\\\\Code\\\\Repos - Essence/ansible/Essence/roles/disk/tasks/main.yml',\n",
       " '     44 //NAS-CHATEAU-CLA\\\\Work-Backups\\\\Code\\\\Repos - Essence/ansible/Essence/roles/download/tasks/azureblobs.yml',\n",
       " '     37 //NAS-CHATEAU-CLA\\\\Work-Backups\\\\Code\\\\Repos - Essence/ansible/Essence/roles/download/tasks/azurefiles.yml',\n",
       " '     36 //NAS-CHATEAU-CLA\\\\Work-Backups\\\\Code\\\\Repos - Essence/ansible/Essence/roles/download/tasks/http.yml',\n",
       " '      7 //NAS-CHATEAU-CLA\\\\Work-Backups\\\\Code\\\\Repos - Essence/ansible/Essence/roles/download/tasks/main.yml',\n",
       " '      1 //NAS-CHATEAU-CLA\\\\Work-Backups\\\\Code\\\\Repos - Essence/ansible/Essence/roles/download/vars/main.yml',\n",
       " '     33 //NAS-CHATEAU-CLA\\\\Work-Backups\\\\Code\\\\Repos - Essence/ansible/Essence/roles/elasticsearch144/tasks/main.yml',\n",
       " '    389 //NAS-CHATEAU-CLA\\\\Work-Backups\\\\Code\\\\Repos - Essence/ansible/Essence/roles/elasticsearch144/templates/elasticsearch.yml.j2',\n",
       " '      8 //NAS-CHATEAU-CLA\\\\Work-Backups\\\\Code\\\\Repos - Essence/ansible/Essence/roles/examples/tasks/getbinary.yml',\n",
       " '      1 //NAS-CHATEAU-CLA\\\\Work-Backups\\\\Code\\\\Repos - Essence/ansible/Essence/roles/examples/vars/main.yml',\n",
       " '      5 //NAS-CHATEAU-CLA\\\\Work-Backups\\\\Code\\\\Repos - Essence/ansible/Essence/roles/ffc-configuration-commonparty/defaults/main.yml',\n",
       " '     91 //NAS-CHATEAU-CLA\\\\Work-Backups\\\\Code\\\\Repos - Essence/ansible/Essence/roles/ffc-configuration-commonparty/tasks/main.yml',\n",
       " '      6 //NAS-CHATEAU-CLA\\\\Work-Backups\\\\Code\\\\Repos - Essence/ansible/Essence/roles/ffc-configuration-commonparty/templates/start_CommonParty.sh.j2',\n",
       " '      6 //NAS-CHATEAU-CLA\\\\Work-Backups\\\\Code\\\\Repos - Essence/ansible/Essence/roles/ffc-configuration-commonparty/templates/stop_CommonParty.sh.j2',\n",
       " '    106 //NAS-CHATEAU-CLA\\\\Work-Backups\\\\Code\\\\Repos - Essence/ansible/Essence/roles/ffc-configuration-commonparty/vars/main.yml',\n",
       " '      6 //NAS-CHATEAU-CLA\\\\Work-Backups\\\\Code\\\\Repos - Essence/ansible/Essence/roles/ffc-configuration-dc/defaults/main.yml',\n",
       " '     90 //NAS-CHATEAU-CLA\\\\Work-Backups\\\\Code\\\\Repos - Essence/ansible/Essence/roles/ffc-configuration-dc/tasks/main.yml',\n",
       " '     16 //NAS-CHATEAU-CLA\\\\Work-Backups\\\\Code\\\\Repos - Essence/ansible/Essence/roles/ffc-configuration-dc/templates/productlist.properties.j2',\n",
       " '      6 //NAS-CHATEAU-CLA\\\\Work-Backups\\\\Code\\\\Repos - Essence/ansible/Essence/roles/ffc-configuration-dc/templates/start_FFC_DC.sh.j2',\n",
       " '      6 //NAS-CHATEAU-CLA\\\\Work-Backups\\\\Code\\\\Repos - Essence/ansible/Essence/roles/ffc-configuration-dc/templates/stop_FFC_DC.sh.j2',\n",
       " '     89 //NAS-CHATEAU-CLA\\\\Work-Backups\\\\Code\\\\Repos - Essence/ansible/Essence/roles/ffc-configuration-dc/vars/main.yml',\n",
       " '      2 //NAS-CHATEAU-CLA\\\\Work-Backups\\\\Code\\\\Repos - Essence/ansible/Essence/roles/FFC-Installation/defaults/main.yml',\n",
       " '     28 //NAS-CHATEAU-CLA\\\\Work-Backups\\\\Code\\\\Repos - Essence/ansible/Essence/roles/FFC-Installation/tasks/main.yml',\n",
       " '    137 //NAS-CHATEAU-CLA\\\\Work-Backups\\\\Code\\\\Repos - Essence/ansible/Essence/roles/ibmmq/files/mq.sh',\n",
       " '    102 //NAS-CHATEAU-CLA\\\\Work-Backups\\\\Code\\\\Repos - Essence/ansible/Essence/roles/ibmmq/tasks/main.yml',\n",
       " '     11 //NAS-CHATEAU-CLA\\\\Work-Backups\\\\Code\\\\Repos - Essence/ansible/Essence/roles/ibmmq/vars/main.yml',\n",
       " '     19 //NAS-CHATEAU-CLA\\\\Work-Backups\\\\Code\\\\Repos - Essence/ansible/Essence/roles/java-home/tasks/main.yml',\n",
       " '      1 //NAS-CHATEAU-CLA\\\\Work-Backups\\\\Code\\\\Repos - Essence/ansible/Essence/roles/java-home/templates/etc/profile.d/java.sh.j2',\n",
       " '     28 //NAS-CHATEAU-CLA\\\\Work-Backups\\\\Code\\\\Repos - Essence/ansible/Essence/roles/launch-Installer/tasks/main.yml',\n",
       " '     63 //NAS-CHATEAU-CLA\\\\Work-Backups\\\\Code\\\\Repos - Essence/ansible/Essence/roles/mpm-configuration-camel-context/tasks/main.yml',\n",
       " '     15 //NAS-CHATEAU-CLA\\\\Work-Backups\\\\Code\\\\Repos - Essence/ansible/Essence/roles/mpm-configuration-camel-context/templates/blob-update-nonPluggable.sql.j2',\n",
       " '     16 //NAS-CHATEAU-CLA\\\\Work-Backups\\\\Code\\\\Repos - Essence/ansible/Essence/roles/mpm-configuration-camel-context/templates/blob-update-pluggable.sql.j2',\n",
       " '    326 //NAS-CHATEAU-CLA\\\\Work-Backups\\\\Code\\\\Repos - Essence/ansible/Essence/roles/mpm-configuration-camel-context/templates/camel-context.xml.j2',\n",
       " '      3 //NAS-CHATEAU-CLA\\\\Work-Backups\\\\Code\\\\Repos - Essence/ansible/Essence/roles/mpm-configuration-copyIBMMQJars/defaults/main.yml',\n",
       " '      0 //NAS-CHATEAU-CLA\\\\Work-Backups\\\\Code\\\\Repos - Essence/ansible/Essence/roles/mpm-configuration-copyIBMMQJars/files/relativePath.sh',\n",
       " '   6950 //NAS-CHATEAU-CLA\\\\Work-Backups\\\\Code\\\\Repos - Essence/ansible/Essence/roles/mpm-configuration-copyIBMMQJars/files/RelativePathFinder.jar',\n",
       " '     53 //NAS-CHATEAU-CLA\\\\Work-Backups\\\\Code\\\\Repos - Essence/ansible/Essence/roles/mpm-configuration-copyIBMMQJars/tasks/main.yml',\n",
       " '      8 //NAS-CHATEAU-CLA\\\\Work-Backups\\\\Code\\\\Repos - Essence/ansible/Essence/roles/mpm-configuration-properties_update/defaults/main.yml',\n",
       " '     43 //NAS-CHATEAU-CLA\\\\Work-Backups\\\\Code\\\\Repos - Essence/ansible/Essence/roles/mpm-configuration-properties_update/tasks/main.yml',\n",
       " '      4 //NAS-CHATEAU-CLA\\\\Work-Backups\\\\Code\\\\Repos - Essence/ansible/Essence/roles/MPMDB_CREATION/defaults/main.yml',\n",
       " '     93 //NAS-CHATEAU-CLA\\\\Work-Backups\\\\Code\\\\Repos - Essence/ansible/Essence/roles/MPMDB_CREATION/tasks/main.yml',\n",
       " '      0 //NAS-CHATEAU-CLA\\\\Work-Backups\\\\Code\\\\Repos - Essence/ansible/Essence/roles/MPMDB_CREATION/templates/extend.sql.j2',\n",
       " '    129 //NAS-CHATEAU-CLA\\\\Work-Backups\\\\Code\\\\Repos - Essence/ansible/Essence/roles/MPMDB_CREATION/templates/initMPM.ora.j2',\n",
       " '     23 //NAS-CHATEAU-CLA\\\\Work-Backups\\\\Code\\\\Repos - Essence/ansible/Essence/roles/MPMDB_CREATION/templates/MPMDB.sql.j2',\n",
       " '      2 //NAS-CHATEAU-CLA\\\\Work-Backups\\\\Code\\\\Repos - Essence/ansible/Essence/roles/MPMDB_CREATION/templates/PFILE.sql.j2',\n",
       " '      6 //NAS-CHATEAU-CLA\\\\Work-Backups\\\\Code\\\\Repos - Essence/ansible/Essence/roles/MPM_INSTALLATION/defaults/main.yml',\n",
       " '    120 //NAS-CHATEAU-CLA\\\\Work-Backups\\\\Code\\\\Repos - Essence/ansible/Essence/roles/MPM_INSTALLATION/tasks/main.yml',\n",
       " '      2 //NAS-CHATEAU-CLA\\\\Work-Backups\\\\Code\\\\Repos - Essence/ansible/Essence/roles/MPM_INSTALLATION/templates/run.sh.j2',\n",
       " '     12 //NAS-CHATEAU-CLA\\\\Work-Backups\\\\Code\\\\Repos - Essence/ansible/Essence/roles/MPM_INSTALLATION/templates/runScript.exp.j2',\n",
       " '     75 //NAS-CHATEAU-CLA\\\\Work-Backups\\\\Code\\\\Repos - Essence/ansible/Essence/roles/MPM_INSTALLATION/templates/template_freshmachine.sh.j2',\n",
       " '     47 //NAS-CHATEAU-CLA\\\\Work-Backups\\\\Code\\\\Repos - Essence/ansible/Essence/roles/MQ/tasks/InstallMQ.yml',\n",
       " '      8 //NAS-CHATEAU-CLA\\\\Work-Backups\\\\Code\\\\Repos - Essence/ansible/Essence/roles/MQ/tasks/main.yml',\n",
       " '     10 //NAS-CHATEAU-CLA\\\\Work-Backups\\\\Code\\\\Repos - Essence/ansible/Essence/roles/MQ/vars/main.yml',\n",
       " '     23 //NAS-CHATEAU-CLA\\\\Work-Backups\\\\Code\\\\Repos - Essence/ansible/Essence/roles/oracle-home/tasks/main.yml',\n",
       " '      1 //NAS-CHATEAU-CLA\\\\Work-Backups\\\\Code\\\\Repos - Essence/ansible/Essence/roles/oracle-home/templates/etc/profile.d/oracle.sh.j2',\n",
       " '     49 //NAS-CHATEAU-CLA\\\\Work-Backups\\\\Code\\\\Repos - Essence/ansible/Essence/roles/oracle-java-8/tasks/main.yml',\n",
       " '      5 //NAS-CHATEAU-CLA\\\\Work-Backups\\\\Code\\\\Repos - Essence/ansible/Essence/roles/oracle-java-8/vars/main.yml',\n",
       " '     39 //NAS-CHATEAU-CLA\\\\Work-Backups\\\\Code\\\\Repos - Essence/ansible/Essence/roles/oracle-jdk/defaults/main.yml',\n",
       " '    114 //NAS-CHATEAU-CLA\\\\Work-Backups\\\\Code\\\\Repos - Essence/ansible/Essence/roles/oracle-jdk/tasks/main.yml',\n",
       " '      8 //NAS-CHATEAU-CLA\\\\Work-Backups\\\\Code\\\\Repos - Essence/ansible/Essence/roles/oracle-jdk/vars/main.yml',\n",
       " '      7 //NAS-CHATEAU-CLA\\\\Work-Backups\\\\Code\\\\Repos - Essence/ansible/Essence/roles/oracledb/files/listener.ora',\n",
       " '      1 //NAS-CHATEAU-CLA\\\\Work-Backups\\\\Code\\\\Repos - Essence/ansible/Essence/roles/oracledb/files/sqlnet.ora',\n",
       " '    167 //NAS-CHATEAU-CLA\\\\Work-Backups\\\\Code\\\\Repos - Essence/ansible/Essence/roles/oracledb/tasks/main.yml',\n",
       " '     21 //NAS-CHATEAU-CLA\\\\Work-Backups\\\\Code\\\\Repos - Essence/ansible/Essence/roles/oracledb/templates/dbca.rsp.j2',\n",
       " '      6 //NAS-CHATEAU-CLA\\\\Work-Backups\\\\Code\\\\Repos - Essence/ansible/Essence/roles/oracledb/templates/oracle.sh',\n",
       " '     16 //NAS-CHATEAU-CLA\\\\Work-Backups\\\\Code\\\\Repos - Essence/ansible/Essence/roles/oracledb/templates/oracle_inst.rsp.j2',\n",
       " '      9 //NAS-CHATEAU-CLA\\\\Work-Backups\\\\Code\\\\Repos - Essence/ansible/Essence/roles/oracledb/templates/tnsnames.ora.j2',\n",
       " '     16 //NAS-CHATEAU-CLA\\\\Work-Backups\\\\Code\\\\Repos - Essence/ansible/Essence/roles/oracledb/vars/main.yml',\n",
       " '      7 //NAS-CHATEAU-CLA\\\\Work-Backups\\\\Code\\\\Repos - Essence/ansible/Essence/roles/oracledb-creation/defaults/main.yml',\n",
       " '     72 //NAS-CHATEAU-CLA\\\\Work-Backups\\\\Code\\\\Repos - Essence/ansible/Essence/roles/oracledb-creation/tasks/main.yml',\n",
       " '     11 //NAS-CHATEAU-CLA\\\\Work-Backups\\\\Code\\\\Repos - Essence/ansible/Essence/roles/oracledb-creation/templates/test.sh.j2',\n",
       " '     28 //NAS-CHATEAU-CLA\\\\Work-Backups\\\\Code\\\\Repos - Essence/ansible/Essence/roles/oracledb-creation/templates/UserInputForDB.in.j2',\n",
       " '     60 //NAS-CHATEAU-CLA\\\\Work-Backups\\\\Code\\\\Repos - Essence/ansible/Essence/roles/oradb-create/defaults/main.yml',\n",
       " '     22 //NAS-CHATEAU-CLA\\\\Work-Backups\\\\Code\\\\Repos - Essence/ansible/Essence/roles/oradb-create/tasks/listener.yml',\n",
       " '    103 //NAS-CHATEAU-CLA\\\\Work-Backups\\\\Code\\\\Repos - Essence/ansible/Essence/roles/oradb-create/tasks/main.yml',\n",
       " '   1096 //NAS-CHATEAU-CLA\\\\Work-Backups\\\\Code\\\\Repos - Essence/ansible/Essence/roles/oradb-create/templates/dbca-create-db.rsp.11.2.0.3.j2',\n",
       " '   1104 //NAS-CHATEAU-CLA\\\\Work-Backups\\\\Code\\\\Repos - Essence/ansible/Essence/roles/oradb-create/templates/dbca-create-db.rsp.11.2.0.4.j2',\n",
       " '   1794 //NAS-CHATEAU-CLA\\\\Work-Backups\\\\Code\\\\Repos - Essence/ansible/Essence/roles/oradb-create/templates/dbca-create-db.rsp.12.1.0.1.j2',\n",
       " '   1794 //NAS-CHATEAU-CLA\\\\Work-Backups\\\\Code\\\\Repos - Essence/ansible/Essence/roles/oradb-create/templates/dbca-create-db.rsp.12.1.0.2.j2',\n",
       " '    654 //NAS-CHATEAU-CLA\\\\Work-Backups\\\\Code\\\\Repos - Essence/ansible/Essence/roles/oradb-create/templates/dbca-create-db.rsp.12.2.0.1.j2',\n",
       " '     43 //NAS-CHATEAU-CLA\\\\Work-Backups\\\\Code\\\\Repos - Essence/ansible/Essence/roles/oradb-create/templates/dotprofile-db.j2',\n",
       " '    127 //NAS-CHATEAU-CLA\\\\Work-Backups\\\\Code\\\\Repos - Essence/ansible/Essence/roles/oradb-create/templates/netca.rsp.11.2.0.3.j2',\n",
       " '    127 //NAS-CHATEAU-CLA\\\\Work-Backups\\\\Code\\\\Repos - Essence/ansible/Essence/roles/oradb-create/templates/netca.rsp.11.2.0.4.j2',\n",
       " '    131 //NAS-CHATEAU-CLA\\\\Work-Backups\\\\Code\\\\Repos - Essence/ansible/Essence/roles/oradb-create/templates/netca.rsp.12.1.0.1.j2',\n",
       " '    131 //NAS-CHATEAU-CLA\\\\Work-Backups\\\\Code\\\\Repos - Essence/ansible/Essence/roles/oradb-create/templates/netca.rsp.12.1.0.2.j2',\n",
       " '    130 //NAS-CHATEAU-CLA\\\\Work-Backups\\\\Code\\\\Repos - Essence/ansible/Essence/roles/oradb-create/templates/netca.rsp.12.2.0.1.j2',\n",
       " '    251 //NAS-CHATEAU-CLA\\\\Work-Backups\\\\Code\\\\Repos - Essence/ansible/Essence/roles/orahost/defaults/main.yml',\n",
       " '     41 //NAS-CHATEAU-CLA\\\\Work-Backups\\\\Code\\\\Repos - Essence/ansible/Essence/roles/orahost/files/disks.sh',\n",
       " '      0 //NAS-CHATEAU-CLA\\\\Work-Backups\\\\Code\\\\Repos - Essence/ansible/Essence/roles/orahost/files/passwd',\n",
       " '      6 //NAS-CHATEAU-CLA\\\\Work-Backups\\\\Code\\\\Repos - Essence/ansible/Essence/roles/orahost/handlers/main.yml',\n",
       " '    330 //NAS-CHATEAU-CLA\\\\Work-Backups\\\\Code\\\\Repos - Essence/ansible/Essence/roles/orahost/tasks/main.yml',\n",
       " '     48 //NAS-CHATEAU-CLA\\\\Work-Backups\\\\Code\\\\Repos - Essence/ansible/Essence/roles/orahost/tasks/RedHat-6.yml',\n",
       " '     21 //NAS-CHATEAU-CLA\\\\Work-Backups\\\\Code\\\\Repos - Essence/ansible/Essence/roles/orahost/tasks/RedHat-7.yml',\n",
       " '      6 //NAS-CHATEAU-CLA\\\\Work-Backups\\\\Code\\\\Repos - Essence/ansible/Essence/roles/orahost/tasks/Suse-12.yml',\n",
       " '      8 //NAS-CHATEAU-CLA\\\\Work-Backups\\\\Code\\\\Repos - Essence/ansible/Essence/roles/orahost/templates/ifcfg-eth1.j2',\n",
       " '     13 //NAS-CHATEAU-CLA\\\\Work-Backups\\\\Code\\\\Repos - Essence/ansible/Essence/roles/orahost/templates/motd.j2',\n",
       " '     17 //NAS-CHATEAU-CLA\\\\Work-Backups\\\\Code\\\\Repos - Essence/ansible/Essence/roles/orahost/templates/oracle-seclimits.conf.j2',\n",
       " '     50 //NAS-CHATEAU-CLA\\\\Work-Backups\\\\Code\\\\Repos - Essence/ansible/Essence/roles/orahost/templates/oracleasm-configure.expect.j2',\n",
       " '     38 //NAS-CHATEAU-CLA\\\\Work-Backups\\\\Code\\\\Repos - Essence/ansible/Essence/roles/orahost/templates/oracleasm.j2',\n",
       " '      3 //NAS-CHATEAU-CLA\\\\Work-Backups\\\\Code\\\\Repos - Essence/ansible/Essence/roles/orahost/templates/sudoers.j2',\n",
       " '     76 //NAS-CHATEAU-CLA\\\\Work-Backups\\\\Code\\\\Repos - Essence/ansible/Essence/roles/oraswdb-install/defaults/main.yml',\n",
       " '    238 //NAS-CHATEAU-CLA\\\\Work-Backups\\\\Code\\\\Repos - Essence/ansible/Essence/roles/oraswdb-install/tasks/main.yml',\n",
       " '    490 //NAS-CHATEAU-CLA\\\\Work-Backups\\\\Code\\\\Repos - Essence/ansible/Essence/roles/oraswdb-install/templates/db-install.rsp.11.2.0.3.j2',\n",
       " '    490 //NAS-CHATEAU-CLA\\\\Work-Backups\\\\Code\\\\Repos - Essence/ansible/Essence/roles/oraswdb-install/templates/db-install.rsp.11.2.0.4.j2',\n",
       " '    502 //NAS-CHATEAU-CLA\\\\Work-Backups\\\\Code\\\\Repos - Essence/ansible/Essence/roles/oraswdb-install/templates/db-install.rsp.12.1.0.1.j2',\n",
       " '    502 //NAS-CHATEAU-CLA\\\\Work-Backups\\\\Code\\\\Repos - Essence/ansible/Essence/roles/oraswdb-install/templates/db-install.rsp.12.1.0.2.j2',\n",
       " '    452 //NAS-CHATEAU-CLA\\\\Work-Backups\\\\Code\\\\Repos - Essence/ansible/Essence/roles/oraswdb-install/templates/db-install.rsp.12.2.0.1.j2',\n",
       " '     52 //NAS-CHATEAU-CLA\\\\Work-Backups\\\\Code\\\\Repos - Essence/ansible/Essence/roles/oraswdb-install/templates/dbora.j2',\n",
       " '     45 //NAS-CHATEAU-CLA\\\\Work-Backups\\\\Code\\\\Repos - Essence/ansible/Essence/roles/oraswdb-install/templates/dotprofile-db.j2',\n",
       " '     29 //NAS-CHATEAU-CLA\\\\Work-Backups\\\\Code\\\\Repos - Essence/ansible/Essence/roles/oraswdb-install/templates/glogin.sql.j2',\n",
       " '     17 //NAS-CHATEAU-CLA\\\\Work-Backups\\\\Code\\\\Repos - Essence/ansible/Essence/roles/oraswdb-install/templates/oracle-rdbms-service.j2',\n",
       " '      2 //NAS-CHATEAU-CLA\\\\Work-Backups\\\\Code\\\\Repos - Essence/ansible/Essence/roles/oraswdb-install/templates/oraInst.loc.j2',\n",
       " '     10 //NAS-CHATEAU-CLA\\\\Work-Backups\\\\Code\\\\Repos - Essence/ansible/Essence/roles/oraswdb-install/templates/run-db-install.sh.j2',\n",
       " '     43 //NAS-CHATEAU-CLA\\\\Work-Backups\\\\Code\\\\Repos - Essence/ansible/Essence/roles/os/tasks/main.yml',\n",
       " '      1 //NAS-CHATEAU-CLA\\\\Work-Backups\\\\Code\\\\Repos - Essence/ansible/Essence/roles/platform-Installer-xml/defaults/main.yml',\n",
       " '     17 //NAS-CHATEAU-CLA\\\\Work-Backups\\\\Code\\\\Repos - Essence/ansible/Essence/roles/platform-Installer-xml/tasks/main.yml',\n",
       " '     63 //NAS-CHATEAU-CLA\\\\Work-Backups\\\\Code\\\\Repos - Essence/ansible/Essence/roles/platform-Installer-xml/vars/InstallerProperties.yml',\n",
       " '      0 //NAS-CHATEAU-CLA\\\\Work-Backups\\\\Code\\\\Repos - Essence/ansible/Essence/roles/provision/defaults/main.yml',\n",
       " '      1 //NAS-CHATEAU-CLA\\\\Work-Backups\\\\Code\\\\Repos - Essence/ansible/Essence/roles/provision/meta/main.yml',\n",
       " '      7 //NAS-CHATEAU-CLA\\\\Work-Backups\\\\Code\\\\Repos - Essence/ansible/Essence/roles/provision/tasks/main.yml',\n",
       " '     13 //NAS-CHATEAU-CLA\\\\Work-Backups\\\\Code\\\\Repos - Essence/ansible/Essence/roles/provision/tasks/network.yml',\n",
       " '     10 //NAS-CHATEAU-CLA\\\\Work-Backups\\\\Code\\\\Repos - Essence/ansible/Essence/roles/provision/tasks/nic.yml',\n",
       " '      7 //NAS-CHATEAU-CLA\\\\Work-Backups\\\\Code\\\\Repos - Essence/ansible/Essence/roles/provision/tasks/publicip.yml',\n",
       " '     25 //NAS-CHATEAU-CLA\\\\Work-Backups\\\\Code\\\\Repos - Essence/ansible/Essence/roles/provision/tasks/secgroup.yml',\n",
       " '      7 //NAS-CHATEAU-CLA\\\\Work-Backups\\\\Code\\\\Repos - Essence/ansible/Essence/roles/provision/tasks/storage.yml',\n",
       " '     30 //NAS-CHATEAU-CLA\\\\Work-Backups\\\\Code\\\\Repos - Essence/ansible/Essence/roles/provision/tasks/vm.yml',\n",
       " '      0 //NAS-CHATEAU-CLA\\\\Work-Backups\\\\Code\\\\Repos - Essence/ansible/Essence/roles/provision/templates/placeholder',\n",
       " '      5 //NAS-CHATEAU-CLA\\\\Work-Backups\\\\Code\\\\Repos - Essence/ansible/Essence/roles/unarchive/defaults/main.yml',\n",
       " '     38 //NAS-CHATEAU-CLA\\\\Work-Backups\\\\Code\\\\Repos - Essence/ansible/Essence/roles/unarchive/tasks/main.yml',\n",
       " '     34 //NAS-CHATEAU-CLA\\\\Work-Backups\\\\Code\\\\Repos - Essence/ansible/Essence/roles/was/files/imgr.xml',\n",
       " '     33 //NAS-CHATEAU-CLA\\\\Work-Backups\\\\Code\\\\Repos - Essence/ansible/Essence/roles/was/tasks/dmgr.yml',\n",
       " '     22 //NAS-CHATEAU-CLA\\\\Work-Backups\\\\Code\\\\Repos - Essence/ansible/Essence/roles/was/tasks/fixpack.yml',\n",
       " '     18 //NAS-CHATEAU-CLA\\\\Work-Backups\\\\Code\\\\Repos - Essence/ansible/Essence/roles/was/tasks/ibmjava.yml',\n",
       " '     32 //NAS-CHATEAU-CLA\\\\Work-Backups\\\\Code\\\\Repos - Essence/ansible/Essence/roles/was/tasks/imgr.yml',\n",
       " '      4 //NAS-CHATEAU-CLA\\\\Work-Backups\\\\Code\\\\Repos - Essence/ansible/Essence/roles/was/tasks/jdbc.yml',\n",
       " '     15 //NAS-CHATEAU-CLA\\\\Work-Backups\\\\Code\\\\Repos - Essence/ansible/Essence/roles/was/tasks/main.yml',\n",
       " '     33 //NAS-CHATEAU-CLA\\\\Work-Backups\\\\Code\\\\Repos - Essence/ansible/Essence/roles/was/tasks/node.yml',\n",
       " '     30 //NAS-CHATEAU-CLA\\\\Work-Backups\\\\Code\\\\Repos - Essence/ansible/Essence/roles/was/tasks/was.yml',\n",
       " '     34 //NAS-CHATEAU-CLA\\\\Work-Backups\\\\Code\\\\Repos - Essence/ansible/Essence/roles/was/templates/imgr.j2',\n",
       " '    139 //NAS-CHATEAU-CLA\\\\Work-Backups\\\\Code\\\\Repos - Essence/ansible/Essence/roles/was/templates/init-wasdmgr.j2',\n",
       " '    142 //NAS-CHATEAU-CLA\\\\Work-Backups\\\\Code\\\\Repos - Essence/ansible/Essence/roles/was/templates/init-wasnode.j2',\n",
       " '     39 //NAS-CHATEAU-CLA\\\\Work-Backups\\\\Code\\\\Repos - Essence/ansible/Essence/roles/was/vars/main.yml',\n",
       " '     18 //NAS-CHATEAU-CLA\\\\Work-Backups\\\\Code\\\\Repos - Essence/ansible/Essence/roles/wildfly-installation/tasks/main.yml',\n",
       " '    220 //NAS-CHATEAU-CLA\\\\Work-Backups\\\\Code\\\\Repos - Essence/ansible/Essence/UserInput.yml',\n",
       " '      4 //NAS-CHATEAU-CLA\\\\Work-Backups\\\\Code\\\\Repos - Essence/ansible/EssenceDb2Websphere/Installer/ansible.cfg',\n",
       " '     38 //NAS-CHATEAU-CLA\\\\Work-Backups\\\\Code\\\\Repos - Essence/ansible/EssenceDb2Websphere/Installer/inventory',\n",
       " '     23 //NAS-CHATEAU-CLA\\\\Work-Backups\\\\Code\\\\Repos - Essence/ansible/EssenceDb2Websphere/Installer/main.yml',\n",
       " '     45 //NAS-CHATEAU-CLA\\\\Work-Backups\\\\Code\\\\Repos - Essence/ansible/EssenceDb2Websphere/Installer/roles/application-server/tasks/main.yml',\n",
       " '     72 //NAS-CHATEAU-CLA\\\\Work-Backups\\\\Code\\\\Repos - Essence/ansible/EssenceDb2Websphere/Installer/roles/application-server/vars/ApplicationServerProperties.yml',\n",
       " '     15 //NAS-CHATEAU-CLA\\\\Work-Backups\\\\Code\\\\Repos - Essence/ansible/EssenceDb2Websphere/Installer/roles/copy-db-jars/tasks/main.yml',\n",
       " '     24 //NAS-CHATEAU-CLA\\\\Work-Backups\\\\Code\\\\Repos - Essence/ansible/EssenceDb2Websphere/Installer/roles/copy-jars-for-maps/tasks/main.yml',\n",
       " '     56 //NAS-CHATEAU-CLA\\\\Work-Backups\\\\Code\\\\Repos - Essence/ansible/EssenceDb2Websphere/Installer/roles/custom-properties/tasks/main.yml',\n",
       " '    196 //NAS-CHATEAU-CLA\\\\Work-Backups\\\\Code\\\\Repos - Essence/ansible/EssenceDb2Websphere/Installer/roles/custom-properties/vars/CustomProperties.yml',\n",
       " '     85 //NAS-CHATEAU-CLA\\\\Work-Backups\\\\Code\\\\Repos - Essence/ansible/EssenceDb2Websphere/Installer/roles/db2db-creation/tasks/main.yml',\n",
       " '     11 //NAS-CHATEAU-CLA\\\\Work-Backups\\\\Code\\\\Repos - Essence/ansible/EssenceDb2Websphere/Installer/roles/db2db-creation/templates/test.sh.j2',\n",
       " '     27 //NAS-CHATEAU-CLA\\\\Work-Backups\\\\Code\\\\Repos - Essence/ansible/EssenceDb2Websphere/Installer/roles/db2db-creation/templates/UserInputForDB.in.j2',\n",
       " '      8 //NAS-CHATEAU-CLA\\\\Work-Backups\\\\Code\\\\Repos - Essence/ansible/EssenceDb2Websphere/Installer/roles/launch-Installer/tasks/main.yml',\n",
       " '     17 //NAS-CHATEAU-CLA\\\\Work-Backups\\\\Code\\\\Repos - Essence/ansible/EssenceDb2Websphere/Installer/roles/platform-Installer-xml/tasks/main.yml',\n",
       " '     66 //NAS-CHATEAU-CLA\\\\Work-Backups\\\\Code\\\\Repos - Essence/ansible/EssenceDb2Websphere/Installer/roles/platform-Installer-xml/vars/InstallerProperties.yml',\n",
       " '     23 //NAS-CHATEAU-CLA\\\\Work-Backups\\\\Code\\\\Repos - Essence/ansible/EssenceDb2Websphere/Installer/roles/unarchive/tasks/main.yml',\n",
       " '     83 //NAS-CHATEAU-CLA\\\\Work-Backups\\\\Code\\\\Repos - Essence/ansible/EssenceDb2Websphere/Installer/UserInput.yml',\n",
       " '      4 //NAS-CHATEAU-CLA\\\\Work-Backups\\\\Code\\\\Repos - Essence/ansible/EssenceUpgrade/ansible.cfg',\n",
       " '     11 //NAS-CHATEAU-CLA\\\\Work-Backups\\\\Code\\\\Repos - Essence/ansible/EssenceUpgrade/inventory',\n",
       " '     36 //NAS-CHATEAU-CLA\\\\Work-Backups\\\\Code\\\\Repos - Essence/ansible/EssenceUpgrade/main.yml',\n",
       " '      5 //NAS-CHATEAU-CLA\\\\Work-Backups\\\\Code\\\\Repos - Essence/ansible/EssenceUpgrade/roles/Patch_ApplicationServer/defaults/main.yml',\n",
       " '     46 //NAS-CHATEAU-CLA\\\\Work-Backups\\\\Code\\\\Repos - Essence/ansible/EssenceUpgrade/roles/Patch_ApplicationServer/tasks/main.yml',\n",
       " '     46 //NAS-CHATEAU-CLA\\\\Work-Backups\\\\Code\\\\Repos - Essence/ansible/EssenceUpgrade/roles/Patch_ApplicationServer/vars/Patch_ApplicationServer.yml',\n",
       " '      3 //NAS-CHATEAU-CLA\\\\Work-Backups\\\\Code\\\\Repos - Essence/ansible/EssenceUpgrade/roles/Patch_CustomProperty/defaults/main.yml',\n",
       " '     54 //NAS-CHATEAU-CLA\\\\Work-Backups\\\\Code\\\\Repos - Essence/ansible/EssenceUpgrade/roles/Patch_CustomProperty/tasks/main.yml',\n",
       " '      4 //NAS-CHATEAU-CLA\\\\Work-Backups\\\\Code\\\\Repos - Essence/ansible/EssenceUpgrade/roles/Patch_CustomProperty/vars/CustomProperties.yml',\n",
       " '      2 //NAS-CHATEAU-CLA\\\\Work-Backups\\\\Code\\\\Repos - Essence/ansible/EssenceUpgrade/roles/Patch_LaunchInstaller/defaults/main.yml',\n",
       " '     14 //NAS-CHATEAU-CLA\\\\Work-Backups\\\\Code\\\\Repos - Essence/ansible/EssenceUpgrade/roles/Patch_LaunchInstaller/tasks/main.yml',\n",
       " '      3 //NAS-CHATEAU-CLA\\\\Work-Backups\\\\Code\\\\Repos - Essence/ansible/EssenceUpgrade/roles/Patch_PlatformInstaller/defaults/main.yml',\n",
       " '     20 //NAS-CHATEAU-CLA\\\\Work-Backups\\\\Code\\\\Repos - Essence/ansible/EssenceUpgrade/roles/Patch_PlatformInstaller/tasks/main.yml',\n",
       " '     65 //NAS-CHATEAU-CLA\\\\Work-Backups\\\\Code\\\\Repos - Essence/ansible/EssenceUpgrade/roles/Patch_PlatformInstaller/vars/Patch_PlatformInstaller.yml',\n",
       " '      3 //NAS-CHATEAU-CLA\\\\Work-Backups\\\\Code\\\\Repos - Essence/ansible/EssenceUpgrade/roles/Patch_Unarchive/defaults/main.yml',\n",
       " '     28 //NAS-CHATEAU-CLA\\\\Work-Backups\\\\Code\\\\Repos - Essence/ansible/EssenceUpgrade/roles/Patch_Unarchive/tasks/main.yml',\n",
       " '      2 //NAS-CHATEAU-CLA\\\\Work-Backups\\\\Code\\\\Repos - Essence/ansible/EssenceUpgrade/roles/SP_LaunchInstaller/defaults/main.yml',\n",
       " '     14 //NAS-CHATEAU-CLA\\\\Work-Backups\\\\Code\\\\Repos - Essence/ansible/EssenceUpgrade/roles/SP_LaunchInstaller/tasks/main.yml',\n",
       " '     17 //NAS-CHATEAU-CLA\\\\Work-Backups\\\\Code\\\\Repos - Essence/ansible/EssenceUpgrade/UserInput.yml',\n",
       " '      0 //NAS-CHATEAU-CLA\\\\Work-Backups\\\\Code\\\\Repos - Essence/ansible/IBMMQ/dummy.txt',\n",
       " '      0 //NAS-CHATEAU-CLA\\\\Work-Backups\\\\Code\\\\Repos - Essence/ansible/JDK1.8/dummy.txt',\n",
       " '      3 //NAS-CHATEAU-CLA\\\\Work-Backups\\\\Code\\\\Repos - Essence/ansible/MPM/ansible.cfg',\n",
       " '     37 //NAS-CHATEAU-CLA\\\\Work-Backups\\\\Code\\\\Repos - Essence/ansible/MPM/inventory',\n",
       " '     13 //NAS-CHATEAU-CLA\\\\Work-Backups\\\\Code\\\\Repos - Essence/ansible/MPM/main.yml',\n",
       " '     63 //NAS-CHATEAU-CLA\\\\Work-Backups\\\\Code\\\\Repos - Essence/ansible/MPM/roles/mpm-configuration-camel-context/tasks/main.yml',\n",
       " '     15 //NAS-CHATEAU-CLA\\\\Work-Backups\\\\Code\\\\Repos - Essence/ansible/MPM/roles/mpm-configuration-camel-context/templates/blob-update-nonPluggable.sql.j2',\n",
       " '     16 //NAS-CHATEAU-CLA\\\\Work-Backups\\\\Code\\\\Repos - Essence/ansible/MPM/roles/mpm-configuration-camel-context/templates/blob-update-pluggable.sql.j2',\n",
       " '    326 //NAS-CHATEAU-CLA\\\\Work-Backups\\\\Code\\\\Repos - Essence/ansible/MPM/roles/mpm-configuration-camel-context/templates/camel-context.xml.j2',\n",
       " '      0 //NAS-CHATEAU-CLA\\\\Work-Backups\\\\Code\\\\Repos - Essence/ansible/MPM/roles/mpm-configuration-copyIBMMQJars/files/relativePath.sh',\n",
       " '   6950 //NAS-CHATEAU-CLA\\\\Work-Backups\\\\Code\\\\Repos - Essence/ansible/MPM/roles/mpm-configuration-copyIBMMQJars/files/RelativePathFinder.jar',\n",
       " '     51 //NAS-CHATEAU-CLA\\\\Work-Backups\\\\Code\\\\Repos - Essence/ansible/MPM/roles/mpm-configuration-copyIBMMQJars/tasks/main.yml',\n",
       " '     18 //NAS-CHATEAU-CLA\\\\Work-Backups\\\\Code\\\\Repos - Essence/ansible/MPM/roles/mpm-configuration-properties_update/tasks/main.yml',\n",
       " '     32 //NAS-CHATEAU-CLA\\\\Work-Backups\\\\Code\\\\Repos - Essence/ansible/MPM/UserInput.yml',\n",
       " '      0 //NAS-CHATEAU-CLA\\\\Work-Backups\\\\Code\\\\Repos - Essence/ansible/MySQLServer/ansible.cfg',\n",
       " '      7 //NAS-CHATEAU-CLA\\\\Work-Backups\\\\Code\\\\Repos - Essence/ansible/MySQLServer/inventory',\n",
       " '      8 //NAS-CHATEAU-CLA\\\\Work-Backups\\\\Code\\\\Repos - Essence/ansible/MySQLServer/main.yml',\n",
       " '      3 //NAS-CHATEAU-CLA\\\\Work-Backups\\\\Code\\\\Repos - Essence/ansible/MySQLServer/roles/MYSQL/defaults/main.yml',\n",
       " '      2 //NAS-CHATEAU-CLA\\\\Work-Backups\\\\Code\\\\Repos - Essence/ansible/MySQLServer/roles/MYSQL/meta/main.yml',\n",
       " '     12 //NAS-CHATEAU-CLA\\\\Work-Backups\\\\Code\\\\Repos - Essence/ansible/MySQLServer/roles/MYSQL/tasks/debian.yml',\n",
       " '      9 //NAS-CHATEAU-CLA\\\\Work-Backups\\\\Code\\\\Repos - Essence/ansible/MySQLServer/roles/MYSQL/tasks/main.yml',\n",
       " '     45 //NAS-CHATEAU-CLA\\\\Work-Backups\\\\Code\\\\Repos - Essence/ansible/MySQLServer/roles/MYSQL/tasks/mysql_secure_installation.yml',\n",
       " '     25 //NAS-CHATEAU-CLA\\\\Work-Backups\\\\Code\\\\Repos - Essence/ansible/MySQLServer/roles/MYSQL/tasks/redhat.yml',\n",
       " '      3 //NAS-CHATEAU-CLA\\\\Work-Backups\\\\Code\\\\Repos - Essence/ansible/MySQLServer/roles/MYSQL/templates/my.cnf.j2',\n",
       " '      0 //NAS-CHATEAU-CLA\\\\Work-Backups\\\\Code\\\\Repos - Essence/ansible/MySQLServer/UserInput.yml',\n",
       " '      0 //NAS-CHATEAU-CLA\\\\Work-Backups\\\\Code\\\\Repos - Essence/ansible/NodeJS/templates/dummy.txt',\n",
       " '      4 //NAS-CHATEAU-CLA\\\\Work-Backups\\\\Code\\\\Repos - Essence/ansible/OpenKM_MySQL/ansible.cfg',\n",
       " '     22 //NAS-CHATEAU-CLA\\\\Work-Backups\\\\Code\\\\Repos - Essence/ansible/OpenKM_MySQL/inventory',\n",
       " '     29 //NAS-CHATEAU-CLA\\\\Work-Backups\\\\Code\\\\Repos - Essence/ansible/OpenKM_MySQL/main.yml',\n",
       " '     80 //NAS-CHATEAU-CLA\\\\Work-Backups\\\\Code\\\\Repos - Essence/ansible/OpenKM_MySQL/roles/openkm-cas/tasks/main.yml',\n",
       " '     52 //NAS-CHATEAU-CLA\\\\Work-Backups\\\\Code\\\\Repos - Essence/ansible/OpenKM_MySQL/roles/openkm-cas/templates/OpenKM.xml.j2',\n",
       " '     74 //NAS-CHATEAU-CLA\\\\Work-Backups\\\\Code\\\\Repos - Essence/ansible/OpenKM_MySQL/roles/openkm-ffc-configuration/tasks/main.yml',\n",
       " '      6 //NAS-CHATEAU-CLA\\\\Work-Backups\\\\Code\\\\Repos - Essence/ansible/OpenKM_MySQL/roles/openkm-ffc-configuration/templates/start_CommonParty.sh.j2',\n",
       " '      6 //NAS-CHATEAU-CLA\\\\Work-Backups\\\\Code\\\\Repos - Essence/ansible/OpenKM_MySQL/roles/openkm-ffc-configuration/templates/stop_CommonParty.sh.j2',\n",
       " '     16 //NAS-CHATEAU-CLA\\\\Work-Backups\\\\Code\\\\Repos - Essence/ansible/OpenKM_MySQL/roles/openkm-ffc-configuration/vars/main.yml',\n",
       " '     52 //NAS-CHATEAU-CLA\\\\Work-Backups\\\\Code\\\\Repos - Essence/ansible/OpenKM_MySQL/roles/openkm-installation-mysql/tasks/main.yml',\n",
       " '     29 //NAS-CHATEAU-CLA\\\\Work-Backups\\\\Code\\\\Repos - Essence/ansible/OpenKM_MySQL/roles/openkm-installation-mysql/templates/runInstaller.exp.j2',\n",
       " '      2 //NAS-CHATEAU-CLA\\\\Work-Backups\\\\Code\\\\Repos - Essence/ansible/OpenKM_MySQL/roles/openkm-installation-mysql/templates/script.sh.j2',\n",
       " '     17 //NAS-CHATEAU-CLA\\\\Work-Backups\\\\Code\\\\Repos - Essence/ansible/OpenKM_MySQL/roles/openkm-startup/tasks/main.yml',\n",
       " '     46 //NAS-CHATEAU-CLA\\\\Work-Backups\\\\Code\\\\Repos - Essence/ansible/OpenKM_MySQL/UserInput.yml',\n",
       " '      0 //NAS-CHATEAU-CLA\\\\Work-Backups\\\\Code\\\\Repos - Essence/ansible/oracle12c/roles/linux-oracle/files/dummy.txt',\n",
       " '      0 //NAS-CHATEAU-CLA\\\\Work-Backups\\\\Code\\\\Repos - Essence/ansible/oracle12c/roles/linux-oracle/tasks/dummy.txt',\n",
       " '      0 //NAS-CHATEAU-CLA\\\\Work-Backups\\\\Code\\\\Repos - Essence/ansible/oracle12c/roles/linux-oracle/vars/dummy.txt',\n",
       " '      0 //NAS-CHATEAU-CLA\\\\Work-Backups\\\\Code\\\\Repos - Essence/ansible/oracle12c/roles/oracle-install/files/dummy.txt',\n",
       " '      0 //NAS-CHATEAU-CLA\\\\Work-Backups\\\\Code\\\\Repos - Essence/ansible/oracle12c/roles/oracle-install/tasks/dummy.txt',\n",
       " '      0 //NAS-CHATEAU-CLA\\\\Work-Backups\\\\Code\\\\Repos - Essence/ansible/oracle12c/roles/oracle-install/templates/dummy.txt',\n",
       " '      0 //NAS-CHATEAU-CLA\\\\Work-Backups\\\\Code\\\\Repos - Essence/ansible/oracle12c/roles/oracle-install/vars/dummy.txt',\n",
       " '      0 //NAS-CHATEAU-CLA\\\\Work-Backups\\\\Code\\\\Repos - Essence/ansible/Tomcat/dummy.txt']"
      ]
     },
     "execution_count": 38,
     "metadata": {},
     "output_type": "execute_result"
    }
   ],
   "source": [
    "errors"
   ]
  },
  {
   "cell_type": "code",
   "execution_count": 29,
   "metadata": {
    "code_folding": []
   },
   "outputs": [
    {
     "name": "stdout",
     "output_type": "stream",
     "text": [
      "Cataloguing C:/Alex/Code/Essence/ansible...\n",
      "...done cataloguing C:/Alex/Code/Essence/ansible; found 328 artifacts, 0 ERRORS, and another 26 where safely ignored\n",
      "Cataloguing C:/Alex/Code/Essence/apirepos...\n",
      "...done cataloguing C:/Alex/Code/Essence/apirepos; found 271 artifacts, 0 ERRORS, and another 26 where safely ignored\n",
      "Cataloguing C:/Alex/Code/Essence/cbsrepos...\n",
      "...done cataloguing C:/Alex/Code/Essence/cbsrepos; found 40270 artifacts, 0 ERRORS, and another 241 where safely ignored\n",
      "Cataloguing C:/Alex/Code/Essence/fbprepos...\n",
      "...done cataloguing C:/Alex/Code/Essence/fbprepos; found 50293 artifacts, 0 ERRORS, and another 303 where safely ignored\n",
      "Cataloguing C:/Alex/Code/Essence/ibrepos...\n",
      "...done cataloguing C:/Alex/Code/Essence/ibrepos; found 29508 artifacts, 0 ERRORS, and another 191 where safely ignored\n",
      "Cataloguing C:/Alex/Code/Essence/ipdrepos...\n",
      "...done cataloguing C:/Alex/Code/Essence/ipdrepos; found 1933 artifacts, 0 ERRORS, and another 34 where safely ignored\n",
      "Cataloguing C:/Alex/Code/Essence/lorepos...\n",
      "...done cataloguing C:/Alex/Code/Essence/lorepos; found 20111 artifacts, 0 ERRORS, and another 130 where safely ignored\n",
      "Cataloguing C:/Alex/Code/Essence/mapsrepos...\n",
      "...done cataloguing C:/Alex/Code/Essence/mapsrepos; found 16180 artifacts, 0 ERRORS, and another 130 where safely ignored\n",
      "Cataloguing C:/Alex/Code/Essence/partyrepos...\n",
      "...done cataloguing C:/Alex/Code/Essence/partyrepos; found 12522 artifacts, 0 ERRORS, and another 90 where safely ignored\n",
      "Cataloguing C:/Alex/Code/Essence/ssorepos...\n",
      "...done cataloguing C:/Alex/Code/Essence/ssorepos; found 69691 artifacts, 0 ERRORS, and another 440 where safely ignored\n",
      "Cataloguing C:/Alex/Code/Essence/t2trepos...\n",
      "...done cataloguing C:/Alex/Code/Essence/t2trepos; found 1134 artifacts, 0 ERRORS, and another 29 where safely ignored\n",
      "Cataloguing C:/Alex/Code/Essence/tellerrepos...\n",
      "...done cataloguing C:/Alex/Code/Essence/tellerrepos; found 26461 artifacts, 0 ERRORS, and another 185 where safely ignored\n",
      "Cataloguing C:/Alex/Code/Essence/toolsrepos...\n",
      "...done cataloguing C:/Alex/Code/Essence/toolsrepos; found 2465 artifacts, 0 ERRORS, and another 39 where safely ignored\n",
      "Cataloguing C:/Alex/Code/Essence/ubrepos...\n",
      "...done cataloguing C:/Alex/Code/Essence/ubrepos; found 84689 artifacts, 0 ERRORS, and another 485 where safely ignored\n"
     ]
    }
   ],
   "source": [
    "ERRORS_DICT,IGNORED_DICT = gitanalyzer.catalogueAllRepos(REPOS, ROOT_DATA_DIR, ROOT_GIT_DIR, \n",
    "                              package_folders   = PACKAGE_FOLDERS,\n",
    "                              artifact_families = ARTIFACT_FAMILIES, \n",
    "                              package_prefixes  = PACKAGE_PREFIXES)"
   ]
  },
  {
   "cell_type": "code",
   "execution_count": 24,
   "metadata": {},
   "outputs": [
    {
     "name": "stdout",
     "output_type": "stream",
     "text": [
      "Cataloguing c:/Alex/Code/EssenceModernization/fb-api...\n",
      "...done cataloguing c:/Alex/Code/EssenceModernization/fb-api; found 240 artifacts, 0 ERRORS, and another 26 where safely ignored\n",
      "Cataloguing c:/Alex/Code/EssenceModernization/fb-newux...\n",
      "...done cataloguing c:/Alex/Code/EssenceModernization/fb-newux; found 416 artifacts, 0 ERRORS, and another 26 where safely ignored\n",
      "Cataloguing c:/Alex/Code/EssenceModernization/ff-fusionreports...\n",
      "...done cataloguing c:/Alex/Code/EssenceModernization/ff-fusionreports; found 234 artifacts, 0 ERRORS, and another 26 where safely ignored\n"
     ]
    }
   ],
   "source": [
    "MODERNIZATION_REPOS = ['fb-api','fb-newux', 'ff-fusionreports'] # 'fb-newstack' takes hours, do it separately, when there's time\n",
    "MOD_ERRORS_DICT, MOD_IGNORED_DICT = gitanalyzer.catalogueAllRepos(MODERNIZATION_REPOS, ROOT_DATA_DIR, ROOT_GIT_MODERNIZATION_DIR, \n",
    "                              package_folders   = PACKAGE_FOLDERS,\n",
    "                              artifact_families = ARTIFACT_FAMILIES, \n",
    "                              package_prefixes  = PACKAGE_PREFIXES)"
   ]
  },
  {
   "cell_type": "code",
   "execution_count": null,
   "metadata": {},
   "outputs": [],
   "source": []
  },
  {
   "cell_type": "markdown",
   "metadata": {},
   "source": [
    "<h2>Load GIT logs</h2>"
   ]
  },
  {
   "cell_type": "code",
   "execution_count": 12,
   "metadata": {},
   "outputs": [],
   "source": [
    "MAX_COMMITS          = None\n",
    "#MAX_COMMITS          = 3\n",
    "AFTER_DATE           = '06/01/18'\n",
    "VOLATILITY_THRESHOLD = 10000"
   ]
  },
  {
   "cell_type": "code",
   "execution_count": 13,
   "metadata": {
    "code_folding": []
   },
   "outputs": [
    {
     "name": "stdout",
     "output_type": "stream",
     "text": [
      "Processing C:/Alex/Code/Essence/ansible...\n",
      "...done processing C:/Alex/Code/Essence/ansible\n",
      "Processing C:/Alex/Code/Essence/apirepos...\n",
      "...done processing C:/Alex/Code/Essence/apirepos\n",
      "Processing C:/Alex/Code/Essence/cbsrepos...\n",
      "...done processing C:/Alex/Code/Essence/cbsrepos\n",
      "Processing C:/Alex/Code/Essence/fbprepos...\n",
      "...done processing C:/Alex/Code/Essence/fbprepos\n",
      "Processing C:/Alex/Code/Essence/ibrepos...\n",
      "...done processing C:/Alex/Code/Essence/ibrepos\n",
      "Processing C:/Alex/Code/Essence/ipdrepos...\n",
      "...done processing C:/Alex/Code/Essence/ipdrepos\n",
      "Processing C:/Alex/Code/Essence/lorepos...\n",
      "...done processing C:/Alex/Code/Essence/lorepos\n",
      "Processing C:/Alex/Code/Essence/mapsrepos...\n",
      "...done processing C:/Alex/Code/Essence/mapsrepos\n",
      "Processing C:/Alex/Code/Essence/partyrepos...\n",
      "...done processing C:/Alex/Code/Essence/partyrepos\n",
      "Processing C:/Alex/Code/Essence/ssorepos...\n",
      "...done processing C:/Alex/Code/Essence/ssorepos\n",
      "Processing C:/Alex/Code/Essence/t2trepos...\n",
      "...done processing C:/Alex/Code/Essence/t2trepos\n",
      "Processing C:/Alex/Code/Essence/tellerrepos...\n",
      "...done processing C:/Alex/Code/Essence/tellerrepos\n",
      "Processing C:/Alex/Code/Essence/toolsrepos...\n",
      "...done processing C:/Alex/Code/Essence/toolsrepos\n",
      "Processing C:/Alex/Code/Essence/ubrepos...\n",
      "...done processing C:/Alex/Code/Essence/ubrepos\n"
     ]
    }
   ],
   "source": [
    "parser = gitanalyzer.parseLogsFromAllRepos(REPOS, ROOT_DATA_DIR, ROOT_GIT_DIR, \n",
    "                                  after_date           = AFTER_DATE,\n",
    "                                  max_commits          = MAX_COMMITS,\n",
    "                                  package_folders      = PACKAGE_FOLDERS,\n",
    "                                  artifact_families    = ARTIFACT_FAMILIES,\n",
    "                                  package_prefixes     = PACKAGE_PREFIXES,\n",
    "                                  volatility_threshold = VOLATILITY_THRESHOLD)"
   ]
  },
  {
   "cell_type": "code",
   "execution_count": 14,
   "metadata": {},
   "outputs": [
    {
     "data": {
      "text/plain": [
       "'git log --date=short --format=%Cred______START_COMMIT_RECORD______%Creset%nCommitId..........%H%nSubject...........%s%nAuthor............%an%nAuthor_email......%ae%nAuthor_date.......%ad%nCommitter.........%cn%nCommitter_email...%ce%nCommitter_date....%cd%nBody_Starts.......%b%nEnd_Body%nFiles_changed --stat --stat-width=450 --after=06/01/18'"
      ]
     },
     "execution_count": 14,
     "metadata": {},
     "output_type": "execute_result"
    }
   ],
   "source": [
    "parser.git_command"
   ]
  },
  {
   "cell_type": "code",
   "execution_count": 15,
   "metadata": {},
   "outputs": [
    {
     "name": "stdout",
     "output_type": "stream",
     "text": [
      "Processing c:/Alex/Code/EssenceModernization/fb-api...\n",
      "...done processing c:/Alex/Code/EssenceModernization/fb-api\n",
      "Processing c:/Alex/Code/EssenceModernization/fb-newux...\n",
      "...done processing c:/Alex/Code/EssenceModernization/fb-newux\n",
      "Processing c:/Alex/Code/EssenceModernization/ff-fusionreports...\n",
      "...there are no commits for c:/Alex/Code/EssenceModernization/ff-fusionreports; Nothing will be saved\n"
     ]
    }
   ],
   "source": [
    "#MODERNIZATION_REPOS = ['fb-api','fb-newux', 'ff-fusionreports', 'fb-newstack']\n",
    "MODERNIZATION_REPOS = ['fb-api','fb-newux', 'ff-fusionreports'] # 'fb-newstack' takes ~2 hours, do it separately, when there's time\n",
    "#MODERNIZATION_REPOS = ['fb-newstack'] # This will take ~2 few hours\n",
    "ROOT_GIT_MODERNIZATION_DIR = 'c:/Alex/Code/EssenceModernization'\n",
    "#ROOT_DATA_DIR = 'c:/Alex/Code/Essence/alex_analysis/data'\n",
    "mod_parser = gitanalyzer.parseLogsFromAllRepos(MODERNIZATION_REPOS, ROOT_DATA_DIR, ROOT_GIT_MODERNIZATION_DIR,\n",
    "                                  after_date           = AFTER_DATE,\n",
    "                                  max_commits          = MAX_COMMITS,\n",
    "                                  package_folders      = PACKAGE_FOLDERS,\n",
    "                                  artifact_families    = ARTIFACT_FAMILIES,\n",
    "                                  package_prefixes     = PACKAGE_PREFIXES,\n",
    "                                  volatility_threshold = VOLATILITY_THRESHOLD)"
   ]
  },
  {
   "cell_type": "code",
   "execution_count": null,
   "metadata": {},
   "outputs": [],
   "source": []
  }
 ],
 "metadata": {
  "kernelspec": {
   "display_name": "Python 3",
   "language": "python",
   "name": "python3"
  },
  "language_info": {
   "codemirror_mode": {
    "name": "ipython",
    "version": 3
   },
   "file_extension": ".py",
   "mimetype": "text/x-python",
   "name": "python",
   "nbconvert_exporter": "python",
   "pygments_lexer": "ipython3",
   "version": "3.7.3"
  }
 },
 "nbformat": 4,
 "nbformat_minor": 2
}
