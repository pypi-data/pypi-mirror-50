{
 "cells": [
  {
   "cell_type": "code",
   "execution_count": null,
   "metadata": {},
   "outputs": [],
   "source": [
    "from stable_baselines.common.policies import MlpLnLstmPolicy\n",
    "from stable_baselines.common.vec_env import DummyVecEnv\n",
    "from stable_baselines import PPO2\n",
    "\n",
    "import sys\n",
    "import os\n",
    "\n",
    "sys.path.append(os.path.dirname(os.path.abspath('')))\n",
    "\n",
    "from tensortrade.environments import TradingEnvironment\n",
    "from tensortrade.environments.actions.discrete import SimpleDiscreteStrategy\n",
    "from tensortrade.environments.rewards.simple import IncrementalProfitStrategy\n",
    "from tensortrade.exchanges.simulated import FBMExchange\n",
    "\n",
    "env = DummyVecEnv([lambda: TradingEnvironment(action_strategy=SimpleDiscreteStrategy(),\n",
    "                                              reward_strategy=IncrementalProfitStrategy(),\n",
    "                                              exchange=FBMExchange())])\n",
    "\n",
    "agent = PPO2(MlpLnLstmPolicy, env, verbose=1, nminibatches=1)\n",
    "\n",
    "agent.learn(7500)\n",
    "\n",
    "obs = env.reset()\n",
    "\n",
    "\n",
    "state = None\n",
    "exchange = None\n",
    "\n",
    "for _ in range(2500):\n",
    "    action, state = agent.predict(obs, state=state)\n",
    "    obs, reward , _, info = env.step(action)\n",
    "    \n",
    "    exchange = info[0]['exchange']\n",
    "    \n",
    "print('Trades: ', exchange.trades())\n",
    "print('Balance: ', exchange.balance()) \n",
    "print('Portfolio: ', exchange.portfolio()) \n",
    "print('P/L: ', exchange.profit_loss_percent())\n"
   ]
  },
  {
   "cell_type": "code",
   "execution_count": null,
   "metadata": {},
   "outputs": [],
   "source": []
  }
 ],
 "metadata": {
  "kernelspec": {
   "display_name": "Python 3",
   "language": "python",
   "name": "python3"
  },
  "language_info": {
   "codemirror_mode": {
    "name": "ipython",
    "version": 3
   },
   "file_extension": ".py",
   "mimetype": "text/x-python",
   "name": "python",
   "nbconvert_exporter": "python",
   "pygments_lexer": "ipython3",
   "version": "3.6.9"
  }
 },
 "nbformat": 4,
 "nbformat_minor": 2
}
