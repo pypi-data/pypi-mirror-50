{
 "cells": [
  {
   "cell_type": "markdown",
   "metadata": {},
   "source": [
    "## GemPy Sandbox Addon Tutorial\n"
   ]
  },
  {
   "cell_type": "markdown",
   "metadata": {},
   "source": [
    "The Sandbox addon to GemPyconsists in general of four classes:\n",
    "    - Kinect class: handles the aquisition of depth data \n",
    "    - Beamer class: handles the frame composition\n",
    "    - Calibration class: methods and variables to manage the relation of the sandbox, the beamer and the kinect sensor\n",
    "    - Model Class: stores the gempy model \n",
    "It is possible to have multiple instances of each class and you can construct a sandbox with multiple beamers and more than one kinect sensor. This tutorial however covers only the most simple case of a sandbox with a single kinect and beamer. Lets start with importing the required dependancies:"
   ]
  },
  {
   "cell_type": "code",
   "execution_count": 1,
   "metadata": {},
   "outputs": [
    {
     "name": "stderr",
     "output_type": "stream",
     "text": [
      "WARNING (theano.tensor.blas): Using NumPy C-API based implementation for BLAS functions.\n"
     ]
    }
   ],
   "source": [
    "import sys, os\n",
    "sys.path.append(\"../../..\")\n",
    "\n",
    "import gempy as gp\n",
    "import gempy.addons.sandbox as sb "
   ]
  },
  {
   "cell_type": "markdown",
   "metadata": {},
   "source": [
    "### Initialize Kinect\n",
    "To use the Kinect and the Sandbox addon you need The Freenect Drivers to be installed with Python wrappers (see here for Instructions:https://github.com/OpenKinect/libfreenect/tree/master/wrappers/python ) \n",
    "If you do not have a kinect connected you can use the Argument `dummy=True`  for testing. `Kinect.get_frame()` and `Kinect.get_filtered_frame()` will return a synthetic depth frame, other functions may not work"
   ]
  },
  {
   "cell_type": "code",
   "execution_count": 2,
   "metadata": {
    "run_control": {
     "marked": true
    }
   },
   "outputs": [
    {
     "name": "stdout",
     "output_type": "stream",
     "text": [
      "dummy mode. get_frame() will return a synthetic depth frame, other functions may not work\n"
     ]
    }
   ],
   "source": [
    "kinect=sb.Kinect(dummy=True)\n",
    "#kinect=sb.Kinect()"
   ]
  },
  {
   "cell_type": "code",
   "execution_count": 3,
   "metadata": {},
   "outputs": [],
   "source": [
    "import freenect\n",
    "import matplotlib.pyplot as plt"
   ]
  },
  {
   "cell_type": "code",
   "execution_count": 4,
   "metadata": {},
   "outputs": [],
   "source": [
    "#image = freenect.sync_get_video()[0]\n"
   ]
  },
  {
   "cell_type": "code",
   "execution_count": 5,
   "metadata": {},
   "outputs": [],
   "source": [
    "# n=5\n",
    "# name=\"test_frameb\"+str(n)+\".png\"\n",
    "# plt.imsave(name, image)\n"
   ]
  },
  {
   "cell_type": "code",
   "execution_count": 6,
   "metadata": {},
   "outputs": [
    {
     "name": "stdout",
     "output_type": "stream",
     "text": [
      "[[ 800.  803.  807. ...,  788.  792.  796.]\n",
      " [ 800.  803.  807. ...,  788.  792.  796.]\n",
      " [ 800.  803.  807. ...,  788.  792.  796.]\n",
      " ..., \n",
      " [ 800.  803.  807. ...,  788.  792.  796.]\n",
      " [ 800.  803.  807. ...,  788.  792.  796.]\n",
      " [ 800.  803.  807. ...,  788.  792.  796.]]\n"
     ]
    }
   ],
   "source": [
    "d=kinect.get_filtered_frame()\n",
    "print(d)"
   ]
  },
  {
   "cell_type": "markdown",
   "metadata": {},
   "source": [
    "## Initialize beamer \n",
    "create a beamer instance and set the correct native resolution of your beamer. Starting the stream will open a new window in your browser that shows the output and refreshs it in 100ms intervalls. In Chrome use Cmd+Shift+F to hide the Browser bar."
   ]
  },
  {
   "cell_type": "code",
   "execution_count": 7,
   "metadata": {},
   "outputs": [
    {
     "name": "stdout",
     "output_type": "stream",
     "text": [
      "calibration not provided or invalid. a new calibration was created.\n"
     ]
    }
   ],
   "source": [
    "beamer=sb.Beamer()"
   ]
  },
  {
   "cell_type": "code",
   "execution_count": 8,
   "metadata": {},
   "outputs": [],
   "source": [
    "beamer.resolution=(1920,1080)"
   ]
  },
  {
   "cell_type": "code",
   "execution_count": 9,
   "metadata": {},
   "outputs": [],
   "source": [
    "beamer.start_stream()"
   ]
  },
  {
   "cell_type": "markdown",
   "metadata": {},
   "source": [
    "## Calibration\n",
    "A calibration instance is automatically created with the beamer instance. Adjust the Values in the IpyWidget until your beamer window is in alignment with the topography in the sandbox. Calibration can be saved and loaded with `calibration.save()` and `calibration.load()`"
   ]
  },
  {
   "cell_type": "code",
   "execution_count": 10,
   "metadata": {},
   "outputs": [],
   "source": [
    "calibration=beamer.calibration"
   ]
  },
  {
   "cell_type": "code",
   "execution_count": 11,
   "metadata": {
    "scrolled": false
   },
   "outputs": [
    {
     "name": "stdout",
     "output_type": "stream",
     "text": [
      "no associated kinect specified, using last kinect instance created\n"
     ]
    },
    {
     "data": {
      "text/html": [
       "<p>Failed to display Jupyter Widget of type <code>interactive</code>.</p>\n",
       "<p>\n",
       "  If you're reading this message in the Jupyter Notebook or JupyterLab Notebook, it may mean\n",
       "  that the widgets JavaScript is still loading. If this message persists, it\n",
       "  likely means that the widgets JavaScript library is either not installed or\n",
       "  not enabled. See the <a href=\"https://ipywidgets.readthedocs.io/en/stable/user_install.html\">Jupyter\n",
       "  Widgets Documentation</a> for setup instructions.\n",
       "</p>\n",
       "<p>\n",
       "  If you're reading this message in another frontend (for example, a static\n",
       "  rendering on GitHub or <a href=\"https://nbviewer.jupyter.org/\">NBViewer</a>),\n",
       "  it may mean that your frontend doesn't currently support widgets.\n",
       "</p>\n"
      ],
      "text/plain": [
       "interactive(children=(IntSlider(value=0, continuous_update=False, description='rot_angle', max=180, min=-180), IntRangeSlider(value=(0, 640), continuous_update=False, description='x_lim', max=640), IntRangeSlider(value=(0, 480), continuous_update=False, description='y_lim', max=480), IntSlider(value=0, description='x_pos', max=800), IntSlider(value=0, description='y_pos', max=600), FloatSlider(value=1.0, continuous_update=False, description='scale_factor', max=4.0, min=0.1, step=0.01), IntRangeSlider(value=(800, 1400), continuous_update=False, description='z_range', max=2000, min=500), IntSlider(value=400, continuous_update=False, description='box_width', max=2000), IntSlider(value=300, continuous_update=False, description='box_height', max=2000), ToggleButton(value=False, description='display a legend', icon='check', tooltip='Description'), IntRangeSlider(value=(550, 799), continuous_update=False, description='legend_x_lim', max=800), IntRangeSlider(value=(500, 550), continuous_update=False, description='legend_y_lim', max=600), ToggleButton(value=False, description='display a profile area', icon='check', tooltip='Description'), IntRangeSlider(value=(750, 799), continuous_update=False, description='profile_x_lim', max=800), IntRangeSlider(value=(500, 599), continuous_update=False, description='profile_y_lim', max=600), ToggleButton(value=False, description='display a hot area for qr codes', icon='check', tooltip='Description'), IntRangeSlider(value=(750, 799), continuous_update=False, description='hot_x_lim', max=800), IntRangeSlider(value=(500, 599), continuous_update=False, description='hot_y_lim', max=600), ToggleButton(value=False, description='Close calibration', icon='check', tooltip='Description'), Output()), _dom_classes=('widget-interact',))"
      ]
     },
     "metadata": {},
     "output_type": "execute_result"
    }
   ],
   "source": [
    "calibration.create()\n",
    "#beamer.calibrate() #alternative commands, does the same.\n"
   ]
  },
  {
   "cell_type": "code",
   "execution_count": 12,
   "metadata": {},
   "outputs": [],
   "source": [
    "#calibration.save(calibration_file=\"calibration.dat\")"
   ]
  },
  {
   "cell_type": "code",
   "execution_count": 13,
   "metadata": {},
   "outputs": [],
   "source": [
    "calibration.load(calibration_file=\"sandbox_VRlab.dat\")"
   ]
  },
  {
   "cell_type": "code",
   "execution_count": 12,
   "metadata": {},
   "outputs": [
    {
     "data": {
      "text/plain": [
       "array([[ 800.,  803.,  807., ...,  788.,  792.,  796.],\n",
       "       [ 800.,  803.,  807., ...,  788.,  792.,  796.],\n",
       "       [ 800.,  803.,  807., ...,  788.,  792.,  796.],\n",
       "       ..., \n",
       "       [ 800.,  803.,  807., ...,  788.,  792.,  796.],\n",
       "       [ 800.,  803.,  807., ...,  788.,  792.,  796.],\n",
       "       [ 800.,  803.,  807., ...,  788.,  792.,  796.]])"
      ]
     },
     "execution_count": 12,
     "metadata": {},
     "output_type": "execute_result"
    }
   ],
   "source": [
    "kinect.get_frame()"
   ]
  },
  {
   "cell_type": "code",
   "execution_count": 13,
   "metadata": {},
   "outputs": [
    {
     "data": {
      "text/plain": [
       "<matplotlib.colorbar.Colorbar at 0x7f5bf5c2e4a8>"
      ]
     },
     "execution_count": 13,
     "metadata": {},
     "output_type": "execute_result"
    },
    {
     "data": {
      "image/png": "[encoded data removed]",
      "text/plain": [
       "<matplotlib.figure.Figure at 0x7f5bf5300cc0>"
      ]
     },
     "metadata": {},
     "output_type": "display_data"
    }
   ],
   "source": [
    "import matplotlib.pyplot as plt\n",
    "plt.imshow(kinect.depth[50:210, 110:378], cmap='viridis')\n",
    "plt.colorbar()"
   ]
  },
  {
   "cell_type": "code",
   "execution_count": 16,
   "metadata": {},
   "outputs": [
    {
     "data": {
      "text/plain": [
       "(50, 232)"
      ]
     },
     "execution_count": 16,
     "metadata": {},
     "output_type": "execute_result"
    }
   ],
   "source": [
    "calibration.calibration_data['y_lim']"
   ]
  },
  {
   "cell_type": "code",
   "execution_count": 17,
   "metadata": {
    "run_control": {
     "marked": true
    }
   },
   "outputs": [],
   "source": [
    "#import numpy as np\n",
    "#np.save(\"sand_velocity2\", kinect.depth[50:210, 110:378])"
   ]
  },
  {
   "cell_type": "markdown",
   "metadata": {},
   "source": [
    "## Create a model\n",
    "The sandbox can visualize any kind of Gempy model. Check out the other tutorials or this you6ube video [link] to learn how to create your own model.\n",
    "We use the model from Chapter 1:"
   ]
  },
  {
   "cell_type": "code",
   "execution_count": 14,
   "metadata": {},
   "outputs": [
    {
     "name": "stdout",
     "output_type": "stream",
     "text": [
      "Compiling theano function...\n",
      "Compilation Done!\n",
      "Level of Optimization:  fast_compile\n",
      "Device:  cpu\n",
      "Precision:  float32\n",
      "Number of faults:  1\n"
     ]
    }
   ],
   "source": [
    "geo_data = gp.create_data([0,2000,0,2000,0,2000],[30,30,30], \n",
    "                          path_o = os.pardir+\"/../input_data/tut_chapter1/simple_fault_model_orientations.csv\", # importing orientation (foliation) data\n",
    "                          path_i = os.pardir+\"/../input_data/tut_chapter1/simple_fault_model_points.csv\") # importing point-positional interface data\n",
    "\n",
    "gp.set_series(geo_data, {\"Fault_Series\":'Main_Fault', \n",
    "                         \"Strat_Series\": ('Sandstone_2','Siltstone',\n",
    "                                          'Shale', 'Sandstone_1')},\n",
    "                       order_series = [\"Fault_Series\", 'Strat_Series'],\n",
    "                       order_formations=['Main_Fault', \n",
    "                                         'Sandstone_2','Siltstone',\n",
    "                                         'Shale', 'Sandstone_1',\n",
    "                                         ], verbose=0) \n",
    "\n",
    "interp_data = gp.InterpolatorData(geo_data, \n",
    "                                  output='geology', compile_theano=True,\n",
    "                                  theano_optimizer='fast_compile',\n",
    "                                  verbose=[])"
   ]
  },
  {
   "cell_type": "markdown",
   "metadata": {},
   "source": [
    "## Prepare the model for the sandbox\n",
    "The Interpolator object we just created is what defines the model in the sandbox.\n",
    "First we create a Model instance out of it, then we perform some steps to prepare the Model for the Sandbox."
   ]
  },
  {
   "cell_type": "code",
   "execution_count": 15,
   "metadata": {},
   "outputs": [],
   "source": [
    "import threading\n",
    "    \n",
    "lock = threading.Lock()"
   ]
  },
  {
   "cell_type": "code",
   "execution_count": 16,
   "metadata": {},
   "outputs": [
    {
     "name": "stdout",
     "output_type": "stream",
     "text": [
      "no calibration specified, using last calibration instance created\n"
     ]
    }
   ],
   "source": [
    "model=sb.Model(interp_data, lock=lock)\n"
   ]
  },
  {
   "cell_type": "code",
   "execution_count": 17,
   "metadata": {},
   "outputs": [
    {
     "name": "stdout",
     "output_type": "stream",
     "text": [
      "Aspect ratio of the model is fixed in XY\n",
      "Model size is limited by Y dimension\n",
      "scale in Model units/ mm (X,Y,Z): [4.166666666666667, 4.166666666666667, 3.3333333333333335]\n"
     ]
    }
   ],
   "source": [
    "model.calculate_scales()\n",
    "model.create_empty_depth_grid()\n",
    "\n",
    "#model.setup(start_stream=False) #conveniently, the steps above are performed automatically when calling this function"
   ]
  },
  {
   "cell_type": "markdown",
   "metadata": {},
   "source": [
    "## Run Sandbox\n",
    "Our Sandbox is now set up and ready to go. \n",
    "You can start the runloop with a simple command:"
   ]
  },
  {
   "cell_type": "code",
   "execution_count": 18,
   "metadata": {},
   "outputs": [],
   "source": [
    "\n",
    "t = threading.Thread(target=sb.run_model, args=(model,), daemon=None)"
   ]
  },
  {
   "cell_type": "code",
   "execution_count": 19,
   "metadata": {},
   "outputs": [],
   "source": [
    "t.start()"
   ]
  },
  {
   "cell_type": "code",
   "execution_count": 40,
   "metadata": {},
   "outputs": [
    {
     "data": {
      "text/plain": [
       "False"
      ]
     },
     "execution_count": 40,
     "metadata": {},
     "output_type": "execute_result"
    }
   ],
   "source": [
    "t.isAlive()"
   ]
  },
  {
   "cell_type": "code",
   "execution_count": 21,
   "metadata": {},
   "outputs": [],
   "source": [
    "vtk_plot = gp.plotting.vtkPlot(geo_data, lock=lock)"
   ]
  },
  {
   "cell_type": "code",
   "execution_count": 26,
   "metadata": {},
   "outputs": [],
   "source": [
    "vtk_plot.close()"
   ]
  },
  {
   "cell_type": "code",
   "execution_count": 22,
   "metadata": {},
   "outputs": [
    {
     "name": "stdout",
     "output_type": "stream",
     "text": [
      "holding... Use vtk.resume to go back to the interactive window\n"
     ]
    }
   ],
   "source": [
    "vtk_plot.plot_surfaces_3D_real_time(interp_data)"
   ]
  },
  {
   "cell_type": "code",
   "execution_count": 24,
   "metadata": {},
   "outputs": [
    {
     "name": "stderr",
     "output_type": "stream",
     "text": [
      "Exception in thread Thread-12:\n",
      "Traceback (most recent call last):\n",
      "  File \"/home/miguel/anaconda3/lib/python3.6/threading.py\", line 916, in _bootstrap_inner\n",
      "    self.run()\n",
      "  File \"/home/miguel/anaconda3/lib/python3.6/threading.py\", line 864, in run\n",
      "    self._target(*self._args, **self._kwargs)\n",
      "  File \"../../../gempy/addons/sandbox.py\", line 555, in run_model\n",
      "    raise Exception('Threat stopped')\n",
      "Exception: Threat stopped\n",
      "\n"
     ]
    }
   ],
   "source": [
    "model.stop_threat=True"
   ]
  },
  {
   "cell_type": "code",
   "execution_count": 23,
   "metadata": {
    "scrolled": false
   },
   "outputs": [
    {
     "data": {
      "text/html": [
       "<p>Failed to display Jupyter Widget of type <code>QgridWidget</code>.</p>\n",
       "<p>\n",
       "  If you're reading this message in the Jupyter Notebook or JupyterLab Notebook, it may mean\n",
       "  that the widgets JavaScript is still loading. If this message persists, it\n",
       "  likely means that the widgets JavaScript library is either not installed or\n",
       "  not enabled. See the <a href=\"https://ipywidgets.readthedocs.io/en/stable/user_install.html\">Jupyter\n",
       "  Widgets Documentation</a> for setup instructions.\n",
       "</p>\n",
       "<p>\n",
       "  If you're reading this message in another frontend (for example, a static\n",
       "  rendering on GitHub or <a href=\"https://nbviewer.jupyter.org/\">NBViewer</a>),\n",
       "  it may mean that your frontend doesn't currently support widgets.\n",
       "</p>\n"
      ],
      "text/plain": [
       "QgridWidget(grid_options={'fullWidthRows': True, 'syncColumnCellResize': True, 'forceFitColumns': True, 'defaultColumnWidth': 150, 'rowHeight': 28, 'enableColumnReorder': False, 'enableTextSelectionOnCells': True, 'editable': True, 'autoEdit': False, 'explicitInitialization': True, 'maxVisibleRows': 15, 'minVisibleRows': 8, 'sortable': True, 'filterable': True, 'highlightSelectedCell': False, 'highlightSelectedRow': True}, precision=5, show_toolbar=True)"
      ]
     },
     "metadata": {},
     "output_type": "execute_result"
    }
   ],
   "source": [
    "vtk_plot.observe_df(geo_data, 'interfaces')"
   ]
  },
  {
   "cell_type": "code",
   "execution_count": 35,
   "metadata": {},
   "outputs": [
    {
     "name": "stderr",
     "output_type": "stream",
     "text": [
      "Exception in thread Thread-13:\n",
      "Traceback (most recent call last):\n",
      "  File \"/home/miguel/anaconda3/lib/python3.6/threading.py\", line 916, in _bootstrap_inner\n",
      "    self.run()\n",
      "  File \"/home/miguel/anaconda3/lib/python3.6/threading.py\", line 864, in run\n",
      "    self._target(*self._args, **self._kwargs)\n",
      "  File \"../../../gempy/plotting/plot.py\", line 183, in plot_surfaces_3D_real_time\n",
      "    self.vv.set_interfaces()\n",
      "  File \"../../../gempy/plotting/visualization.py\", line 934, in set_interfaces\n",
      "    n_sphere=e, n_render=3, n_index=index))\n",
      "  File \"../../../gempy/plotting/visualization.py\", line 796, in create_sphere\n",
      "    s.SetInteractor(self.interactor)\n",
      "AttributeError: 'vtkVisualization' object has no attribute 'interactor'\n",
      "\n"
     ]
    },
    {
     "name": "stdout",
     "output_type": "stream",
     "text": [
      "holding... Use vtk.resume to go back to the interactive window\n"
     ]
    },
    {
     "name": "stderr",
     "output_type": "stream",
     "text": [
      "Exception in thread Thread-12:\n",
      "Traceback (most recent call last):\n",
      "  File \"/home/miguel/anaconda3/lib/python3.6/threading.py\", line 916, in _bootstrap_inner\n",
      "    self.run()\n",
      "  File \"/home/miguel/anaconda3/lib/python3.6/threading.py\", line 864, in run\n",
      "    self._target(*self._args, **self._kwargs)\n",
      "  File \"../../../gempy/addons/sandbox.py\", line 553, in run_model\n",
      "    beamer.show(input=\"current_frame.png\")\n",
      "  File \"../../../gempy/addons/sandbox.py\", line 175, in show\n",
      "    if self.calibration.calibration_data['legend_area'] is not False:\n",
      "KeyError: 'legend_area'\n",
      "\n"
     ]
    },
    {
     "data": {
      "image/png": "[encoded data removed]",
      "text/plain": [
       "<matplotlib.figure.Figure at 0x7f58b8685400>"
      ]
     },
     "metadata": {},
     "output_type": "display_data"
    }
   ],
   "source": [
    "vtk_plot.plot_surfaces_3D_real_time(interp_data)"
   ]
  },
  {
   "cell_type": "code",
   "execution_count": 36,
   "metadata": {},
   "outputs": [
    {
     "name": "stdout",
     "output_type": "stream",
     "text": [
      "closing vtk\n"
     ]
    }
   ],
   "source": [
    "vtk_plot.resume()"
   ]
  },
  {
   "cell_type": "code",
   "execution_count": 37,
   "metadata": {},
   "outputs": [],
   "source": [
    "vtk_plot.close()"
   ]
  },
  {
   "cell_type": "code",
   "execution_count": 38,
   "metadata": {},
   "outputs": [],
   "source": [
    "t = threading.Thread(target=sb.run_model, args=(model,), daemon=None)"
   ]
  },
  {
   "cell_type": "code",
   "execution_count": 39,
   "metadata": {},
   "outputs": [
    {
     "ename": "KeyError",
     "evalue": "'legend_area'",
     "traceback": [
      "\u001b[0;31m---------------------------------------------------------------------------\u001b[0m",
      "\u001b[0;31mKeyError\u001b[0m                                  Traceback (most recent call last)",
      "\u001b[0;32m<ipython-input-39-6e7b64bd4c4e>\u001b[0m in \u001b[0;36m<module>\u001b[0;34m()\u001b[0m\n\u001b[0;32m----> 1\u001b[0;31m \u001b[0msb\u001b[0m\u001b[0;34m.\u001b[0m\u001b[0mrun_model\u001b[0m\u001b[0;34m(\u001b[0m\u001b[0mmodel\u001b[0m\u001b[0;34m)\u001b[0m\u001b[0;34m\u001b[0m\u001b[0m\n\u001b[0m",
      "\u001b[0;32m~/PycharmProjects/gempy/gempy/addons/sandbox.py\u001b[0m in \u001b[0;36mrun_model\u001b[0;34m(model, calibration, kinect, beamer, filter_depth, n_frames, sigma_gauss)\u001b[0m\n\u001b[1;32m    551\u001b[0m         \u001b[0mmodel\u001b[0m\u001b[0;34m.\u001b[0m\u001b[0mupdate_grid\u001b[0m\u001b[0;34m(\u001b[0m\u001b[0mdepth\u001b[0m\u001b[0;34m)\u001b[0m\u001b[0;34m\u001b[0m\u001b[0m\n\u001b[1;32m    552\u001b[0m         \u001b[0mmodel\u001b[0m\u001b[0;34m.\u001b[0m\u001b[0mrender_frame\u001b[0m\u001b[0;34m(\u001b[0m\u001b[0moutfile\u001b[0m\u001b[0;34m=\u001b[0m\u001b[0;34m\"current_frame.png\"\u001b[0m\u001b[0;34m)\u001b[0m\u001b[0;34m\u001b[0m\u001b[0m\n\u001b[0;32m--> 553\u001b[0;31m         \u001b[0mbeamer\u001b[0m\u001b[0;34m.\u001b[0m\u001b[0mshow\u001b[0m\u001b[0;34m(\u001b[0m\u001b[0minput\u001b[0m\u001b[0;34m=\u001b[0m\u001b[0;34m\"current_frame.png\"\u001b[0m\u001b[0;34m)\u001b[0m\u001b[0;34m\u001b[0m\u001b[0m\n\u001b[0m\u001b[1;32m    554\u001b[0m         \u001b[0;32mif\u001b[0m \u001b[0mmodel\u001b[0m\u001b[0;34m.\u001b[0m\u001b[0mstop_threat\u001b[0m \u001b[0;32mis\u001b[0m \u001b[0;32mTrue\u001b[0m\u001b[0;34m:\u001b[0m\u001b[0;34m\u001b[0m\u001b[0m\n\u001b[1;32m    555\u001b[0m             \u001b[0;32mraise\u001b[0m \u001b[0mException\u001b[0m\u001b[0;34m(\u001b[0m\u001b[0;34m'Threat stopped'\u001b[0m\u001b[0;34m)\u001b[0m\u001b[0;34m\u001b[0m\u001b[0m\n",
      "\u001b[0;32m~/PycharmProjects/gempy/gempy/addons/sandbox.py\u001b[0m in \u001b[0;36mshow\u001b[0;34m(self, input, legend_frame, profile_frame, hot_frame)\u001b[0m\n\u001b[1;32m    173\u001b[0m         beamer_output.paste(frame.resize((int(frame.width * self.calibration.calibration_data['scale_factor']), int(frame.height * self.calibration.calibration_data['scale_factor']))),\n\u001b[1;32m    174\u001b[0m                             (self.calibration.calibration_data['x_pos'], self.calibration.calibration_data['y_pos']))\n\u001b[0;32m--> 175\u001b[0;31m         \u001b[0;32mif\u001b[0m \u001b[0mself\u001b[0m\u001b[0;34m.\u001b[0m\u001b[0mcalibration\u001b[0m\u001b[0;34m.\u001b[0m\u001b[0mcalibration_data\u001b[0m\u001b[0;34m[\u001b[0m\u001b[0;34m'legend_area'\u001b[0m\u001b[0;34m]\u001b[0m \u001b[0;32mis\u001b[0m \u001b[0;32mnot\u001b[0m \u001b[0;32mFalse\u001b[0m\u001b[0;34m:\u001b[0m\u001b[0;34m\u001b[0m\u001b[0m\n\u001b[0m\u001b[1;32m    176\u001b[0m             \u001b[0mlegend\u001b[0m\u001b[0;34m=\u001b[0m\u001b[0mImage\u001b[0m\u001b[0;34m.\u001b[0m\u001b[0mopen\u001b[0m\u001b[0;34m(\u001b[0m\u001b[0mlegend_frame\u001b[0m\u001b[0;34m)\u001b[0m\u001b[0;34m\u001b[0m\u001b[0m\n\u001b[1;32m    177\u001b[0m             \u001b[0mbeamer_output\u001b[0m\u001b[0;34m.\u001b[0m\u001b[0mpaste\u001b[0m\u001b[0;34m(\u001b[0m\u001b[0mlegend\u001b[0m\u001b[0;34m,\u001b[0m \u001b[0;34m(\u001b[0m\u001b[0mself\u001b[0m\u001b[0;34m.\u001b[0m\u001b[0mcalibration\u001b[0m\u001b[0;34m.\u001b[0m\u001b[0mcalibration_data\u001b[0m\u001b[0;34m[\u001b[0m\u001b[0;34m'legend_x_lim'\u001b[0m\u001b[0;34m]\u001b[0m\u001b[0;34m[\u001b[0m\u001b[0;36m0\u001b[0m\u001b[0;34m]\u001b[0m\u001b[0;34m,\u001b[0m\u001b[0mself\u001b[0m\u001b[0;34m.\u001b[0m\u001b[0mcalibration\u001b[0m\u001b[0;34m.\u001b[0m\u001b[0mcalibration_data\u001b[0m\u001b[0;34m[\u001b[0m\u001b[0;34m'legend_y_lim'\u001b[0m\u001b[0;34m]\u001b[0m\u001b[0;34m[\u001b[0m\u001b[0;36m0\u001b[0m\u001b[0;34m]\u001b[0m\u001b[0;34m)\u001b[0m\u001b[0;34m)\u001b[0m\u001b[0;34m\u001b[0m\u001b[0m\n",
      "\u001b[0;31mKeyError\u001b[0m: 'legend_area'"
     ],
     "output_type": "error"
    }
   ],
   "source": [
    "sb.run_model(model)"
   ]
  },
  {
   "cell_type": "markdown",
   "metadata": {},
   "source": [
    "by default the depth data is filtered and smoothed to get clearer and less noisy layer boundaries.  If you need more control or want to play around you can also define your own run loops:\n",
    "    "
   ]
  },
  {
   "cell_type": "code",
   "execution_count": null,
   "metadata": {},
   "outputs": [],
   "source": [
    "while True:\n",
    "    depth = kin.get_frame()\n",
    "    model.update_grid(depth)\n",
    "    model.render_frame(outfile=\"current_frame.png\")\n",
    "    beamer.show(input=\"current_frame.png\")"
   ]
  },
  {
   "cell_type": "code",
   "execution_count": null,
   "metadata": {},
   "outputs": [],
   "source": [
    "while True:\n",
    "    depth = kin.get_filtered_frame(n_frames=10, sigma_gauss=2)\n",
    "    model.update_grid(depth)\n",
    "    model.render_frame(outfile=\"current_frame.png\")\n",
    "    beamer.show(input=\"current_frame.png\")"
   ]
  }
 ],
 "metadata": {
  "kernelspec": {
   "display_name": "Python 3",
   "language": "python",
   "name": "python3"
  },
  "language_info": {
   "codemirror_mode": {
    "name": "ipython",
    "version": 3
   },
   "file_extension": ".py",
   "mimetype": "text/x-python",
   "name": "python",
   "nbconvert_exporter": "python",
   "pygments_lexer": "ipython3",
   "version": "3.6.3"
  },
  "latex_envs": {
   "LaTeX_envs_menu_present": true,
   "autocomplete": true,
   "bibliofile": "biblio.bib",
   "cite_by": "apalike",
   "current_citInitial": 1.0,
   "eqLabelWithNumbers": true,
   "eqNumInitial": 1.0,
   "hotkeys": {
    "equation": "Ctrl-E",
    "itemize": "Ctrl-I"
   },
   "labels_anchors": false,
   "latex_user_defs": false,
   "report_style_numbering": false,
   "user_envs_cfg": false
  },
  "toc": {
   "colors": {
    "hover_highlight": "#DAA520",
    "running_highlight": "#FF0000",
    "selected_highlight": "#FFD700"
   },
   "moveMenuLeft": true,
   "nav_menu": {
    "height": "142px",
    "width": "252px"
   },
   "navigate_menu": true,
   "number_sections": true,
   "sideBar": true,
   "threshold": 4.0,
   "toc_cell": false,
   "toc_section_display": "block",
   "toc_window_display": false,
   "widenNotebook": false
  }
 },
 "nbformat": 4,
 "nbformat_minor": 2
}
