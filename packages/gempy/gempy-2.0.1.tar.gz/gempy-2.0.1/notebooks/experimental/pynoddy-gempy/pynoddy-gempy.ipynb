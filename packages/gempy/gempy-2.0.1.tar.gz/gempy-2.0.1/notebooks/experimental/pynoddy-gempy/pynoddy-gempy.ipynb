{
 "cells": [
  {
   "cell_type": "code",
   "execution_count": 1,
   "metadata": {
    "collapsed": true
   },
   "outputs": [],
   "source": [
    "import numpy as np\n",
    "import matplotlib.pyplot as plt\n",
    "%matplotlib inline\n",
    "plt.style.use(\"seaborn-colorblind\")\n",
    "\n",
    "import sys\n",
    "import pandas as pn\n",
    "sys.path.append(\"../pynoddy\")\n",
    "\n",
    "import pynoddy\n",
    "import pynoddy.history\n",
    "import pynoddy.output\n",
    "import pynoddy.events\n",
    "import pynoddy.experiment\n",
    "\n",
    "import importlib\n",
    "\n",
    "sys.path.append(\"../gempy\")\n",
    "\n",
    "import gempy as gp"
   ]
  },
  {
   "cell_type": "code",
   "execution_count": 2,
   "metadata": {
    "collapsed": true
   },
   "outputs": [],
   "source": [
    "cs = 25.\n",
    "history = \"m1.his\"\n",
    "output = \"m1_out\""
   ]
  },
  {
   "cell_type": "code",
   "execution_count": 22,
   "metadata": {
    "collapsed": true
   },
   "outputs": [],
   "source": [
    "nm = pynoddy.history.NoddyHistory()\n",
    "# set model extent\n",
    "nm.set_extent(3000.,3000,2000.)\n",
    "# set model origin x,y,z\n",
    "nm.set_origin(0.,0.,2000.)\n",
    "# set model cube size\n",
    "nm.change_cube_size(cs)\n",
    "\n",
    "# stratigraphic event\n",
    "strati_options = {\n",
    "    'num_layers' : 6,\n",
    "    'layer_names' : ['6','5','4','3','2','1'],\n",
    "    'layer_thickness' : [0, 100, 300,300,300,300]\n",
    "}\n",
    "nm.add_event('stratigraphy', strati_options)\n",
    "\n",
    "# tilt event\n",
    "tilt_options = {\n",
    "    \"name\": \"tilt1\",\n",
    "    \"pos\": (1500,0,1000),\n",
    "    \"rotation\": -15.,\n",
    "    \"plunge_direction\": 0.,\n",
    "    \"plunge\": 0.\n",
    "}\n",
    "# nm.add_event(\"tilt\", tilt_options)\n",
    "\n",
    "# for i in [250,400,550,700]:\n",
    "\n",
    "fold_options = {\n",
    "    \"name\": \"fold1\",\n",
    "    \"pos\": (750,0,2000),\n",
    "    \"amplitude\": 250.,\n",
    "    \"wavelength\": 3000.,\n",
    "}\n",
    "nm.add_event(\"fold\", fold_options)\n",
    "\n",
    "fold2_options = {\n",
    "    \"name\": \"fold2\",\n",
    "    \"pos\": (0,2250,2000),\n",
    "    \"dip direction\": 180,\n",
    "    \"amplitude\": 250.,\n",
    "    \"wavelength\": 3000.,\n",
    "}\n",
    "nm.add_event(\"fold\", fold2_options)\n",
    "\n",
    "# fault event\n",
    "fault_options = {\n",
    "    \"name\": \"fault1\",\n",
    "    \"pos\": (1000,0,2000),\n",
    "    \"slip\": 400.,\n",
    "    \"dip_dir\": 90.,\n",
    "    \"dip\": 50.\n",
    "}\n",
    "# nm.add_event(\"fault\", fault_options)\n",
    "\n",
    "# write history file\n",
    "nm.write_history(history)"
   ]
  },
  {
   "cell_type": "code",
   "execution_count": 23,
   "metadata": {
    "collapsed": true
   },
   "outputs": [],
   "source": [
    "m1_ex = pynoddy.experiment.Experiment(history)\n",
    "m1_ex.set_event_params({3: {\"Dip Direction\": 180.}})"
   ]
  },
  {
   "cell_type": "code",
   "execution_count": 5,
   "metadata": {},
   "outputs": [
    {
     "data": {
      "text/plain": [
       "''"
      ]
     },
     "execution_count": 5,
     "metadata": {},
     "output_type": "execute_result"
    }
   ],
   "source": [
    "output_name = \"noddy_temp\"\n",
    "# nh = pynoddy.history.NoddyHistory(history)\n",
    "pynoddy.compute_model(history, output_name, sim_type=\"TOPOLOGY\")"
   ]
  },
  {
   "cell_type": "code",
   "execution_count": 7,
   "metadata": {},
   "outputs": [],
   "source": [
    "nfb = pynoddy.experiment.load_noddy_fault_block((120, 120, 80), output_name)"
   ]
  },
  {
   "cell_type": "code",
   "execution_count": 8,
   "metadata": {},
   "outputs": [],
   "source": [
    "fault_interf = pynoddy.experiment.export_fault_interface_gempy(nfb, [55, 85], [50], fault=[0], cs=25)"
   ]
  },
  {
   "cell_type": "code",
   "execution_count": 24,
   "metadata": {},
   "outputs": [
    {
     "data": {
      "image/png": "[encoded data removed]",
      "text/plain": [
       "<matplotlib.figure.Figure at 0x279c22e60f0>"
      ]
     },
     "metadata": {},
     "output_type": "display_data"
    }
   ],
   "source": [
    "m1_ex.plot_section(direction=\"y\")"
   ]
  },
  {
   "cell_type": "code",
   "execution_count": 25,
   "metadata": {},
   "outputs": [
    {
     "data": {
      "image/png": "[encoded data removed]",
      "text/plain": [
       "<matplotlib.figure.Figure at 0x279c355ee10>"
      ]
     },
     "metadata": {},
     "output_type": "display_data"
    }
   ],
   "source": [
    "m1_ex.plot_section(direction=\"x\")"
   ]
  },
  {
   "cell_type": "code",
   "execution_count": 26,
   "metadata": {},
   "outputs": [],
   "source": [
    "x = np.arange(0, 3000, 500)\n",
    "y = np.arange(0, 3000, 500)"
   ]
  },
  {
   "cell_type": "code",
   "execution_count": 27,
   "metadata": {
    "collapsed": true
   },
   "outputs": [],
   "source": [
    "dip_x = np.arange(250, 3000, 500)\n",
    "dip_y = np.arange(250, 3000, 500)"
   ]
  },
  {
   "cell_type": "code",
   "execution_count": 28,
   "metadata": {},
   "outputs": [],
   "source": [
    "xs = [250, 1500, 2750]\n",
    "ys = [250, 1500, 2750]"
   ]
  },
  {
   "cell_type": "code",
   "execution_count": 29,
   "metadata": {},
   "outputs": [
    {
     "data": {
      "text/plain": [
       "<matplotlib.collections.PathCollection at 0x279d1d6fc50>"
      ]
     },
     "execution_count": 29,
     "metadata": {},
     "output_type": "execute_result"
    },
    {
     "data": {
      "image/png": "[encoded data removed]",
      "text/plain": [
       "<matplotlib.figure.Figure at 0x279d1ce4f98>"
      ]
     },
     "metadata": {},
     "output_type": "display_data"
    }
   ],
   "source": [
    "X, Y = np.meshgrid(xs, ys)\n",
    "dip_X, dip_Y = np.meshgrid(xs, ys)\n",
    "\n",
    "plt.scatter(X, Y)\n",
    "plt.scatter(dip_X, dip_Y, color=\"red\")"
   ]
  },
  {
   "cell_type": "markdown",
   "metadata": {},
   "source": [
    "# Foliation Data"
   ]
  },
  {
   "cell_type": "code",
   "execution_count": 30,
   "metadata": {},
   "outputs": [],
   "source": [
    "fols = []\n",
    "\n",
    "for x in xs:\n",
    "    for y in ys:\n",
    "        #for l in range(2):\n",
    "        l = 2\n",
    "        fols.append(m1_ex.export_foliation_gempy(x, y, l))\n",
    "            \n",
    "foliations = fols[0]\n",
    "for fol in fols[1:]:\n",
    "    foliations = foliations.append(fol, ignore_index=True)\n",
    "    \n",
    "foliations.to_csv(\"example_2_folds_foliations.csv\")"
   ]
  },
  {
   "cell_type": "markdown",
   "metadata": {},
   "source": [
    "# Points Data"
   ]
  },
  {
   "cell_type": "code",
   "execution_count": 31,
   "metadata": {},
   "outputs": [
    {
     "name": "stdout",
     "output_type": "stream",
     "text": [
      "250 250\n",
      "250 1500\n",
      "250 2750\n",
      "1500 250\n",
      "1500 1500\n",
      "1500 2750\n",
      "2750 250\n",
      "2750 1500\n",
      "2750 2750\n"
     ]
    }
   ],
   "source": [
    "combo = []\n",
    "for a in xs:\n",
    "    for b in ys:\n",
    "        print(a, b)\n",
    "        combo.append((a,b))"
   ]
  },
  {
   "cell_type": "code",
   "execution_count": 32,
   "metadata": {},
   "outputs": [],
   "source": [
    "XS, YS = list(zip(*combo))"
   ]
  },
  {
   "cell_type": "code",
   "execution_count": null,
   "metadata": {},
   "outputs": [],
   "source": []
  },
  {
   "cell_type": "code",
   "execution_count": 33,
   "metadata": {},
   "outputs": [],
   "source": [
    "points = m1_ex.export_interfaces_gempy(XS, YS, layers=list(range(2,7)))\n",
    "\n",
    "points.to_csv(\"example_2_folds_interfaces.csv\")"
   ]
  },
  {
   "cell_type": "code",
   "execution_count": null,
   "metadata": {
    "collapsed": true
   },
   "outputs": [],
   "source": []
  },
  {
   "cell_type": "code",
   "execution_count": null,
   "metadata": {
    "collapsed": true
   },
   "outputs": [],
   "source": []
  },
  {
   "cell_type": "code",
   "execution_count": 34,
   "metadata": {},
   "outputs": [],
   "source": [
    "geo_data = gp.create_data([0,3000,0,3000,0,2000],[50,50,50],\n",
    "                         path_f = \"example_2_folds_foliations.csv\",\n",
    "                         path_i = \"example_2_folds_interfaces.csv\")"
   ]
  },
  {
   "cell_type": "raw",
   "metadata": {},
   "source": [
    "geo_data.interfaces = geo_data.interfaces.append(fault_interf, ignore_index=True)"
   ]
  },
  {
   "cell_type": "code",
   "execution_count": null,
   "metadata": {},
   "outputs": [],
   "source": []
  },
  {
   "cell_type": "code",
   "execution_count": 35,
   "metadata": {},
   "outputs": [
    {
     "data": {
      "text/plain": [
       "<gempy.sequential_pile.StratigraphicPile at 0x279c5bd73c8>"
      ]
     },
     "execution_count": 35,
     "metadata": {},
     "output_type": "execute_result"
    },
    {
     "data": {
      "image/png": "[encoded data removed]",
      "text/plain": [
       "<matplotlib.figure.Figure at 0x279d01d6048>"
      ]
     },
     "metadata": {},
     "output_type": "display_data"
    }
   ],
   "source": [
    "gp.set_series(geo_data, {'Default serie': ('Layer 2', 'Layer 3', 'Layer 4', 'Layer 5', 'Layer 6')},# , \"Fault 0\": (\"Fault 0\")},\n",
    "              order_formations= ['Layer 2', 'Layer 3', 'Layer 4', 'Layer 5', 'Layer 6'])#, 'Fault 0'], verbose=2)"
   ]
  },
  {
   "cell_type": "code",
   "execution_count": 36,
   "metadata": {},
   "outputs": [],
   "source": [
    "\n",
    "#fp_2 = pn.DataFrame([1000, 1500, 1750, \"fault1\", \"fault1\"], columns=['X', 'Y', 'Z', 'formation', 'series'])\n",
    "#ff_1 = "
   ]
  },
  {
   "cell_type": "code",
   "execution_count": 37,
   "metadata": {},
   "outputs": [],
   "source": [
    "geo_data.foliations.dropna(inplace=True)"
   ]
  },
  {
   "cell_type": "code",
   "execution_count": 38,
   "metadata": {},
   "outputs": [
    {
     "data": {
      "image/png": "[encoded data removed]",
      "text/plain": [
       "<matplotlib.figure.Figure at 0x279ccc63b00>"
      ]
     },
     "metadata": {},
     "output_type": "display_data"
    }
   ],
   "source": [
    "gp.plot_data(geo_data, direction=\"y\")"
   ]
  },
  {
   "cell_type": "code",
   "execution_count": 39,
   "metadata": {},
   "outputs": [
    {
     "name": "stdout",
     "output_type": "stream",
     "text": [
      "Level of Optimization:  fast_compile\n",
      "Device:  cpu\n",
      "Precision:  float64\n"
     ]
    }
   ],
   "source": [
    "interp_data = gp.InterpolatorInput(geo_data, dtype='float64')"
   ]
  },
  {
   "cell_type": "code",
   "execution_count": 40,
   "metadata": {},
   "outputs": [],
   "source": [
    "lb, fb = gp.compute_model(interp_data)"
   ]
  },
  {
   "cell_type": "code",
   "execution_count": 41,
   "metadata": {
    "collapsed": true
   },
   "outputs": [
    {
     "data": {
      "text/plain": [
       "<gempy.Visualization.vtkVisualization at 0x279cfb86c18>"
      ]
     },
     "execution_count": 41,
     "metadata": {},
     "output_type": "execute_result"
    }
   ],
   "source": [
    "v, s = gp.get_surfaces(interp_data, potential_lith=lb[1])\n",
    "gp.plot_surfaces_3D(geo_data, v, s)"
   ]
  },
  {
   "cell_type": "code",
   "execution_count": 96,
   "metadata": {},
   "outputs": [
    {
     "data": {
      "text/plain": [
       "<module 'gempy.Visualization' from '../gempy\\\\gempy\\\\Visualization.py'>"
      ]
     },
     "execution_count": 96,
     "metadata": {},
     "output_type": "execute_result"
    }
   ],
   "source": [
    "import importlib\n",
    "importlib.reload(gp.Visualization)"
   ]
  },
  {
   "cell_type": "code",
   "execution_count": 90,
   "metadata": {},
   "outputs": [
    {
     "ename": "ModuleNotFoundError",
     "evalue": "No module named 'evtk'",
     "traceback": [
      "\u001b[1;31m---------------------------------------------------------------------------\u001b[0m",
      "\u001b[1;31mModuleNotFoundError\u001b[0m                       Traceback (most recent call last)",
      "\u001b[1;32m<ipython-input-90-63eeb34c41c4>\u001b[0m in \u001b[0;36m<module>\u001b[1;34m()\u001b[0m\n\u001b[1;32m----> 1\u001b[1;33m \u001b[0mgp\u001b[0m\u001b[1;33m.\u001b[0m\u001b[0mexport_to_vtk\u001b[0m\u001b[1;33m(\u001b[0m\u001b[0mgeo_data\u001b[0m\u001b[1;33m,\u001b[0m \u001b[0mpath\u001b[0m\u001b[1;33m=\u001b[0m\u001b[1;34m\"vtk_test_export\"\u001b[0m\u001b[1;33m,\u001b[0m \u001b[0mlith_block\u001b[0m\u001b[1;33m=\u001b[0m\u001b[0mlb\u001b[0m\u001b[1;33m,\u001b[0m \u001b[0mvertices\u001b[0m\u001b[1;33m=\u001b[0m\u001b[0mv\u001b[0m\u001b[1;33m,\u001b[0m \u001b[0msimplices\u001b[0m\u001b[1;33m=\u001b[0m\u001b[0ms\u001b[0m\u001b[1;33m)\u001b[0m\u001b[1;33m\u001b[0m\u001b[0m\n\u001b[0m",
      "\u001b[1;32m~\\Documents\\git\\gempy\\gempy\\GemPy_f.py\u001b[0m in \u001b[0;36mexport_to_vtk\u001b[1;34m(geo_data, path, lith_block, vertices, simplices)\u001b[0m\n\u001b[0;32m    635\u001b[0m \u001b[1;32mdef\u001b[0m \u001b[0mexport_to_vtk\u001b[0m\u001b[1;33m(\u001b[0m\u001b[0mgeo_data\u001b[0m\u001b[1;33m,\u001b[0m \u001b[0mpath\u001b[0m\u001b[1;33m=\u001b[0m\u001b[1;32mNone\u001b[0m\u001b[1;33m,\u001b[0m \u001b[0mlith_block\u001b[0m\u001b[1;33m=\u001b[0m\u001b[1;32mNone\u001b[0m\u001b[1;33m,\u001b[0m \u001b[0mvertices\u001b[0m\u001b[1;33m=\u001b[0m\u001b[1;32mNone\u001b[0m\u001b[1;33m,\u001b[0m \u001b[0msimplices\u001b[0m\u001b[1;33m=\u001b[0m\u001b[1;32mNone\u001b[0m\u001b[1;33m)\u001b[0m\u001b[1;33m:\u001b[0m\u001b[1;33m\u001b[0m\u001b[0m\n\u001b[0;32m    636\u001b[0m     \u001b[1;32mif\u001b[0m \u001b[0mlith_block\u001b[0m \u001b[1;32mis\u001b[0m \u001b[1;32mnot\u001b[0m \u001b[1;32mNone\u001b[0m\u001b[1;33m:\u001b[0m\u001b[1;33m\u001b[0m\u001b[0m\n\u001b[1;32m--> 637\u001b[1;33m         \u001b[0mvtkVisualization\u001b[0m\u001b[1;33m.\u001b[0m\u001b[0mexport_vtk_lith_block\u001b[0m\u001b[1;33m(\u001b[0m\u001b[0mgeo_data\u001b[0m\u001b[1;33m,\u001b[0m \u001b[0mlith_block\u001b[0m\u001b[1;33m,\u001b[0m \u001b[0mpath\u001b[0m\u001b[1;33m=\u001b[0m\u001b[0mpath\u001b[0m\u001b[1;33m)\u001b[0m\u001b[1;33m\u001b[0m\u001b[0m\n\u001b[0m\u001b[0;32m    638\u001b[0m     \u001b[1;32mif\u001b[0m \u001b[0mvertices\u001b[0m \u001b[1;32mis\u001b[0m \u001b[1;32mnot\u001b[0m \u001b[1;32mNone\u001b[0m \u001b[1;32mand\u001b[0m \u001b[0msimplices\u001b[0m \u001b[1;32mis\u001b[0m \u001b[1;32mnot\u001b[0m \u001b[1;32mNone\u001b[0m\u001b[1;33m:\u001b[0m\u001b[1;33m\u001b[0m\u001b[0m\n\u001b[0;32m    639\u001b[0m         \u001b[0mvtkVisualization\u001b[0m\u001b[1;33m.\u001b[0m\u001b[0mexport_vtk_surfaces\u001b[0m\u001b[1;33m(\u001b[0m\u001b[0mvertices\u001b[0m\u001b[1;33m,\u001b[0m \u001b[0msimplices\u001b[0m\u001b[1;33m)\u001b[0m\u001b[1;33m\u001b[0m\u001b[0m\n",
      "\u001b[1;32m~\\Documents\\git\\gempy\\gempy\\Visualization.py\u001b[0m in \u001b[0;36mexport_vtk_lith_block\u001b[1;34m(geo_data, lith_block, path)\u001b[0m\n\u001b[0;32m   1143\u001b[0m         \"\"\"\n\u001b[0;32m   1144\u001b[0m \u001b[1;33m\u001b[0m\u001b[0m\n\u001b[1;32m-> 1145\u001b[1;33m         \u001b[1;32mfrom\u001b[0m \u001b[0mevtk\u001b[0m\u001b[1;33m.\u001b[0m\u001b[0mhl\u001b[0m \u001b[1;32mimport\u001b[0m \u001b[0mgridToVTK\u001b[0m\u001b[1;33m\u001b[0m\u001b[0m\n\u001b[0m\u001b[0;32m   1146\u001b[0m \u001b[1;33m\u001b[0m\u001b[0m\n\u001b[0;32m   1147\u001b[0m         \u001b[1;32mimport\u001b[0m \u001b[0mnumpy\u001b[0m \u001b[1;32mas\u001b[0m \u001b[0mnp\u001b[0m\u001b[1;33m\u001b[0m\u001b[0m\n",
      "\u001b[1;31mModuleNotFoundError\u001b[0m: No module named 'evtk'"
     ],
     "output_type": "error"
    }
   ],
   "source": [
    "gp.export_to_vtk(geo_data, path=\"vtk_test_export\", lith_block=lb, vertices=v, simplices=s)"
   ]
  },
  {
   "cell_type": "code",
   "execution_count": null,
   "metadata": {},
   "outputs": [],
   "source": []
  }
 ],
 "metadata": {
  "kernelspec": {
   "display_name": "Python 3",
   "language": "python",
   "name": "python3"
  },
  "language_info": {
   "codemirror_mode": {
    "name": "ipython",
    "version": 3
   },
   "file_extension": ".py",
   "mimetype": "text/x-python",
   "name": "python",
   "nbconvert_exporter": "python",
   "pygments_lexer": "ipython3",
   "version": "3.6.3"
  }
 },
 "nbformat": 4,
 "nbformat_minor": 2
}
