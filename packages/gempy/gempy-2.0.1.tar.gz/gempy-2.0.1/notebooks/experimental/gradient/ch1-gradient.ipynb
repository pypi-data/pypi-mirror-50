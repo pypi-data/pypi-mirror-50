{
 "cells": [
  {
   "cell_type": "markdown",
   "metadata": {},
   "source": [
    "# Chapter 1: GemPy Basic\n",
    "\n",
    "In this first example, we will show how to construct a first basic model and the main objects and functions. First we import gempy:"
   ]
  },
  {
   "cell_type": "code",
   "execution_count": 1,
   "metadata": {},
   "outputs": [
    {
     "name": "stderr",
     "output_type": "stream",
     "text": [
      "WARNING (theano.tensor.blas): Using NumPy C-API based implementation for BLAS functions.\n"
     ]
    }
   ],
   "source": [
    "# These two lines are necessary only if gempy is not installed\n",
    "import sys, os\n",
    "sys.path.append(\"../..\")\n",
    "\n",
    "# Importing gempy\n",
    "import gempy as gp\n",
    "\n",
    "# Embedding matplotlib figures into the notebooks\n",
    "%matplotlib inline\n",
    "\n",
    "# Aux imports\n",
    "import numpy as np"
   ]
  },
  {
   "cell_type": "code",
   "execution_count": 2,
   "metadata": {
    "scrolled": false
   },
   "outputs": [
    {
     "name": "stdout",
     "output_type": "stream",
     "text": [
      "here\n",
      "there\n"
     ]
    },
    {
     "data": {
      "text/plain": [
       "<gempy.data_management.InputData at 0x7fc0e82a96d8>"
      ]
     },
     "execution_count": 2,
     "metadata": {},
     "output_type": "execute_result"
    }
   ],
   "source": [
    "gp.create_data([0, 3000, 0, 20, 0, 2000], resolution=[3, 3, 3])"
   ]
  },
  {
   "cell_type": "markdown",
   "metadata": {},
   "source": [
    "All data get stored in a python object InputData.  This object can be easily stored in a Python pickle. However, these files have the limitation that all dependecies must have the same versions as those when the pickle were created. For these reason to have more stable tutorials we will generate the InputData from raw data---i.e. csv files exported from Geomodeller.\n",
    "\n",
    "These csv files can be found in the input_data folder in the root folder of GemPy. These tables contains uniquely the XYZ (and poles, azimuth and polarity in the foliation case) as well as their respective formation name (but not necessary the formation order).\n"
   ]
  },
  {
   "cell_type": "code",
   "execution_count": 2,
   "metadata": {},
   "outputs": [
    {
     "name": "stderr",
     "output_type": "stream",
     "text": [
      "../../gempy/data_management.py:66: UserWarning: path_f is deprecated use instead path_o\n",
      "  warnings.warn('path_f is deprecated use instead path_o')\n"
     ]
    },
    {
     "name": "stdout",
     "output_type": "stream",
     "text": [
      "here\n",
      "there\n"
     ]
    }
   ],
   "source": [
    "# Importing the data from csv files and settign extent and resolution\n",
    "geo_data = gp.create_data([0,2000,0,2000,-2000,0],[ 10,10,10],\n",
    "                         path_f = os.pardir+\"/input_data/FabLessPoints_Foliations.csv\",\n",
    "                         path_i = os.pardir+\"/input_data/FabLessPoints_Points.csv\")"
   ]
  },
  {
   "cell_type": "code",
   "execution_count": 3,
   "metadata": {},
   "outputs": [
    {
     "name": "stdout",
     "output_type": "stream",
     "text": [
      "there\n"
     ]
    }
   ],
   "source": [
    "# Assigning series to formations as well as their order (timewise)\n",
    "gp.set_series(geo_data, {\"fault\":'MainFault', \n",
    "                      \"Rest\": ('SecondaryReservoir','Seal', 'Reservoir', 'Overlying'), \n",
    "                               },\n",
    "                       order_series = [\"fault\", 'Rest'],\n",
    "                       order_formations=['MainFault', \n",
    "                                         'SecondaryReservoir', 'Seal','Reservoir', 'Overlying',\n",
    "                                         ]) \n",
    "#geo_data = gp.select_series(geo_data, ['Rest'])\n"
   ]
  },
  {
   "cell_type": "code",
   "execution_count": 4,
   "metadata": {},
   "outputs": [
    {
     "name": "stderr",
     "output_type": "stream",
     "text": [
      "ERROR:root:No traceback has been produced, nothing to debug.\n"
     ]
    }
   ],
   "source": [
    "%debug"
   ]
  },
  {
   "cell_type": "code",
   "execution_count": 5,
   "metadata": {},
   "outputs": [
    {
     "name": "stdout",
     "output_type": "stream",
     "text": [
      "<gempy.interpolator.InterpolatorData object at 0x7f523494c1d0>\n"
     ]
    }
   ],
   "source": [
    "import theano.tensor as T\n",
    "import theano\n",
    "interp_data = gp.InterpolatorData(geo_data, u_grade=[1],\n",
    "                                  output='geology', dtype='float64', compile_theano=False)\n",
    "print(interp_data)\n",
    "the = interp_data.interpolator.tg"
   ]
  },
  {
   "cell_type": "code",
   "execution_count": 9,
   "metadata": {},
   "outputs": [
    {
     "data": {
      "text/plain": [
       "[Position of the dips,\n",
       " Angle of every dip,\n",
       " Azimuth,\n",
       " Polarity,\n",
       " Reference points for every layer,\n",
       " Rest of the points of the layers]"
      ]
     },
     "execution_count": 9,
     "metadata": {},
     "output_type": "execute_result"
    }
   ],
   "source": [
    "input_data_T = the.input_parameters_list()\n",
    "input_data_T"
   ]
  },
  {
   "cell_type": "code",
   "execution_count": 10,
   "metadata": {},
   "outputs": [
    {
     "data": {
      "text/html": [
       "<div>\n",
       "<style scoped>\n",
       "    .dataframe tbody tr th:only-of-type {\n",
       "        vertical-align: middle;\n",
       "    }\n",
       "\n",
       "    .dataframe tbody tr th {\n",
       "        vertical-align: top;\n",
       "    }\n",
       "\n",
       "    .dataframe thead th {\n",
       "        text-align: right;\n",
       "    }\n",
       "</style>\n",
       "<table border=\"1\" class=\"dataframe\">\n",
       "  <thead>\n",
       "    <tr style=\"text-align: right;\">\n",
       "      <th></th>\n",
       "      <th>X</th>\n",
       "      <th>Y</th>\n",
       "      <th>Z</th>\n",
       "      <th>formation</th>\n",
       "      <th>series</th>\n",
       "      <th>formation_number</th>\n",
       "      <th>order_series</th>\n",
       "      <th>isFault</th>\n",
       "      <th>annotations</th>\n",
       "      <th>formation_value</th>\n",
       "    </tr>\n",
       "  </thead>\n",
       "  <tbody>\n",
       "    <tr>\n",
       "      <th>0</th>\n",
       "      <td>1000.0</td>\n",
       "      <td>1000.0</td>\n",
       "      <td>-1000.0</td>\n",
       "      <td>MainFault</td>\n",
       "      <td>fault</td>\n",
       "      <td>1</td>\n",
       "      <td>1</td>\n",
       "      <td>True</td>\n",
       "      <td>${\\bf{x}}_{\\alpha \\,{\\bf{1}},0}$</td>\n",
       "      <td>1</td>\n",
       "    </tr>\n",
       "    <tr>\n",
       "      <th>1</th>\n",
       "      <td>900.0</td>\n",
       "      <td>1000.0</td>\n",
       "      <td>-1300.0</td>\n",
       "      <td>MainFault</td>\n",
       "      <td>fault</td>\n",
       "      <td>1</td>\n",
       "      <td>1</td>\n",
       "      <td>True</td>\n",
       "      <td>${\\bf{x}}_{\\alpha \\,{\\bf{1}},1}$</td>\n",
       "      <td>1</td>\n",
       "    </tr>\n",
       "    <tr>\n",
       "      <th>2</th>\n",
       "      <td>1100.0</td>\n",
       "      <td>1000.0</td>\n",
       "      <td>-700.0</td>\n",
       "      <td>MainFault</td>\n",
       "      <td>fault</td>\n",
       "      <td>1</td>\n",
       "      <td>1</td>\n",
       "      <td>True</td>\n",
       "      <td>${\\bf{x}}_{\\alpha \\,{\\bf{1}},2}$</td>\n",
       "      <td>1</td>\n",
       "    </tr>\n",
       "    <tr>\n",
       "      <th>3</th>\n",
       "      <td>1200.0</td>\n",
       "      <td>1000.0</td>\n",
       "      <td>-400.0</td>\n",
       "      <td>MainFault</td>\n",
       "      <td>fault</td>\n",
       "      <td>1</td>\n",
       "      <td>1</td>\n",
       "      <td>True</td>\n",
       "      <td>${\\bf{x}}_{\\alpha \\,{\\bf{1}},3}$</td>\n",
       "      <td>1</td>\n",
       "    </tr>\n",
       "    <tr>\n",
       "      <th>4</th>\n",
       "      <td>800.0</td>\n",
       "      <td>1000.0</td>\n",
       "      <td>-1600.0</td>\n",
       "      <td>MainFault</td>\n",
       "      <td>fault</td>\n",
       "      <td>1</td>\n",
       "      <td>1</td>\n",
       "      <td>True</td>\n",
       "      <td>${\\bf{x}}_{\\alpha \\,{\\bf{1}},4}$</td>\n",
       "      <td>1</td>\n",
       "    </tr>\n",
       "  </tbody>\n",
       "</table>\n",
       "</div>"
      ],
      "text/plain": [
       "        X       Y       Z  formation series  formation_number  order_series  \\\n",
       "0  1000.0  1000.0 -1000.0  MainFault  fault                 1             1   \n",
       "1   900.0  1000.0 -1300.0  MainFault  fault                 1             1   \n",
       "2  1100.0  1000.0  -700.0  MainFault  fault                 1             1   \n",
       "3  1200.0  1000.0  -400.0  MainFault  fault                 1             1   \n",
       "4   800.0  1000.0 -1600.0  MainFault  fault                 1             1   \n",
       "\n",
       "   isFault                       annotations  formation_value  \n",
       "0     True  ${\\bf{x}}_{\\alpha \\,{\\bf{1}},0}$                1  \n",
       "1     True  ${\\bf{x}}_{\\alpha \\,{\\bf{1}},1}$                1  \n",
       "2     True  ${\\bf{x}}_{\\alpha \\,{\\bf{1}},2}$                1  \n",
       "3     True  ${\\bf{x}}_{\\alpha \\,{\\bf{1}},3}$                1  \n",
       "4     True  ${\\bf{x}}_{\\alpha \\,{\\bf{1}},4}$                1  "
      ]
     },
     "execution_count": 10,
     "metadata": {},
     "output_type": "execute_result"
    }
   ],
   "source": [
    "geo_data.interfaces.head()"
   ]
  },
  {
   "cell_type": "code",
   "execution_count": 11,
   "metadata": {},
   "outputs": [
    {
     "data": {
      "text/html": [
       "<div>\n",
       "<style scoped>\n",
       "    .dataframe tbody tr th:only-of-type {\n",
       "        vertical-align: middle;\n",
       "    }\n",
       "\n",
       "    .dataframe tbody tr th {\n",
       "        vertical-align: top;\n",
       "    }\n",
       "\n",
       "    .dataframe thead tr th {\n",
       "        text-align: left;\n",
       "    }\n",
       "</style>\n",
       "<table border=\"1\" class=\"dataframe\">\n",
       "  <thead>\n",
       "    <tr>\n",
       "      <th></th>\n",
       "      <th>value</th>\n",
       "      <th>formation_number</th>\n",
       "    </tr>\n",
       "  </thead>\n",
       "  <tbody>\n",
       "    <tr>\n",
       "      <th>MainFault</th>\n",
       "      <td>1</td>\n",
       "      <td>1</td>\n",
       "    </tr>\n",
       "    <tr>\n",
       "      <th>SecondaryReservoir</th>\n",
       "      <td>2</td>\n",
       "      <td>2</td>\n",
       "    </tr>\n",
       "    <tr>\n",
       "      <th>Seal</th>\n",
       "      <td>3</td>\n",
       "      <td>3</td>\n",
       "    </tr>\n",
       "    <tr>\n",
       "      <th>Reservoir</th>\n",
       "      <td>4</td>\n",
       "      <td>4</td>\n",
       "    </tr>\n",
       "    <tr>\n",
       "      <th>Overlying</th>\n",
       "      <td>5</td>\n",
       "      <td>5</td>\n",
       "    </tr>\n",
       "    <tr>\n",
       "      <th>basement</th>\n",
       "      <td>6</td>\n",
       "      <td>6</td>\n",
       "    </tr>\n",
       "  </tbody>\n",
       "</table>\n",
       "</div>"
      ],
      "text/plain": [
       "                   value formation_number\n",
       "MainFault              1                1\n",
       "SecondaryReservoir     2                2\n",
       "Seal                   3                3\n",
       "Reservoir              4                4\n",
       "Overlying              5                5\n",
       "basement               6                6"
      ]
     },
     "execution_count": 11,
     "metadata": {},
     "output_type": "execute_result"
    }
   ],
   "source": [
    "geo_data.formations"
   ]
  },
  {
   "cell_type": "code",
   "execution_count": 12,
   "metadata": {},
   "outputs": [],
   "source": [
    "th_fn = theano.function(input_data_T,\n",
    "                         the.compute_grad3(0),\n",
    "#                         mode=theano.compile.MonitorMode(\n",
    "#                         pre_func=inspect_inputs,\n",
    "#                         post_func=inspect_outputs),\n",
    "                                    on_unused_input='ignore',\n",
    "                                    allow_input_downcast=False,\n",
    "                                    profile=False)"
   ]
  },
  {
   "cell_type": "code",
   "execution_count": 13,
   "metadata": {},
   "outputs": [],
   "source": [
    "i = interp_data.get_input_data()"
   ]
  },
  {
   "cell_type": "code",
   "execution_count": 14,
   "metadata": {
    "scrolled": false
   },
   "outputs": [
    {
     "name": "stdout",
     "output_type": "stream",
     "text": [
      "n_formation_op __str__ = [ 1.  2.]\n",
      "n_formation_op_float_sigmoid __str__ = [-1.  1.  2. -1.]\n",
      "slice_init __str__ = 0\n",
      "n_formation_0 __str__ = [-1.]\n",
      "a __str__ = 40.239896850585936\n",
      "n_formation_1 __str__ = [ 1.]\n",
      "b __str__ = 39.99201583862305\n",
      "drift[slice_init:slice_init+1][0] __str__ = 1.0\n",
      "slice_init __str__ = 2\n",
      "n_formation_0 __str__ = [ 2.]\n",
      "a __str__ = 39.99201583862305\n",
      "n_formation_1 __str__ = [-1.]\n",
      "b __str__ = 39.76343719482422\n",
      "drift[slice_init:slice_init+1][0] __str__ = 2.0\n",
      "n_formation_op __str__ = [ 2.  3.  4.  5.  6.]\n",
      "n_formation_op_float_sigmoid __str__ = [-1.  2.  3.  3.  4.  4.  5.  5.  6. -1.]\n",
      "slice_init __str__ = 0\n",
      "n_formation_0 __str__ = [-1.]\n",
      "a __str__ = 30.18250831604004\n",
      "n_formation_1 __str__ = [ 2.]\n",
      "b __str__ = 30.134984970092773\n",
      "drift[slice_init:slice_init+1][0] __str__ = 2.0\n",
      "slice_init __str__ = 2\n",
      "n_formation_0 __str__ = [ 3.]\n",
      "a __str__ = 30.134984970092773\n",
      "n_formation_1 __str__ = [ 3.]\n",
      "b __str__ = 30.12150764465332\n",
      "drift[slice_init:slice_init+1][0] __str__ = 3.0\n",
      "slice_init __str__ = 4\n",
      "n_formation_0 __str__ = [ 4.]\n",
      "a __str__ = 30.12150764465332\n",
      "n_formation_1 __str__ = [ 4.]\n",
      "b __str__ = 30.0380916595459\n",
      "drift[slice_init:slice_init+1][0] __str__ = 4.0\n",
      "slice_init __str__ = 6\n",
      "n_formation_0 __str__ = [ 5.]\n",
      "a __str__ = 30.0380916595459\n",
      "n_formation_1 __str__ = [ 5.]\n",
      "b __str__ = 29.97814178466797\n",
      "drift[slice_init:slice_init+1][0] __str__ = 5.0\n",
      "slice_init __str__ = 8\n",
      "n_formation_0 __str__ = [ 6.]\n",
      "a __str__ = 29.97814178466797\n",
      "n_formation_1 __str__ = [-1.]\n",
      "b __str__ = 29.943811569213867\n",
      "drift[slice_init:slice_init+1][0] __str__ = 6.0\n",
      "n_formation_op __str__ = [ 2.  3.  4.  5.  6.]\n",
      "n_formation_op_float_sigmoid __str__ = [-1.  2.  3.  3.  4.  4.  5.  5.  6. -1.]\n",
      "slice_init __str__ = 0\n",
      "n_formation_0 __str__ = [-1.]\n",
      "a __str__ = 30.18250831604004\n",
      "n_formation_1 __str__ = [ 2.]\n",
      "b __str__ = 30.134984970092773\n",
      "drift[slice_init:slice_init+1][0] __str__ = 2.0\n",
      "slice_init __str__ = 2\n",
      "n_formation_0 __str__ = [ 3.]\n",
      "a __str__ = 30.134984970092773\n",
      "n_formation_1 __str__ = [ 3.]\n",
      "b __str__ = 30.12150764465332\n",
      "drift[slice_init:slice_init+1][0] __str__ = 3.0\n",
      "slice_init __str__ = 4\n",
      "n_formation_0 __str__ = [ 4.]\n",
      "a __str__ = 30.12150764465332\n",
      "n_formation_1 __str__ = [ 4.]\n",
      "b __str__ = 30.0380916595459\n",
      "drift[slice_init:slice_init+1][0] __str__ = 4.0\n",
      "slice_init __str__ = 6\n",
      "n_formation_0 __str__ = [ 5.]\n",
      "a __str__ = 30.0380916595459\n",
      "n_formation_1 __str__ = [ 5.]\n",
      "b __str__ = 29.97814178466797\n",
      "drift[slice_init:slice_init+1][0] __str__ = 5.0\n",
      "slice_init __str__ = 8\n",
      "n_formation_0 __str__ = [ 6.]\n",
      "a __str__ = 29.97814178466797\n",
      "n_formation_1 __str__ = [-1.]\n",
      "b __str__ = 29.943811569213867\n",
      "drift[slice_init:slice_init+1][0] __str__ = 6.0\n",
      "slice_init __str__ = 8\n",
      "n_formation_0 __str__ = [ 6.]\n",
      "a __str__ = 29.97814178466797\n",
      "n_formation_1 __str__ = [-1.]\n",
      "b __str__ = 29.943811569213867\n",
      "slice_init __str__ = 6\n",
      "n_formation_0 __str__ = [ 5.]\n",
      "a __str__ = 30.0380916595459\n",
      "n_formation_1 __str__ = [ 5.]\n",
      "b __str__ = 29.97814178466797\n",
      "slice_init __str__ = 4\n",
      "n_formation_0 __str__ = [ 4.]\n",
      "a __str__ = 30.12150764465332\n",
      "n_formation_1 __str__ = [ 4.]\n",
      "b __str__ = 30.0380916595459\n",
      "slice_init __str__ = 2\n",
      "n_formation_0 __str__ = [ 3.]\n",
      "a __str__ = 30.134984970092773\n",
      "n_formation_1 __str__ = [ 3.]\n",
      "b __str__ = 30.12150764465332\n",
      "slice_init __str__ = 0\n",
      "n_formation_0 __str__ = [-1.]\n",
      "a __str__ = 30.18250831604004\n",
      "n_formation_1 __str__ = [ 2.]\n",
      "b __str__ = 30.134984970092773\n",
      "n_formation_op __str__ = [ 1.  2.]\n",
      "n_formation_op_float_sigmoid __str__ = [-1.  1.  2. -1.]\n",
      "slice_init __str__ = 0\n",
      "n_formation_0 __str__ = [-1.]\n",
      "a __str__ = 40.239896850585936\n",
      "n_formation_1 __str__ = [ 1.]\n",
      "b __str__ = 39.99201583862305\n",
      "drift[slice_init:slice_init+1][0] __str__ = 1.0\n",
      "slice_init __str__ = 2\n",
      "n_formation_0 __str__ = [ 2.]\n",
      "a __str__ = 39.99201583862305\n",
      "n_formation_1 __str__ = [-1.]\n",
      "b __str__ = 39.76343719482422\n",
      "drift[slice_init:slice_init+1][0] __str__ = 2.0\n",
      "slice_init __str__ = 2\n",
      "n_formation_0 __str__ = [ 2.]\n",
      "a __str__ = 39.99201583862305\n",
      "n_formation_1 __str__ = [-1.]\n",
      "b __str__ = 39.76343719482422\n",
      "slice_init __str__ = 0\n",
      "n_formation_0 __str__ = [-1.]\n",
      "a __str__ = 40.239896850585936\n",
      "n_formation_1 __str__ = [ 1.]\n",
      "b __str__ = 39.99201583862305\n"
     ]
    },
    {
     "data": {
      "text/plain": [
       "array([[  2.23160089e+03,  -7.44682859e-06,  -7.25996140e+02],\n",
       "       [  1.04630296e+01,   2.50634686e-06,  -4.13401568e+00],\n",
       "       [ -6.05226788e+02,  -5.13096062e-07,   2.02838153e+02],\n",
       "       [ -6.37161113e+02,  -1.12744877e-06,   2.13230177e+02],\n",
       "       [  3.38970640e+02,   3.62978773e-01,  -5.88123659e+03],\n",
       "       [  2.48089072e+02,   2.51858347e+01,   1.40027706e+03],\n",
       "       [ -4.57792716e+02,  -3.78685540e+00,  -1.04376300e+03],\n",
       "       [  3.66756761e+02,   7.87924315e-02,   3.67765549e+03],\n",
       "       [ -1.42026774e+03,   1.72287968e+01,  -2.87910106e+03],\n",
       "       [  2.74219636e+03,  -3.06383926e+01,   4.85719414e+03],\n",
       "       [  2.92444898e+02,   4.06781479e+01,  -2.04088846e+03],\n",
       "       [ -2.28819240e+02,  -7.11021738e+00,   6.66070709e+02],\n",
       "       [ -2.93769597e+02,  -5.25505891e+01,  -4.73760056e+03],\n",
       "       [  1.14256160e+03,   7.94658646e+00,   2.34409413e+03],\n",
       "       [  5.77530592e+02,  -1.38938410e+00,   1.09983857e+02],\n",
       "       [  1.99871138e+02,   4.88390125e+01,  -1.04757875e+02],\n",
       "       [  1.62248208e+02,   2.63779166e+02,   4.85250785e+02],\n",
       "       [  3.86669373e+02,   1.65950519e+01,   2.60016548e+03],\n",
       "       [ -9.51205891e+02,  -5.28051903e+00,  -2.44493966e+03],\n",
       "       [ -8.73343163e+01,  -8.61519324e-03,  -2.87666819e+02],\n",
       "       [ -5.09421694e+02,  -2.12465957e+02,   6.47722495e+02],\n",
       "       [ -4.90032769e+02,   2.25691698e+02,   6.14429732e+02],\n",
       "       [ -1.84400953e+02,  -3.30300611e+00,  -8.99223092e+02],\n",
       "       [  2.66301991e+01,  -1.92918174e+00,   4.02195412e+01],\n",
       "       [ -4.06940994e+02,  -1.36625551e+02,   1.29773570e+03],\n",
       "       [ -4.43262527e+01,   2.12172598e+02,  -2.07681593e+03],\n",
       "       [  6.40193304e+02,  -6.66408204e+01,   1.66133369e+03],\n",
       "       [ -9.75976285e+02,   6.55370542e+00,  -2.74901538e+03],\n",
       "       [  7.83052741e+02,  -1.02654882e+02,  -2.12124911e+03],\n",
       "       [  4.92919714e+01,   1.50302958e+02,   3.28105485e+03],\n",
       "       [  4.27946954e+02,   2.58376202e+01,   1.23531797e+03],\n",
       "       [ -8.79910976e+02,  -1.03286239e+02,  -2.19613234e+03],\n",
       "       [ -6.91547470e+01,   1.17752236e+01,  -1.14809211e+03],\n",
       "       [  7.57257232e+02,   8.19047580e+00,   2.11929659e+03]])"
      ]
     },
     "execution_count": 14,
     "metadata": {},
     "output_type": "execute_result"
    }
   ],
   "source": [
    "th_fn(*i)\n"
   ]
  },
  {
   "cell_type": "code",
   "execution_count": 11,
   "metadata": {},
   "outputs": [
    {
     "ename": "NameError",
     "evalue": "name 'tyito' is not defined",
     "traceback": [
      "\u001b[0;31m---------------------------------------------------------------------------\u001b[0m",
      "\u001b[0;31mNameError\u001b[0m                                 Traceback (most recent call last)",
      "\u001b[0;32m<ipython-input-11-7c74a601cf22>\u001b[0m in \u001b[0;36m<module>\u001b[0;34m()\u001b[0m\n\u001b[0;32m----> 1\u001b[0;31m \u001b[0mtyito\u001b[0m\u001b[0;34m\u001b[0m\u001b[0m\n\u001b[0m",
      "\u001b[0;31mNameError\u001b[0m: name 'tyito' is not defined"
     ],
     "output_type": "error"
    }
   ],
   "source": [
    "tyito"
   ]
  },
  {
   "cell_type": "code",
   "execution_count": null,
   "metadata": {},
   "outputs": [],
   "source": [
    "# import pandas as pn\n",
    "# gp.set_orientations(geo_data,pn.DataFrame(geo_data.orientations.iloc[0,:]).T, append=True)\n",
    "# geo_data.orientations.set_value(2, 'formation', 'Overlying')"
   ]
  },
  {
   "cell_type": "code",
   "execution_count": null,
   "metadata": {
    "scrolled": false
   },
   "outputs": [],
   "source": [
    "# # Assigning series to formations as well as their order (timewise)\n",
    "# gp.set_series(geo_data, {\"fault\":'MainFault', \n",
    "#                       \"Rest\": ('SecondaryReservoir','Seal', 'Reservoir'), \n",
    "#                                \"Rist\": ('Overlying')},\n",
    "#                        order_series = [\"fault\", 'Rest', 'Rist'],\n",
    "#                        order_formations=['MainFault', \n",
    "#                                          'SecondaryReservoir', 'Seal','Reservoir', 'Overlying',\n",
    "#                                          ]) \n",
    "\n",
    "# geo_data =gp.select_series(geo_data,['Rest', 'Rist'])"
   ]
  },
  {
   "cell_type": "code",
   "execution_count": null,
   "metadata": {},
   "outputs": [],
   "source": [
    "geo_data.orientations"
   ]
  },
  {
   "cell_type": "code",
   "execution_count": null,
   "metadata": {},
   "outputs": [],
   "source": [
    "gp.get_sequential_pile(geo_data)"
   ]
  },
  {
   "cell_type": "markdown",
   "metadata": {},
   "source": [
    "## The ins and outs of Input data objects\n",
    "\n",
    "As we have seen objects DataManagement.InputData (usually called geo_data in the tutorials) aim to have all the original geological properties, measurements and geological relations stored. \n",
    "\n",
    "Once we have the data ready to generate a model, we will need to create the next object type towards the final geological model:"
   ]
  },
  {
   "cell_type": "code",
   "execution_count": null,
   "metadata": {},
   "outputs": [],
   "source": [
    "geo_data.interfaces.drop(39, inplace=True)"
   ]
  },
  {
   "cell_type": "code",
   "execution_count": 6,
   "metadata": {
    "scrolled": false
   },
   "outputs": [
    {
     "name": "stdout",
     "output_type": "stream",
     "text": [
      "Compiling theano function...\n",
      "Compilation Done!\n",
      "Level of Optimization:  fast_compile\n",
      "Device:  cpu\n",
      "Precision:  float64\n",
      "Number of faults:  1\n"
     ]
    }
   ],
   "source": [
    "import theano.tensor as T\n",
    "import theano\n",
    "interp_data = gp.InterpolatorData(geo_data, u_grade=[1, 1],\n",
    "                                  output='geology', dtype='float64',\n",
    "                                   verbose=['scalar_field_iter', 'block_series', 'yet_simulated'],\n",
    "                                  compile_theano=True)\n"
   ]
  },
  {
   "cell_type": "code",
   "execution_count": null,
   "metadata": {},
   "outputs": [],
   "source": [
    "interp_data.interpolator.tg.len_series_i.get_value()"
   ]
  },
  {
   "cell_type": "code",
   "execution_count": null,
   "metadata": {},
   "outputs": [],
   "source": []
  },
  {
   "cell_type": "code",
   "execution_count": null,
   "metadata": {},
   "outputs": [],
   "source": [
    "interp_data.interpolator.tg.n_formations_per_serie.get_value()"
   ]
  },
  {
   "cell_type": "code",
   "execution_count": null,
   "metadata": {},
   "outputs": [],
   "source": [
    "interp_data.interpolator.tg.n_formations_per_serie.set_value(np.array([0, 3, 4], dtype='int32'))"
   ]
  },
  {
   "cell_type": "code",
   "execution_count": null,
   "metadata": {},
   "outputs": [],
   "source": [
    "interp_data.interpolator.tg.npf.get_value()"
   ]
  },
  {
   "cell_type": "code",
   "execution_count": null,
   "metadata": {},
   "outputs": [],
   "source": []
  },
  {
   "cell_type": "code",
   "execution_count": null,
   "metadata": {},
   "outputs": [],
   "source": [
    "geo_data.interfaces.shape"
   ]
  },
  {
   "cell_type": "code",
   "execution_count": null,
   "metadata": {},
   "outputs": [],
   "source": [
    "interp_data.interpolator.tg.npf.get_value()"
   ]
  },
  {
   "cell_type": "code",
   "execution_count": 31,
   "metadata": {},
   "outputs": [
    {
     "data": {
      "text/plain": [
       "[<matplotlib.lines.Line2D at 0x197fc4a75f8>]"
      ]
     },
     "execution_count": 31,
     "metadata": {},
     "output_type": "execute_result"
    },
    {
     "data": {
      "image/png": "[encoded data removed]",
      "text/plain": [
       "<matplotlib.figure.Figure at 0x197fc4346a0>"
      ]
     },
     "metadata": {},
     "output_type": "display_data"
    }
   ],
   "source": [
    "%matplotlib inline\n",
    "import matplotlib.pyplot as plt\n",
    "import numpy as np\n",
    "x = np.linspace(-10,50)\n",
    "sigm = (1. / (1 + np.exp(-1 * (x - 0)))) *5 - (-1. / (1 + np.exp(1 * (x - 30))) +1) *0\n",
    "plt.plot(x, sigm)"
   ]
  },
  {
   "cell_type": "code",
   "execution_count": null,
   "metadata": {},
   "outputs": [],
   "source": [
    "interp_data.update_interpolator(geo_data)"
   ]
  },
  {
   "cell_type": "code",
   "execution_count": null,
   "metadata": {},
   "outputs": [],
   "source": [
    "interp_data.interpolator.tg.n_formation_float.get_value()"
   ]
  },
  {
   "cell_type": "code",
   "execution_count": null,
   "metadata": {},
   "outputs": [],
   "source": [
    "interp_data.interpolator.tg.n_formation_float.set_value(np.array([ 1.,  2.,  3.,  4.,  5., 6.], dtype='float32'))"
   ]
  },
  {
   "cell_type": "code",
   "execution_count": null,
   "metadata": {
    "scrolled": true
   },
   "outputs": [],
   "source": [
    "sol = gp.compute_model(interp_data)"
   ]
  },
  {
   "cell_type": "code",
   "execution_count": null,
   "metadata": {
    "run_control": {
     "marked": true
    },
    "scrolled": false
   },
   "outputs": [],
   "source": [
    "%matplotlib notebook\n",
    "gp.plot_section(geo_data,sol[0][0].astype(float), 30, plot_data = True, direction='y')"
   ]
  },
  {
   "cell_type": "code",
   "execution_count": null,
   "metadata": {},
   "outputs": [],
   "source": [
    "interp_data.interpolator.tg.n_formation_float.set_value(np.array([ 1.,  2.,  3.,  4.,  5., 6.], dtype='float32'))"
   ]
  },
  {
   "cell_type": "code",
   "execution_count": null,
   "metadata": {},
   "outputs": [],
   "source": [
    "interp_data.interpolator.tg.n_formations_per_serie.get_value()"
   ]
  },
  {
   "cell_type": "code",
   "execution_count": null,
   "metadata": {},
   "outputs": [],
   "source": [
    "interp_data.interpolator.tg.len_series_i.set_value(np.array([ 0,  4, 35], dtype='int32'))"
   ]
  },
  {
   "cell_type": "code",
   "execution_count": null,
   "metadata": {},
   "outputs": [],
   "source": [
    "interp_data.interpolator.tg.len_series_i.get_value()"
   ]
  },
  {
   "cell_type": "code",
   "execution_count": null,
   "metadata": {},
   "outputs": [],
   "source": [
    "interp_data.interpolator.tg.npf.get_value()"
   ]
  },
  {
   "cell_type": "code",
   "execution_count": null,
   "metadata": {},
   "outputs": [],
   "source": [
    "asa = interp_data.get_input_data()"
   ]
  },
  {
   "cell_type": "code",
   "execution_count": null,
   "metadata": {},
   "outputs": [],
   "source": [
    "interp_data.th_fn(*asa)"
   ]
  },
  {
   "cell_type": "code",
   "execution_count": null,
   "metadata": {},
   "outputs": [],
   "source": [
    "interp_data.interpolator.pandas_ref_layer_points"
   ]
  },
  {
   "cell_type": "code",
   "execution_count": null,
   "metadata": {},
   "outputs": [],
   "source": [
    "\n",
    "interp_data.geo_data_res.interfaces.drop(39, inplace=True)"
   ]
  },
  {
   "cell_type": "code",
   "execution_count": null,
   "metadata": {},
   "outputs": [],
   "source": []
  }
 ],
 "metadata": {
  "kernelspec": {
   "display_name": "Python 3",
   "language": "python",
   "name": "python3"
  },
  "language_info": {
   "codemirror_mode": {
    "name": "ipython",
    "version": 3
   },
   "file_extension": ".py",
   "mimetype": "text/x-python",
   "name": "python",
   "nbconvert_exporter": "python",
   "pygments_lexer": "ipython3",
   "version": "3.6.3"
  },
  "latex_envs": {
   "LaTeX_envs_menu_present": true,
   "autocomplete": true,
   "bibliofile": "biblio.bib",
   "cite_by": "apalike",
   "current_citInitial": 1.0,
   "eqLabelWithNumbers": true,
   "eqNumInitial": 1.0,
   "hotkeys": {
    "equation": "Ctrl-E",
    "itemize": "Ctrl-I"
   },
   "labels_anchors": false,
   "latex_user_defs": false,
   "report_style_numbering": false,
   "user_envs_cfg": false
  },
  "toc": {
   "colors": {
    "hover_highlight": "#DAA520",
    "running_highlight": "#FF0000",
    "selected_highlight": "#FFD700"
   },
   "moveMenuLeft": true,
   "nav_menu": {
    "height": "67px",
    "width": "252px"
   },
   "navigate_menu": true,
   "number_sections": true,
   "sideBar": true,
   "threshold": 4.0,
   "toc_cell": false,
   "toc_section_display": "block",
   "toc_window_display": false,
   "widenNotebook": false
  }
 },
 "nbformat": 4,
 "nbformat_minor": 2
}
