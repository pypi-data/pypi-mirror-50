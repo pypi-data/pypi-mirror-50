{
 "cells": [
  {
   "cell_type": "code",
   "execution_count": 1,
   "metadata": {},
   "outputs": [
    {
     "name": "stdout",
     "output_type": "stream",
     "text": [
      "no gdal\n"
     ]
    },
    {
     "name": "stderr",
     "output_type": "stream",
     "text": [
      "WARNING (theano.tensor.blas): Using NumPy C-API based implementation for BLAS functions.\n"
     ]
    }
   ],
   "source": [
    "# These two lines are necessary only if GemPy is not installed\n",
    "import sys, os\n",
    "sys.path.append(\"../../..\")\n",
    "\n",
    "# Importing GemPy\n",
    "import gempy as gp\n",
    "\n",
    "# Embedding matplotlib figures in the notebooks\n",
    "%matplotlib inline\n",
    "\n",
    "# Importing auxiliary libraries\n",
    "import numpy as np\n",
    "import matplotlib.pyplot as plt\n"
   ]
  },
  {
   "cell_type": "code",
   "execution_count": 2,
   "metadata": {},
   "outputs": [],
   "source": [
    "from typing import Tuple\n",
    "import pandas as pd"
   ]
  },
  {
   "cell_type": "code",
   "execution_count": 3,
   "metadata": {},
   "outputs": [],
   "source": [
    "def generate(n_interfaces: int, seed=42) -> Tuple[pd.DataFrame, pd.DataFrame]:\n",
    "    surface_points = pd.DataFrame()\n",
    "    orientations = pd.DataFrame()\n",
    "    \n",
    "    for n in range(n_interfaces):\n",
    "        x = np.random.rand(15) * 3\n",
    "        y = np.random.rand(15)\n",
    "        \n",
    "        def func(x, y):\n",
    "            return np.sin(x) + np.cos(y)\n",
    "        \n",
    "        z = func(x, y) + n\n",
    "        \n",
    "        surfpts = pd.DataFrame({\"X\": x, \"Y\": y, \"Z\": z})\n",
    "        surfpts[\"formation\"] = \"Interface {}\".format(n + 1)\n",
    "        surface_points = surface_points.append(surfpts)\n",
    "        \n",
    "        orientpts = pd.DataFrame({\"X\": [np.mean(surfpts.X)], \"Y\": [np.mean(surfpts.Y)], \"Z\": [np.mean(surfpts.Z)], \"azimuth\": [90], \"dip\": [3], \"polarity\": [1], \"formation\": [\"Interface {}\".format(n + 1)]})\n",
    "        orientations = orientations.append(orientpts)\n",
    "    return surface_points, orientations\n",
    "    \n",
    "surface_points, orientations = generate(3, seed=41)"
   ]
  },
  {
   "cell_type": "code",
   "execution_count": 4,
   "metadata": {},
   "outputs": [],
   "source": [
    "surface_points.to_csv(\"surfpts.csv\", index=False)\n",
    "orientations.to_csv(\"orientpts.csv\", index=False)"
   ]
  },
  {
   "cell_type": "raw",
   "metadata": {},
   "source": [
    "np.random.seed(42)\n",
    "x = np.random.rand(30) * 3\n",
    "y = np.random.rand(30)\n",
    "\n",
    "def func(x, y):\n",
    "    return np.sin(x) + np.cos(y)\n",
    "\n",
    "z = func(x, y)\n",
    "\n",
    "\n",
    "\n",
    "surfpts = pd.DataFrame({\"X\": x, \"Y\": y, \"Z\": z})\n",
    "surfpts[\"formation\"] = \"Interface 1\"\n",
    "surfpts.to_csv(\"surfpts.csv\", index=False)\n",
    "\n",
    "orientpts = pd.DataFrame({\"X\": [1.5], \"Y\": [0.5], \"Z\": [1.7], \"azimuth\": [90], \"dip\": [3], \"polarity\": [1], \"formation\": [\"Interface 1\"]})\n",
    "orientpts.to_csv(\"orientpts.csv\", index=False)"
   ]
  },
  {
   "cell_type": "raw",
   "metadata": {},
   "source": [
    "import ipyvolume as ipv\n",
    "ipv.figure()\n",
    "\n",
    "ipv.scatter(x, y, z)\n",
    "ipv.show()"
   ]
  },
  {
   "cell_type": "code",
   "execution_count": 5,
   "metadata": {},
   "outputs": [
    {
     "data": {
      "text/plain": [
       "StochSurfTesting  2019-04-29 15:40"
      ]
     },
     "execution_count": 5,
     "metadata": {},
     "output_type": "execute_result"
    }
   ],
   "source": [
    "geo_model = gp.create_model('StochSurfTesting')\n",
    "gp.init_data(geo_model, [surface_points.min().X * 0.95, surface_points.max().X * 1.05,\n",
    "                         surface_points.min().Y * 0.95, surface_points.max().Y * 1.05,\n",
    "                         surface_points.min().Z * 0.2, surface_points.max().Z * 1.2],\n",
    "             [50,50,50], path_i=\"surfpts.csv\", path_o=\"orientpts.csv\")"
   ]
  },
  {
   "cell_type": "code",
   "execution_count": 6,
   "metadata": {},
   "outputs": [
    {
     "data": {
      "image/png": "[encoded data removed]",
      "text/plain": [
       "<Figure size 432x288 with 1 Axes>"
      ]
     },
     "execution_count": 6,
     "metadata": {},
     "output_type": "execute_result"
    }
   ],
   "source": [
    "gp.map_series_to_surfaces(geo_model, \n",
    "                            {\"Default series\": [\"Interface {}\".format(n + 1) for n in range(3)]})"
   ]
  },
  {
   "cell_type": "code",
   "execution_count": 7,
   "metadata": {},
   "outputs": [
    {
     "data": {
      "text/plain": [
       "<gempy.plot.visualization_2d.PlotData2D at 0x1d2b87470f0>"
      ]
     },
     "execution_count": 7,
     "metadata": {},
     "output_type": "execute_result"
    },
    {
     "data": {
      "image/png": "[encoded data removed]",
      "text/plain": [
       "<Figure size 244.642x360 with 1 Axes>"
      ]
     },
     "metadata": {},
     "output_type": "display_data"
    }
   ],
   "source": [
    "gp.plot.plot_data(geo_model)"
   ]
  },
  {
   "cell_type": "code",
   "execution_count": 8,
   "metadata": {},
   "outputs": [
    {
     "name": "stdout",
     "output_type": "stream",
     "text": [
      "Compiling theano function...\n",
      "Compilation Done!\n"
     ]
    },
    {
     "data": {
      "text/html": [
       "<table border=\"1\" class=\"dataframe\">\n",
       "  <thead>\n",
       "    <tr style=\"text-align: right;\">\n",
       "      <th></th>\n",
       "      <th>values</th>\n",
       "    </tr>\n",
       "  </thead>\n",
       "  <tbody>\n",
       "    <tr>\n",
       "      <th>dtype</th>\n",
       "      <td>float64</td>\n",
       "    </tr>\n",
       "    <tr>\n",
       "      <th>output</th>\n",
       "      <td>geology</td>\n",
       "    </tr>\n",
       "    <tr>\n",
       "      <th>theano_optimizer</th>\n",
       "      <td>fast_compile</td>\n",
       "    </tr>\n",
       "    <tr>\n",
       "      <th>device</th>\n",
       "      <td>cpu</td>\n",
       "    </tr>\n",
       "    <tr>\n",
       "      <th>verbosity</th>\n",
       "      <td>[]</td>\n",
       "    </tr>\n",
       "  </tbody>\n",
       "</table>"
      ],
      "text/plain": [
       "                        values\n",
       "dtype                  float64\n",
       "output                 geology\n",
       "theano_optimizer  fast_compile\n",
       "device                     cpu\n",
       "verbosity                   []"
      ]
     },
     "execution_count": 8,
     "metadata": {},
     "output_type": "execute_result"
    }
   ],
   "source": [
    "gp.set_interpolation_data(\n",
    "    geo_model, output='geology', compile_theano=True, theano_optimizer='fast_compile'\n",
    ")"
   ]
  },
  {
   "cell_type": "code",
   "execution_count": 9,
   "metadata": {},
   "outputs": [],
   "source": [
    "sol = gp.compute_model(geo_model, compute_mesh=True)"
   ]
  },
  {
   "cell_type": "code",
   "execution_count": 10,
   "metadata": {},
   "outputs": [
    {
     "data": {
      "application/vnd.jupyter.widget-view+json": {
       "model_id": "1466b608c76f4d838d2119519c78c638",
       "version_major": 2,
       "version_minor": 0
      },
      "text/plain": [
       "VBox(children=(Figure(camera=PerspectiveCamera(fov=46.0, position=(0.0, 0.0, 2.0), quaternion=(0.0, 0.0, 0.0, …"
      ]
     },
     "metadata": {},
     "output_type": "display_data"
    }
   ],
   "source": [
    "gp.plot.plot_surfaces_3d_ipv(geo_model)"
   ]
  },
  {
   "cell_type": "code",
   "execution_count": 11,
   "metadata": {},
   "outputs": [],
   "source": [
    "from stochasticsurf import StochasticSurfaceScipy"
   ]
  },
  {
   "cell_type": "code",
   "execution_count": 12,
   "metadata": {},
   "outputs": [
    {
     "data": {
      "text/plain": [
       "['Interface 1', 'Interface 2', 'Interface 3']"
      ]
     },
     "execution_count": 12,
     "metadata": {},
     "output_type": "execute_result"
    }
   ],
   "source": [
    "surfaces = [\"Interface {}\".format(n + 1) for n in range(3)]\n",
    "surfaces"
   ]
  },
  {
   "cell_type": "code",
   "execution_count": 13,
   "metadata": {},
   "outputs": [],
   "source": [
    "stochastic_surfaces = []\n",
    "for surface in surfaces:\n",
    "    stochsurf = StochasticSurfaceScipy(geo_model, surface)  # create stochastic surf obj\n",
    "    stochastic_surfaces.append(stochsurf)  "
   ]
  },
  {
   "cell_type": "code",
   "execution_count": 14,
   "metadata": {},
   "outputs": [],
   "source": [
    "for stochsurf in stochastic_surfaces:\n",
    "    stochsurf.parametrize_surfpts_naive(factor=0.01, direction=\"Z\")"
   ]
  },
  {
   "cell_type": "raw",
   "metadata": {},
   "source": [
    "for stochsurf in stochastic_surfaces:\n",
    "    stochsurf.modify_surface_points()\n",
    "#     stochsurf"
   ]
  },
  {
   "cell_type": "code",
   "execution_count": 20,
   "metadata": {},
   "outputs": [],
   "source": [
    "StochasticSurfaceScipy.modify_surface_points_all()"
   ]
  },
  {
   "cell_type": "raw",
   "metadata": {},
   "source": [
    "for stochsurf in stochastic_surfaces:\n",
    "    stochsurf.reset()"
   ]
  },
  {
   "cell_type": "code",
   "execution_count": 21,
   "metadata": {},
   "outputs": [
    {
     "data": {
      "application/vnd.jupyter.widget-view+json": {
       "model_id": "54381c7bcf98470ba3ae40d83b1b5e3d",
       "version_major": 2,
       "version_minor": 0
      },
      "text/plain": [
       "VBox(children=(Figure(camera=PerspectiveCamera(fov=46.0, position=(0.0, 0.0, 2.0), quaternion=(0.0, 0.0, 0.0, …"
      ]
     },
     "metadata": {},
     "output_type": "display_data"
    }
   ],
   "source": [
    "sol = gp.compute_model(geo_model, compute_mesh=True)\n",
    "gp.plot.plot_surfaces_3d_ipv(geo_model)"
   ]
  },
  {
   "cell_type": "code",
   "execution_count": null,
   "metadata": {},
   "outputs": [],
   "source": []
  },
  {
   "cell_type": "code",
   "execution_count": null,
   "metadata": {},
   "outputs": [],
   "source": []
  },
  {
   "cell_type": "code",
   "execution_count": null,
   "metadata": {},
   "outputs": [],
   "source": []
  }
 ],
 "metadata": {
  "kernelspec": {
   "display_name": "Python 3",
   "language": "python",
   "name": "python3"
  },
  "language_info": {
   "codemirror_mode": {
    "name": "ipython",
    "version": 3
   },
   "file_extension": ".py",
   "mimetype": "text/x-python",
   "name": "python",
   "nbconvert_exporter": "python",
   "pygments_lexer": "ipython3",
   "version": "3.7.3"
  }
 },
 "nbformat": 4,
 "nbformat_minor": 2
}
