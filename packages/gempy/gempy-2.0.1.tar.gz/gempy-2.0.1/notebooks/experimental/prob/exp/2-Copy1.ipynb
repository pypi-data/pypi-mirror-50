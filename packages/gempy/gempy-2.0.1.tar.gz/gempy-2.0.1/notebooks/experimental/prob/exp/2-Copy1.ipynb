{
 "cells": [
  {
   "cell_type": "code",
   "execution_count": 1,
   "metadata": {},
   "outputs": [],
   "source": [
    "# These two lines are necessary only if GemPy is not installed\n",
    "import sys, os\n",
    "sys.path.append(\"../../..\")\n",
    "\n",
    "# Importing GemPy\n",
    "import gempy as gp\n",
    "\n",
    "# Embedding matplotlib figures in the notebooks\n",
    "%matplotlib inline\n",
    "\n",
    "# Importing auxiliary libraries\n",
    "import numpy as np\n",
    "import matplotlib.pyplot as plt\n",
    "\n",
    "import theano\n",
    "import theano.tensor as T\n",
    "import pymc3 as pm"
   ]
  },
  {
   "cell_type": "code",
   "execution_count": 2,
   "metadata": {},
   "outputs": [
    {
     "data": {
      "text/plain": [
       "['/anaconda3/envs/gempy/lib/python3.7/site-packages/theano']"
      ]
     },
     "execution_count": 2,
     "metadata": {},
     "output_type": "execute_result"
    }
   ],
   "source": [
    "theano.__path__"
   ]
  },
  {
   "cell_type": "markdown",
   "metadata": {},
   "source": [
    "#### Testing reduce dimension\n",
    "\n",
    "This is the behaviour we need to replicate on theano:"
   ]
  },
  {
   "cell_type": "code",
   "execution_count": 3,
   "metadata": {},
   "outputs": [
    {
     "data": {
      "text/plain": [
       "array([[ 12,  16],\n",
       "       [120, 128]])"
      ]
     },
     "execution_count": 3,
     "metadata": {},
     "output_type": "execute_result"
    }
   ],
   "source": [
    "a = np.arange(24).reshape(-1,2)\n",
    "b = [4,2]\n",
    "\n",
    "np.add.reduceat(a, np.r_[0, np.cumsum(b)[:-1]]) \n"
   ]
  },
  {
   "cell_type": "markdown",
   "metadata": {},
   "source": [
    "#### Testing gradient of repeat"
   ]
  },
  {
   "cell_type": "code",
   "execution_count": 4,
   "metadata": {
    "scrolled": false
   },
   "outputs": [
    {
     "data": {
      "text/plain": [
       "array([5, 2, 4])"
      ]
     },
     "execution_count": 4,
     "metadata": {},
     "output_type": "execute_result"
    }
   ],
   "source": [
    "T.alloc([5, 2, 4], 5).eval()"
   ]
  },
  {
   "cell_type": "code",
   "execution_count": 5,
   "metadata": {},
   "outputs": [],
   "source": [
    "a = theano.shared(np.arange(6).reshape(-1,2))\n",
    "l = theano.tensor.as_tensor([0,1])"
   ]
  },
  {
   "cell_type": "code",
   "execution_count": 6,
   "metadata": {},
   "outputs": [
    {
     "data": {
      "text/plain": [
       "TensorConstant{3}"
      ]
     },
     "execution_count": 6,
     "metadata": {},
     "output_type": "execute_result"
    }
   ],
   "source": [
    "T.as_tensor(3)"
   ]
  },
  {
   "cell_type": "code",
   "execution_count": 7,
   "metadata": {},
   "outputs": [],
   "source": [
    "\n",
    "def repeat_list(val, r_0, r_1, ref_points):\n",
    "#     val= theano.printing.Print()(val)\n",
    "#     rep = theano.printing.Print()(rep)\n",
    "    ref_points = T.set_subtensor(ref_points[r_0: r_1], T.alloc(val, r_1))\n",
    "    return ref_points\n",
    "\n",
    "ref_points_init = T.zeros((6, 2))\n",
    "ref_points = theano.scan(repeat_list,\n",
    "                         outputs_info=[ref_points_init],\n",
    "                         sequences=[a, dict(input=l, taps=[0, 1])],\n",
    "                         return_list=False)"
   ]
  },
  {
   "cell_type": "code",
   "execution_count": 8,
   "metadata": {
    "scrolled": false
   },
   "outputs": [
    {
     "data": {
      "text/plain": [
       "array([[[0., 1.],\n",
       "        [0., 0.],\n",
       "        [0., 0.],\n",
       "        [0., 0.],\n",
       "        [0., 0.],\n",
       "        [0., 0.]]])"
      ]
     },
     "execution_count": 8,
     "metadata": {},
     "output_type": "execute_result"
    }
   ],
   "source": [
    "ref_points[0].eval()"
   ]
  },
  {
   "cell_type": "code",
   "execution_count": null,
   "metadata": {},
   "outputs": [],
   "source": []
  },
  {
   "cell_type": "code",
   "execution_count": null,
   "metadata": {},
   "outputs": [],
   "source": []
  },
  {
   "cell_type": "code",
   "execution_count": null,
   "metadata": {},
   "outputs": [],
   "source": []
  },
  {
   "cell_type": "code",
   "execution_count": 9,
   "metadata": {},
   "outputs": [],
   "source": [
    "x = T.scalar()\n"
   ]
  },
  {
   "cell_type": "code",
   "execution_count": 10,
   "metadata": {},
   "outputs": [],
   "source": [
    "a = theano.shared(np.arange(6).reshape(-1,2), )"
   ]
  },
  {
   "cell_type": "code",
   "execution_count": 11,
   "metadata": {},
   "outputs": [
    {
     "data": {
      "text/plain": [
       "array([[0, 1],\n",
       "       [2, 3],\n",
       "       [4, 5]])"
      ]
     },
     "execution_count": 11,
     "metadata": {},
     "output_type": "execute_result"
    }
   ],
   "source": [
    "a.eval()"
   ]
  },
  {
   "cell_type": "code",
   "execution_count": 12,
   "metadata": {
    "scrolled": true
   },
   "outputs": [
    {
     "data": {
      "text/plain": [
       "array([[0.000e+00, 1.000e+00],\n",
       "       [0.000e+00, 1.000e+00],\n",
       "       [3.200e+01, 2.430e+02],\n",
       "       [3.200e+01, 2.430e+02],\n",
       "       [3.200e+01, 2.430e+02],\n",
       "       [3.200e+01, 2.430e+02],\n",
       "       [3.200e+01, 2.430e+02],\n",
       "       [1.024e+03, 3.125e+03],\n",
       "       [1.024e+03, 3.125e+03],\n",
       "       [1.024e+03, 3.125e+03],\n",
       "       [1.024e+03, 3.125e+03],\n",
       "       [1.024e+03, 3.125e+03],\n",
       "       [1.024e+03, 3.125e+03]])"
      ]
     },
     "execution_count": 12,
     "metadata": {},
     "output_type": "execute_result"
    }
   ],
   "source": [
    "b = T.repeat(a**x, [2,5,6], axis=0)\n",
    "b.eval({x:5})"
   ]
  },
  {
   "cell_type": "code",
   "execution_count": 13,
   "metadata": {
    "scrolled": false
   },
   "outputs": [
    {
     "name": "stderr",
     "output_type": "stream",
     "text": [
      "ERROR (theano.gof.opt): Optimization failure due to: constant_folding\n",
      "ERROR (theano.gof.opt): node: Join(TensorConstant{0}, TensorConstant{(1, 1) of 0}, TensorConstant{[[2 5 6]]})\n",
      "ERROR (theano.gof.opt): TRACEBACK:\n",
      "ERROR (theano.gof.opt): Traceback (most recent call last):\n",
      "  File \"/anaconda3/envs/gempy/lib/python3.7/site-packages/theano/gof/opt.py\", line 2034, in process_node\n",
      "    replacements = lopt.transform(node)\n",
      "  File \"/anaconda3/envs/gempy/lib/python3.7/site-packages/theano/tensor/opt.py\", line 6518, in constant_folding\n",
      "    required = thunk()\n",
      "  File \"/anaconda3/envs/gempy/lib/python3.7/site-packages/theano/gof/op.py\", line 862, in rval\n",
      "    thunk()\n",
      "  File \"/anaconda3/envs/gempy/lib/python3.7/site-packages/theano/gof/cc.py\", line 1739, in __call__\n",
      "    reraise(exc_type, exc_value, exc_trace)\n",
      "  File \"/anaconda3/envs/gempy/lib/python3.7/site-packages/six.py\", line 693, in reraise\n",
      "    raise value\n",
      "ValueError: all the input array dimensions except for the concatenation axis must match exactly\n",
      "\n",
      "ERROR (theano.gof.opt): Optimization failure due to: constant_folding\n",
      "ERROR (theano.gof.opt): node: Join(TensorConstant{0}, TensorConstant{(1, 1) of 0}, TensorConstant{[[2 5 6]]})\n",
      "ERROR (theano.gof.opt): TRACEBACK:\n",
      "ERROR (theano.gof.opt): Traceback (most recent call last):\n",
      "  File \"/anaconda3/envs/gempy/lib/python3.7/site-packages/theano/gof/opt.py\", line 2034, in process_node\n",
      "    replacements = lopt.transform(node)\n",
      "  File \"/anaconda3/envs/gempy/lib/python3.7/site-packages/theano/tensor/opt.py\", line 6518, in constant_folding\n",
      "    required = thunk()\n",
      "  File \"/anaconda3/envs/gempy/lib/python3.7/site-packages/theano/gof/op.py\", line 862, in rval\n",
      "    thunk()\n",
      "  File \"/anaconda3/envs/gempy/lib/python3.7/site-packages/theano/gof/cc.py\", line 1739, in __call__\n",
      "    reraise(exc_type, exc_value, exc_trace)\n",
      "  File \"/anaconda3/envs/gempy/lib/python3.7/site-packages/six.py\", line 693, in reraise\n",
      "    raise value\n",
      "ValueError: all the input array dimensions except for the concatenation axis must match exactly\n",
      "\n",
      "ERROR (theano.gof.opt): Optimization failure due to: constant_folding\n",
      "ERROR (theano.gof.opt): node: Join(TensorConstant{0}, TensorConstant{(1, 1) of 0}, TensorConstant{[[2 5 6]]})\n",
      "ERROR (theano.gof.opt): TRACEBACK:\n",
      "ERROR (theano.gof.opt): Traceback (most recent call last):\n",
      "  File \"/anaconda3/envs/gempy/lib/python3.7/site-packages/theano/gof/opt.py\", line 2034, in process_node\n",
      "    replacements = lopt.transform(node)\n",
      "  File \"/anaconda3/envs/gempy/lib/python3.7/site-packages/theano/tensor/opt.py\", line 6518, in constant_folding\n",
      "    required = thunk()\n",
      "  File \"/anaconda3/envs/gempy/lib/python3.7/site-packages/theano/gof/op.py\", line 862, in rval\n",
      "    thunk()\n",
      "  File \"/anaconda3/envs/gempy/lib/python3.7/site-packages/theano/gof/cc.py\", line 1739, in __call__\n",
      "    reraise(exc_type, exc_value, exc_trace)\n",
      "  File \"/anaconda3/envs/gempy/lib/python3.7/site-packages/six.py\", line 693, in reraise\n",
      "    raise value\n",
      "ValueError: all the input array dimensions except for the concatenation axis must match exactly\n",
      "\n",
      "ERROR (theano.gof.opt): Optimization failure due to: constant_folding\n",
      "ERROR (theano.gof.opt): node: Join(TensorConstant{0}, TensorConstant{(1, 1) of 0}, TensorConstant{[[2 5 6]]})\n",
      "ERROR (theano.gof.opt): TRACEBACK:\n",
      "ERROR (theano.gof.opt): Traceback (most recent call last):\n",
      "  File \"/anaconda3/envs/gempy/lib/python3.7/site-packages/theano/gof/opt.py\", line 2034, in process_node\n",
      "    replacements = lopt.transform(node)\n",
      "  File \"/anaconda3/envs/gempy/lib/python3.7/site-packages/theano/tensor/opt.py\", line 6518, in constant_folding\n",
      "    required = thunk()\n",
      "  File \"/anaconda3/envs/gempy/lib/python3.7/site-packages/theano/gof/op.py\", line 862, in rval\n",
      "    thunk()\n",
      "  File \"/anaconda3/envs/gempy/lib/python3.7/site-packages/theano/gof/cc.py\", line 1739, in __call__\n",
      "    reraise(exc_type, exc_value, exc_trace)\n",
      "  File \"/anaconda3/envs/gempy/lib/python3.7/site-packages/six.py\", line 693, in reraise\n",
      "    raise value\n",
      "ValueError: all the input array dimensions except for the concatenation axis must match exactly\n",
      "\n"
     ]
    },
    {
     "name": "stdout",
     "output_type": "stream",
     "text": [
      "1\n"
     ]
    },
    {
     "name": "stderr",
     "output_type": "stream",
     "text": [
      "ERROR (theano.gof.opt): Optimization failure due to: constant_folding\n",
      "ERROR (theano.gof.opt): node: Join(TensorConstant{0}, TensorConstant{(1, 1) of 0}, TensorConstant{[[2 5 6]]})\n",
      "ERROR (theano.gof.opt): TRACEBACK:\n",
      "ERROR (theano.gof.opt): Traceback (most recent call last):\n",
      "  File \"/anaconda3/envs/gempy/lib/python3.7/site-packages/theano/gof/opt.py\", line 2034, in process_node\n",
      "    replacements = lopt.transform(node)\n",
      "  File \"/anaconda3/envs/gempy/lib/python3.7/site-packages/theano/tensor/opt.py\", line 6518, in constant_folding\n",
      "    required = thunk()\n",
      "  File \"/anaconda3/envs/gempy/lib/python3.7/site-packages/theano/gof/op.py\", line 862, in rval\n",
      "    thunk()\n",
      "  File \"/anaconda3/envs/gempy/lib/python3.7/site-packages/theano/gof/cc.py\", line 1739, in __call__\n",
      "    reraise(exc_type, exc_value, exc_trace)\n",
      "  File \"/anaconda3/envs/gempy/lib/python3.7/site-packages/six.py\", line 693, in reraise\n",
      "    raise value\n",
      "ValueError: all the input array dimensions except for the concatenation axis must match exactly\n",
      "\n",
      "ERROR (theano.gof.opt): Optimization failure due to: constant_folding\n",
      "ERROR (theano.gof.opt): node: Join(TensorConstant{0}, TensorConstant{(1, 1) of 0}, TensorConstant{[[2 5 6]]})\n",
      "ERROR (theano.gof.opt): TRACEBACK:\n",
      "ERROR (theano.gof.opt): Traceback (most recent call last):\n",
      "  File \"/anaconda3/envs/gempy/lib/python3.7/site-packages/theano/gof/opt.py\", line 2034, in process_node\n",
      "    replacements = lopt.transform(node)\n",
      "  File \"/anaconda3/envs/gempy/lib/python3.7/site-packages/theano/tensor/opt.py\", line 6518, in constant_folding\n",
      "    required = thunk()\n",
      "  File \"/anaconda3/envs/gempy/lib/python3.7/site-packages/theano/gof/op.py\", line 862, in rval\n",
      "    thunk()\n",
      "  File \"/anaconda3/envs/gempy/lib/python3.7/site-packages/theano/gof/cc.py\", line 1739, in __call__\n",
      "    reraise(exc_type, exc_value, exc_trace)\n",
      "  File \"/anaconda3/envs/gempy/lib/python3.7/site-packages/six.py\", line 693, in reraise\n",
      "    raise value\n",
      "ValueError: all the input array dimensions except for the concatenation axis must match exactly\n",
      "\n",
      "ERROR (theano.gof.opt): Optimization failure due to: constant_folding\n",
      "ERROR (theano.gof.opt): node: Join(TensorConstant{0}, TensorConstant{(1, 1) of 0}, TensorConstant{[[2 5 6]]})\n",
      "ERROR (theano.gof.opt): TRACEBACK:\n",
      "ERROR (theano.gof.opt): Traceback (most recent call last):\n",
      "  File \"/anaconda3/envs/gempy/lib/python3.7/site-packages/theano/gof/opt.py\", line 2034, in process_node\n",
      "    replacements = lopt.transform(node)\n",
      "  File \"/anaconda3/envs/gempy/lib/python3.7/site-packages/theano/tensor/opt.py\", line 6518, in constant_folding\n",
      "    required = thunk()\n",
      "  File \"/anaconda3/envs/gempy/lib/python3.7/site-packages/theano/gof/op.py\", line 862, in rval\n",
      "    thunk()\n",
      "  File \"/anaconda3/envs/gempy/lib/python3.7/site-packages/theano/gof/cc.py\", line 1739, in __call__\n",
      "    reraise(exc_type, exc_value, exc_trace)\n",
      "  File \"/anaconda3/envs/gempy/lib/python3.7/site-packages/six.py\", line 693, in reraise\n",
      "    raise value\n",
      "ValueError: all the input array dimensions except for the concatenation axis must match exactly\n",
      "\n",
      "ERROR (theano.gof.opt): Optimization failure due to: constant_folding\n",
      "ERROR (theano.gof.opt): node: Join(TensorConstant{0}, TensorConstant{(1, 1) of 0}, TensorConstant{[[2 5 6]]})\n",
      "ERROR (theano.gof.opt): TRACEBACK:\n",
      "ERROR (theano.gof.opt): Traceback (most recent call last):\n",
      "  File \"/anaconda3/envs/gempy/lib/python3.7/site-packages/theano/gof/opt.py\", line 2034, in process_node\n",
      "    replacements = lopt.transform(node)\n",
      "  File \"/anaconda3/envs/gempy/lib/python3.7/site-packages/theano/tensor/opt.py\", line 6518, in constant_folding\n",
      "    required = thunk()\n",
      "  File \"/anaconda3/envs/gempy/lib/python3.7/site-packages/theano/gof/op.py\", line 862, in rval\n",
      "    thunk()\n",
      "  File \"/anaconda3/envs/gempy/lib/python3.7/site-packages/theano/gof/cc.py\", line 1739, in __call__\n",
      "    reraise(exc_type, exc_value, exc_trace)\n",
      "  File \"/anaconda3/envs/gempy/lib/python3.7/site-packages/six.py\", line 693, in reraise\n",
      "    raise value\n",
      "ValueError: all the input array dimensions except for the concatenation axis must match exactly\n",
      "\n"
     ]
    },
    {
     "ename": "ValueError",
     "evalue": "all the input array dimensions except for the concatenation axis must match exactly\nApply node that caused the error: Join(TensorConstant{0}, TensorConstant{(1, 1) of 0}, TensorConstant{[[2 5 6]]})\nToposort index: 7\nInputs types: [TensorType(int8, scalar), TensorType(int8, row), TensorType(int64, row)]\nInputs shapes: [(), (1, 1), (1, 3)]\nInputs strides: [(), (1, 1), (24, 8)]\nInputs values: [array(0, dtype=int8), array([[0]], dtype=int8), array([[2, 5, 6]])]\nOutputs clients: [[CumOp{None, add}(Join.0)]]\n\nBacktrace when the node is created(use Theano flag traceback.limit=N to make it longer):\n  File \"/anaconda3/envs/gempy/lib/python3.7/site-packages/theano/gradient.py\", line 1326, in access_grad_cache\n    term = access_term_cache(node)[idx]\n  File \"/anaconda3/envs/gempy/lib/python3.7/site-packages/theano/gradient.py\", line 1021, in access_term_cache\n    output_grads = [access_grad_cache(var) for var in node.outputs]\n  File \"/anaconda3/envs/gempy/lib/python3.7/site-packages/theano/gradient.py\", line 1021, in <listcomp>\n    output_grads = [access_grad_cache(var) for var in node.outputs]\n  File \"/anaconda3/envs/gempy/lib/python3.7/site-packages/theano/gradient.py\", line 1326, in access_grad_cache\n    term = access_term_cache(node)[idx]\n  File \"/anaconda3/envs/gempy/lib/python3.7/site-packages/theano/gradient.py\", line 1021, in access_term_cache\n    output_grads = [access_grad_cache(var) for var in node.outputs]\n  File \"/anaconda3/envs/gempy/lib/python3.7/site-packages/theano/gradient.py\", line 1021, in <listcomp>\n    output_grads = [access_grad_cache(var) for var in node.outputs]\n  File \"/anaconda3/envs/gempy/lib/python3.7/site-packages/theano/gradient.py\", line 1326, in access_grad_cache\n    term = access_term_cache(node)[idx]\n  File \"/anaconda3/envs/gempy/lib/python3.7/site-packages/theano/gradient.py\", line 1162, in access_term_cache\n    new_output_grads)\n\nHINT: Use the Theano flag 'exception_verbosity=high' for a debugprint and storage map footprint of this apply node.",
     "output_type": "error",
     "traceback": [
      "\u001b[0;31m---------------------------------------------------------------------------\u001b[0m",
      "\u001b[0;31mValueError\u001b[0m                                Traceback (most recent call last)",
      "\u001b[0;32m/anaconda3/envs/gempy/lib/python3.7/site-packages/theano/compile/function_module.py\u001b[0m in \u001b[0;36m__call__\u001b[0;34m(self, *args, **kwargs)\u001b[0m\n\u001b[1;32m    902\u001b[0m             \u001b[0moutputs\u001b[0m \u001b[0;34m=\u001b[0m\u001b[0;31m\\\u001b[0m\u001b[0;34m\u001b[0m\u001b[0;34m\u001b[0m\u001b[0m\n\u001b[0;32m--> 903\u001b[0;31m                 \u001b[0mself\u001b[0m\u001b[0;34m.\u001b[0m\u001b[0mfn\u001b[0m\u001b[0;34m(\u001b[0m\u001b[0;34m)\u001b[0m \u001b[0;32mif\u001b[0m \u001b[0moutput_subset\u001b[0m \u001b[0;32mis\u001b[0m \u001b[0;32mNone\u001b[0m \u001b[0;32melse\u001b[0m\u001b[0;31m\\\u001b[0m\u001b[0;34m\u001b[0m\u001b[0;34m\u001b[0m\u001b[0m\n\u001b[0m\u001b[1;32m    904\u001b[0m                 \u001b[0mself\u001b[0m\u001b[0;34m.\u001b[0m\u001b[0mfn\u001b[0m\u001b[0;34m(\u001b[0m\u001b[0moutput_subset\u001b[0m\u001b[0;34m=\u001b[0m\u001b[0moutput_subset\u001b[0m\u001b[0;34m)\u001b[0m\u001b[0;34m\u001b[0m\u001b[0;34m\u001b[0m\u001b[0m\n",
      "\u001b[0;31mValueError\u001b[0m: all the input array dimensions except for the concatenation axis must match exactly",
      "\nDuring handling of the above exception, another exception occurred:\n",
      "\u001b[0;31mValueError\u001b[0m                                Traceback (most recent call last)",
      "\u001b[0;32m<ipython-input-13-fddfb11fa434>\u001b[0m in \u001b[0;36m<module>\u001b[0;34m\u001b[0m\n\u001b[0;32m----> 1\u001b[0;31m \u001b[0mT\u001b[0m\u001b[0;34m.\u001b[0m\u001b[0mgrad\u001b[0m\u001b[0;34m(\u001b[0m\u001b[0mb\u001b[0m\u001b[0;34m[\u001b[0m\u001b[0;34m-\u001b[0m\u001b[0;36m1\u001b[0m\u001b[0;34m,\u001b[0m \u001b[0;34m-\u001b[0m\u001b[0;36m1\u001b[0m\u001b[0;34m]\u001b[0m\u001b[0;34m,\u001b[0m \u001b[0mx\u001b[0m\u001b[0;34m)\u001b[0m\u001b[0;34m.\u001b[0m\u001b[0meval\u001b[0m\u001b[0;34m(\u001b[0m\u001b[0;34m{\u001b[0m\u001b[0mx\u001b[0m\u001b[0;34m:\u001b[0m\u001b[0;36m5\u001b[0m\u001b[0;34m}\u001b[0m\u001b[0;34m)\u001b[0m\u001b[0;34m\u001b[0m\u001b[0;34m\u001b[0m\u001b[0m\n\u001b[0m",
      "\u001b[0;32m/anaconda3/envs/gempy/lib/python3.7/site-packages/theano/gof/graph.py\u001b[0m in \u001b[0;36meval\u001b[0;34m(self, inputs_to_values)\u001b[0m\n\u001b[1;32m    523\u001b[0m         \u001b[0margs\u001b[0m \u001b[0;34m=\u001b[0m \u001b[0;34m[\u001b[0m\u001b[0minputs_to_values\u001b[0m\u001b[0;34m[\u001b[0m\u001b[0mparam\u001b[0m\u001b[0;34m]\u001b[0m \u001b[0;32mfor\u001b[0m \u001b[0mparam\u001b[0m \u001b[0;32min\u001b[0m \u001b[0minputs\u001b[0m\u001b[0;34m]\u001b[0m\u001b[0;34m\u001b[0m\u001b[0;34m\u001b[0m\u001b[0m\n\u001b[1;32m    524\u001b[0m \u001b[0;34m\u001b[0m\u001b[0m\n\u001b[0;32m--> 525\u001b[0;31m         \u001b[0mrval\u001b[0m \u001b[0;34m=\u001b[0m \u001b[0mself\u001b[0m\u001b[0;34m.\u001b[0m\u001b[0m_fn_cache\u001b[0m\u001b[0;34m[\u001b[0m\u001b[0minputs\u001b[0m\u001b[0;34m]\u001b[0m\u001b[0;34m(\u001b[0m\u001b[0;34m*\u001b[0m\u001b[0margs\u001b[0m\u001b[0;34m)\u001b[0m\u001b[0;34m\u001b[0m\u001b[0;34m\u001b[0m\u001b[0m\n\u001b[0m\u001b[1;32m    526\u001b[0m \u001b[0;34m\u001b[0m\u001b[0m\n\u001b[1;32m    527\u001b[0m         \u001b[0;32mreturn\u001b[0m \u001b[0mrval\u001b[0m\u001b[0;34m\u001b[0m\u001b[0;34m\u001b[0m\u001b[0m\n",
      "\u001b[0;32m/anaconda3/envs/gempy/lib/python3.7/site-packages/theano/compile/function_module.py\u001b[0m in \u001b[0;36m__call__\u001b[0;34m(self, *args, **kwargs)\u001b[0m\n\u001b[1;32m    915\u001b[0m                     \u001b[0mnode\u001b[0m\u001b[0;34m=\u001b[0m\u001b[0mself\u001b[0m\u001b[0;34m.\u001b[0m\u001b[0mfn\u001b[0m\u001b[0;34m.\u001b[0m\u001b[0mnodes\u001b[0m\u001b[0;34m[\u001b[0m\u001b[0mself\u001b[0m\u001b[0;34m.\u001b[0m\u001b[0mfn\u001b[0m\u001b[0;34m.\u001b[0m\u001b[0mposition_of_error\u001b[0m\u001b[0;34m]\u001b[0m\u001b[0;34m,\u001b[0m\u001b[0;34m\u001b[0m\u001b[0;34m\u001b[0m\u001b[0m\n\u001b[1;32m    916\u001b[0m                     \u001b[0mthunk\u001b[0m\u001b[0;34m=\u001b[0m\u001b[0mthunk\u001b[0m\u001b[0;34m,\u001b[0m\u001b[0;34m\u001b[0m\u001b[0;34m\u001b[0m\u001b[0m\n\u001b[0;32m--> 917\u001b[0;31m                     storage_map=getattr(self.fn, 'storage_map', None))\n\u001b[0m\u001b[1;32m    918\u001b[0m             \u001b[0;32melse\u001b[0m\u001b[0;34m:\u001b[0m\u001b[0;34m\u001b[0m\u001b[0;34m\u001b[0m\u001b[0m\n\u001b[1;32m    919\u001b[0m                 \u001b[0;31m# old-style linkers raise their own exceptions\u001b[0m\u001b[0;34m\u001b[0m\u001b[0;34m\u001b[0m\u001b[0;34m\u001b[0m\u001b[0m\n",
      "\u001b[0;32m/anaconda3/envs/gempy/lib/python3.7/site-packages/theano/gof/link.py\u001b[0m in \u001b[0;36mraise_with_op\u001b[0;34m(node, thunk, exc_info, storage_map)\u001b[0m\n\u001b[1;32m    323\u001b[0m         \u001b[0;31m# extra long error message in that case.\u001b[0m\u001b[0;34m\u001b[0m\u001b[0;34m\u001b[0m\u001b[0;34m\u001b[0m\u001b[0m\n\u001b[1;32m    324\u001b[0m         \u001b[0;32mpass\u001b[0m\u001b[0;34m\u001b[0m\u001b[0;34m\u001b[0m\u001b[0m\n\u001b[0;32m--> 325\u001b[0;31m     \u001b[0mreraise\u001b[0m\u001b[0;34m(\u001b[0m\u001b[0mexc_type\u001b[0m\u001b[0;34m,\u001b[0m \u001b[0mexc_value\u001b[0m\u001b[0;34m,\u001b[0m \u001b[0mexc_trace\u001b[0m\u001b[0;34m)\u001b[0m\u001b[0;34m\u001b[0m\u001b[0;34m\u001b[0m\u001b[0m\n\u001b[0m\u001b[1;32m    326\u001b[0m \u001b[0;34m\u001b[0m\u001b[0m\n\u001b[1;32m    327\u001b[0m \u001b[0;34m\u001b[0m\u001b[0m\n",
      "\u001b[0;32m/anaconda3/envs/gempy/lib/python3.7/site-packages/six.py\u001b[0m in \u001b[0;36mreraise\u001b[0;34m(tp, value, tb)\u001b[0m\n\u001b[1;32m    690\u001b[0m                 \u001b[0mvalue\u001b[0m \u001b[0;34m=\u001b[0m \u001b[0mtp\u001b[0m\u001b[0;34m(\u001b[0m\u001b[0;34m)\u001b[0m\u001b[0;34m\u001b[0m\u001b[0;34m\u001b[0m\u001b[0m\n\u001b[1;32m    691\u001b[0m             \u001b[0;32mif\u001b[0m \u001b[0mvalue\u001b[0m\u001b[0;34m.\u001b[0m\u001b[0m__traceback__\u001b[0m \u001b[0;32mis\u001b[0m \u001b[0;32mnot\u001b[0m \u001b[0mtb\u001b[0m\u001b[0;34m:\u001b[0m\u001b[0;34m\u001b[0m\u001b[0;34m\u001b[0m\u001b[0m\n\u001b[0;32m--> 692\u001b[0;31m                 \u001b[0;32mraise\u001b[0m \u001b[0mvalue\u001b[0m\u001b[0;34m.\u001b[0m\u001b[0mwith_traceback\u001b[0m\u001b[0;34m(\u001b[0m\u001b[0mtb\u001b[0m\u001b[0;34m)\u001b[0m\u001b[0;34m\u001b[0m\u001b[0;34m\u001b[0m\u001b[0m\n\u001b[0m\u001b[1;32m    693\u001b[0m             \u001b[0;32mraise\u001b[0m \u001b[0mvalue\u001b[0m\u001b[0;34m\u001b[0m\u001b[0;34m\u001b[0m\u001b[0m\n\u001b[1;32m    694\u001b[0m         \u001b[0;32mfinally\u001b[0m\u001b[0;34m:\u001b[0m\u001b[0;34m\u001b[0m\u001b[0;34m\u001b[0m\u001b[0m\n",
      "\u001b[0;32m/anaconda3/envs/gempy/lib/python3.7/site-packages/theano/compile/function_module.py\u001b[0m in \u001b[0;36m__call__\u001b[0;34m(self, *args, **kwargs)\u001b[0m\n\u001b[1;32m    901\u001b[0m         \u001b[0;32mtry\u001b[0m\u001b[0;34m:\u001b[0m\u001b[0;34m\u001b[0m\u001b[0;34m\u001b[0m\u001b[0m\n\u001b[1;32m    902\u001b[0m             \u001b[0moutputs\u001b[0m \u001b[0;34m=\u001b[0m\u001b[0;31m\\\u001b[0m\u001b[0;34m\u001b[0m\u001b[0;34m\u001b[0m\u001b[0m\n\u001b[0;32m--> 903\u001b[0;31m                 \u001b[0mself\u001b[0m\u001b[0;34m.\u001b[0m\u001b[0mfn\u001b[0m\u001b[0;34m(\u001b[0m\u001b[0;34m)\u001b[0m \u001b[0;32mif\u001b[0m \u001b[0moutput_subset\u001b[0m \u001b[0;32mis\u001b[0m \u001b[0;32mNone\u001b[0m \u001b[0;32melse\u001b[0m\u001b[0;31m\\\u001b[0m\u001b[0;34m\u001b[0m\u001b[0;34m\u001b[0m\u001b[0m\n\u001b[0m\u001b[1;32m    904\u001b[0m                 \u001b[0mself\u001b[0m\u001b[0;34m.\u001b[0m\u001b[0mfn\u001b[0m\u001b[0;34m(\u001b[0m\u001b[0moutput_subset\u001b[0m\u001b[0;34m=\u001b[0m\u001b[0moutput_subset\u001b[0m\u001b[0;34m)\u001b[0m\u001b[0;34m\u001b[0m\u001b[0;34m\u001b[0m\u001b[0m\n\u001b[1;32m    905\u001b[0m         \u001b[0;32mexcept\u001b[0m \u001b[0mException\u001b[0m\u001b[0;34m:\u001b[0m\u001b[0;34m\u001b[0m\u001b[0;34m\u001b[0m\u001b[0m\n",
      "\u001b[0;31mValueError\u001b[0m: all the input array dimensions except for the concatenation axis must match exactly\nApply node that caused the error: Join(TensorConstant{0}, TensorConstant{(1, 1) of 0}, TensorConstant{[[2 5 6]]})\nToposort index: 7\nInputs types: [TensorType(int8, scalar), TensorType(int8, row), TensorType(int64, row)]\nInputs shapes: [(), (1, 1), (1, 3)]\nInputs strides: [(), (1, 1), (24, 8)]\nInputs values: [array(0, dtype=int8), array([[0]], dtype=int8), array([[2, 5, 6]])]\nOutputs clients: [[CumOp{None, add}(Join.0)]]\n\nBacktrace when the node is created(use Theano flag traceback.limit=N to make it longer):\n  File \"/anaconda3/envs/gempy/lib/python3.7/site-packages/theano/gradient.py\", line 1326, in access_grad_cache\n    term = access_term_cache(node)[idx]\n  File \"/anaconda3/envs/gempy/lib/python3.7/site-packages/theano/gradient.py\", line 1021, in access_term_cache\n    output_grads = [access_grad_cache(var) for var in node.outputs]\n  File \"/anaconda3/envs/gempy/lib/python3.7/site-packages/theano/gradient.py\", line 1021, in <listcomp>\n    output_grads = [access_grad_cache(var) for var in node.outputs]\n  File \"/anaconda3/envs/gempy/lib/python3.7/site-packages/theano/gradient.py\", line 1326, in access_grad_cache\n    term = access_term_cache(node)[idx]\n  File \"/anaconda3/envs/gempy/lib/python3.7/site-packages/theano/gradient.py\", line 1021, in access_term_cache\n    output_grads = [access_grad_cache(var) for var in node.outputs]\n  File \"/anaconda3/envs/gempy/lib/python3.7/site-packages/theano/gradient.py\", line 1021, in <listcomp>\n    output_grads = [access_grad_cache(var) for var in node.outputs]\n  File \"/anaconda3/envs/gempy/lib/python3.7/site-packages/theano/gradient.py\", line 1326, in access_grad_cache\n    term = access_term_cache(node)[idx]\n  File \"/anaconda3/envs/gempy/lib/python3.7/site-packages/theano/gradient.py\", line 1162, in access_term_cache\n    new_output_grads)\n\nHINT: Use the Theano flag 'exception_verbosity=high' for a debugprint and storage map footprint of this apply node."
     ]
    }
   ],
   "source": [
    "T.grad(b[-1, -1], x).eval({x:5})"
   ]
  },
  {
   "cell_type": "code",
   "execution_count": null,
   "metadata": {},
   "outputs": [],
   "source": [
    "T.as_tensor_variable([2, 4, 5])[0].eval()"
   ]
  },
  {
   "cell_type": "code",
   "execution_count": null,
   "metadata": {},
   "outputs": [],
   "source": [
    "c.eval({x:5})"
   ]
  },
  {
   "cell_type": "code",
   "execution_count": null,
   "metadata": {},
   "outputs": [],
   "source": [
    "c = T.repeat(a**x, 5, axis=0)\n",
    "T.grad(c[5, 1], x).eval({x:5})"
   ]
  },
  {
   "cell_type": "code",
   "execution_count": null,
   "metadata": {},
   "outputs": [],
   "source": [
    "T.grad(b[0,0], a).eval({x:5})"
   ]
  },
  {
   "cell_type": "code",
   "execution_count": null,
   "metadata": {},
   "outputs": [],
   "source": [
    "%debug"
   ]
  },
  {
   "cell_type": "code",
   "execution_count": null,
   "metadata": {},
   "outputs": [],
   "source": [
    "path_to_data = os.pardir+\"/../data/input_data/jan_models/\"\n",
    "\n",
    "geo_data = gp.create_data([0,1000,0,1000,0,1000],resolution=[20,2,200], \n",
    "                        path_o = path_to_data + \"model1_orientations.csv\",\n",
    "                        path_i = path_to_data + \"model1_surface_points.csv\") "
   ]
  },
  {
   "cell_type": "code",
   "execution_count": null,
   "metadata": {},
   "outputs": [],
   "source": [
    "gp.plot.plot_data(geo_data)"
   ]
  },
  {
   "cell_type": "code",
   "execution_count": null,
   "metadata": {},
   "outputs": [],
   "source": [
    "from gempy.core.interpolator import InterpolatorWeights"
   ]
  },
  {
   "cell_type": "code",
   "execution_count": null,
   "metadata": {},
   "outputs": [],
   "source": [
    "iw = InterpolatorWeights(geo_data.surface_points, geo_data.orientations, geo_data.grid, geo_data.surfaces,\n",
    "                    geo_data.series, geo_data.faults, geo_data.additional_data)"
   ]
  },
  {
   "cell_type": "code",
   "execution_count": null,
   "metadata": {},
   "outputs": [],
   "source": [
    "iw.theano_graph.input_parameters_kriging"
   ]
  },
  {
   "cell_type": "code",
   "execution_count": null,
   "metadata": {},
   "outputs": [],
   "source": [
    "geo_model_T = theano.OpFromGraph(iw.theano_graph.input_parameters_kriging,\n",
    "                                 [iw.theano_graph.compute_weights()], inline=False,\n",
    "                                 on_unused_input='warn',\n",
    "                               name='geo_model')"
   ]
  },
  {
   "cell_type": "code",
   "execution_count": null,
   "metadata": {},
   "outputs": [],
   "source": [
    "iw.set_theano_shared_kriging()\n",
    "iw.set_theano_shared_nuggets()\n",
    "iw.set_theano_shared_structure_surfaces()"
   ]
  },
  {
   "cell_type": "code",
   "execution_count": null,
   "metadata": {
    "scrolled": false
   },
   "outputs": [],
   "source": [
    "iw.compile_th_fn()"
   ]
  },
  {
   "cell_type": "code",
   "execution_count": null,
   "metadata": {},
   "outputs": [],
   "source": [
    "geo_model_T(*iw.get_python_input_weights())"
   ]
  },
  {
   "cell_type": "code",
   "execution_count": null,
   "metadata": {},
   "outputs": [],
   "source": [
    "iw.theano_graph.input_parameters_kriging"
   ]
  },
  {
   "cell_type": "code",
   "execution_count": null,
   "metadata": {},
   "outputs": [],
   "source": [
    "iw.get_python_input_weights()"
   ]
  },
  {
   "cell_type": "code",
   "execution_count": null,
   "metadata": {},
   "outputs": [],
   "source": [
    "iw.theano_graph.len_points"
   ]
  },
  {
   "cell_type": "code",
   "execution_count": null,
   "metadata": {},
   "outputs": [],
   "source": [
    "iw.theano_graph.number_of_points_per_surface_T.get_value()"
   ]
  },
  {
   "cell_type": "code",
   "execution_count": null,
   "metadata": {
    "scrolled": false
   },
   "outputs": [],
   "source": [
    "th_f = theano.function([], geo_model_T(*iw.get_python_input_weights()))"
   ]
  },
  {
   "cell_type": "code",
   "execution_count": null,
   "metadata": {
    "scrolled": false
   },
   "outputs": [],
   "source": [
    "th_f()"
   ]
  },
  {
   "cell_type": "code",
   "execution_count": null,
   "metadata": {},
   "outputs": [],
   "source": [
    "input_sh = []\n",
    "for i in iw.get_python_input_weights():\n",
    "    input_sh.append(theano.shared(i))"
   ]
  },
  {
   "cell_type": "code",
   "execution_count": null,
   "metadata": {},
   "outputs": [],
   "source": [
    "b = geo_data.interpolator.theano_graph.input_parameters_kriging"
   ]
  },
  {
   "cell_type": "code",
   "execution_count": null,
   "metadata": {},
   "outputs": [],
   "source": [
    "a = geo_model_T(*b).sum()"
   ]
  },
  {
   "cell_type": "code",
   "execution_count": null,
   "metadata": {
    "scrolled": false
   },
   "outputs": [],
   "source": [
    "theano.grad(a, b)"
   ]
  },
  {
   "cell_type": "markdown",
   "metadata": {},
   "source": [
    "## Compiling gempy with PyMC3"
   ]
  },
  {
   "cell_type": "code",
   "execution_count": null,
   "metadata": {},
   "outputs": [],
   "source": [
    "import theano\n",
    "import theano.tensor as T\n",
    "#theano.config.compute_test_value = 'ignore'"
   ]
  },
  {
   "cell_type": "code",
   "execution_count": null,
   "metadata": {
    "scrolled": false
   },
   "outputs": [],
   "source": [
    "i = geo_data.interpolator.get_python_input_block()"
   ]
  },
  {
   "cell_type": "code",
   "execution_count": null,
   "metadata": {},
   "outputs": [],
   "source": [
    "geo_model_T = theano.OpFromGraph(geo_data.interpolator.theano_graph.input_parameters_loop,\n",
    "                               geo_data.interpolator.theano_graph.compute_series(), inline=False,\n",
    "                                 on_unused_input='warn',\n",
    "                               name='geo_model')"
   ]
  },
  {
   "cell_type": "code",
   "execution_count": null,
   "metadata": {},
   "outputs": [],
   "source": [
    "T.grad(geo_model_T(*geo_data.interpolator.theano_graph.input_parameters_loop)[2][0], \n",
    "       geo_data.interpolator.theano_graph.input_parameters_loop[3])"
   ]
  },
  {
   "cell_type": "code",
   "execution_count": null,
   "metadata": {
    "scrolled": false
   },
   "outputs": [],
   "source": [
    "th_f = theano.function([], geo_model_T(*i))"
   ]
  },
  {
   "cell_type": "code",
   "execution_count": null,
   "metadata": {},
   "outputs": [],
   "source": [
    "th_f()"
   ]
  },
  {
   "cell_type": "code",
   "execution_count": null,
   "metadata": {},
   "outputs": [],
   "source": [
    "theano.config.compute_test_value = 'ignore'\n",
    "\n",
    "geo_model_T(*geo_data.interpolator.theano_graph.input_parameters_loop)"
   ]
  },
  {
   "cell_type": "code",
   "execution_count": null,
   "metadata": {},
   "outputs": [],
   "source": [
    " geo_data.interpolator.theano_graph.input_parameters_loop[0]"
   ]
  },
  {
   "cell_type": "code",
   "execution_count": null,
   "metadata": {},
   "outputs": [],
   "source": [
    "th_f = theano.function([], geo_model_T(*i))"
   ]
  },
  {
   "cell_type": "code",
   "execution_count": null,
   "metadata": {},
   "outputs": [],
   "source": [
    "th_f()"
   ]
  },
  {
   "cell_type": "code",
   "execution_count": null,
   "metadata": {},
   "outputs": [],
   "source": []
  },
  {
   "cell_type": "code",
   "execution_count": null,
   "metadata": {},
   "outputs": [],
   "source": [
    "rf = geo_data.rescaling.df.loc['values', 'rescaling factor']\n",
    "centers = geo_data.rescaling.df.loc['values', 'centers']"
   ]
  },
  {
   "cell_type": "code",
   "execution_count": null,
   "metadata": {
    "scrolled": false
   },
   "outputs": [],
   "source": [
    "import theano\n",
    "import theano.tensor as tt\n",
    "theano.config.compute_test_value = 'warn'\n",
    "# We convert a python variable to theano.shared\n",
    "input_sh = []\n",
    "for ii in i:\n",
    "    input_sh.append(theano.shared(ii))\n",
    "\n",
    "with pm.Model() as model:\n",
    "    r2 = pm.Normal('rock2', 600, 50)\n",
    "    r1 = pm.Normal('rock1', 400, 50)\n",
    "    val2 = (r2 - centers[2]) / rf + 0.5001\n",
    "    val1 = (r1 - centers[2]) / rf + 0.5001\n",
    "\n",
    "    input_sh[4] = tt.set_subtensor(input_sh[4][g.groups[1], 2], val2)\n",
    "    input_sh[4] = tt.set_subtensor(input_sh[4][g.groups[2], 2], val1)\n",
    "    \n",
    "    # we have to take the sol 0\n",
    "    geo = geo_model_T(*input_sh)[0][0][0:8000]\n",
    "    well = geo.reshape(geo_data.grid.regular_grid.resolution)[10,1,:]\n",
    "    thickness = pm.Deterministic('thickness', tt.sum(tt.eq(well, 2)) * geo_data.grid.regular_grid.dz)\n",
    "    thickness.name = 'thickness'\n",
    "    a = pm.Normal('y', mu=thickness, sd=20, observed=120)\n",
    "    b = pm.NUTS()\n",
    "    trace = pm.sample(10000, chains=1,\n",
    "                     step =b,\n",
    "                     compute_convergence_checks=True, live_plot=False)"
   ]
  },
  {
   "cell_type": "code",
   "execution_count": null,
   "metadata": {},
   "outputs": [],
   "source": [
    "pm.traceplot(trace)"
   ]
  }
 ],
 "metadata": {
  "kernelspec": {
   "display_name": "Python 3",
   "language": "python",
   "name": "python3"
  },
  "language_info": {
   "codemirror_mode": {
    "name": "ipython",
    "version": 3
   },
   "file_extension": ".py",
   "mimetype": "text/x-python",
   "name": "python",
   "nbconvert_exporter": "python",
   "pygments_lexer": "ipython3",
   "version": "3.7.3"
  }
 },
 "nbformat": 4,
 "nbformat_minor": 2
}
