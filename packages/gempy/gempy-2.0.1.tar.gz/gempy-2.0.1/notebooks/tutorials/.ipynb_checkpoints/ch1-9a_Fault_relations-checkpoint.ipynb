{
 "cells": [
  {
   "cell_type": "markdown",
   "metadata": {},
   "source": [
    "## Chapter 1.9a: Fault relations\n",
    "***\n",
    "A first example to show, which relation between faults and series can be represenented by GemPy. A set of thre horizontally deposited units is offset by a single fault. Two younger units deposited on top of these units, filling the space created by the offset (e.g. faulting occured synsedimentary).\n",
    "\n",
    "Let's start as always by importing the necessary dependencies:"
   ]
  },
  {
   "cell_type": "code",
   "execution_count": 1,
   "metadata": {},
   "outputs": [
    {
     "name": "stdout",
     "output_type": "stream",
     "text": [
      "no gdal\n"
     ]
    },
    {
     "name": "stderr",
     "output_type": "stream",
     "text": [
      "WARNING (theano.tensor.blas): Using NumPy C-API based implementation for BLAS functions.\n"
     ]
    }
   ],
   "source": [
    "# These two lines are necessary only if gempy is not installed\n",
    "import sys, os\n",
    "sys.path.append(\"../..\")\n",
    "\n",
    "# Importing gempy\n",
    "import gempy as gp\n",
    "\n",
    "# Embedding matplotlib figures into the notebooks\n",
    "#%matplotlib inline\n",
    "\n",
    "# Aux imports\n",
    "import numpy as np\n",
    "import pandas as pn\n",
    "import matplotlib\n",
    "import theano\n",
    "import qgrid\n",
    "\n",
    "#%matplotlib widget"
   ]
  },
  {
   "cell_type": "markdown",
   "metadata": {},
   "source": [
    "We import a model from an existing folder."
   ]
  },
  {
   "cell_type": "code",
   "execution_count": 2,
   "metadata": {},
   "outputs": [
    {
     "name": "stdout",
     "output_type": "stream",
     "text": [
      "Compiling theano function...\n",
      "Compilation Done!\n"
     ]
    }
   ],
   "source": [
    "geo_model = gp.load_model('Tutorial_ch1-9a_Fault_relations', path= '../data/gempy_models', recompile=True)"
   ]
  },
  {
   "cell_type": "code",
   "execution_count": 3,
   "metadata": {},
   "outputs": [
    {
     "data": {
      "text/html": [
       "<div>\n",
       "<style scoped>\n",
       "    .dataframe tbody tr th:only-of-type {\n",
       "        vertical-align: middle;\n",
       "    }\n",
       "\n",
       "    .dataframe tbody tr th {\n",
       "        vertical-align: top;\n",
       "    }\n",
       "\n",
       "    .dataframe thead th {\n",
       "        text-align: right;\n",
       "    }\n",
       "</style>\n",
       "<table border=\"1\" class=\"dataframe\">\n",
       "  <thead>\n",
       "    <tr style=\"text-align: right;\">\n",
       "      <th></th>\n",
       "      <th>fault_series1</th>\n",
       "      <th>series2</th>\n",
       "      <th>series1</th>\n",
       "      <th>basement_series</th>\n",
       "    </tr>\n",
       "  </thead>\n",
       "  <tbody>\n",
       "    <tr>\n",
       "      <th>fault_series1</th>\n",
       "      <td>False</td>\n",
       "      <td>False</td>\n",
       "      <td>True</td>\n",
       "      <td>True</td>\n",
       "    </tr>\n",
       "    <tr>\n",
       "      <th>series2</th>\n",
       "      <td>False</td>\n",
       "      <td>False</td>\n",
       "      <td>False</td>\n",
       "      <td>False</td>\n",
       "    </tr>\n",
       "    <tr>\n",
       "      <th>series1</th>\n",
       "      <td>False</td>\n",
       "      <td>False</td>\n",
       "      <td>False</td>\n",
       "      <td>False</td>\n",
       "    </tr>\n",
       "    <tr>\n",
       "      <th>basement_series</th>\n",
       "      <td>False</td>\n",
       "      <td>False</td>\n",
       "      <td>False</td>\n",
       "      <td>False</td>\n",
       "    </tr>\n",
       "  </tbody>\n",
       "</table>\n",
       "</div>"
      ],
      "text/plain": [
       "                 fault_series1  series2  series1  basement_series\n",
       "fault_series1            False    False     True             True\n",
       "series2                  False    False    False            False\n",
       "series1                  False    False    False            False\n",
       "basement_series          False    False    False            False"
      ]
     },
     "execution_count": 3,
     "metadata": {},
     "output_type": "execute_result"
    }
   ],
   "source": [
    "geo_model.faults.faults_relations_df"
   ]
  },
  {
   "cell_type": "code",
   "execution_count": 6,
   "metadata": {},
   "outputs": [
    {
     "data": {
      "text/html": [
       "<table border=\"1\" class=\"dataframe\">\n",
       "  <thead>\n",
       "    <tr style=\"text-align: right;\">\n",
       "      <th></th>\n",
       "      <th>isFault</th>\n",
       "      <th>isFinite</th>\n",
       "    </tr>\n",
       "  </thead>\n",
       "  <tbody>\n",
       "    <tr>\n",
       "      <th>fault_series1</th>\n",
       "      <td>True</td>\n",
       "      <td>False</td>\n",
       "    </tr>\n",
       "    <tr>\n",
       "      <th>series2</th>\n",
       "      <td>False</td>\n",
       "      <td>False</td>\n",
       "    </tr>\n",
       "    <tr>\n",
       "      <th>series1</th>\n",
       "      <td>False</td>\n",
       "      <td>False</td>\n",
       "    </tr>\n",
       "    <tr>\n",
       "      <th>basement_series</th>\n",
       "      <td>False</td>\n",
       "      <td>False</td>\n",
       "    </tr>\n",
       "  </tbody>\n",
       "</table>"
      ],
      "text/plain": [
       "                 isFault  isFinite\n",
       "fault_series1       True     False\n",
       "series2            False     False\n",
       "series1            False     False\n",
       "basement_series    False     False"
      ]
     },
     "execution_count": 6,
     "metadata": {},
     "output_type": "execute_result"
    }
   ],
   "source": [
    "geo_model.faults"
   ]
  },
  {
   "cell_type": "code",
   "execution_count": 9,
   "metadata": {},
   "outputs": [
    {
     "data": {
      "text/html": [
       "<style  type=\"text/css\" >\n",
       "    #T_c6d430c4_6a6f_11e9_aa0a_cfdfb097d52crow0_col4 {\n",
       "            background-color:  #015482;\n",
       "        }    #T_c6d430c4_6a6f_11e9_aa0a_cfdfb097d52crow1_col4 {\n",
       "            background-color:  #9f0052;\n",
       "        }    #T_c6d430c4_6a6f_11e9_aa0a_cfdfb097d52crow2_col4 {\n",
       "            background-color:  #ffbe00;\n",
       "        }    #T_c6d430c4_6a6f_11e9_aa0a_cfdfb097d52crow3_col4 {\n",
       "            background-color:  #728f02;\n",
       "        }    #T_c6d430c4_6a6f_11e9_aa0a_cfdfb097d52crow4_col4 {\n",
       "            background-color:  #443988;\n",
       "        }    #T_c6d430c4_6a6f_11e9_aa0a_cfdfb097d52crow5_col4 {\n",
       "            background-color:  #ff3f20;\n",
       "        }    #T_c6d430c4_6a6f_11e9_aa0a_cfdfb097d52crow6_col4 {\n",
       "            background-color:  #325916;\n",
       "        }</style>  \n",
       "<table id=\"T_c6d430c4_6a6f_11e9_aa0a_cfdfb097d52c\" > \n",
       "<thead>    <tr> \n",
       "        <th class=\"blank level0\" ></th> \n",
       "        <th class=\"col_heading level0 col0\" >surface</th> \n",
       "        <th class=\"col_heading level0 col1\" >series</th> \n",
       "        <th class=\"col_heading level0 col2\" >order_surfaces</th> \n",
       "        <th class=\"col_heading level0 col3\" >isBasement</th> \n",
       "        <th class=\"col_heading level0 col4\" >color</th> \n",
       "        <th class=\"col_heading level0 col5\" >vertices</th> \n",
       "        <th class=\"col_heading level0 col6\" >edges</th> \n",
       "        <th class=\"col_heading level0 col7\" >id</th> \n",
       "    </tr></thead> \n",
       "<tbody>    <tr> \n",
       "        <th id=\"T_c6d430c4_6a6f_11e9_aa0a_cfdfb097d52clevel0_row0\" class=\"row_heading level0 row0\" >5</th> \n",
       "        <td id=\"T_c6d430c4_6a6f_11e9_aa0a_cfdfb097d52crow0_col0\" class=\"data row0 col0\" >fault1</td> \n",
       "        <td id=\"T_c6d430c4_6a6f_11e9_aa0a_cfdfb097d52crow0_col1\" class=\"data row0 col1\" >fault_series1</td> \n",
       "        <td id=\"T_c6d430c4_6a6f_11e9_aa0a_cfdfb097d52crow0_col2\" class=\"data row0 col2\" >1</td> \n",
       "        <td id=\"T_c6d430c4_6a6f_11e9_aa0a_cfdfb097d52crow0_col3\" class=\"data row0 col3\" >False</td> \n",
       "        <td id=\"T_c6d430c4_6a6f_11e9_aa0a_cfdfb097d52crow0_col4\" class=\"data row0 col4\" >#015482</td> \n",
       "        <td id=\"T_c6d430c4_6a6f_11e9_aa0a_cfdfb097d52crow0_col5\" class=\"data row0 col5\" >nan</td> \n",
       "        <td id=\"T_c6d430c4_6a6f_11e9_aa0a_cfdfb097d52crow0_col6\" class=\"data row0 col6\" >nan</td> \n",
       "        <td id=\"T_c6d430c4_6a6f_11e9_aa0a_cfdfb097d52crow0_col7\" class=\"data row0 col7\" >1</td> \n",
       "    </tr>    <tr> \n",
       "        <th id=\"T_c6d430c4_6a6f_11e9_aa0a_cfdfb097d52clevel0_row1\" class=\"row_heading level0 row1\" >7</th> \n",
       "        <td id=\"T_c6d430c4_6a6f_11e9_aa0a_cfdfb097d52crow1_col0\" class=\"data row1 col0\" >rock5</td> \n",
       "        <td id=\"T_c6d430c4_6a6f_11e9_aa0a_cfdfb097d52crow1_col1\" class=\"data row1 col1\" >series2</td> \n",
       "        <td id=\"T_c6d430c4_6a6f_11e9_aa0a_cfdfb097d52crow1_col2\" class=\"data row1 col2\" >1</td> \n",
       "        <td id=\"T_c6d430c4_6a6f_11e9_aa0a_cfdfb097d52crow1_col3\" class=\"data row1 col3\" >False</td> \n",
       "        <td id=\"T_c6d430c4_6a6f_11e9_aa0a_cfdfb097d52crow1_col4\" class=\"data row1 col4\" >#9f0052</td> \n",
       "        <td id=\"T_c6d430c4_6a6f_11e9_aa0a_cfdfb097d52crow1_col5\" class=\"data row1 col5\" >nan</td> \n",
       "        <td id=\"T_c6d430c4_6a6f_11e9_aa0a_cfdfb097d52crow1_col6\" class=\"data row1 col6\" >nan</td> \n",
       "        <td id=\"T_c6d430c4_6a6f_11e9_aa0a_cfdfb097d52crow1_col7\" class=\"data row1 col7\" >2</td> \n",
       "    </tr>    <tr> \n",
       "        <th id=\"T_c6d430c4_6a6f_11e9_aa0a_cfdfb097d52clevel0_row2\" class=\"row_heading level0 row2\" >6</th> \n",
       "        <td id=\"T_c6d430c4_6a6f_11e9_aa0a_cfdfb097d52crow2_col0\" class=\"data row2 col0\" >rock4</td> \n",
       "        <td id=\"T_c6d430c4_6a6f_11e9_aa0a_cfdfb097d52crow2_col1\" class=\"data row2 col1\" >series2</td> \n",
       "        <td id=\"T_c6d430c4_6a6f_11e9_aa0a_cfdfb097d52crow2_col2\" class=\"data row2 col2\" >2</td> \n",
       "        <td id=\"T_c6d430c4_6a6f_11e9_aa0a_cfdfb097d52crow2_col3\" class=\"data row2 col3\" >False</td> \n",
       "        <td id=\"T_c6d430c4_6a6f_11e9_aa0a_cfdfb097d52crow2_col4\" class=\"data row2 col4\" >#ffbe00</td> \n",
       "        <td id=\"T_c6d430c4_6a6f_11e9_aa0a_cfdfb097d52crow2_col5\" class=\"data row2 col5\" >nan</td> \n",
       "        <td id=\"T_c6d430c4_6a6f_11e9_aa0a_cfdfb097d52crow2_col6\" class=\"data row2 col6\" >nan</td> \n",
       "        <td id=\"T_c6d430c4_6a6f_11e9_aa0a_cfdfb097d52crow2_col7\" class=\"data row2 col7\" >3</td> \n",
       "    </tr>    <tr> \n",
       "        <th id=\"T_c6d430c4_6a6f_11e9_aa0a_cfdfb097d52clevel0_row3\" class=\"row_heading level0 row3\" >0</th> \n",
       "        <td id=\"T_c6d430c4_6a6f_11e9_aa0a_cfdfb097d52crow3_col0\" class=\"data row3 col0\" >rock3</td> \n",
       "        <td id=\"T_c6d430c4_6a6f_11e9_aa0a_cfdfb097d52crow3_col1\" class=\"data row3 col1\" >series1</td> \n",
       "        <td id=\"T_c6d430c4_6a6f_11e9_aa0a_cfdfb097d52crow3_col2\" class=\"data row3 col2\" >1</td> \n",
       "        <td id=\"T_c6d430c4_6a6f_11e9_aa0a_cfdfb097d52crow3_col3\" class=\"data row3 col3\" >False</td> \n",
       "        <td id=\"T_c6d430c4_6a6f_11e9_aa0a_cfdfb097d52crow3_col4\" class=\"data row3 col4\" >#728f02</td> \n",
       "        <td id=\"T_c6d430c4_6a6f_11e9_aa0a_cfdfb097d52crow3_col5\" class=\"data row3 col5\" >nan</td> \n",
       "        <td id=\"T_c6d430c4_6a6f_11e9_aa0a_cfdfb097d52crow3_col6\" class=\"data row3 col6\" >nan</td> \n",
       "        <td id=\"T_c6d430c4_6a6f_11e9_aa0a_cfdfb097d52crow3_col7\" class=\"data row3 col7\" >4</td> \n",
       "    </tr>    <tr> \n",
       "        <th id=\"T_c6d430c4_6a6f_11e9_aa0a_cfdfb097d52clevel0_row4\" class=\"row_heading level0 row4\" >3</th> \n",
       "        <td id=\"T_c6d430c4_6a6f_11e9_aa0a_cfdfb097d52crow4_col0\" class=\"data row4 col0\" >rock2</td> \n",
       "        <td id=\"T_c6d430c4_6a6f_11e9_aa0a_cfdfb097d52crow4_col1\" class=\"data row4 col1\" >series1</td> \n",
       "        <td id=\"T_c6d430c4_6a6f_11e9_aa0a_cfdfb097d52crow4_col2\" class=\"data row4 col2\" >2</td> \n",
       "        <td id=\"T_c6d430c4_6a6f_11e9_aa0a_cfdfb097d52crow4_col3\" class=\"data row4 col3\" >False</td> \n",
       "        <td id=\"T_c6d430c4_6a6f_11e9_aa0a_cfdfb097d52crow4_col4\" class=\"data row4 col4\" >#443988</td> \n",
       "        <td id=\"T_c6d430c4_6a6f_11e9_aa0a_cfdfb097d52crow4_col5\" class=\"data row4 col5\" >nan</td> \n",
       "        <td id=\"T_c6d430c4_6a6f_11e9_aa0a_cfdfb097d52crow4_col6\" class=\"data row4 col6\" >nan</td> \n",
       "        <td id=\"T_c6d430c4_6a6f_11e9_aa0a_cfdfb097d52crow4_col7\" class=\"data row4 col7\" >5</td> \n",
       "    </tr>    <tr> \n",
       "        <th id=\"T_c6d430c4_6a6f_11e9_aa0a_cfdfb097d52clevel0_row5\" class=\"row_heading level0 row5\" >1</th> \n",
       "        <td id=\"T_c6d430c4_6a6f_11e9_aa0a_cfdfb097d52crow5_col0\" class=\"data row5 col0\" >rock1</td> \n",
       "        <td id=\"T_c6d430c4_6a6f_11e9_aa0a_cfdfb097d52crow5_col1\" class=\"data row5 col1\" >series1</td> \n",
       "        <td id=\"T_c6d430c4_6a6f_11e9_aa0a_cfdfb097d52crow5_col2\" class=\"data row5 col2\" >3</td> \n",
       "        <td id=\"T_c6d430c4_6a6f_11e9_aa0a_cfdfb097d52crow5_col3\" class=\"data row5 col3\" >False</td> \n",
       "        <td id=\"T_c6d430c4_6a6f_11e9_aa0a_cfdfb097d52crow5_col4\" class=\"data row5 col4\" >#ff3f20</td> \n",
       "        <td id=\"T_c6d430c4_6a6f_11e9_aa0a_cfdfb097d52crow5_col5\" class=\"data row5 col5\" >nan</td> \n",
       "        <td id=\"T_c6d430c4_6a6f_11e9_aa0a_cfdfb097d52crow5_col6\" class=\"data row5 col6\" >nan</td> \n",
       "        <td id=\"T_c6d430c4_6a6f_11e9_aa0a_cfdfb097d52crow5_col7\" class=\"data row5 col7\" >6</td> \n",
       "    </tr>    <tr> \n",
       "        <th id=\"T_c6d430c4_6a6f_11e9_aa0a_cfdfb097d52clevel0_row6\" class=\"row_heading level0 row6\" >4</th> \n",
       "        <td id=\"T_c6d430c4_6a6f_11e9_aa0a_cfdfb097d52crow6_col0\" class=\"data row6 col0\" >basement</td> \n",
       "        <td id=\"T_c6d430c4_6a6f_11e9_aa0a_cfdfb097d52crow6_col1\" class=\"data row6 col1\" >basement_series</td> \n",
       "        <td id=\"T_c6d430c4_6a6f_11e9_aa0a_cfdfb097d52crow6_col2\" class=\"data row6 col2\" >1</td> \n",
       "        <td id=\"T_c6d430c4_6a6f_11e9_aa0a_cfdfb097d52crow6_col3\" class=\"data row6 col3\" >True</td> \n",
       "        <td id=\"T_c6d430c4_6a6f_11e9_aa0a_cfdfb097d52crow6_col4\" class=\"data row6 col4\" >#325916</td> \n",
       "        <td id=\"T_c6d430c4_6a6f_11e9_aa0a_cfdfb097d52crow6_col5\" class=\"data row6 col5\" >nan</td> \n",
       "        <td id=\"T_c6d430c4_6a6f_11e9_aa0a_cfdfb097d52crow6_col6\" class=\"data row6 col6\" >nan</td> \n",
       "        <td id=\"T_c6d430c4_6a6f_11e9_aa0a_cfdfb097d52crow6_col7\" class=\"data row6 col7\" >7</td> \n",
       "    </tr></tbody> \n",
       "</table> "
      ],
      "text/plain": [
       "    surface           series  order_surfaces  isBasement    color vertices edges  id\n",
       "5    fault1    fault_series1               1       False  #015482      NaN   NaN   1\n",
       "7     rock5          series2               1       False  #9f0052      NaN   NaN   2\n",
       "6     rock4          series2               2       False  #ffbe00      NaN   NaN   3\n",
       "0     rock3          series1               1       False  #728f02      NaN   NaN   4\n",
       "3     rock2          series1               2       False  #443988      NaN   NaN   5\n",
       "1     rock1          series1               3       False  #ff3f20      NaN   NaN   6\n",
       "4  basement  basement_series               1        True  #325916      NaN   NaN   7"
      ]
     },
     "execution_count": 9,
     "metadata": {},
     "output_type": "execute_result"
    }
   ],
   "source": [
    "geo_model.surfaces"
   ]
  },
  {
   "cell_type": "code",
   "execution_count": 11,
   "metadata": {},
   "outputs": [
    {
     "data": {
      "text/plain": [
       "\n",
       "Lithology ids \n",
       "  [7. 7. 7. ... 2. 2. 2.] "
      ]
     },
     "execution_count": 11,
     "metadata": {},
     "output_type": "execute_result"
    }
   ],
   "source": [
    "gp.compute_model(geo_model, compute_mesh=False)"
   ]
  },
  {
   "cell_type": "code",
   "execution_count": 12,
   "metadata": {
    "scrolled": false
   },
   "outputs": [
    {
     "data": {
      "text/plain": [
       "<gempy.core.qgrid_integration.QgridModelIntegration at 0x7f391a79ce48>"
      ]
     },
     "execution_count": 12,
     "metadata": {},
     "output_type": "execute_result"
    }
   ],
   "source": [
    "gp.activate_interactive_df(geo_model)"
   ]
  },
  {
   "cell_type": "markdown",
   "metadata": {},
   "source": [
    "It is important to get df with get to update the models sinde the `activate_interactive` method is called"
   ]
  },
  {
   "cell_type": "markdown",
   "metadata": {},
   "source": [
    "If necessary, functions to display input data:"
   ]
  },
  {
   "cell_type": "code",
   "execution_count": 13,
   "metadata": {
    "scrolled": true
   },
   "outputs": [],
   "source": [
    "#geo_model.qi.get('orientations')"
   ]
  },
  {
   "cell_type": "code",
   "execution_count": 14,
   "metadata": {
    "scrolled": true
   },
   "outputs": [],
   "source": [
    "#geo_model.qi.get('surface_points')"
   ]
  },
  {
   "cell_type": "markdown",
   "metadata": {},
   "source": [
    "Displaying the order of the different surfaces and series:"
   ]
  },
  {
   "cell_type": "code",
   "execution_count": 15,
   "metadata": {},
   "outputs": [
    {
     "data": {
      "application/vnd.jupyter.widget-view+json": {
       "model_id": "db6fa1578ae74ae6babda51cd5ac9434",
       "version_major": 2,
       "version_minor": 0
      },
      "text/plain": [
       "QgridWidget(grid_options={'fullWidthRows': True, 'syncColumnCellResize': True, 'forceFitColumns': True, 'defau…"
      ]
     },
     "metadata": {},
     "output_type": "display_data"
    }
   ],
   "source": [
    "geo_model.qi.get('surfaces')"
   ]
  },
  {
   "cell_type": "code",
   "execution_count": 16,
   "metadata": {},
   "outputs": [
    {
     "data": {
      "application/vnd.jupyter.widget-view+json": {
       "model_id": "a24cc31de5d24b8eb0f8000a32ec18c8",
       "version_major": 2,
       "version_minor": 0
      },
      "text/plain": [
       "QgridWidget(grid_options={'fullWidthRows': True, 'syncColumnCellResize': True, 'forceFitColumns': True, 'defau…"
      ]
     },
     "metadata": {},
     "output_type": "display_data"
    }
   ],
   "source": [
    "geo_model.qi.get('series')"
   ]
  },
  {
   "cell_type": "code",
   "execution_count": 17,
   "metadata": {},
   "outputs": [
    {
     "data": {
      "application/vnd.jupyter.widget-view+json": {
       "model_id": "916249ee7aea422090ff9eb388f6475b",
       "version_major": 2,
       "version_minor": 0
      },
      "text/plain": [
       "QgridWidget(grid_options={'fullWidthRows': True, 'syncColumnCellResize': True, 'forceFitColumns': True, 'defau…"
      ]
     },
     "metadata": {},
     "output_type": "display_data"
    }
   ],
   "source": [
    "geo_model.qi.get('faults')"
   ]
  },
  {
   "cell_type": "code",
   "execution_count": 18,
   "metadata": {},
   "outputs": [
    {
     "data": {
      "application/vnd.jupyter.widget-view+json": {
       "model_id": "5eefc9dc3ce145878b9c2810a05fa0e6",
       "version_major": 2,
       "version_minor": 0
      },
      "text/plain": [
       "QgridWidget(grid_options={'fullWidthRows': True, 'syncColumnCellResize': True, 'forceFitColumns': True, 'defau…"
      ]
     },
     "metadata": {},
     "output_type": "display_data"
    }
   ],
   "source": [
    "geo_model.qi.get('faults_relations')"
   ]
  },
  {
   "cell_type": "markdown",
   "metadata": {},
   "source": [
    "Displaying the input data:"
   ]
  },
  {
   "cell_type": "code",
   "execution_count": 19,
   "metadata": {
    "scrolled": false
   },
   "outputs": [
    {
     "data": {
      "text/plain": [
       "<gempy.plot.visualization_2d.PlotData2D at 0x7f3920d03208>"
      ]
     },
     "execution_count": 19,
     "metadata": {},
     "output_type": "execute_result"
    },
    {
     "data": {
      "image/png": "[encoded data removed]",
      "text/plain": [
       "<Figure size 360x360 with 1 Axes>"
      ]
     },
     "metadata": {},
     "output_type": "display_data"
    }
   ],
   "source": [
    "gp.plot.plot_data(geo_model, direction='y')"
   ]
  },
  {
   "cell_type": "code",
   "execution_count": 21,
   "metadata": {},
   "outputs": [
    {
     "name": "stdout",
     "output_type": "stream",
     "text": [
      "{'cmap': <matplotlib.colors.ListedColormap object at 0x7f392084cc88>, 'norm': <matplotlib.colors.Normalize object at 0x7f392084c438>}\n"
     ]
    },
    {
     "data": {
      "text/plain": [
       "<gempy.plot.visualization_2d.PlotData2D at 0x7f391b5e8780>"
      ]
     },
     "execution_count": 21,
     "metadata": {},
     "output_type": "execute_result"
    },
    {
     "data": {
      "image/png": "[encoded data removed]",
      "text/plain": [
       "<Figure size 360x360 with 1 Axes>"
      ]
     },
     "metadata": {},
     "output_type": "display_data"
    }
   ],
   "source": [
    "gp.plot.plot_section(geo_model, 25, show_data=True)"
   ]
  },
  {
   "cell_type": "markdown",
   "metadata": {},
   "source": [
    "Save model if changes were made:"
   ]
  },
  {
   "cell_type": "code",
   "execution_count": 22,
   "metadata": {},
   "outputs": [
    {
     "name": "stdout",
     "output_type": "stream",
     "text": [
      "Directory already exists, files will be overwritten\n"
     ]
    },
    {
     "data": {
      "text/plain": [
       "True"
      ]
     },
     "execution_count": 22,
     "metadata": {},
     "output_type": "execute_result"
    }
   ],
   "source": [
    "geo_model.save_model('Tutorial_ch1-9a_Fault_relations')"
   ]
  },
  {
   "cell_type": "code",
   "execution_count": null,
   "metadata": {},
   "outputs": [],
   "source": []
  }
 ],
 "metadata": {
  "kernelspec": {
   "display_name": "Python 3",
   "language": "python",
   "name": "python3"
  },
  "language_info": {
   "codemirror_mode": {
    "name": "ipython",
    "version": 3
   },
   "file_extension": ".py",
   "mimetype": "text/x-python",
   "name": "python",
   "nbconvert_exporter": "python",
   "pygments_lexer": "ipython3",
   "version": "3.7.3"
  },
  "latex_envs": {
   "LaTeX_envs_menu_present": true,
   "autocomplete": true,
   "bibliofile": "biblio.bib",
   "cite_by": "apalike",
   "current_citInitial": 1,
   "eqLabelWithNumbers": true,
   "eqNumInitial": 1,
   "hotkeys": {
    "equation": "Ctrl-E",
    "itemize": "Ctrl-I"
   },
   "labels_anchors": false,
   "latex_user_defs": false,
   "report_style_numbering": false,
   "user_envs_cfg": false
  },
  "toc": {
   "colors": {
    "hover_highlight": "#DAA520",
    "running_highlight": "#FF0000",
    "selected_highlight": "#FFD700"
   },
   "moveMenuLeft": true,
   "nav_menu": {
    "height": "11px",
    "width": "251px"
   },
   "navigate_menu": true,
   "number_sections": true,
   "sideBar": true,
   "threshold": 4,
   "toc_cell": false,
   "toc_section_display": "block",
   "toc_window_display": false,
   "widenNotebook": false
  }
 },
 "nbformat": 4,
 "nbformat_minor": 2
}
