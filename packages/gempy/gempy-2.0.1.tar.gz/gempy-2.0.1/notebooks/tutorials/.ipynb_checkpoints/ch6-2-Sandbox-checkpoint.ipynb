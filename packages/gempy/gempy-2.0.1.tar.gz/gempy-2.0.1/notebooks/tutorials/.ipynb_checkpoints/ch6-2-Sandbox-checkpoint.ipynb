{
 "cells": [
  {
   "cell_type": "markdown",
   "metadata": {},
   "source": [
    "## GemPy Sandbox Addon Tutorial\n"
   ]
  },
  {
   "cell_type": "markdown",
   "metadata": {},
   "source": [
    "The Sandbox addon to GemPyconsists in general of four classes:\n",
    "    - Kinect class: handles the aquisition of depth data \n",
    "    - Beamer class: handles the frame composition\n",
    "    - Calibration class: methods and variables to manage the relation of the sandbox, the beamer and the kinect sensor\n",
    "    - Model Class: stores the gempy model \n",
    "It is possible to have multiple instances of each class and you can construct a sandbox with multiple beamers and more than one kinect sensor. This tutorial however covers only the most simple case of a sandbox with a single kinect and beamer. Lets start with importing the required dependancies:"
   ]
  },
  {
   "cell_type": "code",
   "execution_count": null,
   "metadata": {
    "collapsed": true
   },
   "outputs": [],
   "source": [
    "import sys, os\n",
    "sys.path.append(\"../..\")\n",
    "\n",
    "import gempy as gp\n",
    "import gempy.addons.sandbox as sb "
   ]
  },
  {
   "cell_type": "markdown",
   "metadata": {},
   "source": [
    "### Initialize Kinect\n",
    "To use the Kinect and the Sandbox addon you need The Freenect Drivers to be installed with Python wrappers (see here for Instructions:https://github.com/OpenKinect/libfreenect/tree/master/wrappers/python ) \n",
    "If you do not have a kinect connected you can use the Argument `dummy=True`  for testing. `Kinect.get_frame()` and `Kinect.get_filtered_frame()` will return a synthetic depth frame, other functions may not work"
   ]
  },
  {
   "cell_type": "code",
   "execution_count": null,
   "metadata": {},
   "outputs": [],
   "source": [
    "kinect=sb.Kinect(dummy=True)\n",
    "#kinect=sb.Kinect()"
   ]
  },
  {
   "cell_type": "code",
   "execution_count": null,
   "metadata": {},
   "outputs": [],
   "source": [
    "d=kinect.get_filtered_frame()\n",
    "print(d)"
   ]
  },
  {
   "cell_type": "markdown",
   "metadata": {},
   "source": [
    "## Initialize beamer \n",
    "create a beamer instance and set the correct native resolution of your beamer. Starting the stream will open a new window in your browser that shows the output and refreshs it in 100ms intervalls. In Chrome use Cmd+Shift+F to hide the Browser bar."
   ]
  },
  {
   "cell_type": "code",
   "execution_count": null,
   "metadata": {},
   "outputs": [],
   "source": [
    "beamer=sb.Beamer()"
   ]
  },
  {
   "cell_type": "code",
   "execution_count": null,
   "metadata": {},
   "outputs": [],
   "source": [
    "beamer.resolution=(1920,1080)"
   ]
  },
  {
   "cell_type": "code",
   "execution_count": null,
   "metadata": {},
   "outputs": [],
   "source": [
    "beamer.start_stream()"
   ]
  },
  {
   "cell_type": "markdown",
   "metadata": {},
   "source": [
    "## Calibration\n",
    "A calibration instance is automatically created with the beamer instance. Adjust the Values in the IpyWidget until your beamer window is in alignment with the topography in the sandbox. Calibration can be saved and loaded with `calibration.save()` and `calibration.load()`"
   ]
  },
  {
   "cell_type": "code",
   "execution_count": null,
   "metadata": {},
   "outputs": [],
   "source": [
    "calibration=beamer.calibration  "
   ]
  },
  {
   "cell_type": "code",
   "execution_count": null,
   "metadata": {},
   "outputs": [],
   "source": [
    "calibration.create()\n",
    "#beamer.calibrate() #alternative commands, does the same.\n"
   ]
  },
  {
   "cell_type": "code",
   "execution_count": null,
   "metadata": {},
   "outputs": [],
   "source": [
    "calibration.save(calibration_file=\"calibration.dat\")"
   ]
  },
  {
   "cell_type": "code",
   "execution_count": null,
   "metadata": {},
   "outputs": [],
   "source": [
    "calibration.load(calibration_file=\"calibration.dat\")"
   ]
  },
  {
   "cell_type": "markdown",
   "metadata": {},
   "source": [
    "## Create a model\n",
    "The sandbox can visualize any kind of Gempy model. Check out the other tutorials or this you6ube video [link] to learn how to create your own model.\n",
    "We use the model from Chapter 1:"
   ]
  },
  {
   "cell_type": "code",
   "execution_count": null,
   "metadata": {},
   "outputs": [],
   "source": [
    "geo_data = gp.create_data([0,2000,0,2000,0,2000],[100,100,100], \n",
    "                          path_o = os.pardir+\"/input_data/tut_chapter1/simple_fault_model_orientations.csv\", # importing orientation (foliation) data\n",
    "                          path_i = os.pardir+\"/input_data/tut_chapter1/simple_fault_model_points.csv\") # importing point-positional interface data\n",
    "\n",
    "gp.set_series(geo_data, {\"Fault_Series\":'Main_Fault', \n",
    "                         \"Strat_Series\": ('Sandstone_2','Siltstone',\n",
    "                                          'Shale', 'Sandstone_1')},\n",
    "                       order_series = [\"Fault_Series\", 'Strat_Series'],\n",
    "                       order_formations=['Main_Fault', \n",
    "                                         'Sandstone_2','Siltstone',\n",
    "                                         'Shale', 'Sandstone_1',\n",
    "                                         ], verbose=0) \n",
    "\n",
    "interp_data = gp.InterpolatorData(geo_data, u_grade=[1,1],\n",
    "                                  output='geology', compile_theano=True,\n",
    "                                  theano_optimizer='fast_run',\n",
    "                                  verbose=[])"
   ]
  },
  {
   "cell_type": "markdown",
   "metadata": {},
   "source": [
    "## Prepare the model for the sandbox\n",
    "The Interpolator object we just created is what defines the model in the sandbox.\n",
    "First we create a Model instance out of it, then we perform some steps to prepare the Model for the Sandbox."
   ]
  },
  {
   "cell_type": "code",
   "execution_count": null,
   "metadata": {},
   "outputs": [],
   "source": [
    "model=sb.Model(interp_data)\n"
   ]
  },
  {
   "cell_type": "code",
   "execution_count": null,
   "metadata": {},
   "outputs": [],
   "source": [
    "model.calculate_scales()\n",
    "model.create_empty_depth_grid()\n",
    "\n",
    "#model.setup(start_stream=False) #conveniently, the steps above are performed automatically when calling this function"
   ]
  },
  {
   "cell_type": "markdown",
   "metadata": {},
   "source": [
    "## Run Sandbox\n",
    "Our Sandbox is now set up and ready to go. \n",
    "You can start the runloop with a simple command:"
   ]
  },
  {
   "cell_type": "code",
   "execution_count": null,
   "metadata": {},
   "outputs": [],
   "source": [
    "sb.run_model(model)"
   ]
  },
  {
   "cell_type": "markdown",
   "metadata": {},
   "source": [
    "by default the depth data is filtered and smoothed to get clearer and less noisy layer boundaries.  If you need more control or want to play around you can also define your own run loops:\n",
    "    "
   ]
  },
  {
   "cell_type": "code",
   "execution_count": null,
   "metadata": {},
   "outputs": [],
   "source": [
    "while True:\n",
    "    depth = kin.get_frame()\n",
    "    model.update_grid(depth)\n",
    "    model.render_frame(outfile=\"current_frame.png\")\n",
    "    beamer.show(input=\"current_frame.png\")"
   ]
  },
  {
   "cell_type": "code",
   "execution_count": null,
   "metadata": {},
   "outputs": [],
   "source": [
    "while True:\n",
    "    depth = kin.get_filtered_frame(n_frames=10, sigma_gauss=2)\n",
    "    model.update_grid(depth)\n",
    "    model.render_frame(outfile=\"current_frame.png\")\n",
    "    beamer.show(input=\"current_frame.png\")"
   ]
  }
 ],
 "metadata": {
  "kernelspec": {
   "display_name": "Python 3",
   "language": "python",
   "name": "python3"
  },
  "language_info": {
   "codemirror_mode": {
    "name": "ipython",
    "version": 3
   },
   "file_extension": ".py",
   "mimetype": "text/x-python",
   "name": "python",
   "nbconvert_exporter": "python",
   "pygments_lexer": "ipython3",
   "version": "3.7.3"
  }
 },
 "nbformat": 4,
 "nbformat_minor": 2
}
