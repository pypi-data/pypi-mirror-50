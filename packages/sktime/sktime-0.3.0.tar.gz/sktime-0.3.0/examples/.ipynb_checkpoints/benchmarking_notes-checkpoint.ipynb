{
 "cells": [
  {
   "cell_type": "code",
   "execution_count": 1,
   "metadata": {},
   "outputs": [],
   "source": [
    "from sktime.experiments.orchestrator import Orchestrator\n",
    "from sktime.highlevel import TSCTask, TSCStrategy\n",
    "from sktime.classifiers.ensemble import TimeSeriesForestClassifier\n",
    "from sktime.experiments.data import DatasetHDD\n",
    "from sktime.model_selection import PresplitFilesCV\n",
    "from sktime.experiments.data import ResultHDD\n",
    "from sktime.experiments.data import DatasetLoadFromDir\n",
    "from sklearn.model_selection import KFold\n",
    "\n",
    "from sktime.experiments.analysis import AnalyseResults\n",
    "from sktime.experiments.scores import ScoreAccuracy"
   ]
  },
  {
   "cell_type": "code",
   "execution_count": 2,
   "metadata": {},
   "outputs": [],
   "source": [
    "#or create them automatically\n",
    "dts_loader = DatasetLoadFromDir(root_dir='../sktime/datasets/data')\n",
    "datasets = dts_loader.load_datasets()\n",
    "datasets = [dataset for dataset in datasets if dataset.__dict__['_dataset_name'] in ('ItalyPowerDemand', 'GunPoint', 'ArrowHead')]\n",
    "datasets.extend(datasets)"
   ]
  },
  {
   "cell_type": "code",
   "execution_count": 7,
   "metadata": {},
   "outputs": [],
   "source": [
    "tasks = [TSCTask(target='target')] * len(datasets)\n",
    "\n",
    "#create strategies\n",
    "clf = TimeSeriesForestClassifier(n_estimators=1)\n",
    "strategies = [TSCStrategy(clf, name=f'clf{i}') for i in range(4)]\n",
    "\n",
    "#result backend\n",
    "resultHDD = ResultHDD(results_save_dir='data/results', strategies_save_dir='data/trained_strategies')\n",
    "\n",
    "orchestrator = Orchestrator(datasets=datasets,\n",
    "                            tasks=tasks,  \n",
    "                            strategies=strategies, \n",
    "                            cv=PresplitFilesCV(), \n",
    "                            result=resultHDD)\n",
    "orchestrator.run()"
   ]
  },
  {
   "cell_type": "markdown",
   "metadata": {},
   "source": [
    "Having obtained the list of results objects we can run some statistical tests"
   ]
  },
  {
   "cell_type": "code",
   "execution_count": 55,
   "metadata": {},
   "outputs": [],
   "source": [
    "analyse = AnalyseResults(resultHDD)"
   ]
  },
  {
   "cell_type": "code",
   "execution_count": 56,
   "metadata": {},
   "outputs": [],
   "source": [
    "strategy_dict, losses_df = analyse.prediction_errors(metric= ScoreAccuracy())"
   ]
  },
  {
   "cell_type": "markdown",
   "metadata": {},
   "source": [
    "The strategy_dict is used as an argument to the function performing the statistical tests and visualizations. Currently, the following functions are implemented:"
   ]
  },
  {
   "cell_type": "code",
   "execution_count": 57,
   "metadata": {},
   "outputs": [
    {
     "data": {
      "text/plain": [
       "defaultdict(list,\n",
       "            {'TimeSeriesForestClassifier': [0.8414396887159533,\n",
       "              0.5402298850574713,\n",
       "              0.825503355704698],\n",
       "             'clf1': [0.7733463035019456,\n",
       "              0.6954022988505747,\n",
       "              0.8120805369127517],\n",
       "             'clf0': [0.9591439688715954,\n",
       "              0.6091954022988506,\n",
       "              0.8120805369127517],\n",
       "             'clf2': [0.9523346303501945,\n",
       "              0.5172413793103449,\n",
       "              0.8657718120805369],\n",
       "             'clf3': [0.8813229571984436,\n",
       "              0.6609195402298851,\n",
       "              0.912751677852349]})"
      ]
     },
     "execution_count": 57,
     "metadata": {},
     "output_type": "execute_result"
    }
   ],
   "source": [
    "strategy_dict"
   ]
  },
  {
   "cell_type": "code",
   "execution_count": 58,
   "metadata": {
    "scrolled": false
   },
   "outputs": [
    {
     "name": "stderr",
     "output_type": "stream",
     "text": [
      "/Users/mloning/.conda/envs/sktime/lib/python3.7/site-packages/scipy/stats/morestats.py:2778: UserWarning: Warning: sample size too small for normal approximation.\n",
      "  warnings.warn(\"Warning: sample size too small for normal approximation.\")\n",
      "/Users/mloning/.conda/envs/sktime/lib/python3.7/site-packages/scipy/stats/morestats.py:2803: RuntimeWarning: invalid value encountered in double_scalars\n",
      "  z = (T - mn - correction) / se\n",
      "/Users/mloning/.conda/envs/sktime/lib/python3.7/site-packages/scipy/stats/morestats.py:2778: UserWarning: Warning: sample size too small for normal approximation.\n",
      "  warnings.warn(\"Warning: sample size too small for normal approximation.\")\n",
      "/Users/mloning/.conda/envs/sktime/lib/python3.7/site-packages/scipy/stats/morestats.py:2778: UserWarning: Warning: sample size too small for normal approximation.\n",
      "  warnings.warn(\"Warning: sample size too small for normal approximation.\")\n",
      "/Users/mloning/.conda/envs/sktime/lib/python3.7/site-packages/scipy/stats/morestats.py:2778: UserWarning: Warning: sample size too small for normal approximation.\n",
      "  warnings.warn(\"Warning: sample size too small for normal approximation.\")\n",
      "/Users/mloning/.conda/envs/sktime/lib/python3.7/site-packages/scipy/stats/morestats.py:2778: UserWarning: Warning: sample size too small for normal approximation.\n",
      "  warnings.warn(\"Warning: sample size too small for normal approximation.\")\n",
      "/Users/mloning/.conda/envs/sktime/lib/python3.7/site-packages/scipy/stats/morestats.py:2778: UserWarning: Warning: sample size too small for normal approximation.\n",
      "  warnings.warn(\"Warning: sample size too small for normal approximation.\")\n",
      "/Users/mloning/.conda/envs/sktime/lib/python3.7/site-packages/scipy/stats/morestats.py:2778: UserWarning: Warning: sample size too small for normal approximation.\n",
      "  warnings.warn(\"Warning: sample size too small for normal approximation.\")\n",
      "/Users/mloning/.conda/envs/sktime/lib/python3.7/site-packages/scipy/stats/morestats.py:2778: UserWarning: Warning: sample size too small for normal approximation.\n",
      "  warnings.warn(\"Warning: sample size too small for normal approximation.\")\n",
      "/Users/mloning/.conda/envs/sktime/lib/python3.7/site-packages/scipy/stats/morestats.py:2778: UserWarning: Warning: sample size too small for normal approximation.\n",
      "  warnings.warn(\"Warning: sample size too small for normal approximation.\")\n",
      "/Users/mloning/.conda/envs/sktime/lib/python3.7/site-packages/scipy/stats/morestats.py:2778: UserWarning: Warning: sample size too small for normal approximation.\n",
      "  warnings.warn(\"Warning: sample size too small for normal approximation.\")\n",
      "/Users/mloning/.conda/envs/sktime/lib/python3.7/site-packages/scipy/stats/morestats.py:2778: UserWarning: Warning: sample size too small for normal approximation.\n",
      "  warnings.warn(\"Warning: sample size too small for normal approximation.\")\n",
      "/Users/mloning/.conda/envs/sktime/lib/python3.7/site-packages/scipy/stats/morestats.py:2778: UserWarning: Warning: sample size too small for normal approximation.\n",
      "  warnings.warn(\"Warning: sample size too small for normal approximation.\")\n",
      "/Users/mloning/.conda/envs/sktime/lib/python3.7/site-packages/scipy/stats/morestats.py:2778: UserWarning: Warning: sample size too small for normal approximation.\n",
      "  warnings.warn(\"Warning: sample size too small for normal approximation.\")\n",
      "/Users/mloning/.conda/envs/sktime/lib/python3.7/site-packages/scipy/stats/morestats.py:2778: UserWarning: Warning: sample size too small for normal approximation.\n",
      "  warnings.warn(\"Warning: sample size too small for normal approximation.\")\n",
      "/Users/mloning/.conda/envs/sktime/lib/python3.7/site-packages/scipy/stats/morestats.py:2778: UserWarning: Warning: sample size too small for normal approximation.\n",
      "  warnings.warn(\"Warning: sample size too small for normal approximation.\")\n",
      "/Users/mloning/.conda/envs/sktime/lib/python3.7/site-packages/scipy/stats/morestats.py:2778: UserWarning: Warning: sample size too small for normal approximation.\n",
      "  warnings.warn(\"Warning: sample size too small for normal approximation.\")\n",
      "/Users/mloning/.conda/envs/sktime/lib/python3.7/site-packages/scipy/stats/morestats.py:2778: UserWarning: Warning: sample size too small for normal approximation.\n",
      "  warnings.warn(\"Warning: sample size too small for normal approximation.\")\n",
      "/Users/mloning/.conda/envs/sktime/lib/python3.7/site-packages/scipy/stats/morestats.py:2778: UserWarning: Warning: sample size too small for normal approximation.\n",
      "  warnings.warn(\"Warning: sample size too small for normal approximation.\")\n",
      "/Users/mloning/.conda/envs/sktime/lib/python3.7/site-packages/scipy/stats/morestats.py:2778: UserWarning: Warning: sample size too small for normal approximation.\n",
      "  warnings.warn(\"Warning: sample size too small for normal approximation.\")\n",
      "/Users/mloning/.conda/envs/sktime/lib/python3.7/site-packages/scipy/stats/morestats.py:2778: UserWarning: Warning: sample size too small for normal approximation.\n",
      "  warnings.warn(\"Warning: sample size too small for normal approximation.\")\n",
      "/Users/mloning/.conda/envs/sktime/lib/python3.7/site-packages/scipy/stats/morestats.py:2778: UserWarning: Warning: sample size too small for normal approximation.\n",
      "  warnings.warn(\"Warning: sample size too small for normal approximation.\")\n",
      "/Users/mloning/.conda/envs/sktime/lib/python3.7/site-packages/scipy/stats/morestats.py:2778: UserWarning: Warning: sample size too small for normal approximation.\n",
      "  warnings.warn(\"Warning: sample size too small for normal approximation.\")\n",
      "/Users/mloning/.conda/envs/sktime/lib/python3.7/site-packages/scipy/stats/morestats.py:2778: UserWarning: Warning: sample size too small for normal approximation.\n",
      "  warnings.warn(\"Warning: sample size too small for normal approximation.\")\n",
      "/Users/mloning/.conda/envs/sktime/lib/python3.7/site-packages/scipy/stats/morestats.py:2778: UserWarning: Warning: sample size too small for normal approximation.\n",
      "  warnings.warn(\"Warning: sample size too small for normal approximation.\")\n",
      "/Users/mloning/.conda/envs/sktime/lib/python3.7/site-packages/scipy/stats/morestats.py:2778: UserWarning: Warning: sample size too small for normal approximation.\n",
      "  warnings.warn(\"Warning: sample size too small for normal approximation.\")\n"
     ]
    },
    {
     "data": {
      "text/html": [
       "<div>\n",
       "<style scoped>\n",
       "    .dataframe tbody tr th:only-of-type {\n",
       "        vertical-align: middle;\n",
       "    }\n",
       "\n",
       "    .dataframe tbody tr th {\n",
       "        vertical-align: top;\n",
       "    }\n",
       "\n",
       "    .dataframe thead th {\n",
       "        text-align: right;\n",
       "    }\n",
       "</style>\n",
       "<table border=\"1\" class=\"dataframe\">\n",
       "  <thead>\n",
       "    <tr style=\"text-align: right;\">\n",
       "      <th></th>\n",
       "      <th>TimeSeriesForestClassifier</th>\n",
       "      <th>clf0</th>\n",
       "      <th>clf1</th>\n",
       "      <th>clf2</th>\n",
       "      <th>clf3</th>\n",
       "    </tr>\n",
       "  </thead>\n",
       "  <tbody>\n",
       "    <tr>\n",
       "      <th>TimeSeriesForestClassifier</th>\n",
       "      <td>-1.000000</td>\n",
       "      <td>0.996623</td>\n",
       "      <td>0.999666</td>\n",
       "      <td>0.994920</td>\n",
       "      <td>0.970078</td>\n",
       "    </tr>\n",
       "    <tr>\n",
       "      <th>clf0</th>\n",
       "      <td>0.996623</td>\n",
       "      <td>-1.000000</td>\n",
       "      <td>0.981728</td>\n",
       "      <td>0.999999</td>\n",
       "      <td>0.998736</td>\n",
       "    </tr>\n",
       "    <tr>\n",
       "      <th>clf1</th>\n",
       "      <td>0.999666</td>\n",
       "      <td>0.981728</td>\n",
       "      <td>-1.000000</td>\n",
       "      <td>0.976393</td>\n",
       "      <td>0.921617</td>\n",
       "    </tr>\n",
       "    <tr>\n",
       "      <th>clf2</th>\n",
       "      <td>0.994920</td>\n",
       "      <td>0.999999</td>\n",
       "      <td>0.976393</td>\n",
       "      <td>-1.000000</td>\n",
       "      <td>0.999312</td>\n",
       "    </tr>\n",
       "    <tr>\n",
       "      <th>clf3</th>\n",
       "      <td>0.970078</td>\n",
       "      <td>0.998736</td>\n",
       "      <td>0.921617</td>\n",
       "      <td>0.999312</td>\n",
       "      <td>-1.000000</td>\n",
       "    </tr>\n",
       "  </tbody>\n",
       "</table>\n",
       "</div>"
      ],
      "text/plain": [
       "                            TimeSeriesForestClassifier      clf0      clf1  \\\n",
       "TimeSeriesForestClassifier                   -1.000000  0.996623  0.999666   \n",
       "clf0                                          0.996623 -1.000000  0.981728   \n",
       "clf1                                          0.999666  0.981728 -1.000000   \n",
       "clf2                                          0.994920  0.999999  0.976393   \n",
       "clf3                                          0.970078  0.998736  0.921617   \n",
       "\n",
       "                                clf2      clf3  \n",
       "TimeSeriesForestClassifier  0.994920  0.970078  \n",
       "clf0                        0.999999  0.998736  \n",
       "clf1                        0.976393  0.921617  \n",
       "clf2                       -1.000000  0.999312  \n",
       "clf3                        0.999312 -1.000000  "
      ]
     },
     "execution_count": 58,
     "metadata": {},
     "output_type": "execute_result"
    },
    {
     "data": {
      "image/png": "[encoded data removed]",
      "text/plain": [
       "<Figure size 432x288 with 1 Axes>"
      ]
     },
     "metadata": {
      "needs_background": "light"
     },
     "output_type": "display_data"
    }
   ],
   "source": [
    "analyse.average_and_std_error(strategy_dict)\n",
    "analyse.plot_boxcharts(strategy_dict)\n",
    "analyse.ranks(strategy_dict)\n",
    "analyse.t_test(strategy_dict)\n",
    "analyse.sign_test(strategy_dict)\n",
    "analyse.ranksum_test(strategy_dict)\n",
    "analyse.t_test_with_bonferroni_correction(strategy_dict)\n",
    "analyse.wilcoxon_test(strategy_dict)\n",
    "analyse.friedman_test(strategy_dict)\n",
    "analyse.nemenyi(strategy_dict)"
   ]
  },
  {
   "cell_type": "code",
   "execution_count": null,
   "metadata": {},
   "outputs": [],
   "source": []
  }
 ],
 "metadata": {
  "kernelspec": {
   "display_name": "Python 3",
   "language": "python",
   "name": "python3"
  },
  "language_info": {
   "codemirror_mode": {
    "name": "ipython",
    "version": 3
   },
   "file_extension": ".py",
   "mimetype": "text/x-python",
   "name": "python",
   "nbconvert_exporter": "python",
   "pygments_lexer": "ipython3",
   "version": "3.7.3"
  }
 },
 "nbformat": 4,
 "nbformat_minor": 2
}
