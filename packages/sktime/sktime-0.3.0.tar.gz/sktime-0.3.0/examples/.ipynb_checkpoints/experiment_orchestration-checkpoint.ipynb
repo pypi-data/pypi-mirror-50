{
 "cells": [
  {
   "cell_type": "markdown",
   "metadata": {},
   "source": [
    "# Orchestration of prediction experiments with sktime\n",
    "\n",
    "* Evaluate the predictive performance one or more strategies on one or more datasets\n",
    "\n",
    "[Github weblink](https://github.com/alan-turing-institute/sktime/blob/master/examples/experiment_orchestration.ipynb)"
   ]
  },
  {
   "cell_type": "code",
   "execution_count": 1,
   "metadata": {},
   "outputs": [],
   "source": [
    "from sktime.experiments.orchestrator import Orchestrator\n",
    "from sktime.experiments.data import DatasetHDD\n",
    "from sktime.experiments.data import ResultHDD\n",
    "from sktime.experiments.data import DatasetLoadFromDir\n",
    "from sktime.experiments.analysis import AnalyseResults\n",
    "from sktime.experiments.scores import ScoreAccuracy\n",
    "\n",
    "from sktime.model_selection import PresplitFilesCV\n",
    "from sktime.highlevel.strategies import TSCStrategy\n",
    "from sktime.highlevel.tasks import TSCTask\n",
    "from sktime.classifiers.compose import TimeSeriesForestClassifier\n",
    "\n",
    "from sklearn.model_selection import KFold\n",
    "import pandas as pd\n",
    "import os"
   ]
  },
  {
   "cell_type": "code",
   "execution_count": 2,
   "metadata": {},
   "outputs": [],
   "source": [
    "# get path to the sktime datasets \n",
    "import sktime\n",
    "repodir = os.path.dirname(sktime.__file__)\n",
    "datadir = os.path.join(repodir, \"datasets/data/\")\n",
    "resultsdir = 'results'"
   ]
  },
  {
   "cell_type": "code",
   "execution_count": 3,
   "metadata": {},
   "outputs": [],
   "source": [
    "# create the task and dataset objects manually for each dataset\n",
    "dts_ArrowHead = DatasetHDD(dataset_loc=os.path.join(datadir, 'ArrowHead'), dataset_name='ArrowHead')\n",
    "task_ArrowHead = TSCTask(target='target')\n",
    "\n",
    "dts_Beef = DatasetHDD(dataset_loc=os.path.join(datadir, 'Beef'), dataset_name='Beef')\n",
    "task_Beef = TSCTask(target='target')"
   ]
  },
  {
   "cell_type": "code",
   "execution_count": 4,
   "metadata": {},
   "outputs": [],
   "source": [
    "# or create them automatically\n",
    "dts_loader = DatasetLoadFromDir(root_dir=datadir)\n",
    "datasets = dts_loader.load_datasets()\n",
    "\n",
    "selected_datasets = ['ItalyPowerDemand', 'ArrowHead', 'GunPoint']\n",
    "datasets = [dataset for dataset in datasets if dataset.dataset_name in selected_datasets]\n",
    "\n",
    "tasks = [TSCTask(target='target') for _ in range(len(datasets))]"
   ]
  },
  {
   "cell_type": "code",
   "execution_count": 5,
   "metadata": {},
   "outputs": [],
   "source": [
    "# create strategies\n",
    "strategies = [TSCStrategy(TimeSeriesForestClassifier(n_estimators=10), name='tsf10'), \n",
    "              TSCStrategy(TimeSeriesForestClassifier(n_estimators=100), name='tsf20')]\n",
    "\n",
    "# define results output\n",
    "resultHDD = ResultHDD(results_save_dir=resultsdir,\n",
    "                      strategies_save_dir=resultsdir)\n",
    "\n",
    "# run orchestrator\n",
    "orchestrator = Orchestrator(datasets=datasets,\n",
    "                            tasks=tasks,  \n",
    "                            strategies=strategies,\n",
    "                            cv=PresplitFilesCV(), \n",
    "                            result=resultHDD)\n",
    " \n",
    "orchestrator.run()"
   ]
  },
  {
   "cell_type": "code",
   "execution_count": 6,
   "metadata": {},
   "outputs": [],
   "source": [
    "# The results list can be obtained from loading the saved csv files by:\n",
    "results = resultHDD.load()"
   ]
  },
  {
   "cell_type": "markdown",
   "metadata": {},
   "source": [
    "Having obtained the list of results objects we can compute the score and run some statistical tests"
   ]
  },
  {
   "cell_type": "code",
   "execution_count": 7,
   "metadata": {},
   "outputs": [
    {
     "data": {
      "text/html": [
       "<div>\n",
       "<style scoped>\n",
       "    .dataframe tbody tr th:only-of-type {\n",
       "        vertical-align: middle;\n",
       "    }\n",
       "\n",
       "    .dataframe tbody tr th {\n",
       "        vertical-align: top;\n",
       "    }\n",
       "\n",
       "    .dataframe thead th {\n",
       "        text-align: right;\n",
       "    }\n",
       "</style>\n",
       "<table border=\"1\" class=\"dataframe\">\n",
       "  <thead>\n",
       "    <tr style=\"text-align: right;\">\n",
       "      <th></th>\n",
       "      <th>tsf10</th>\n",
       "      <th>tsf20</th>\n",
       "    </tr>\n",
       "  </thead>\n",
       "  <tbody>\n",
       "    <tr>\n",
       "      <th>ItalyPowerDemand</th>\n",
       "      <td>0.962062</td>\n",
       "      <td>0.965953</td>\n",
       "    </tr>\n",
       "    <tr>\n",
       "      <th>ArrowHead</th>\n",
       "      <td>0.666667</td>\n",
       "      <td>0.724138</td>\n",
       "    </tr>\n",
       "    <tr>\n",
       "      <th>GunPoint</th>\n",
       "      <td>0.932886</td>\n",
       "      <td>0.946309</td>\n",
       "    </tr>\n",
       "  </tbody>\n",
       "</table>\n",
       "</div>"
      ],
      "text/plain": [
       "                     tsf10     tsf20\n",
       "ItalyPowerDemand  0.962062  0.965953\n",
       "ArrowHead         0.666667  0.724138\n",
       "GunPoint          0.932886  0.946309"
      ]
     },
     "execution_count": 7,
     "metadata": {},
     "output_type": "execute_result"
    }
   ],
   "source": [
    "analyse = AnalyseResults(resultHDD)\n",
    "\n",
    "strategy_dict, losses_df = analyse.prediction_errors(metric=ScoreAccuracy())\n",
    "pd.DataFrame(strategy_dict, index=selected_datasets)"
   ]
  },
  {
   "cell_type": "markdown",
   "metadata": {},
   "source": [
    "The strategy_dict is used as an argument to the function performing the statistical tests and visualizations. Currently, the following functions are implemented:"
   ]
  },
  {
   "cell_type": "markdown",
   "metadata": {
    "scrolled": false
   },
   "source": [
    "* `analyse.average_and_std_error(strategy_dict)`\n",
    "* `analyse.plot_boxcharts(strategy_dict)`\n",
    "* `analyse.ranks(strategy_dict)`\n",
    "* `analyse.t_test(strategy_dict)`\n",
    "* `analyse.sign_test(strategy_dict)`\n",
    "* `analyse.ranksum_test(strategy_dict)`\n",
    "* `analyse.t_test_with_bonferroni_correction(strategy_dict)`\n",
    "* `analyse.wilcoxon_test(strategy_dict)`\n",
    "* `analyse.friedman_test(strategy_dict)`\n",
    "* `analyse.nemenyi(strategy_dict)`"
   ]
  }
 ],
 "metadata": {
  "kernelspec": {
   "display_name": "Python 3",
   "language": "python",
   "name": "python3"
  },
  "language_info": {
   "codemirror_mode": {
    "name": "ipython",
    "version": 3
   },
   "file_extension": ".py",
   "mimetype": "text/x-python",
   "name": "python",
   "nbconvert_exporter": "python",
   "pygments_lexer": "ipython3",
   "version": "3.7.1"
  }
 },
 "nbformat": 4,
 "nbformat_minor": 2
}
