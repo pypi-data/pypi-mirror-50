{
 "cells": [
  {
   "cell_type": "code",
   "execution_count": 1,
   "metadata": {},
   "outputs": [],
   "source": [
    "import sys\n",
    "sys.path.append('..')\n",
    "\n",
    "from sklearn.datasets import load_diabetes\n",
    "from sklearn.preprocessing import minmax_scale\n",
    "import numpy as np\n",
    "import korr"
   ]
  },
  {
   "cell_type": "markdown",
   "metadata": {},
   "source": [
    "load demo data set"
   ]
  },
  {
   "cell_type": "code",
   "execution_count": 2,
   "metadata": {},
   "outputs": [],
   "source": [
    "y = minmax_scale(load_diabetes().target) > 0.5\n",
    "X = minmax_scale(load_diabetes().data, axis=0) > 0.5"
   ]
  },
  {
   "cell_type": "markdown",
   "metadata": {},
   "source": [
    "compute correlation"
   ]
  },
  {
   "cell_type": "code",
   "execution_count": 3,
   "metadata": {},
   "outputs": [
    {
     "name": "stdout",
     "output_type": "stream",
     "text": [
      "CPU times: user 27.1 ms, sys: 4.24 ms, total: 31.3 ms\n",
      "Wall time: 29.4 ms\n"
     ]
    }
   ],
   "source": [
    "%%time\n",
    "y_rho, y_pval, x_corr, x_pval = korr.slice_yx(*korr.mcc(np.c_[y, X]), ydim=1)"
   ]
  },
  {
   "cell_type": "markdown",
   "metadata": {},
   "source": [
    "## What means best?\n",
    "Find the best correlations, i.e. from \n",
    "\n",
    "1. The highest `|r|` that are `|r|>=rlim` and `p<plim`\n",
    "2. From the remaining, the next best `|r|` that are still  `p<plim`\n",
    "3. From the remaining, the lowest `p`"
   ]
  },
  {
   "cell_type": "markdown",
   "metadata": {},
   "source": [
    "## What means worst?\n",
    "Find the worst correlations, i.e. from \n",
    "\n",
    "1. The highest `p` that are `p>plim` and `|r|<rlim` \n",
    "2. From the remaining, the next worst `p` that are `|r|<rlim` \n",
    "3. From the remaining, the lowest `|r|`"
   ]
  },
  {
   "cell_type": "markdown",
   "metadata": {},
   "source": [
    "## Find the best and worst\n",
    "`y_rho` and `y_pval` are 1D vectors"
   ]
  },
  {
   "cell_type": "code",
   "execution_count": 4,
   "metadata": {},
   "outputs": [
    {
     "data": {
      "text/plain": [
       "(array([ 0.15184347,  0.04412473,  0.3570418 ,  0.35969325,  0.22976149,\n",
       "         0.08161941, -0.24120479,  0.2036893 ,  0.46442679,  0.14314348]),\n",
       " array([1.41131872e-03, 3.53579142e-01, 6.08402217e-14, 3.96349620e-14,\n",
       "        1.36218919e-06, 8.61712396e-02, 3.95646823e-07, 1.84952766e-05,\n",
       "        0.00000000e+00, 2.61747636e-03]))"
      ]
     },
     "execution_count": 4,
     "metadata": {},
     "output_type": "execute_result"
    }
   ],
   "source": [
    "y_rho, y_pval"
   ]
  },
  {
   "cell_type": "markdown",
   "metadata": {},
   "source": [
    "Find the \"best\" five relationships"
   ]
  },
  {
   "cell_type": "code",
   "execution_count": 5,
   "metadata": {},
   "outputs": [
    {
     "name": "stdout",
     "output_type": "stream",
     "text": [
      "[[ 8.          0.46442679  0.        ]\n",
      " [ 3.          0.35969325  0.        ]\n",
      " [ 2.          0.3570418   0.        ]\n",
      " [ 6.         -0.24120479  0.        ]\n",
      " [ 4.          0.22976149  0.        ]]\n"
     ]
    }
   ],
   "source": [
    "idx = korr.find_best(y_rho, y_pval, m=5, rlim=.4, plim=0.01)\n",
    "print(np.c_[idx, y_rho[idx], y_pval[idx].round(2)])"
   ]
  },
  {
   "cell_type": "markdown",
   "metadata": {},
   "source": [
    "Find the five \"worst\" relationships, i.e. unrelated correlations"
   ]
  },
  {
   "cell_type": "code",
   "execution_count": 6,
   "metadata": {},
   "outputs": [
    {
     "name": "stdout",
     "output_type": "stream",
     "text": [
      "[[1.         0.04412473 0.35      ]\n",
      " [5.         0.08161941 0.09      ]\n",
      " [9.         0.14314348 0.        ]\n",
      " [0.         0.15184347 0.        ]\n",
      " [7.         0.2036893  0.        ]]\n"
     ]
    }
   ],
   "source": [
    "idx = korr.find_worst(y_rho, y_pval, m=5)\n",
    "print(np.c_[idx, y_rho[idx], y_pval[idx].round(2)])"
   ]
  },
  {
   "cell_type": "markdown",
   "metadata": {},
   "source": [
    "## Process Correlations Matrices\n",
    "`x_corr` and `x_pval` are 2D matricies.\n",
    "First flatten these matricies, i.e. convert it to a pair index table."
   ]
  },
  {
   "cell_type": "code",
   "execution_count": 7,
   "metadata": {},
   "outputs": [],
   "source": [
    "df = korr.flatten(x_corr, x_pval)\n",
    "#df.head()"
   ]
  },
  {
   "cell_type": "code",
   "execution_count": 8,
   "metadata": {},
   "outputs": [
    {
     "data": {
      "text/html": [
       "<div>\n",
       "<style scoped>\n",
       "    .dataframe tbody tr th:only-of-type {\n",
       "        vertical-align: middle;\n",
       "    }\n",
       "\n",
       "    .dataframe tbody tr th {\n",
       "        vertical-align: top;\n",
       "    }\n",
       "\n",
       "    .dataframe thead th {\n",
       "        text-align: right;\n",
       "    }\n",
       "</style>\n",
       "<table border=\"1\" class=\"dataframe\">\n",
       "  <thead>\n",
       "    <tr style=\"text-align: right;\">\n",
       "      <th></th>\n",
       "      <th>i</th>\n",
       "      <th>j</th>\n",
       "      <th>cor</th>\n",
       "      <th>pval</th>\n",
       "    </tr>\n",
       "  </thead>\n",
       "  <tbody>\n",
       "    <tr>\n",
       "      <th>30</th>\n",
       "      <td>4</td>\n",
       "      <td>5</td>\n",
       "      <td>0.619078</td>\n",
       "      <td>0.000000e+00</td>\n",
       "    </tr>\n",
       "    <tr>\n",
       "      <th>36</th>\n",
       "      <td>5</td>\n",
       "      <td>7</td>\n",
       "      <td>0.414115</td>\n",
       "      <td>0.000000e+00</td>\n",
       "    </tr>\n",
       "    <tr>\n",
       "      <th>33</th>\n",
       "      <td>4</td>\n",
       "      <td>8</td>\n",
       "      <td>0.404320</td>\n",
       "      <td>0.000000e+00</td>\n",
       "    </tr>\n",
       "    <tr>\n",
       "      <th>42</th>\n",
       "      <td>7</td>\n",
       "      <td>8</td>\n",
       "      <td>0.362236</td>\n",
       "      <td>2.620126e-14</td>\n",
       "    </tr>\n",
       "    <tr>\n",
       "      <th>2</th>\n",
       "      <td>0</td>\n",
       "      <td>3</td>\n",
       "      <td>0.332697</td>\n",
       "      <td>2.660872e-12</td>\n",
       "    </tr>\n",
       "    <tr>\n",
       "      <th>44</th>\n",
       "      <td>8</td>\n",
       "      <td>9</td>\n",
       "      <td>0.322831</td>\n",
       "      <td>1.143852e-11</td>\n",
       "    </tr>\n",
       "    <tr>\n",
       "      <th>32</th>\n",
       "      <td>4</td>\n",
       "      <td>7</td>\n",
       "      <td>0.319981</td>\n",
       "      <td>1.729528e-11</td>\n",
       "    </tr>\n",
       "    <tr>\n",
       "      <th>28</th>\n",
       "      <td>3</td>\n",
       "      <td>8</td>\n",
       "      <td>0.315754</td>\n",
       "      <td>3.172407e-11</td>\n",
       "    </tr>\n",
       "    <tr>\n",
       "      <th>13</th>\n",
       "      <td>1</td>\n",
       "      <td>6</td>\n",
       "      <td>-0.285395</td>\n",
       "      <td>1.972194e-09</td>\n",
       "    </tr>\n",
       "    <tr>\n",
       "      <th>40</th>\n",
       "      <td>6</td>\n",
       "      <td>8</td>\n",
       "      <td>-0.275855</td>\n",
       "      <td>6.650564e-09</td>\n",
       "    </tr>\n",
       "  </tbody>\n",
       "</table>\n",
       "</div>"
      ],
      "text/plain": [
       "    i  j       cor          pval\n",
       "30  4  5  0.619078  0.000000e+00\n",
       "36  5  7  0.414115  0.000000e+00\n",
       "33  4  8  0.404320  0.000000e+00\n",
       "42  7  8  0.362236  2.620126e-14\n",
       "2   0  3  0.332697  2.660872e-12\n",
       "44  8  9  0.322831  1.143852e-11\n",
       "32  4  7  0.319981  1.729528e-11\n",
       "28  3  8  0.315754  3.172407e-11\n",
       "13  1  6 -0.285395  1.972194e-09\n",
       "40  6  8 -0.275855  6.650564e-09"
      ]
     },
     "execution_count": 8,
     "metadata": {},
     "output_type": "execute_result"
    }
   ],
   "source": [
    "idx = korr.find_best(df['cor'].values, df['pval'].values, m=10, rlim=.4, plim=0.01)\n",
    "df.iloc[idx]"
   ]
  },
  {
   "cell_type": "code",
   "execution_count": 9,
   "metadata": {},
   "outputs": [
    {
     "data": {
      "text/html": [
       "<div>\n",
       "<style scoped>\n",
       "    .dataframe tbody tr th:only-of-type {\n",
       "        vertical-align: middle;\n",
       "    }\n",
       "\n",
       "    .dataframe tbody tr th {\n",
       "        vertical-align: top;\n",
       "    }\n",
       "\n",
       "    .dataframe thead th {\n",
       "        text-align: right;\n",
       "    }\n",
       "</style>\n",
       "<table border=\"1\" class=\"dataframe\">\n",
       "  <thead>\n",
       "    <tr style=\"text-align: right;\">\n",
       "      <th></th>\n",
       "      <th>i</th>\n",
       "      <th>j</th>\n",
       "      <th>cor</th>\n",
       "      <th>pval</th>\n",
       "    </tr>\n",
       "  </thead>\n",
       "  <tbody>\n",
       "    <tr>\n",
       "      <th>31</th>\n",
       "      <td>4</td>\n",
       "      <td>6</td>\n",
       "      <td>0.002757</td>\n",
       "      <td>0.953785</td>\n",
       "    </tr>\n",
       "    <tr>\n",
       "      <th>9</th>\n",
       "      <td>1</td>\n",
       "      <td>2</td>\n",
       "      <td>0.010208</td>\n",
       "      <td>0.830073</td>\n",
       "    </tr>\n",
       "    <tr>\n",
       "      <th>5</th>\n",
       "      <td>0</td>\n",
       "      <td>6</td>\n",
       "      <td>0.013254</td>\n",
       "      <td>0.780511</td>\n",
       "    </tr>\n",
       "    <tr>\n",
       "      <th>1</th>\n",
       "      <td>0</td>\n",
       "      <td>2</td>\n",
       "      <td>-0.016247</td>\n",
       "      <td>0.732666</td>\n",
       "    </tr>\n",
       "    <tr>\n",
       "      <th>6</th>\n",
       "      <td>0</td>\n",
       "      <td>7</td>\n",
       "      <td>0.027092</td>\n",
       "      <td>0.568960</td>\n",
       "    </tr>\n",
       "    <tr>\n",
       "      <th>11</th>\n",
       "      <td>1</td>\n",
       "      <td>4</td>\n",
       "      <td>0.057247</td>\n",
       "      <td>0.228761</td>\n",
       "    </tr>\n",
       "    <tr>\n",
       "      <th>25</th>\n",
       "      <td>3</td>\n",
       "      <td>5</td>\n",
       "      <td>0.065148</td>\n",
       "      <td>0.170795</td>\n",
       "    </tr>\n",
       "    <tr>\n",
       "      <th>19</th>\n",
       "      <td>2</td>\n",
       "      <td>5</td>\n",
       "      <td>0.078347</td>\n",
       "      <td>0.099525</td>\n",
       "    </tr>\n",
       "    <tr>\n",
       "      <th>4</th>\n",
       "      <td>0</td>\n",
       "      <td>5</td>\n",
       "      <td>0.100039</td>\n",
       "      <td>0.035448</td>\n",
       "    </tr>\n",
       "    <tr>\n",
       "      <th>12</th>\n",
       "      <td>1</td>\n",
       "      <td>5</td>\n",
       "      <td>0.111642</td>\n",
       "      <td>0.018918</td>\n",
       "    </tr>\n",
       "  </tbody>\n",
       "</table>\n",
       "</div>"
      ],
      "text/plain": [
       "    i  j       cor      pval\n",
       "31  4  6  0.002757  0.953785\n",
       "9   1  2  0.010208  0.830073\n",
       "5   0  6  0.013254  0.780511\n",
       "1   0  2 -0.016247  0.732666\n",
       "6   0  7  0.027092  0.568960\n",
       "11  1  4  0.057247  0.228761\n",
       "25  3  5  0.065148  0.170795\n",
       "19  2  5  0.078347  0.099525\n",
       "4   0  5  0.100039  0.035448\n",
       "12  1  5  0.111642  0.018918"
      ]
     },
     "execution_count": 9,
     "metadata": {},
     "output_type": "execute_result"
    }
   ],
   "source": [
    "idx = korr.find_worst(df['cor'].values, df['pval'].values, m=10, rlim=.01, plim=0.45)\n",
    "df.iloc[idx]"
   ]
  }
 ],
 "metadata": {
  "kernelspec": {
   "display_name": "Python 3",
   "language": "python",
   "name": "python3"
  },
  "language_info": {
   "codemirror_mode": {
    "name": "ipython",
    "version": 3
   },
   "file_extension": ".py",
   "mimetype": "text/x-python",
   "name": "python",
   "nbconvert_exporter": "python",
   "pygments_lexer": "ipython3",
   "version": "3.6.2"
  }
 },
 "nbformat": 4,
 "nbformat_minor": 2
}
