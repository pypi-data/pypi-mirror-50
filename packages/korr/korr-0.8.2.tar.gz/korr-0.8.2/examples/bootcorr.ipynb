{
 "cells": [
  {
   "cell_type": "code",
   "execution_count": 1,
   "metadata": {},
   "outputs": [],
   "source": [
    "%load_ext autoreload\n",
    "%autoreload 2\n",
    "\n",
    "import sys\n",
    "sys.path.append(\"../\")"
   ]
  },
  {
   "cell_type": "code",
   "execution_count": 2,
   "metadata": {},
   "outputs": [],
   "source": [
    "from korr import bootcorr, pearson\n",
    "import numpy as np"
   ]
  },
  {
   "cell_type": "markdown",
   "metadata": {},
   "source": [
    "# Load Dataset"
   ]
  },
  {
   "cell_type": "code",
   "execution_count": 3,
   "metadata": {},
   "outputs": [],
   "source": [
    "from sklearn.datasets import load_diabetes\n",
    "X = load_diabetes().data"
   ]
  },
  {
   "cell_type": "markdown",
   "metadata": {},
   "source": [
    "# Correlation Estimate"
   ]
  },
  {
   "cell_type": "code",
   "execution_count": 4,
   "metadata": {},
   "outputs": [
    {
     "name": "stdout",
     "output_type": "stream",
     "text": [
      "[[ 1.    0.17  0.19  0.34  0.26  0.22 -0.08  0.2   0.27  0.3 ]\n",
      " [ 0.17  1.    0.09  0.24  0.04  0.14 -0.38  0.33  0.15  0.21]\n",
      " [ 0.19  0.09  1.    0.4   0.25  0.26 -0.37  0.41  0.45  0.39]\n",
      " [ 0.34  0.24  0.4   1.    0.24  0.19 -0.18  0.26  0.39  0.39]\n",
      " [ 0.26  0.04  0.25  0.24  1.    0.9   0.05  0.54  0.52  0.33]\n",
      " [ 0.22  0.14  0.26  0.19  0.9   1.   -0.2   0.66  0.32  0.29]\n",
      " [-0.08 -0.38 -0.37 -0.18  0.05 -0.2   1.   -0.74 -0.4  -0.27]\n",
      " [ 0.2   0.33  0.41  0.26  0.54  0.66 -0.74  1.    0.62  0.42]\n",
      " [ 0.27  0.15  0.45  0.39  0.52  0.32 -0.4   0.62  1.    0.46]\n",
      " [ 0.3   0.21  0.39  0.39  0.33  0.29 -0.27  0.42  0.46  1.  ]]\n"
     ]
    }
   ],
   "source": [
    "cmat, _ = pearson(X)\n",
    "print(cmat.round(2))"
   ]
  },
  {
   "cell_type": "markdown",
   "metadata": {},
   "source": [
    "# Bootstrap Estimation"
   ]
  },
  {
   "cell_type": "code",
   "execution_count": 5,
   "metadata": {},
   "outputs": [
    {
     "name": "stdout",
     "output_type": "stream",
     "text": [
      "[[ 1.    0.17  0.19  0.35  0.28  0.25 -0.08  0.21  0.27  0.3 ]\n",
      " [ 0.17  1.    0.08  0.23  0.04  0.15 -0.38  0.33  0.14  0.21]\n",
      " [ 0.19  0.08  1.    0.39  0.26  0.27 -0.36  0.4   0.43  0.38]\n",
      " [ 0.35  0.23  0.39  1.    0.25  0.2  -0.17  0.25  0.38  0.39]\n",
      " [ 0.28  0.04  0.26  0.25  1.    0.9   0.04  0.55  0.52  0.33]\n",
      " [ 0.25  0.15  0.27  0.2   0.9   1.   -0.21  0.67  0.33  0.3 ]\n",
      " [-0.08 -0.38 -0.36 -0.17  0.04 -0.21  1.   -0.74 -0.39 -0.26]\n",
      " [ 0.21  0.33  0.4   0.25  0.55  0.67 -0.74  1.    0.61  0.4 ]\n",
      " [ 0.27  0.14  0.43  0.38  0.52  0.33 -0.39  0.61  1.    0.46]\n",
      " [ 0.3   0.21  0.38  0.39  0.33  0.3  -0.26  0.4   0.46  1.  ]]\n"
     ]
    }
   ],
   "source": [
    "r3, _, _ = bootcorr(X, n_draws=30, subsample=0.7, replace=True, corr_fn=pearson)\n",
    "cmat_bmean = r3.mean(axis=0)\n",
    "print(cmat_bmean.round(2))"
   ]
  },
  {
   "cell_type": "markdown",
   "metadata": {},
   "source": [
    "How stable are estimates"
   ]
  },
  {
   "cell_type": "code",
   "execution_count": 6,
   "metadata": {},
   "outputs": [
    {
     "name": "stdout",
     "output_type": "stream",
     "text": [
      "[[0.   0.04 0.06 0.05 0.05 0.06 0.04 0.04 0.05 0.05]\n",
      " [0.04 0.   0.06 0.05 0.05 0.05 0.04 0.04 0.05 0.04]\n",
      " [0.06 0.06 0.   0.04 0.04 0.04 0.04 0.04 0.04 0.04]\n",
      " [0.05 0.05 0.04 0.   0.04 0.04 0.06 0.05 0.04 0.05]\n",
      " [0.05 0.05 0.04 0.04 0.   0.01 0.05 0.04 0.04 0.04]\n",
      " [0.06 0.05 0.04 0.04 0.01 0.   0.05 0.04 0.05 0.04]\n",
      " [0.04 0.04 0.04 0.06 0.05 0.05 0.   0.01 0.05 0.04]\n",
      " [0.04 0.04 0.04 0.05 0.04 0.04 0.01 0.   0.04 0.04]\n",
      " [0.05 0.05 0.04 0.04 0.04 0.05 0.05 0.04 0.   0.04]\n",
      " [0.05 0.04 0.04 0.05 0.04 0.04 0.04 0.04 0.04 0.  ]]\n"
     ]
    }
   ],
   "source": [
    "cmat_bstd = r3.std(axis=0)\n",
    "print(cmat_bstd.round(2))"
   ]
  },
  {
   "cell_type": "markdown",
   "metadata": {},
   "source": [
    "How different is the Bootstrap Estimation from the Full-Sample Estimation"
   ]
  },
  {
   "cell_type": "code",
   "execution_count": 7,
   "metadata": {},
   "outputs": [
    {
     "name": "stdout",
     "output_type": "stream",
     "text": [
      "[[0.   0.   0.   0.01 0.02 0.03 0.   0.01 0.   0.  ]\n",
      " [0.   0.   0.01 0.01 0.   0.   0.   0.   0.01 0.  ]\n",
      " [0.   0.01 0.   0.   0.01 0.01 0.01 0.01 0.01 0.01]\n",
      " [0.01 0.01 0.   0.   0.01 0.01 0.01 0.01 0.02 0.  ]\n",
      " [0.02 0.   0.01 0.01 0.   0.   0.01 0.01 0.   0.01]\n",
      " [0.03 0.   0.01 0.01 0.   0.   0.01 0.01 0.01 0.01]\n",
      " [0.   0.   0.01 0.01 0.01 0.01 0.   0.   0.   0.01]\n",
      " [0.01 0.   0.01 0.01 0.01 0.01 0.   0.   0.01 0.01]\n",
      " [0.   0.01 0.01 0.02 0.   0.01 0.   0.01 0.   0.01]\n",
      " [0.   0.   0.01 0.   0.01 0.01 0.01 0.01 0.01 0.  ]]\n"
     ]
    }
   ],
   "source": [
    "print(np.abs(cmat_bmean - cmat).round(2))"
   ]
  },
  {
   "cell_type": "code",
   "execution_count": null,
   "metadata": {},
   "outputs": [],
   "source": []
  }
 ],
 "metadata": {
  "kernelspec": {
   "display_name": "Python 3",
   "language": "python",
   "name": "python3"
  },
  "language_info": {
   "codemirror_mode": {
    "name": "ipython",
    "version": 3
   },
   "file_extension": ".py",
   "mimetype": "text/x-python",
   "name": "python",
   "nbconvert_exporter": "python",
   "pygments_lexer": "ipython3",
   "version": "3.6.2"
  }
 },
 "nbformat": 4,
 "nbformat_minor": 2
}
