{
 "cells": [
  {
   "cell_type": "code",
   "execution_count": 1,
   "metadata": {
    "ExecuteTime": {
     "end_time": "2018-07-16T15:27:27.026122Z",
     "start_time": "2018-07-16T15:27:27.020417Z"
    }
   },
   "outputs": [],
   "source": [
    "#import warnings; warnings.filterwarnings('ignore')\n",
    "import numpy as np\n",
    "np.set_printoptions(precision=3, suppress=True)\n",
    "from sklearn.datasets import load_boston\n",
    "\n",
    "import sys\n",
    "sys.path.append('..')\n",
    "from korr import kendall"
   ]
  },
  {
   "cell_type": "markdown",
   "metadata": {},
   "source": [
    "Load demo data"
   ]
  },
  {
   "cell_type": "code",
   "execution_count": 2,
   "metadata": {
    "ExecuteTime": {
     "end_time": "2018-07-16T15:27:32.492101Z",
     "start_time": "2018-07-16T15:27:27.032225Z"
    }
   },
   "outputs": [],
   "source": [
    "X = load_boston().data[:, [3,8,9]]"
   ]
  },
  {
   "cell_type": "markdown",
   "metadata": {},
   "source": [
    "Kendall tau rank correlation"
   ]
  },
  {
   "cell_type": "code",
   "execution_count": 3,
   "metadata": {
    "ExecuteTime": {
     "end_time": "2018-07-16T15:27:32.513484Z",
     "start_time": "2018-07-16T15:27:32.496466Z"
    }
   },
   "outputs": [],
   "source": [
    "rho, pval = kendall(X)"
   ]
  },
  {
   "cell_type": "markdown",
   "metadata": {},
   "source": [
    "Display the results"
   ]
  },
  {
   "cell_type": "code",
   "execution_count": 4,
   "metadata": {
    "ExecuteTime": {
     "end_time": "2018-07-16T15:27:32.531043Z",
     "start_time": "2018-07-16T15:27:32.518541Z"
    }
   },
   "outputs": [
    {
     "name": "stdout",
     "output_type": "stream",
     "text": [
      "Kendall Tau correlation\n",
      " [[ 1.     0.022 -0.038]\n",
      " [ 0.022  1.     0.558]\n",
      " [-0.038  0.558  1.   ]]\n",
      "\n",
      "p-values\n",
      " [[0.    0.581 0.317]\n",
      " [0.581 0.    0.   ]\n",
      " [0.317 0.    0.   ]]\n",
      "\n",
      "substantial corr?\n",
      " [[ True False False]\n",
      " [False  True  True]\n",
      " [False  True  True]]\n"
     ]
    }
   ],
   "source": [
    "print(\"Kendall Tau correlation\\n\", rho)\n",
    "print(\"\\np-values\\n\", pval)\n",
    "print(\"\\nsubstantial corr?\\n\", pval < 0.05)"
   ]
  }
 ],
 "metadata": {
  "kernelspec": {
   "display_name": "Python 3",
   "language": "python",
   "name": "python3"
  },
  "language_info": {
   "codemirror_mode": {
    "name": "ipython",
    "version": 3
   },
   "file_extension": ".py",
   "mimetype": "text/x-python",
   "name": "python",
   "nbconvert_exporter": "python",
   "pygments_lexer": "ipython3",
   "version": "3.6.2"
  },
  "varInspector": {
   "cols": {
    "lenName": 16,
    "lenType": 16,
    "lenVar": 40
   },
   "kernels_config": {
    "python": {
     "delete_cmd_postfix": "",
     "delete_cmd_prefix": "del ",
     "library": "var_list.py",
     "varRefreshCmd": "print(var_dic_list())"
    },
    "r": {
     "delete_cmd_postfix": ") ",
     "delete_cmd_prefix": "rm(",
     "library": "var_list.r",
     "varRefreshCmd": "cat(var_dic_list()) "
    }
   },
   "types_to_exclude": [
    "module",
    "function",
    "builtin_function_or_method",
    "instance",
    "_Feature"
   ],
   "window_display": false
  }
 },
 "nbformat": 4,
 "nbformat_minor": 2
}
