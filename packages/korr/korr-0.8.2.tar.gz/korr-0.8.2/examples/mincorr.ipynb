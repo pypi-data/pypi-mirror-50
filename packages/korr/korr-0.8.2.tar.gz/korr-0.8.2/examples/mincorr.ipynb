{
 "cells": [
  {
   "cell_type": "code",
   "execution_count": 1,
   "metadata": {},
   "outputs": [],
   "source": [
    "%load_ext autoreload\n",
    "%autoreload 2"
   ]
  },
  {
   "cell_type": "code",
   "execution_count": 2,
   "metadata": {},
   "outputs": [],
   "source": [
    "import sys\n",
    "sys.path.append(\"../\")"
   ]
  },
  {
   "cell_type": "code",
   "execution_count": 3,
   "metadata": {},
   "outputs": [],
   "source": [
    "from korr import mincorr, mincorr_result_check\n",
    "import numpy as np\n",
    "from illmat import illmat"
   ]
  },
  {
   "cell_type": "code",
   "execution_count": 4,
   "metadata": {},
   "outputs": [],
   "source": [
    "D = 200\n",
    "cmat = illmat(D, random_state=42)"
   ]
  },
  {
   "cell_type": "code",
   "execution_count": 5,
   "metadata": {},
   "outputs": [
    {
     "name": "stdout",
     "output_type": "stream",
     "text": [
      "selected:  [20, 192, 111, 160, 165]\n",
      "avg abs corr:  0.0946\n",
      "selected corr matrix:\n",
      " [[ 1.    -0.     0.001  0.029 -0.223]\n",
      " [-0.     1.    -0.024 -0.093 -0.338]\n",
      " [ 0.001 -0.024  1.     0.171 -0.068]\n",
      " [ 0.029 -0.093  0.171  1.    -0.   ]\n",
      " [-0.223 -0.338 -0.068 -0.     1.   ]]\n",
      "\n",
      "selected:  [31, 65, 184, 73, 37]\n",
      "avg abs corr:  0.1018\n",
      "selected corr matrix:\n",
      " [[ 1.     0.002 -0.081  0.099  0.301]\n",
      " [ 0.002  1.     0.008  0.088 -0.233]\n",
      " [-0.081  0.008  1.    -0.111  0.069]\n",
      " [ 0.099  0.088 -0.111  1.     0.025]\n",
      " [ 0.301 -0.233  0.069  0.025  1.   ]]\n",
      "\n",
      "selected:  [31, 65, 111, 117, 127]\n",
      "avg abs corr:  0.0936\n",
      "selected corr matrix:\n",
      " [[ 1.     0.002  0.049  0.154 -0.183]\n",
      " [ 0.002  1.     0.051  0.085  0.13 ]\n",
      " [ 0.049  0.051  1.    -0.13   0.004]\n",
      " [ 0.154  0.085 -0.13   1.    -0.148]\n",
      " [-0.183  0.13   0.004 -0.148  1.   ]]\n",
      "\n",
      "selected:  [31, 65, 111, 117, 127]\n",
      "avg abs corr:  0.0936\n",
      "selected corr matrix:\n",
      " [[ 1.     0.002  0.049  0.154 -0.183]\n",
      " [ 0.002  1.     0.051  0.085  0.13 ]\n",
      " [ 0.049  0.051  1.    -0.13   0.004]\n",
      " [ 0.154  0.085 -0.13   1.    -0.148]\n",
      " [-0.183  0.13   0.004 -0.148  1.   ]]\n",
      "\n"
     ]
    }
   ],
   "source": [
    "mincorr_result_check(cmat, mincorr(cmat, n_stop=5, max_rho=1.0, init_method='low', cost_fn='avg'))\n",
    "mincorr_result_check(cmat, mincorr(cmat, n_stop=5, max_rho=1.0, init_method='avg', cost_fn='avg'))\n",
    "mincorr_result_check(cmat, mincorr(cmat, n_stop=5, max_rho=1.0, init_method='avg', cost_fn='sqrt'))\n",
    "mincorr_result_check(cmat, mincorr(cmat, n_stop=5, max_rho=1.0, init_method='avg', cost_fn='mu_max'))"
   ]
  },
  {
   "cell_type": "code",
   "execution_count": 6,
   "metadata": {},
   "outputs": [
    {
     "name": "stdout",
     "output_type": "stream",
     "text": [
      "Terminated: max_rho=0.100 works only for 3 features\n",
      "selected:  [31, 65, 184, 73, 37]\n",
      "avg abs corr:  0.1018\n",
      "selected corr matrix:\n",
      " [[ 1.     0.002 -0.081  0.099  0.301]\n",
      " [ 0.002  1.     0.008  0.088 -0.233]\n",
      " [-0.081  0.008  1.    -0.111  0.069]\n",
      " [ 0.099  0.088 -0.111  1.     0.025]\n",
      " [ 0.301 -0.233  0.069  0.025  1.   ]]\n",
      "\n",
      "Terminated: max_rho=0.100 works only for 3 features\n",
      "selected:  [31, 65, 111, 117, 127]\n",
      "avg abs corr:  0.0936\n",
      "selected corr matrix:\n",
      " [[ 1.     0.002  0.049  0.154 -0.183]\n",
      " [ 0.002  1.     0.051  0.085  0.13 ]\n",
      " [ 0.049  0.051  1.    -0.13   0.004]\n",
      " [ 0.154  0.085 -0.13   1.    -0.148]\n",
      " [-0.183  0.13   0.004 -0.148  1.   ]]\n",
      "\n",
      "Terminated: max_rho=0.100 works only for 3 features\n",
      "selected:  [31, 65, 111, 117, 127]\n",
      "avg abs corr:  0.0936\n",
      "selected corr matrix:\n",
      " [[ 1.     0.002  0.049  0.154 -0.183]\n",
      " [ 0.002  1.     0.051  0.085  0.13 ]\n",
      " [ 0.049  0.051  1.    -0.13   0.004]\n",
      " [ 0.154  0.085 -0.13   1.    -0.148]\n",
      " [-0.183  0.13   0.004 -0.148  1.   ]]\n",
      "\n"
     ]
    }
   ],
   "source": [
    "mincorr_result_check(cmat, mincorr(cmat, n_stop=5, max_rho=0.1, init_method='avg', cost_fn='avg'))\n",
    "mincorr_result_check(cmat, mincorr(cmat, n_stop=5, max_rho=0.1, init_method='avg', cost_fn='sqrt'))\n",
    "mincorr_result_check(cmat, mincorr(cmat, n_stop=5, max_rho=0.1, init_method='avg', cost_fn='mu_max'))"
   ]
  }
 ],
 "metadata": {
  "kernelspec": {
   "display_name": "Python 3",
   "language": "python",
   "name": "python3"
  },
  "language_info": {
   "codemirror_mode": {
    "name": "ipython",
    "version": 3
   },
   "file_extension": ".py",
   "mimetype": "text/x-python",
   "name": "python",
   "nbconvert_exporter": "python",
   "pygments_lexer": "ipython3",
   "version": "3.6.2"
  }
 },
 "nbformat": 4,
 "nbformat_minor": 2
}
