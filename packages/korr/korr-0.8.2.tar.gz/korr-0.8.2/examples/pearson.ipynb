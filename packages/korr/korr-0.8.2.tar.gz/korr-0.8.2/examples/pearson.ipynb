{
 "cells": [
  {
   "cell_type": "code",
   "execution_count": 1,
   "metadata": {
    "ExecuteTime": {
     "end_time": "2018-07-16T15:27:27.026122Z",
     "start_time": "2018-07-16T15:27:27.020417Z"
    }
   },
   "outputs": [],
   "source": [
    "#import warnings; warnings.filterwarnings('ignore')\n",
    "import numpy as np\n",
    "np.set_printoptions(precision=2, suppress=True)\n",
    "from sklearn.datasets import load_diabetes\n",
    "\n",
    "import sys\n",
    "sys.path.append('..')\n",
    "from korr import pearson"
   ]
  },
  {
   "cell_type": "markdown",
   "metadata": {},
   "source": [
    "Load demo data"
   ]
  },
  {
   "cell_type": "code",
   "execution_count": 2,
   "metadata": {
    "ExecuteTime": {
     "end_time": "2018-07-16T15:27:32.492101Z",
     "start_time": "2018-07-16T15:27:27.032225Z"
    }
   },
   "outputs": [],
   "source": [
    "X = load_diabetes().data"
   ]
  },
  {
   "cell_type": "markdown",
   "metadata": {},
   "source": [
    "Compute Pearson correlations"
   ]
  },
  {
   "cell_type": "code",
   "execution_count": 3,
   "metadata": {
    "ExecuteTime": {
     "end_time": "2018-07-16T15:27:32.513484Z",
     "start_time": "2018-07-16T15:27:32.496466Z"
    }
   },
   "outputs": [],
   "source": [
    "rho, pval = pearson(X)"
   ]
  },
  {
   "cell_type": "markdown",
   "metadata": {},
   "source": [
    "Display the results"
   ]
  },
  {
   "cell_type": "code",
   "execution_count": 4,
   "metadata": {
    "ExecuteTime": {
     "end_time": "2018-07-16T15:27:32.531043Z",
     "start_time": "2018-07-16T15:27:32.518541Z"
    }
   },
   "outputs": [
    {
     "name": "stdout",
     "output_type": "stream",
     "text": [
      "sample correlation\n",
      " [[ 1.    0.17  0.19  0.34  0.26  0.22 -0.08  0.2   0.27  0.3 ]\n",
      " [ 0.17  1.    0.09  0.24  0.04  0.14 -0.38  0.33  0.15  0.21]\n",
      " [ 0.19  0.09  1.    0.4   0.25  0.26 -0.37  0.41  0.45  0.39]\n",
      " [ 0.34  0.24  0.4   1.    0.24  0.19 -0.18  0.26  0.39  0.39]\n",
      " [ 0.26  0.04  0.25  0.24  1.    0.9   0.05  0.54  0.52  0.33]\n",
      " [ 0.22  0.14  0.26  0.19  0.9   1.   -0.2   0.66  0.32  0.29]\n",
      " [-0.08 -0.38 -0.37 -0.18  0.05 -0.2   1.   -0.74 -0.4  -0.27]\n",
      " [ 0.2   0.33  0.41  0.26  0.54  0.66 -0.74  1.    0.62  0.42]\n",
      " [ 0.27  0.15  0.45  0.39  0.52  0.32 -0.4   0.62  1.    0.46]\n",
      " [ 0.3   0.21  0.39  0.39  0.33  0.29 -0.27  0.42  0.46  1.  ]]\n",
      "\n",
      "p-values\n",
      " [[0.   0.   0.   0.   0.   0.   0.11 0.   0.   0.  ]\n",
      " [0.   0.   0.06 0.   0.46 0.   0.   0.   0.   0.  ]\n",
      " [0.   0.06 0.   0.   0.   0.   0.   0.   0.   0.  ]\n",
      " [0.   0.   0.   0.   0.   0.   0.   0.   0.   0.  ]\n",
      " [0.   0.46 0.   0.   0.   0.   0.28 0.   0.   0.  ]\n",
      " [0.   0.   0.   0.   0.   0.   0.   0.   0.   0.  ]\n",
      " [0.11 0.   0.   0.   0.28 0.   0.   0.   0.   0.  ]\n",
      " [0.   0.   0.   0.   0.   0.   0.   0.   0.   0.  ]\n",
      " [0.   0.   0.   0.   0.   0.   0.   0.   0.   0.  ]\n",
      " [0.   0.   0.   0.   0.   0.   0.   0.   0.   0.  ]]\n",
      "\n",
      "substantial corr?\n",
      " [[ True  True  True  True  True  True False  True  True  True]\n",
      " [ True  True False  True False  True  True  True  True  True]\n",
      " [ True False  True  True  True  True  True  True  True  True]\n",
      " [ True  True  True  True  True  True  True  True  True  True]\n",
      " [ True False  True  True  True  True False  True  True  True]\n",
      " [ True  True  True  True  True  True  True  True  True  True]\n",
      " [False  True  True  True False  True  True  True  True  True]\n",
      " [ True  True  True  True  True  True  True  True  True  True]\n",
      " [ True  True  True  True  True  True  True  True  True  True]\n",
      " [ True  True  True  True  True  True  True  True  True  True]]\n"
     ]
    }
   ],
   "source": [
    "print(\"sample correlation\\n\", rho)\n",
    "print(\"\\np-values\\n\", pval)\n",
    "print(\"\\nsubstantial corr?\\n\", pval < 0.05)"
   ]
  }
 ],
 "metadata": {
  "kernelspec": {
   "display_name": "Python 3",
   "language": "python",
   "name": "python3"
  },
  "language_info": {
   "codemirror_mode": {
    "name": "ipython",
    "version": 3
   },
   "file_extension": ".py",
   "mimetype": "text/x-python",
   "name": "python",
   "nbconvert_exporter": "python",
   "pygments_lexer": "ipython3",
   "version": "3.6.2"
  },
  "varInspector": {
   "cols": {
    "lenName": 16,
    "lenType": 16,
    "lenVar": 40
   },
   "kernels_config": {
    "python": {
     "delete_cmd_postfix": "",
     "delete_cmd_prefix": "del ",
     "library": "var_list.py",
     "varRefreshCmd": "print(var_dic_list())"
    },
    "r": {
     "delete_cmd_postfix": ") ",
     "delete_cmd_prefix": "rm(",
     "library": "var_list.r",
     "varRefreshCmd": "cat(var_dic_list()) "
    }
   },
   "types_to_exclude": [
    "module",
    "function",
    "builtin_function_or_method",
    "instance",
    "_Feature"
   ],
   "window_display": false
  }
 },
 "nbformat": 4,
 "nbformat_minor": 2
}
