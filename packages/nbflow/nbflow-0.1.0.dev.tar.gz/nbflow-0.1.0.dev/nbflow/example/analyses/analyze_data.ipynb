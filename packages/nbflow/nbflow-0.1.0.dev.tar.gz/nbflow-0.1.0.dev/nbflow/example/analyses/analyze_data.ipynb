{
 "cells": [
  {
   "cell_type": "code",
   "execution_count": 1,
   "metadata": {
    "collapsed": true
   },
   "outputs": [],
   "source": [
    "__depends__ = [\"../results/data.json\"]\n",
    "__dest__ = \"../results/stats.json\""
   ]
  },
  {
   "cell_type": "code",
   "execution_count": 2,
   "metadata": {
    "collapsed": true
   },
   "outputs": [],
   "source": [
    "import json"
   ]
  },
  {
   "cell_type": "code",
   "execution_count": 3,
   "metadata": {},
   "outputs": [],
   "source": [
    "import time\n",
    "time.sleep(5) # Simulate long running task"
   ]
  },
  {
   "cell_type": "code",
   "execution_count": 3,
   "metadata": {
    "collapsed": true
   },
   "outputs": [],
   "source": [
    "with open(\"../results/data.json\", \"r\") as fh:\n",
    "    data = json.load(fh)"
   ]
  },
  {
   "cell_type": "code",
   "execution_count": 4,
   "metadata": {},
   "outputs": [
    {
     "data": {
      "text/plain": [
       "[0.7947434550704049,\n",
       " 0.7689497615073635,\n",
       " 0.4055562370238408,\n",
       " 0.1437725456662664,\n",
       " 0.06290778106817208,\n",
       " 0.9690115597726553,\n",
       " 0.512838996781445,\n",
       " 0.09813919031940244,\n",
       " 0.31852186939224447,\n",
       " 0.41326319707820003]"
      ]
     },
     "execution_count": 4,
     "metadata": {},
     "output_type": "execute_result"
    }
   ],
   "source": [
    "data[:10]"
   ]
  },
  {
   "cell_type": "code",
   "execution_count": 5,
   "metadata": {},
   "outputs": [
    {
     "data": {
      "text/plain": [
       "{'mean': 0.49688692836011145, 'var': 0.08984597204318795}"
      ]
     },
     "execution_count": 5,
     "metadata": {},
     "output_type": "execute_result"
    }
   ],
   "source": [
    "mean = sum(data) / len(data)\n",
    "var = sum(((x - mean) ** 2) / (len(data) - 1) for x in data)\n",
    "results = dict(mean=mean, var=var)\n",
    "results"
   ]
  },
  {
   "cell_type": "code",
   "execution_count": 6,
   "metadata": {
    "collapsed": true
   },
   "outputs": [],
   "source": [
    "with open(__dest__, \"w\") as fh:\n",
    "    json.dump(results, fh)"
   ]
  }
 ],
 "metadata": {
  "kernelspec": {
   "display_name": "Python 3",
   "language": "python",
   "name": "python3"
  },
  "language_info": {
   "codemirror_mode": {
    "name": "ipython",
    "version": 3
   },
   "file_extension": ".py",
   "mimetype": "text/x-python",
   "name": "python",
   "nbconvert_exporter": "python",
   "pygments_lexer": "ipython3",
   "version": "3.6.4"
  }
 },
 "nbformat": 4,
 "nbformat_minor": 1
}
