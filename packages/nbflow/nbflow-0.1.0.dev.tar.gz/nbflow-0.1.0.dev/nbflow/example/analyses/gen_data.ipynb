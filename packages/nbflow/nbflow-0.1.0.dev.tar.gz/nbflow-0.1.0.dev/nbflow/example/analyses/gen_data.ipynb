{
 "cells": [
  {
   "cell_type": "code",
   "execution_count": 1,
   "metadata": {
    "collapsed": true
   },
   "outputs": [],
   "source": [
    "__depends__ = []\n",
    "__dest__ = \"../results/data.json\""
   ]
  },
  {
   "cell_type": "code",
   "execution_count": 2,
   "metadata": {
    "collapsed": true
   },
   "outputs": [],
   "source": [
    "import random\n",
    "import json\n",
    "import os"
   ]
  },
  {
   "cell_type": "code",
   "execution_count": 3,
   "metadata": {},
   "outputs": [
    {
     "data": {
      "text/plain": [
       "[0.7947434550704049,\n",
       " 0.7689497615073635,\n",
       " 0.4055562370238408,\n",
       " 0.1437725456662664,\n",
       " 0.06290778106817208,\n",
       " 0.9690115597726553,\n",
       " 0.512838996781445,\n",
       " 0.09813919031940244,\n",
       " 0.31852186939224447,\n",
       " 0.41326319707820003]"
      ]
     },
     "execution_count": 3,
     "metadata": {},
     "output_type": "execute_result"
    }
   ],
   "source": [
    "random.seed(\"92831\")\n",
    "data = [random.random() for x in range(100)]\n",
    "data[:10]"
   ]
  },
  {
   "cell_type": "code",
   "execution_count": 4,
   "metadata": {},
   "outputs": [],
   "source": [
    "if not os.path.exists(\"../results\"):\n",
    "    os.mkdir(\"../results\")\n",
    "\n",
    "with open(__dest__, \"w\") as fh:\n",
    "    json.dump(data, fh)"
   ]
  }
 ],
 "metadata": {
  "kernelspec": {
   "display_name": "Python 3",
   "language": "python",
   "name": "python3"
  },
  "language_info": {
   "codemirror_mode": {
    "name": "ipython",
    "version": 2
   },
   "file_extension": ".py",
   "mimetype": "text/x-python",
   "name": "python",
   "nbconvert_exporter": "python",
   "pygments_lexer": "ipython2",
   "version": "2.7.14"
  }
 },
 "nbformat": 4,
 "nbformat_minor": 1
}
