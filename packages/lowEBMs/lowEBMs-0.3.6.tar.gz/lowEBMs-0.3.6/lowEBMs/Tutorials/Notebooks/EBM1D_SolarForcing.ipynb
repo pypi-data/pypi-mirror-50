{
 "cells": [
  {
   "cell_type": "code",
   "execution_count": 4,
   "metadata": {},
   "outputs": [],
   "source": [
    "import matplotlib.pyplot as plt\n",
    "import numpy as np\n",
    "from lowEBMs.Packages.Configuration import importer, add_sellersparameters, parameterinterpolatorstepwise, reset\n",
    "from lowEBMs.Packages.Variables import variable_importer, Vars\n",
    "from lowEBMs.Packages.RK4 import rk4alg, controlrun\n",
    "from lowEBMs.Packages.ModelEquation import model_equation\n",
    "from lowEBMs import moving_average, update_plotstyle, constants\n",
    "update_plotstyle()"
   ]
  },
  {
   "cell_type": "code",
   "execution_count": 1,
   "metadata": {},
   "outputs": [
    {
     "ename": "NameError",
     "evalue": "name 'importer' is not defined",
     "output_type": "error",
     "traceback": [
      "\u001b[0;31m---------------------------------------------------------------------------\u001b[0m",
      "\u001b[0;31mNameError\u001b[0m                                 Traceback (most recent call last)",
      "\u001b[0;32m<ipython-input-1-cfdb508bc1f4>\u001b[0m in \u001b[0;36m<module>\u001b[0;34m\u001b[0m\n\u001b[1;32m      1\u001b[0m \u001b[0;31m#Load basic configuration\u001b[0m\u001b[0;34m\u001b[0m\u001b[0;34m\u001b[0m\u001b[0;34m\u001b[0m\u001b[0m\n\u001b[0;32m----> 2\u001b[0;31m \u001b[0mconfigSolar\u001b[0m\u001b[0;34m=\u001b[0m\u001b[0mimporter\u001b[0m\u001b[0;34m(\u001b[0m\u001b[0;34m'../Config/EBM1D_SolarForcing.ini'\u001b[0m\u001b[0;34m)\u001b[0m\u001b[0;34m\u001b[0m\u001b[0;34m\u001b[0m\u001b[0m\n\u001b[0m\u001b[1;32m      3\u001b[0m \u001b[0mvariable_importer\u001b[0m\u001b[0;34m(\u001b[0m\u001b[0mconfigSolar\u001b[0m\u001b[0;34m,\u001b[0m\u001b[0minitialZMT\u001b[0m\u001b[0;34m=\u001b[0m\u001b[0;32mTrue\u001b[0m\u001b[0;34m)\u001b[0m\u001b[0;34m\u001b[0m\u001b[0;34m\u001b[0m\u001b[0m\n\u001b[1;32m      4\u001b[0m \u001b[0mconfigSolar\u001b[0m\u001b[0;34m,\u001b[0m\u001b[0mParas\u001b[0m\u001b[0;34m=\u001b[0m\u001b[0madd_sellersparameters\u001b[0m\u001b[0;34m(\u001b[0m\u001b[0mconfigSolar\u001b[0m\u001b[0;34m,\u001b[0m\u001b[0mparameterinterpolatorstepwise\u001b[0m\u001b[0;34m,\u001b[0m\u001b[0;34m'SellersParameterization.ini'\u001b[0m\u001b[0;34m,\u001b[0m\u001b[0;36m3\u001b[0m\u001b[0;34m,\u001b[0m\u001b[0;36m1\u001b[0m\u001b[0;34m,\u001b[0m\u001b[0;32mTrue\u001b[0m\u001b[0;34m,\u001b[0m\u001b[0;32mTrue\u001b[0m\u001b[0;34m)\u001b[0m\u001b[0;34m\u001b[0m\u001b[0;34m\u001b[0m\u001b[0m\n\u001b[1;32m      5\u001b[0m \u001b[0;34m\u001b[0m\u001b[0m\n",
      "\u001b[0;31mNameError\u001b[0m: name 'importer' is not defined"
     ]
    }
   ],
   "source": [
    "#Load basic configuration\n",
    "configSolar=importer('../Config/EBM1D_SolarForcing.ini')\n",
    "variable_importer(configSolar,initialZMT=True)\n",
    "configSolar,Paras=add_sellersparameters(configSolar,parameterinterpolatorstepwise,'SellersParameterization.ini',3,1,True,True)\n",
    "\n",
    "#update for Spinup and run\n",
    "variable_importer(configSolar,initialZMT=True,control=True)\n",
    "Spinup_Solar=rk4alg(model_equation,configSolar['eqparam'],configSolar['funccomp'])\n",
    "\n",
    "#update for Targetsimulation with Spinup as initial and run\n",
    "Vars.T,Vars.T_global=Spinup_Solar[1][-1],Spinup_Solar[2][-1]\n",
    "variable_importer(configSolar,initialZMT=False,control=False)\n",
    "Data_Solar=rk4alg(model_equation,configSolar['eqparam'],configSolar['funccomp'])"
   ]
  },
  {
   "cell_type": "code",
   "execution_count": 6,
   "metadata": {},
   "outputs": [
    {
     "data": {
      "text/plain": [
       "[<matplotlib.lines.Line2D at 0x7f11ef527e48>]"
      ]
     },
     "execution_count": 6,
     "metadata": {},
     "output_type": "execute_result"
    },
    {
     "data": {
      "image/png": "[encoded data removed]",
      "text/plain": [
       "<Figure size 432x288 with 1 Axes>"
      ]
     },
     "metadata": {
      "needs_background": "light"
     },
     "output_type": "display_data"
    }
   ],
   "source": [
    "plt.plot((Spinup_Solar[0][0]-(Spinup_Solar[0][-1]-Spinup_Solar[0][0])+(Spinup_Solar[0]-Spinup_Solar[0][0]))/constants.time_sec_year,Spinup_Solar[2])\n",
    "plt.plot(Data_Solar[0]/constants.time_sec_year,Data_Solar[2])"
   ]
  }
 ],
 "metadata": {
  "kernelspec": {
   "display_name": "Python 3",
   "language": "python",
   "name": "python3"
  },
  "language_info": {
   "codemirror_mode": {
    "name": "ipython",
    "version": 3
   },
   "file_extension": ".py",
   "mimetype": "text/x-python",
   "name": "python",
   "nbconvert_exporter": "python",
   "pygments_lexer": "ipython3",
   "version": "3.6.8"
  }
 },
 "nbformat": 4,
 "nbformat_minor": 2
}
