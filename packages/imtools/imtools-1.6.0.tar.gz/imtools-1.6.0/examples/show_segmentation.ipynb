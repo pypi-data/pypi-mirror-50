{
 "cells": [
  {
   "cell_type": "markdown",
   "metadata": {},
   "source": [
    "Module `show_segmentation` can be called from command line:\n",
    "\n",
    "    python -m imtools.show_segmentation_qt -i ~/lisa_data/sample_data/liver-seg001.mhd -d\n"
   ]
  }
 ],
 "metadata": {
  "kernelspec": {
   "display_name": "Python 2",
   "language": "python",
   "name": "python2"
  },
  "language_info": {
   "codemirror_mode": {
    "name": "ipython",
    "version": 2
   },
   "file_extension": ".py",
   "mimetype": "text/x-python",
   "name": "python",
   "nbconvert_exporter": "python",
   "pygments_lexer": "ipython2",
   "version": "2.7.9"
  }
 },
 "nbformat": 4,
 "nbformat_minor": 2
}
