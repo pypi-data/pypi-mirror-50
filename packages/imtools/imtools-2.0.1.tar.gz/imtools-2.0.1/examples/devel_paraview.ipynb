{
 "cells": [
  {
   "cell_type": "code",
   "execution_count": 1,
   "metadata": {
    "collapsed": false,
    "deletable": true,
    "editable": true
   },
   "outputs": [
    {
     "data": {
      "text/plain": [
       "['',\n",
       " '/Users/mjirik/.local/lib/python2.7/site-packages/mahotas-1.4.0-py2.7-macosx-10.5-x86_64.egg',\n",
       " '/Users/mjirik/miniconda/lib/python27.zip',\n",
       " '/Users/mjirik/miniconda/lib/python2.7',\n",
       " '/Users/mjirik/miniconda/lib/python2.7/plat-darwin',\n",
       " '/Users/mjirik/miniconda/lib/python2.7/plat-mac',\n",
       " '/Users/mjirik/miniconda/lib/python2.7/plat-mac/lib-scriptpackages',\n",
       " '/Users/mjirik/miniconda/lib/python2.7/lib-tk',\n",
       " '/Users/mjirik/miniconda/lib/python2.7/lib-old',\n",
       " '/Users/mjirik/miniconda/lib/python2.7/lib-dynload',\n",
       " '/Users/mjirik/.local/lib/python2.7/site-packages',\n",
       " '/Users/mjirik/miniconda/lib/python2.7/site-packages/bumpversion-0.5.1-py2.7.egg',\n",
       " '/Users/mjirik/miniconda/lib/python2.7/site-packages/checksumdir-1.0.5-py2.7.egg',\n",
       " '/Users/mjirik/miniconda/lib/python2.7/site-packages/discon-1.0.3-py2.7.egg',\n",
       " '/Users/mjirik/miniconda/lib/python2.7/site-packages/graphviz-0.4.10-py2.7.egg',\n",
       " '/Users/mjirik/miniconda/lib/python2.7/site-packages/ndnoise-0.0.13-py2.7.egg',\n",
       " '/Users/mjirik/miniconda/lib/python2.7/site-packages/pysegbase-1.2.9-py2.7.egg',\n",
       " '/Users/mjirik/miniconda/lib/python2.7/site-packages/sed3-1.1.33-py2.7.egg',\n",
       " '/Users/mjirik/miniconda/lib/python2.7/site-packages/setuptools-21.2.1-py2.7.egg',\n",
       " '/Users/mjirik/miniconda/lib/python2.7/site-packages/sftpsync-1.0.8-py2.7.egg',\n",
       " '/Users/mjirik/miniconda/lib/python2.7/site-packages/vtkviewer-0.0.7-py2.7.egg',\n",
       " '/Users/mjirik/miniconda/lib/python2.7/site-packages',\n",
       " '/Users/mjirik/miniconda/lib/python2.7/site-packages/pyqtconfig-0.8.7-py2.7.egg',\n",
       " '/Users/mjirik/miniconda/lib/python2.7/site-packages/IPython/extensions',\n",
       " '/Users/mjirik/.ipython']"
      ]
     },
     "execution_count": 1,
     "metadata": {},
     "output_type": "execute_result"
    }
   ],
   "source": [
    "import sys\n",
    "sys.path"
   ]
  },
  {
   "cell_type": "code",
   "execution_count": 3,
   "metadata": {
    "collapsed": false
   },
   "outputs": [],
   "source": [
    "import sys\n",
    "sys.path.append('/Applications/ParaView-5.4.0.app/Contents/Python')\n",
    "sys.path.append('/Applications/ParaView-5.4.0.app/Contents/Libraries')\n",
    "oldpath = sys.path\n",
    "sys.path = ['/Applications/ParaView-5.4.0.app/Contents/Python', '/Applications/ParaView-5.4.0.app/Contents/Libraries', '/Library/Python/2.7/site-packages/Cython-0.19.2-py2.7-macosx-10.8-intel.egg', '/System/Library/Frameworks/Python.framework/Versions/2.7/lib/python27.zip', '/System/Library/Frameworks/Python.framework/Versions/2.7/lib/python2.7', '/System/Library/Frameworks/Python.framework/Versions/2.7/lib/python2.7/plat-darwin', '/System/Library/Frameworks/Python.framework/Versions/2.7/lib/python2.7/plat-mac', '/System/Library/Frameworks/Python.framework/Versions/2.7/lib/python2.7/plat-mac/lib-scriptpackages', '/System/Library/Frameworks/Python.framework/Versions/2.7/Extras/lib/python', '/System/Library/Frameworks/Python.framework/Versions/2.7/lib/python2.7/lib-tk', '/System/Library/Frameworks/Python.framework/Versions/2.7/lib/python2.7/lib-old', '/System/Library/Frameworks/Python.framework/Versions/2.7/lib/python2.7/lib-dynload', '/Users/mjirik/Library/Python/2.7/lib/python/site-packages', '/System/Library/Frameworks/Python.framework/Versions/2.7/Extras/lib/python/PyObjC', '/Library/Python/2.7/site-packages']\n",
    "sys.path.extend(oldpath)"
   ]
  },
  {
   "cell_type": "code",
   "execution_count": 4,
   "metadata": {
    "collapsed": false
   },
   "outputs": [
    {
     "data": {
      "text/plain": [
       "['/Applications/ParaView-5.4.0.app/Contents/Python',\n",
       " '/Applications/ParaView-5.4.0.app/Contents/Libraries',\n",
       " '/Library/Python/2.7/site-packages/Cython-0.19.2-py2.7-macosx-10.8-intel.egg',\n",
       " '/System/Library/Frameworks/Python.framework/Versions/2.7/lib/python27.zip',\n",
       " '/System/Library/Frameworks/Python.framework/Versions/2.7/lib/python2.7',\n",
       " '/System/Library/Frameworks/Python.framework/Versions/2.7/lib/python2.7/plat-darwin',\n",
       " '/System/Library/Frameworks/Python.framework/Versions/2.7/lib/python2.7/plat-mac',\n",
       " '/System/Library/Frameworks/Python.framework/Versions/2.7/lib/python2.7/plat-mac/lib-scriptpackages',\n",
       " '/System/Library/Frameworks/Python.framework/Versions/2.7/Extras/lib/python',\n",
       " '/System/Library/Frameworks/Python.framework/Versions/2.7/lib/python2.7/lib-tk',\n",
       " '/System/Library/Frameworks/Python.framework/Versions/2.7/lib/python2.7/lib-old',\n",
       " '/System/Library/Frameworks/Python.framework/Versions/2.7/lib/python2.7/lib-dynload',\n",
       " '/Users/mjirik/Library/Python/2.7/lib/python/site-packages',\n",
       " '/System/Library/Frameworks/Python.framework/Versions/2.7/Extras/lib/python/PyObjC',\n",
       " '/Library/Python/2.7/site-packages',\n",
       " '',\n",
       " '/Users/mjirik/.local/lib/python2.7/site-packages/mahotas-1.4.0-py2.7-macosx-10.5-x86_64.egg',\n",
       " '/Users/mjirik/miniconda/lib/python27.zip',\n",
       " '/Users/mjirik/miniconda/lib/python2.7',\n",
       " '/Users/mjirik/miniconda/lib/python2.7/plat-darwin',\n",
       " '/Users/mjirik/miniconda/lib/python2.7/plat-mac',\n",
       " '/Users/mjirik/miniconda/lib/python2.7/plat-mac/lib-scriptpackages',\n",
       " '/Users/mjirik/miniconda/lib/python2.7/lib-tk',\n",
       " '/Users/mjirik/miniconda/lib/python2.7/lib-old',\n",
       " '/Users/mjirik/miniconda/lib/python2.7/lib-dynload',\n",
       " '/Users/mjirik/.local/lib/python2.7/site-packages',\n",
       " '/Users/mjirik/miniconda/lib/python2.7/site-packages/bumpversion-0.5.1-py2.7.egg',\n",
       " '/Users/mjirik/miniconda/lib/python2.7/site-packages/checksumdir-1.0.5-py2.7.egg',\n",
       " '/Users/mjirik/miniconda/lib/python2.7/site-packages/discon-1.0.3-py2.7.egg',\n",
       " '/Users/mjirik/miniconda/lib/python2.7/site-packages/graphviz-0.4.10-py2.7.egg',\n",
       " '/Users/mjirik/miniconda/lib/python2.7/site-packages/ndnoise-0.0.13-py2.7.egg',\n",
       " '/Users/mjirik/miniconda/lib/python2.7/site-packages/pysegbase-1.2.9-py2.7.egg',\n",
       " '/Users/mjirik/miniconda/lib/python2.7/site-packages/sed3-1.1.33-py2.7.egg',\n",
       " '/Users/mjirik/miniconda/lib/python2.7/site-packages/setuptools-21.2.1-py2.7.egg',\n",
       " '/Users/mjirik/miniconda/lib/python2.7/site-packages/sftpsync-1.0.8-py2.7.egg',\n",
       " '/Users/mjirik/miniconda/lib/python2.7/site-packages/vtkviewer-0.0.7-py2.7.egg',\n",
       " '/Users/mjirik/miniconda/lib/python2.7/site-packages',\n",
       " '/Users/mjirik/miniconda/lib/python2.7/site-packages/pyqtconfig-0.8.7-py2.7.egg',\n",
       " '/Users/mjirik/miniconda/lib/python2.7/site-packages/IPython/extensions',\n",
       " '/Users/mjirik/.ipython',\n",
       " '/Applications/ParaView-5.4.0.app/Contents/Python',\n",
       " '/Applications/ParaView-5.4.0.app/Contents/Libraries']"
      ]
     },
     "execution_count": 4,
     "metadata": {},
     "output_type": "execute_result"
    }
   ],
   "source": [
    "import sys\n",
    "sys.path"
   ]
  },
  {
   "cell_type": "code",
   "execution_count": 6,
   "metadata": {
    "collapsed": false
   },
   "outputs": [
    {
     "ename": "ImportError",
     "evalue": "No module named vtkCommonCorePython",
     "output_type": "error",
     "traceback": [
      "\u001b[0;31m---------------------------------------------------------------------------\u001b[0m",
      "\u001b[0;31mImportError\u001b[0m                               Traceback (most recent call last)",
      "\u001b[0;32m<ipython-input-6-b7e11aadda62>\u001b[0m in \u001b[0;36m<module>\u001b[0;34m()\u001b[0m\n\u001b[0;32m----> 1\u001b[0;31m \u001b[0;32mimport\u001b[0m \u001b[0mvtk\u001b[0m\u001b[0;34m\u001b[0m\u001b[0m\n\u001b[0m",
      "\u001b[0;32m/Applications/ParaView-5.4.0.app/Contents/Python/vtk/__init__.py\u001b[0m in \u001b[0;36m<module>\u001b[0;34m()\u001b[0m\n\u001b[1;32m     39\u001b[0m \u001b[0;34m\u001b[0m\u001b[0m\n\u001b[1;32m     40\u001b[0m \u001b[0;31m# --------------------------------------\u001b[0m\u001b[0;34m\u001b[0m\u001b[0;34m\u001b[0m\u001b[0m\n\u001b[0;32m---> 41\u001b[0;31m \u001b[0;32mfrom\u001b[0m \u001b[0;34m.\u001b[0m\u001b[0mvtkCommonCore\u001b[0m \u001b[0;32mimport\u001b[0m \u001b[0;34m*\u001b[0m\u001b[0;34m\u001b[0m\u001b[0m\n\u001b[0m\u001b[1;32m     42\u001b[0m \u001b[0;32mfrom\u001b[0m \u001b[0;34m.\u001b[0m\u001b[0mvtkCommonMath\u001b[0m \u001b[0;32mimport\u001b[0m \u001b[0;34m*\u001b[0m\u001b[0;34m\u001b[0m\u001b[0m\n\u001b[1;32m     43\u001b[0m \u001b[0;32mfrom\u001b[0m \u001b[0;34m.\u001b[0m\u001b[0mvtkCommonMisc\u001b[0m \u001b[0;32mimport\u001b[0m \u001b[0;34m*\u001b[0m\u001b[0;34m\u001b[0m\u001b[0m\n",
      "\u001b[0;32m/Applications/ParaView-5.4.0.app/Contents/Python/vtk/vtkCommonCore.py\u001b[0m in \u001b[0;36m<module>\u001b[0;34m()\u001b[0m\n\u001b[1;32m      7\u001b[0m     \u001b[0;31m# during build and testing, the modules will be elsewhere,\u001b[0m\u001b[0;34m\u001b[0m\u001b[0;34m\u001b[0m\u001b[0m\n\u001b[1;32m      8\u001b[0m     \u001b[0;31m# e.g. in lib directory or Release/Debug config directories\u001b[0m\u001b[0;34m\u001b[0m\u001b[0;34m\u001b[0m\u001b[0m\n\u001b[0;32m----> 9\u001b[0;31m     \u001b[0;32mfrom\u001b[0m \u001b[0mvtkCommonCorePython\u001b[0m \u001b[0;32mimport\u001b[0m \u001b[0;34m*\u001b[0m\u001b[0;34m\u001b[0m\u001b[0m\n\u001b[0m",
      "\u001b[0;31mImportError\u001b[0m: No module named vtkCommonCorePython"
     ]
    }
   ],
   "source": [
    "import vtk"
   ]
  },
  {
   "cell_type": "code",
   "execution_count": 5,
   "metadata": {
    "collapsed": false
   },
   "outputs": [
    {
     "ename": "ImportError",
     "evalue": "No module named vtkCommonCorePython",
     "output_type": "error",
     "traceback": [
      "\u001b[0;31m---------------------------------------------------------------------------\u001b[0m",
      "\u001b[0;31mImportError\u001b[0m                               Traceback (most recent call last)",
      "\u001b[0;32m<ipython-input-5-fd18706122a4>\u001b[0m in \u001b[0;36m<module>\u001b[0;34m()\u001b[0m\n\u001b[0;32m----> 1\u001b[0;31m \u001b[0;32mfrom\u001b[0m \u001b[0mparaview\u001b[0m\u001b[0;34m.\u001b[0m\u001b[0msimple\u001b[0m \u001b[0;32mimport\u001b[0m \u001b[0;34m*\u001b[0m\u001b[0;34m\u001b[0m\u001b[0m\n\u001b[0m",
      "\u001b[0;32m/Applications/ParaView-5.4.0.app/Contents/Python/paraview/simple.py\u001b[0m in \u001b[0;36m<module>\u001b[0;34m()\u001b[0m\n\u001b[1;32m     41\u001b[0m \u001b[0;34m\u001b[0m\u001b[0m\n\u001b[1;32m     42\u001b[0m \u001b[0;32mimport\u001b[0m \u001b[0mparaview\u001b[0m\u001b[0;34m\u001b[0m\u001b[0m\n\u001b[0;32m---> 43\u001b[0;31m \u001b[0;32mfrom\u001b[0m \u001b[0mparaview\u001b[0m \u001b[0;32mimport\u001b[0m \u001b[0mservermanager\u001b[0m\u001b[0;34m\u001b[0m\u001b[0m\n\u001b[0m\u001b[1;32m     44\u001b[0m \u001b[0;32mimport\u001b[0m \u001b[0mparaview\u001b[0m\u001b[0;34m.\u001b[0m\u001b[0m_backwardscompatibilityhelper\u001b[0m\u001b[0;34m\u001b[0m\u001b[0m\n\u001b[1;32m     45\u001b[0m \u001b[0;34m\u001b[0m\u001b[0m\n",
      "\u001b[0;32m/Applications/ParaView-5.4.0.app/Contents/Python/paraview/servermanager.py\u001b[0m in \u001b[0;36m<module>\u001b[0;34m()\u001b[0m\n\u001b[1;32m     51\u001b[0m \u001b[0;31m# prefer `vtk` from `paraview` since it doesn't import all\u001b[0m\u001b[0;34m\u001b[0m\u001b[0;34m\u001b[0m\u001b[0m\n\u001b[1;32m     52\u001b[0m \u001b[0;31m# vtk modules.\u001b[0m\u001b[0;34m\u001b[0m\u001b[0;34m\u001b[0m\u001b[0m\n\u001b[0;32m---> 53\u001b[0;31m \u001b[0;32mfrom\u001b[0m \u001b[0mparaview\u001b[0m \u001b[0;32mimport\u001b[0m \u001b[0mvtk\u001b[0m\u001b[0;34m\u001b[0m\u001b[0m\n\u001b[0m\u001b[1;32m     54\u001b[0m \u001b[0;32mfrom\u001b[0m \u001b[0mparaview\u001b[0m \u001b[0;32mimport\u001b[0m \u001b[0m_backwardscompatibilityhelper\u001b[0m \u001b[0;32mas\u001b[0m \u001b[0m_bc\u001b[0m\u001b[0;34m\u001b[0m\u001b[0m\n\u001b[1;32m     55\u001b[0m \u001b[0;34m\u001b[0m\u001b[0m\n",
      "\u001b[0;32m/Applications/ParaView-5.4.0.app/Contents/Python/paraview/vtk/__init__.py\u001b[0m in \u001b[0;36m<module>\u001b[0;34m()\u001b[0m\n\u001b[1;32m     39\u001b[0m \u001b[0;34m\u001b[0m\u001b[0m\n\u001b[1;32m     40\u001b[0m \u001b[0;31m# --------------------------------------\u001b[0m\u001b[0;34m\u001b[0m\u001b[0;34m\u001b[0m\u001b[0m\n\u001b[0;32m---> 41\u001b[0;31m \u001b[0;32mfrom\u001b[0m \u001b[0;34m.\u001b[0m\u001b[0mvtkCommonCore\u001b[0m \u001b[0;32mimport\u001b[0m \u001b[0;34m*\u001b[0m\u001b[0;34m\u001b[0m\u001b[0m\n\u001b[0m\u001b[1;32m     42\u001b[0m \u001b[0;32mfrom\u001b[0m \u001b[0;34m.\u001b[0m\u001b[0mvtkCommonMath\u001b[0m \u001b[0;32mimport\u001b[0m \u001b[0;34m*\u001b[0m\u001b[0;34m\u001b[0m\u001b[0m\n\u001b[1;32m     43\u001b[0m \u001b[0;32mfrom\u001b[0m \u001b[0;34m.\u001b[0m\u001b[0mvtkCommonMisc\u001b[0m \u001b[0;32mimport\u001b[0m \u001b[0;34m*\u001b[0m\u001b[0;34m\u001b[0m\u001b[0m\n",
      "\u001b[0;32m/Applications/ParaView-5.4.0.app/Contents/Python/paraview/vtk/vtkCommonCore.py\u001b[0m in \u001b[0;36m<module>\u001b[0;34m()\u001b[0m\n\u001b[1;32m      7\u001b[0m     \u001b[0;31m# during build and testing, the modules will be elsewhere,\u001b[0m\u001b[0;34m\u001b[0m\u001b[0;34m\u001b[0m\u001b[0m\n\u001b[1;32m      8\u001b[0m     \u001b[0;31m# e.g. in lib directory or Release/Debug config directories\u001b[0m\u001b[0;34m\u001b[0m\u001b[0;34m\u001b[0m\u001b[0m\n\u001b[0;32m----> 9\u001b[0;31m     \u001b[0;32mfrom\u001b[0m \u001b[0mvtkCommonCorePython\u001b[0m \u001b[0;32mimport\u001b[0m \u001b[0;34m*\u001b[0m\u001b[0;34m\u001b[0m\u001b[0m\n\u001b[0m",
      "\u001b[0;31mImportError\u001b[0m: No module named vtkCommonCorePython"
     ]
    }
   ],
   "source": [
    "from paraview.simple import *"
   ]
  }
 ],
 "metadata": {
  "kernelspec": {
   "display_name": "Python [default]",
   "language": "python",
   "name": "python2"
  },
  "language_info": {
   "codemirror_mode": {
    "name": "ipython",
    "version": 2
   },
   "file_extension": ".py",
   "mimetype": "text/x-python",
   "name": "python",
   "nbconvert_exporter": "python",
   "pygments_lexer": "ipython2",
   "version": "2.7.11"
  }
 },
 "nbformat": 4,
 "nbformat_minor": 2
}
