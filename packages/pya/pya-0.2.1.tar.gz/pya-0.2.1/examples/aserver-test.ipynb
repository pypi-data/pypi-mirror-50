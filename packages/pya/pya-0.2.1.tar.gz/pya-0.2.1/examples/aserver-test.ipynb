{
 "cells": [
  {
   "cell_type": "markdown",
   "metadata": {},
   "source": [
    "## pya Aserver test"
   ]
  },
  {
   "cell_type": "code",
   "execution_count": 1,
   "metadata": {},
   "outputs": [],
   "source": [
    "import numpy as np\n",
    "import time\n",
    "from pya import *"
   ]
  },
  {
   "cell_type": "code",
   "execution_count": 2,
   "metadata": {},
   "outputs": [
    {
     "ename": "AttributeError",
     "evalue": "module 'pya.pya' has no attribute 'startup'",
     "output_type": "error",
     "traceback": [
      "\u001b[0;31m---------------------------------------------------------------------------\u001b[0m",
      "\u001b[0;31mAttributeError\u001b[0m                            Traceback (most recent call last)",
      "\u001b[0;32m<ipython-input-2-095611e49929>\u001b[0m in \u001b[0;36m<module>\u001b[0;34m\u001b[0m\n\u001b[0;32m----> 1\u001b[0;31m \u001b[0mpya\u001b[0m\u001b[0;34m.\u001b[0m\u001b[0mstartup\u001b[0m\u001b[0;34m(\u001b[0m\u001b[0mbs\u001b[0m\u001b[0;34m=\u001b[0m\u001b[0;36m1024\u001b[0m\u001b[0;34m,\u001b[0m \u001b[0mdevice\u001b[0m\u001b[0;34m=\u001b[0m\u001b[0;36m1\u001b[0m\u001b[0;34m)\u001b[0m  \u001b[0;31m# start the default server kwargs are forwarded...\u001b[0m\u001b[0;34m\u001b[0m\u001b[0;34m\u001b[0m\u001b[0m\n\u001b[0m",
      "\u001b[0;31mAttributeError\u001b[0m: module 'pya.pya' has no attribute 'startup'"
     ]
    }
   ],
   "source": [
    "pya.startup(bs=1024, device=1)  # start the default server kwargs are forwarded..."
   ]
  },
  {
   "cell_type": "markdown",
   "metadata": {},
   "source": [
    "which basically calls Aserver.startup_default_server()"
   ]
  },
  {
   "cell_type": "code",
   "execution_count": null,
   "metadata": {},
   "outputs": [],
   "source": [
    "# load an Asig from wav file\n",
    "asnap = Asig(\"samples/snap.wav\", label='snap');"
   ]
  },
  {
   "cell_type": "code",
   "execution_count": null,
   "metadata": {},
   "outputs": [],
   "source": [
    "# Asig play now uses default server\n",
    "asnap[0:2000].play(0.2, onset=0.5, out=0)\n",
    "asnap.gain(db=10).play(1, onset=1, out=1)"
   ]
  },
  {
   "cell_type": "code",
   "execution_count": null,
   "metadata": {},
   "outputs": [],
   "source": [
    "pya.shutdown()"
   ]
  },
  {
   "cell_type": "markdown",
   "metadata": {},
   "source": [
    "or: create your own server (you can have as many as you want running simultaneously)"
   ]
  },
  {
   "cell_type": "code",
   "execution_count": null,
   "metadata": {},
   "outputs": [],
   "source": [
    "s = Aserver(sr=44100, bs=256, device=1, channels=2, format=pyaudio.paFloat32)\n",
    "s.boot()"
   ]
  },
  {
   "cell_type": "code",
   "execution_count": null,
   "metadata": {},
   "outputs": [],
   "source": [
    "asnap[0:2000].play(0.2, onset=0.5, out=0, server=s)\n",
    "asnap.play(1, onset=1, out=1, server=s)  "
   ]
  },
  {
   "cell_type": "code",
   "execution_count": null,
   "metadata": {},
   "outputs": [],
   "source": [
    "# since we have shutdown the default server we get an error now\n",
    "asnap.gain(0.3).play(0.3);"
   ]
  },
  {
   "cell_type": "code",
   "execution_count": null,
   "metadata": {},
   "outputs": [],
   "source": [
    "# but we can restart the default server any time\n",
    "pya.startup()"
   ]
  },
  {
   "cell_type": "code",
   "execution_count": null,
   "metadata": {},
   "outputs": [],
   "source": [
    "# this demonstrates playing signals via the Server instance directly\n",
    "# play mono signal left and right\n",
    "s.play(asnap, onset=0.0, out=0)  \n",
    "s.play(asnap, onset=0.5, out=1)  "
   ]
  },
  {
   "cell_type": "code",
   "execution_count": null,
   "metadata": {},
   "outputs": [],
   "source": [
    "t = time.time()\n",
    "for k in range(20):\n",
    "    r = 1; # linlin(np.random.random(), 0, 1, 0.2, 0.5)\n",
    "    onset = t + linlin(k, 0, 20, 0, 5)\n",
    "    # level = linlin(np.random.random(), 0, 20, -20, -40)\n",
    "    # s.play(asnap.resample(rate=r).gain(db=level), onset=onset)\n",
    "    s.play(asnap, onset=onset, out=k%2)\n",
    "print(time.time()-t)"
   ]
  },
  {
   "cell_type": "code",
   "execution_count": null,
   "metadata": {},
   "outputs": [],
   "source": [
    "# currently _play_callback estimates nominal time from nr. of blocks and sr\n",
    "# timejitter stores the current delta -- let's see if this goes of on longer runtimes...\n",
    "s.timejitter"
   ]
  },
  {
   "cell_type": "code",
   "execution_count": null,
   "metadata": {},
   "outputs": [],
   "source": [
    "# these are the currently scheduled onsets of asigs in srv_asigs\n",
    "s.srv_onsets"
   ]
  },
  {
   "cell_type": "code",
   "execution_count": null,
   "metadata": {},
   "outputs": [],
   "source": [
    "# quit and delete server...\n",
    "# s.quit()\n",
    "# del(s)"
   ]
  },
  {
   "cell_type": "markdown",
   "metadata": {
    "heading_collapsed": true
   },
   "source": [
    "## Pya Asig channel selection with getitem"
   ]
  },
  {
   "cell_type": "markdown",
   "metadata": {
    "heading_collapsed": true
   },
   "source": [
    "## pyaudio direct interaction test"
   ]
  },
  {
   "cell_type": "code",
   "execution_count": null,
   "metadata": {
    "hidden": true
   },
   "outputs": [],
   "source": [
    "import pyaudio"
   ]
  },
  {
   "cell_type": "code",
   "execution_count": null,
   "metadata": {
    "hidden": true
   },
   "outputs": [],
   "source": [
    "p = pyaudio.PyAudio()"
   ]
  },
  {
   "cell_type": "code",
   "execution_count": null,
   "metadata": {
    "hidden": true
   },
   "outputs": [],
   "source": [
    "nr_devices = p.get_device_count()\n",
    "for i in range(nr_devices):\n",
    "    d = p.get_device_info_by_index(i)\n",
    "    print(f\"{i}: {d['name']:20} in={d['maxInputChannels']},\\\n",
    "        out={d['maxOutputChannels']}, sr={d['defaultSampleRate']}\")          "
   ]
  },
  {
   "cell_type": "code",
   "execution_count": null,
   "metadata": {
    "hidden": true
   },
   "outputs": [],
   "source": [
    "p.get_device_info_by_index(2)['maxOutputChannels']"
   ]
  },
  {
   "cell_type": "code",
   "execution_count": null,
   "metadata": {
    "hidden": true
   },
   "outputs": [],
   "source": [
    "ch = 2\n",
    "def callback(in_data, frame_count, time_info, status):\n",
    "    t = np.linspace(0, 2048/22050, 2048)\n",
    "    data = (np.sin(2*np.pi*350*t)*0.1).astype('float32')\n",
    "    #data = (np.random.rand(ch, frame_count)).astype('float32')\n",
    "    return (data, pyaudio.paContinue)"
   ]
  },
  {
   "cell_type": "code",
   "execution_count": null,
   "metadata": {
    "hidden": true
   },
   "outputs": [],
   "source": [
    "stream = p.open(format=pyaudio.paFloat32,     #pyaudio.paInt16,\n",
    "            channels=1,\n",
    "            rate=22050,\n",
    "            output=True,\n",
    "            frames_per_buffer=2048,\n",
    "            stream_callback=callback)"
   ]
  },
  {
   "cell_type": "code",
   "execution_count": null,
   "metadata": {
    "hidden": true
   },
   "outputs": [],
   "source": [
    "stream.start_stream()"
   ]
  },
  {
   "cell_type": "code",
   "execution_count": null,
   "metadata": {
    "hidden": true
   },
   "outputs": [],
   "source": [
    "stream.stop_stream()\n",
    "stream.is_active()"
   ]
  },
  {
   "cell_type": "code",
   "execution_count": null,
   "metadata": {
    "hidden": true
   },
   "outputs": [],
   "source": [
    "stream.close()"
   ]
  },
  {
   "cell_type": "code",
   "execution_count": null,
   "metadata": {
    "hidden": true
   },
   "outputs": [],
   "source": [
    "p.terminate()"
   ]
  },
  {
   "cell_type": "markdown",
   "metadata": {
    "heading_collapsed": true
   },
   "source": [
    "# profiling: what method is fastest to administer srv_lists"
   ]
  },
  {
   "cell_type": "markdown",
   "metadata": {
    "hidden": true
   },
   "source": [
    "* in _play_callback, I use lists for onset, asigs, out, curpos to be fast, \n",
    "* but is there a faster way to do it? dicts? classes? list of lists?, let's see:"
   ]
  },
  {
   "cell_type": "code",
   "execution_count": null,
   "metadata": {
    "hidden": true
   },
   "outputs": [],
   "source": [
    "%%timeit\n",
    "# my current Aserver solutions\n",
    "la = []\n",
    "lb = []\n",
    "lc = []\n",
    "for i in range(1000):\n",
    "    la.append(0)\n",
    "    lb.append(0)\n",
    "    lc.append(0)    \n",
    "for k in range(1000):\n",
    "    for i in range(1000):\n",
    "        la[i] += 1\n",
    "        lb[i] += 2\n",
    "for i in range(1000):\n",
    "    del la[0]\n",
    "    del lb[0]\n",
    "    del lc[0]"
   ]
  },
  {
   "cell_type": "code",
   "execution_count": null,
   "metadata": {
    "hidden": true
   },
   "outputs": [],
   "source": [
    "%%timeit\n",
    "# alternatively a list of lists for the parameters\n",
    "l = []\n",
    "for i in range(1000):\n",
    "    l.append([0,0,0])\n",
    "for k in range(1000):\n",
    "    for i in range(1000):\n",
    "        l[i][0] += 1\n",
    "        l[i][1] += 2\n",
    "for i in range(1000):\n",
    "    del l[0]"
   ]
  },
  {
   "cell_type": "code",
   "execution_count": null,
   "metadata": {
    "hidden": true
   },
   "outputs": [],
   "source": [
    "# here, if a class would be taken\n",
    "class my:\n",
    "    def __init__(self):\n",
    "        self.a = 0\n",
    "        self.b = 0\n",
    "        self.c = 0"
   ]
  },
  {
   "cell_type": "code",
   "execution_count": null,
   "metadata": {
    "hidden": true
   },
   "outputs": [],
   "source": [
    "%%timeit\n",
    "l = []\n",
    "for i in range(1000):\n",
    "    l.append(my())\n",
    "for k in range(1000):\n",
    "    for i in range(1000):\n",
    "        l[i].a  += 1\n",
    "        l[i].b  += 2\n",
    "for i in range(1000):\n",
    "    l[i]"
   ]
  },
  {
   "cell_type": "code",
   "execution_count": null,
   "metadata": {
    "hidden": true
   },
   "outputs": [],
   "source": [
    "%%timeit\n",
    "# here how fast a dict is, using strings as keys\n",
    "l = []\n",
    "for i in range(1000):\n",
    "    l.append({'aasdf': 0, 'basdf': 0, 'casdf': 0})\n",
    "for k in range(1000):\n",
    "    for i in range(1000):\n",
    "        l[i]['aasdf'] += 1\n",
    "        l[i]['basdf'] += 2\n",
    "for i in range(1000):\n",
    "    del l[0]"
   ]
  },
  {
   "cell_type": "markdown",
   "metadata": {
    "hidden": true
   },
   "source": [
    "* conclusion: my initial guess is the fastest (though perhaps not the most elegant...)"
   ]
  }
 ],
 "metadata": {
  "kernelspec": {
   "display_name": "Python 3",
   "language": "python",
   "name": "python3"
  },
  "language_info": {
   "codemirror_mode": {
    "name": "ipython",
    "version": 3
   },
   "file_extension": ".py",
   "mimetype": "text/x-python",
   "name": "python",
   "nbconvert_exporter": "python",
   "pygments_lexer": "ipython3",
   "version": "3.7.2"
  },
  "toc": {
   "base_numbering": 1,
   "nav_menu": {},
   "number_sections": true,
   "sideBar": true,
   "skip_h1_title": false,
   "title_cell": "Table of Contents",
   "title_sidebar": "Contents",
   "toc_cell": false,
   "toc_position": {},
   "toc_section_display": true,
   "toc_window_display": false
  }
 },
 "nbformat": 4,
 "nbformat_minor": 2
}
