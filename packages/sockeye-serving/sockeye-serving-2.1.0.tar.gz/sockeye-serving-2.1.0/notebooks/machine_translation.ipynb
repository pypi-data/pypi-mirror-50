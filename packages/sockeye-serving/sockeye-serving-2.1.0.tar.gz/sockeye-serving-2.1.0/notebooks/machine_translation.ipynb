{
 "cells": [
  {
   "cell_type": "markdown",
   "metadata": {},
   "source": [
    "# Machine Translation\n",
    "This notebook provides a simple way to get translations from a running instance of `sockeye-serving`.\n",
    "\n",
    "## Configuration\n",
    "The following configuration assumes you're running `sockeye-serving` on your machine."
   ]
  },
  {
   "cell_type": "code",
   "execution_count": null,
   "metadata": {
    "collapsed": true
   },
   "outputs": [],
   "source": [
    "import requests\n",
    "\n",
    "# request timeout\n",
    "timeout = 30\n",
    "\n",
    "# URL for translation\n",
    "prediction_url = 'http://localhost:8080'\n",
    "\n",
    "# URL for loading models\n",
    "management_url = 'http://localhost:8081'"
   ]
  },
  {
   "cell_type": "markdown",
   "metadata": {},
   "source": [
    "## List Available Models\n",
    "Once properly configured, you can make requests to the server. Get the list of available models for translation:"
   ]
  },
  {
   "cell_type": "code",
   "execution_count": null,
   "metadata": {},
   "outputs": [],
   "source": [
    "r = requests.get(f'{management_url}/models', params={}, timeout=timeout)\n",
    "print(r.text)"
   ]
  },
  {
   "cell_type": "markdown",
   "metadata": {},
   "source": [
    "## Translate Text\n",
    "Now try translating text. This example translates Chinese, but you can choose any model name listed in the response above."
   ]
  },
  {
   "cell_type": "code",
   "execution_count": null,
   "metadata": {},
   "outputs": [],
   "source": [
    "# name of the model on the server\n",
    "model_name = 'zh'\n",
    "\n",
    "# text to translate\n",
    "input_text = '汉语'\n",
    "\n",
    "r = requests.post(f'{prediction_url}/predictions/{model_name}',\n",
    "                  json={'text': input_text},\n",
    "                  timeout=timeout)\n",
    "\n",
    "print(r.text)"
   ]
  },
  {
   "cell_type": "code",
   "execution_count": null,
   "metadata": {
    "collapsed": true
   },
   "outputs": [],
   "source": []
  }
 ],
 "metadata": {
  "kernelspec": {
   "display_name": "Python 3",
   "language": "python",
   "name": "python3"
  },
  "language_info": {
   "codemirror_mode": {
    "name": "ipython",
    "version": 3
   },
   "file_extension": ".py",
   "mimetype": "text/x-python",
   "name": "python",
   "nbconvert_exporter": "python",
   "pygments_lexer": "ipython3",
   "version": "3.6.6"
  }
 },
 "nbformat": 4,
 "nbformat_minor": 2
}
