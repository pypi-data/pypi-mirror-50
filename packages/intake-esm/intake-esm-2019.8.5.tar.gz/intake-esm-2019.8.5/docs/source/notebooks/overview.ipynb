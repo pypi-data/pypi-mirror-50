{
 "cells": [
  {
   "cell_type": "markdown",
   "metadata": {},
   "source": [
    "# Overview"
   ]
  },
  {
   "cell_type": "markdown",
   "metadata": {},
   "source": [
    "## Introduction\n",
    "\n",
    "This page describes the technical design of Intake-esm, motivation behind the project, and components of the package."
   ]
  },
  {
   "cell_type": "markdown",
   "metadata": {},
   "source": [
    "## Why Intake-esm?"
   ]
  },
  {
   "cell_type": "markdown",
   "metadata": {},
   "source": [
    "Project efforts such as [CMIP](https://www.wcrp-climate.org/wgcm-cmip), and [CESM Large Ensembe](http://www.cesm.ucar.edu/projects/community-projects/LENS/) produce a huge of amount data persisted in multiple NetCDF files. Finding, investigating, loading these files into data array containers such as `xarray` can be a difficult task because the number of files a user may be interested in can be large. `Intake-esm` was written to make it easy to seamlessly find, investigate, load, and disseminate earth system data holdings produced by these projects.\n",
    "\n",
    "`Intake-esm` solves a set of problems:\n",
    "\n",
    "- It eliminates the need for the user to know specific locations (file path) of their data set of interest. \n",
    "- It allows the user to specify simple spec to define data sources and build collection catalogs for these data sources.\n",
    "- It loads data sets into data array containers such as `xarray`, and gets out of your way.\n",
    "- It allows reproduciblity, and data provenance.\n",
    "\n",
    "\n",
    "Intake-esm supports data holdings from the following projects:\n",
    "\n",
    "- [CMIP](./cmip5.ipynb): Coupled Model Intercomparison Project ([phase 5](https://esgf-node.llnl.gov/projects/cmip5/) and [phase 6](https://esgf-node.llnl.gov/projects/cmip6/))\n",
    "- [CESM](./cesm.ipynb): [Community Earth System Model Large Ensemble (LENS), and Decadal Prediction Large Ensemble (DPLE)](http://www.cesm.ucar.edu/projects/community-projects/)\n",
    "- [MPI-GE](./mpige.ipynb): [The Max Planck Institute for Meteorology (MPI-M) Grand Ensemble (MPI-GE)](https://www.mpimet.mpg.de/en/grand-ensemble/)\n",
    "- [GMET](./gmet.ipynb): [The Gridded Meteorological Ensemble Tool data](https://ncar.github.io/hydrology/models/GMET)\n",
    "- [ERA5](./era5.ipynb): [ECWMF ERA5 Reanalysis dataset stored on NCAR's GLADE](https://rda.ucar.edu/datasets/ds630.0/#!description) in ``/glade/collections/rda/data/ds630.0``"
   ]
  },
  {
   "cell_type": "markdown",
   "metadata": {},
   "source": [
    "## Concepts"
   ]
  },
  {
   "cell_type": "markdown",
   "metadata": {},
   "source": [
    "`Intake-esm` extends functionality provided by `intake`. `Intake-esm` is built out of four core concepts:\n",
    "\n",
    "\n",
    "- **Collection**: An object that represents a reference to a data holding such as a collection of CESM Large ensemble model output. \n",
    "\n",
    "- **Data Source**: An object that represents a reference to a data source. Data source objects have methods for loading the data into `xarray` containers namely `xarray` datasets. \n",
    "\n",
    "- **Catalog**: A collection of catalog entries, each of which defines a data source. Like in `intake`, catalog objects can be created from local YAML definitions by some driver that knows how to query a data collection. \n",
    "\n",
    "- **Catalog Entry**: A named data source. The catalog entry includes metadata about the source, as well as the name of the driver and arguments. Arguments can be parameterized, allowing one entry to return different subsets of data depending on the user request."
   ]
  }
 ],
 "metadata": {
  "kernelspec": {
   "display_name": "Python 3",
   "language": "python",
   "name": "python3"
  },
  "language_info": {
   "codemirror_mode": {
    "name": "ipython",
    "version": 3
   },
   "file_extension": ".py",
   "mimetype": "text/x-python",
   "name": "python",
   "nbconvert_exporter": "python",
   "pygments_lexer": "ipython3",
   "version": "3.6.7"
  }
 },
 "nbformat": 4,
 "nbformat_minor": 2
}
