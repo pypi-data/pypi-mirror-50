{
 "cells": [
  {
   "cell_type": "markdown",
   "metadata": {},
   "source": [
    "# CUDA and volume display example\n",
    "\n",
    "Rotate a 3D volume and maximum-intensity project (MIP) to 2D"
   ]
  },
  {
   "cell_type": "code",
   "execution_count": 1,
   "metadata": {
    "code_folding": []
   },
   "outputs": [],
   "source": [
    "#imports & defs\n",
    "from __future__ import print_function, division\n",
    "\n",
    "#%matplotlib notebook\n",
    "%matplotlib inline\n",
    "import matplotlib.pyplot as plt\n",
    "import ipywidgets as ipyw\n",
    "from ipywidgets import interact\n",
    "\n",
    "from caspyr.cuda import CudaFunc3D, cu3D, InC, OutC\n",
    "from caspyr.plotting import volshow\n",
    "import numpy as np\n",
    "from scipy import ndimage\n",
    "from tqdm import tqdm, trange\n",
    "\n",
    "def imshow(im):\n",
    "    plt.imshow(im, origin=\"lower\", cmap=\"Greys\")\n",
    "    plt.axis(\"off\")\n",
    "    plt.draw()"
   ]
  },
  {
   "cell_type": "markdown",
   "metadata": {},
   "source": [
    "## Generate data"
   ]
  },
  {
   "cell_type": "code",
   "execution_count": 2,
   "metadata": {},
   "outputs": [
    {
     "data": {
      "text/plain": [
       "<Figure size 432x288 with 0 Axes>"
      ]
     },
     "metadata": {},
     "output_type": "display_data"
    },
    {
     "data": {
      "application/vnd.jupyter.widget-view+json": {
       "model_id": "2b5af3b7d0b448d584a8c6fb22a73c7d",
       "version_major": 2,
       "version_minor": 0
      },
      "text/plain": [
       "aW50ZXJhY3RpdmUoY2hpbGRyZW49KEludFNsaWRlcih2YWx1ZT02NCwgZGVzY3JpcHRpb249dSd6JywgbWF4PTEyNyksIE91dHB1dCgpKSwgX2RvbV9jbGFzc2VzPSh1J3dpZGdldC1pbnRlcmHigKY=\n"
      ]
     },
     "metadata": {},
     "output_type": "display_data"
    }
   ],
   "source": [
    "dat = np.random.rand(128, 128, 128)\n",
    "dat[60:, 10:14, 50:60] += 0.2\n",
    "dat[:90, 42:48, 100:110] += 0.2\n",
    "dat[60:80, 32:38, 100:110] += 0.2\n",
    "dat[:90, 100:110, 40:50] += 0.2\n",
    "volshow([dat]);"
   ]
  },
  {
   "cell_type": "markdown",
   "metadata": {},
   "source": [
    "## CPU code"
   ]
  },
  {
   "cell_type": "code",
   "execution_count": 3,
   "metadata": {},
   "outputs": [
    {
     "data": {
      "text/plain": [
       "<Figure size 432x288 with 0 Axes>"
      ]
     },
     "metadata": {},
     "output_type": "display_data"
    },
    {
     "data": {
      "application/vnd.jupyter.widget-view+json": {
       "model_id": "1598cd29e1f04ad087e2efb2b5241f14",
       "version_major": 2,
       "version_minor": 0
      },
      "text/plain": [
       "aW50ZXJhY3RpdmUoY2hpbGRyZW49KEludFNsaWRlcih2YWx1ZT0wLCBkZXNjcmlwdGlvbj11J2FuZ2xlJywgbWF4PTM1OSksIE91dHB1dCgpKSwgX2RvbV9jbGFzc2VzPSh1J3dpZGdldC1pbnTigKY=\n"
      ]
     },
     "metadata": {},
     "output_type": "display_data"
    }
   ],
   "source": [
    "figMipRot = plt.figure()\n",
    "def mipRot(angle):\n",
    "    plt.figure(figMipRot.number)\n",
    "    imshow(ndimage.interpolation.rotate(dat, angle, axes=(1, 2), reshape=False, order=0).max(axis=1))\n",
    "\n",
    "ipyw.interact(mipRot, angle=ipyw.IntSlider(min=0, max=359, step=1, value=0));"
   ]
  },
  {
   "cell_type": "markdown",
   "metadata": {},
   "source": [
    "## GPU code"
   ]
  },
  {
   "cell_type": "code",
   "execution_count": 4,
   "metadata": {},
   "outputs": [],
   "source": [
    "MIP_ROT_CU = \"\"\"\n",
    "( DTYPE dst[N_DIM_Z][N_DIM_X]\n",
    ", const DTYPE src[N_DIM_Z][N_DIM_Y][N_DIM_X]\n",
    ", DTYPE ang\n",
    "){\n",
    "    SIZE_T x = blockIdx.x * B_DIM_X + threadIdx.x; if(x >= N_DIM_X) return;\n",
    "    SIZE_T y = blockIdx.y * B_DIM_Y + threadIdx.y; if(y >= N_DIM_Y) return;\n",
    "    SIZE_T z = blockIdx.z * B_DIM_Z + threadIdx.z; if(z >= N_DIM_Z) return;\n",
    "\n",
    "    DTYPE xMid = x - N_DIM_X / 2.0;\n",
    "    DTYPE yMid = y - N_DIM_Y / 2.0;\n",
    "    ang *= -DTYPE(3.1415926535897932384626433832795 / 180);\n",
    "    DTYPE s = sin(ang);\n",
    "    DTYPE c = cos(ang);\n",
    "\n",
    "    int x_ = round(N_DIM_X / 2.0 + xMid * c + yMid * s); if(0 > x_ || x_ >= N_DIM_X) return;\n",
    "    int y_ = round(N_DIM_Y / 2.0 - xMid * s + yMid * c); if(0 > y_ || y_ >= N_DIM_Y) return;\n",
    "\n",
    "    dst[z][x] = max(dst[z][x], src[z][y_][x_]);\n",
    "}\"\"\""
   ]
  },
  {
   "cell_type": "markdown",
   "metadata": {},
   "source": [
    "### OOP"
   ]
  },
  {
   "cell_type": "code",
   "execution_count": 5,
   "metadata": {},
   "outputs": [
    {
     "data": {
      "text/plain": [
       "<Figure size 432x288 with 0 Axes>"
      ]
     },
     "metadata": {},
     "output_type": "display_data"
    },
    {
     "data": {
      "application/vnd.jupyter.widget-view+json": {
       "model_id": "9d7051861bff4991a51f6a7f252c2ca8",
       "version_major": 2,
       "version_minor": 0
      },
      "text/plain": [
       "aW50ZXJhY3RpdmUoY2hpbGRyZW49KEludFNsaWRlcih2YWx1ZT0wLCBkZXNjcmlwdGlvbj11J2FuZ2xlJywgbWF4PTM1OSksIE91dHB1dCgpKSwgX2RvbV9jbGFzc2VzPSh1J3dpZGdldC1pbnTigKY=\n"
      ]
     },
     "metadata": {},
     "output_type": "display_data"
    }
   ],
   "source": [
    "class MIPRot(CudaFunc3D):\n",
    "    def __init__(self, shape, block_dim, dtype):\n",
    "        super(MIPRot, self).__init__(shape[::-1], block_dim=block_dim, dtype=dtype)\n",
    "        self.build(MIP_ROT_CU)\n",
    "        self._res = np.empty((shape[0], shape[2]), dtype=dtype)  # pre-allocate\n",
    "\n",
    "    def __call__(self, dat, angle):\n",
    "        self._res.fill(0)\n",
    "        super(MIPRot, self).__call__(self.OutC(self._res), self.InC(dat), self.dtype(angle))\n",
    "        return self._res  # .copy()\n",
    "mipRotKnl = MIPRot(dat.shape, [32, 1, 32], dat.dtype)  # pre-build kernel\n",
    "datGPU = InC(dat)  # pre-wrap\n",
    "\n",
    "figMipRotGpu = plt.figure()\n",
    "def mipRotGpu(angle):\n",
    "    plt.figure(figMipRotGpu.number)\n",
    "    # mipRotKnl = MIPRot(dat.shape, [32, 1, 32], dat.dtype)\n",
    "    res = mipRotKnl(datGPU, angle)\n",
    "    imshow(res)\n",
    "\n",
    "ipyw.interact(mipRotGpu, angle=ipyw.IntSlider(min=0, max=359, step=1, value=0));"
   ]
  },
  {
   "cell_type": "markdown",
   "metadata": {},
   "source": [
    "## GPU functional\n",
    "\n",
    "- Quicker to write (especially for constant launch parameters)\n",
    "- More CUDA-like interface\n",
    "```cpp\n",
    "// CUDA\n",
    "#define DTYPE float\n",
    "#define SIZE_T unsigned\n",
    "__global__ void func(DTYPE dst[], const DTYPE src[], SIZE_T N){ ... }\n",
    "func<<<shape, blocks>>>(d, s, N);\n",
    "```\n",
    "```python\n",
    "# Python\n",
    "func_knl = cu3D(\"\"\"(DTYPE dst[N_DIM_X], const DTYPE src[N_DIM_X]){ ... }\"\"\")\n",
    "func = func_knl(shape, blocks, dtype=np.float32, size_t=np.uint32)\n",
    "func(d, s)\n",
    "```\n",
    "- Less extensible"
   ]
  },
  {
   "cell_type": "code",
   "execution_count": 6,
   "metadata": {},
   "outputs": [],
   "source": [
    "MIPRotCode = cu3D(MIP_ROT_CU)\n",
    "_mipRotKnl2 = MIPRotCode(dat.shape[::-1], block_dim=[32, 1, 32], dtype=dat.dtype)  # pre-build kernel\n",
    "_mipRotKnl2Res = np.empty((dat.shape[0], dat.shape[2]), dtype=dat.dtype)  # pre-allocate\n",
    "def mipRotKnl2(dat, angle):\n",
    "    # _mipRotKnl2Res = np.zeros((dat.shape[0], dat.shape[2]), dtype=dat.dtype)\n",
    "    _mipRotKnl2Res.fill(0)\n",
    "    # _mipRotKnl2 = MIPRotCode(dat.shape[::-1], block_dim=[32, 1, 32], dtype=dat.dtype)\n",
    "    _mipRotKnl2(OutC(_mipRotKnl2Res), InC(dat), _mipRotKnl2Res.dtype.type(angle))\n",
    "    return _mipRotKnl2Res"
   ]
  },
  {
   "cell_type": "markdown",
   "metadata": {},
   "source": [
    "## Perfomance test"
   ]
  },
  {
   "cell_type": "code",
   "execution_count": 7,
   "metadata": {},
   "outputs": [
    {
     "name": "stderr",
     "output_type": "stream",
     "text": [
      "CPU                 : 100%|██████████| 36/36 [00:02<00:00, 14.45it/s]\n",
      "GPU (OOP)           : 100%|██████████| 360/360 [00:02<00:00, 145.70it/s]\n",
      "GPU (functional)    : 100%|██████████| 360/360 [00:02<00:00, 142.62it/s]\n",
      "GPU (OOP)        dev: 100%|██████████| 360/360 [00:02<00:00, 162.26it/s]\n",
      "GPU (functional) dev: 100%|██████████| 360/360 [00:02<00:00, 158.60it/s]\n"
     ]
    }
   ],
   "source": [
    "[ndimage.interpolation.rotate(dat, i, axes=(1, 2), reshape=False, order=0).max(axis=1)\n",
    "                       for i in trange(0, 360, 10,desc=\"CPU                 \")]\n",
    "[mipRotKnl (dat   , i) for i in trange(0, 360, 1, desc=\"GPU (OOP)           \")]\n",
    "[mipRotKnl2(dat   , i) for i in trange(0, 360, 1, desc=\"GPU (functional)    \")];\n",
    "[mipRotKnl (datGPU, i) for i in trange(0, 360, 1, desc=\"GPU (OOP)        dev\")]\n",
    "[mipRotKnl2(datGPU, i) for i in trange(0, 360, 1, desc=\"GPU (functional) dev\")];"
   ]
  }
 ],
 "metadata": {
  "kernelspec": {
   "display_name": "Python 2",
   "language": "python",
   "name": "python2"
  },
  "language_info": {
   "codemirror_mode": {
    "name": "ipython",
    "version": 2
   },
   "file_extension": ".py",
   "mimetype": "text/x-python",
   "name": "python",
   "nbconvert_exporter": "python",
   "pygments_lexer": "ipython2",
   "version": "2.7.15"
  },
  "toc": {
   "base_numbering": 1,
   "nav_menu": {},
   "number_sections": true,
   "sideBar": true,
   "skip_h1_title": false,
   "title_cell": "Table of Contents",
   "title_sidebar": "Contents",
   "toc_cell": false,
   "toc_position": {},
   "toc_section_display": true,
   "toc_window_display": false
  },
  "varInspector": {
   "cols": {
    "lenName": 16,
    "lenType": 16,
    "lenVar": 40
   },
   "kernels_config": {
    "python": {
     "delete_cmd_postfix": "",
     "delete_cmd_prefix": "del ",
     "library": "var_list.py",
     "varRefreshCmd": "print(var_dic_list())"
    },
    "r": {
     "delete_cmd_postfix": ") ",
     "delete_cmd_prefix": "rm(",
     "library": "var_list.r",
     "varRefreshCmd": "cat(var_dic_list()) "
    }
   },
   "types_to_exclude": [
    "module",
    "function",
    "builtin_function_or_method",
    "instance",
    "_Feature"
   ],
   "window_display": false
  }
 },
 "nbformat": 4,
 "nbformat_minor": 2
}
