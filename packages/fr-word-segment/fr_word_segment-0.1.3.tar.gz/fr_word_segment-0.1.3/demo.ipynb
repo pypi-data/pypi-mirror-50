{
 "cells": [
  {
   "cell_type": "code",
   "execution_count": 2,
   "metadata": {},
   "outputs": [],
   "source": [
    "from fr_word_segment import wordseg"
   ]
  },
  {
   "cell_type": "code",
   "execution_count": 4,
   "metadata": {},
   "outputs": [
    {
     "name": "stdout",
     "output_type": "stream",
     "text": [
      "Mispelled token is soitmoinscompliqués\n",
      "\n",
      "Semantically splitted token is soit moins compliqués\n",
      "CPU times: user 2.74 s, sys: 14 ms, total: 2.76 s\n",
      "Wall time: 2.81 s\n"
     ]
    }
   ],
   "source": [
    "%%time\n",
    "\n",
    "# suppose that a french spellchecker detect this token as misspelled\n",
    "token = \"soitmoinscompliqués\"\n",
    "\n",
    "\n",
    "# apply segmentation fucntion on the given token\n",
    "result = wordseg.segment_token(token)\n",
    "\n",
    "# print raw mispelled token\n",
    "print(\"Mispelled token is {}\".format(token))\n",
    "\n",
    "# print correct splitted token\n",
    "print(\"\\nSemantically splitted token is {}\".format(result))"
   ]
  },
  {
   "cell_type": "code",
   "execution_count": null,
   "metadata": {},
   "outputs": [],
   "source": []
  }
 ],
 "metadata": {
  "kernelspec": {
   "display_name": "Python 3",
   "language": "python",
   "name": "python3"
  },
  "language_info": {
   "codemirror_mode": {
    "name": "ipython",
    "version": 3
   },
   "file_extension": ".py",
   "mimetype": "text/x-python",
   "name": "python",
   "nbconvert_exporter": "python",
   "pygments_lexer": "ipython3",
   "version": "3.6.8"
  }
 },
 "nbformat": 4,
 "nbformat_minor": 4
}
